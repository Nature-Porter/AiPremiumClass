{
 "cells": [
  {
   "cell_type": "code",
   "execution_count": null,
   "id": "ec340453",
   "metadata": {},
   "outputs": [],
   "source": [
    "from openai import OpenAI\n",
    "\n",
    "client = OpenAI(api_key=\"your-api-key\", \n",
    "                base_url=\"https://oa.api2d.net\")\n",
    "\n",
    "response = client.chat.completions.create(\n",
    "    model=\"gpt-4o-mini\",\n",
    "    messages=[\n",
    "        {\"role\": \"system\", \"content\": \"你是一个人工智能助手\"},\n",
    "        {\"role\": \"user\", \"content\": \"请帮我写一首关于夏天的诗\"},\n",
    "    ],\n",
    ")"
   ]
  },
  {
   "cell_type": "code",
   "execution_count": 3,
   "id": "6aecaa3a",
   "metadata": {},
   "outputs": [
    {
     "name": "stdout",
     "output_type": "stream",
     "text": [
      "夏日Fever，阳光灿烂，  \n",
      "万物复苏，生机盎然。  \n",
      "蓝天如洗，白云飘散，  \n",
      "蝉声鸣唱，悠扬婉转。  \n",
      "\n",
      "绿树成荫，凉风习习，  \n",
      "川流不息，溪水潺潺。  \n",
      "花香四溢，蜂蝶翩翩，  \n",
      "童趣乐园，笑声连连。  \n",
      "\n",
      "闲坐沙滩，海浪轻拍，  \n",
      "沙粒细腻，阳光下徜徉。  \n",
      "沉浸在这一片乐土，  \n",
      "愿将夏日，永藏心间。  \n",
      "\n",
      "星空璀璨，夜色温柔，  \n",
      "篝火旁边，亲密相守。  \n",
      "在人生的航程里，  \n",
      "愿夏天的梦，常伴我游。  \n"
     ]
    }
   ],
   "source": [
    "response_text = response.choices[0].message.content\n",
    "print(response_text)"
   ]
  }
 ],
 "metadata": {
  "kernelspec": {
   "display_name": "base",
   "language": "python",
   "name": "python3"
  },
  "language_info": {
   "codemirror_mode": {
    "name": "ipython",
    "version": 3
   },
   "file_extension": ".py",
   "mimetype": "text/x-python",
   "name": "python",
   "nbconvert_exporter": "python",
   "pygments_lexer": "ipython3",
   "version": "3.11.10"
  }
 },
 "nbformat": 4,
 "nbformat_minor": 5
}
