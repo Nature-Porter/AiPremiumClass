{
 "cells": [
  {
   "metadata": {},
   "cell_type": "code",
   "outputs": [],
   "execution_count": null,
   "source": [
    "import torch.nn as nn\n",
    "import torch\n",
    "import jieba\n",
    "import csv\n",
    "from tqdm import tqdm\n",
    "import matplotlib.pyplot as plt\n",
    "import sentencepiece as spm\n",
    "import pickle"
   ],
   "id": "30c6a072357f934c"
  },
  {
   "metadata": {},
   "cell_type": "markdown",
   "source": "### 选取star和comments 数据",
   "id": "8ab13b601b7442db"
  },
  {
   "metadata": {},
   "cell_type": "code",
   "outputs": [],
   "execution_count": null,
   "source": [
    "comments , labels = [] , []\n",
    "with open(\"./data/DouBan.csv\", encoding = \"utf-8\") as f:\n",
    "    reader = csv.DictReader(f)\n",
    "    for item in tqdm(reader):\n",
    "        comment = item['Comment']\n",
    "        star = int(item['Star'])\n",
    "        # 选取评论长度在120到130之间\n",
    "        if star in [1,5] and 120 <= len(comment) <= 130:\n",
    "            comments.append(comment)\n",
    "            labels.append(1 if star == 5 or star == 4 else 0)\n",
    "len(comments)"
   ],
   "id": "933a3ff7640b0197"
  },
  {
   "metadata": {},
   "cell_type": "markdown",
   "source": "### 查看评论分布",
   "id": "5cc19b7b759fa3fb"
  },
  {
   "metadata": {},
   "cell_type": "code",
   "outputs": [],
   "execution_count": null,
   "source": [
    "comt_lens = [len(cmt) for cmt in comments]\n",
    "plt.hist(comt_lens , bins = 10)\n",
    "plt.show()"
   ],
   "id": "bc4d17727561d4f8"
  },
  {
   "metadata": {},
   "cell_type": "markdown",
   "source": "### 使用结巴分词",
   "id": "2b8975c93947afb0"
  },
  {
   "metadata": {},
   "cell_type": "code",
   "outputs": [],
   "execution_count": null,
   "source": [
    "\n",
    "comments = [cmt.replace('。' ,' ') . replace(',' , ' ') for cmt in comments]\n",
    "comments_jieba =  [' '.join(jieba.cut(cmt)) for cmt in comments]"
   ],
   "id": "56d4c216b89f7922"
  },
  {
   "metadata": {},
   "cell_type": "code",
   "outputs": [],
   "execution_count": null,
   "source": "comments_jieba[5]",
   "id": "b2386eafd7df800f"
  },
  {
   "metadata": {},
   "cell_type": "markdown",
   "source": "### 使用 sentencepiece 分词",
   "id": "331040f5e1a2486f"
  },
  {
   "metadata": {},
   "cell_type": "code",
   "outputs": [],
   "execution_count": null,
   "source": [
    "sp = spm.SentencePieceProcessor()\n",
    "# 将评论写入一个txt 利用这个文件训练spm分词模型\n",
    "with open(\"./data/train_corpus.txt\" , \"w\" , encoding = 'utf-8') as f :\n",
    "    for cmt in comments:\n",
    "        f.write(cmt + '\\n')\n",
    "\n",
    "# spm 分词模型训练\n",
    "spm.SentencePieceTrainer.Train(\n",
    "    input = './data/train_corpus.txt' ,\n",
    "    model_prefix = 'spm_model' ,\n",
    "    vocab_size = 5000 ,\n",
    ")\n"
   ],
   "id": "cda85c3e7554b760"
  },
  {
   "metadata": {},
   "cell_type": "code",
   "outputs": [],
   "execution_count": null,
   "source": [
    "# 读取分词模型，并且利用分词模型对comments进行分词\n",
    "sp.Load('spm_model.model')\n",
    "comments_spm = []\n",
    "for comt in comments:\n",
    "    # 将每个comt拆分为字词单元或词片 ，返回列表\n",
    "    comt_spm = sp.EncodeAsPieces(comt)\n",
    "    # 用空格连接每个字词单元生成字符串添加到comments_spm的列表中\n",
    "    comments_spm.append(' '.join(comt_spm))\n",
    "\n",
    "comments_spm[:10]"
   ],
   "id": "9442069fb4550efc"
  },
  {
   "metadata": {},
   "cell_type": "markdown",
   "source": "### 分别存储jieba分词的文件 和 spm分词的文件",
   "id": "fce3f4aee1396b2a"
  },
  {
   "metadata": {},
   "cell_type": "code",
   "outputs": [],
   "execution_count": null,
   "source": [
    "# 以二进制方式写入文件\n",
    "# pickle.dump 将 ( comments , label) 序列化并且打包成一个元组写入文件\n",
    "\n",
    "with open('./data/comments_jieba.bin' , 'wb') as f:\n",
    "    pickle.dump((comments_jieba , labels) , f)\n",
    "\n",
    "with open('./data/comments_spm.bin' , 'wb') as f:\n",
    "    pickle.dump((comments_spm , labels) , f)"
   ],
   "id": "d37b4c6c98883a01"
  }
 ],
 "metadata": {},
 "nbformat": 5,
 "nbformat_minor": 9
}
