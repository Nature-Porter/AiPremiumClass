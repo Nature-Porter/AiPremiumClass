{
 "cells": [
  {
   "cell_type": "markdown",
   "id": "e89c4693",
   "metadata": {},
   "source": [
    "1. 安装ollama，下载模型并用代码方式调用。"
   ]
  },
  {
   "cell_type": "code",
   "execution_count": null,
   "id": "efaab907",
   "metadata": {},
   "outputs": [
    {
     "name": "stdout",
     "output_type": "stream",
     "text": [
      "<think>\n",
      "好的，用户发来的是“你好”，这是一个比较简单的问候语。首先，我需要确定用户是否在测试我的反应，或者他们是否需要帮助。根据之前的对话历史，用户可能希望我以友好的方式回应，同时保持专业和礼貌。\n",
      "\n",
      "接下来，我要考虑如何回应才能既友好又专业。可能需要使用中文，因为用户使用的是中文，同时保持口语化的表达。避免使用过于复杂的句子，确保信息清晰。此外，用户可能希望得到一个积极的回应，所以应该表达出愿意提供帮助的态度。\n",
      "\n",
      "还要注意用户可能的深层需求，比如他们是否需要进一步的帮助，或者只是想测试我的反应。因此，回应中可以包含邀请用户继续提问的内容，这样用户知道可以继续交流。同时，保持语气温和，避免过于机械化的回复。\n",
      "\n",
      "最后，检查语法和用词是否正确，确保没有错误，并且符合中文的表达习惯。确保回应简洁，但信息完整，让用户感到被重视和理解。\n",
      "</think>\n",
      "\n",
      "你好！很高兴见到你。有什么我可以帮助你的吗？😊"
     ]
    }
   ],
   "source": [
    "import requests\n",
    "import json\n",
    "\n",
    "# 定义函数\n",
    "def func(question, model='qwen3:1.7b',API_URL = \"http://localhost:11434/api/generate\"):\n",
    "    headers = {\n",
    "    \"Content-Type\": \"application/json\"\n",
    "    }\n",
    "    data = {\n",
    "    \"model\": model,\n",
    "    \"prompt\": question,\n",
    "    \"stream\": True  # 开启流式输出\n",
    "    }\n",
    "    response = requests.post(API_URL, headers=headers, json=data, stream=True)\n",
    "    for line in response.iter_lines():\n",
    "        if line:\n",
    "            json_data = json.loads(line.decode(\"utf-8\"))\n",
    "            print(json_data.get(\"response\", \"\"), end=\"\", flush=True)\n",
    "\n",
    "# 调用函数\n",
    "func('你好', model='qwen3:1.7b')"
   ]
  },
  {
   "cell_type": "code",
   "execution_count": null,
   "id": "47e20e04",
   "metadata": {},
   "outputs": [],
   "source": []
  }
 ],
 "metadata": {
  "kernelspec": {
   "display_name": "py3124",
   "language": "python",
   "name": "python3"
  },
  "language_info": {
   "codemirror_mode": {
    "name": "ipython",
    "version": 3
   },
   "file_extension": ".py",
   "mimetype": "text/x-python",
   "name": "python",
   "nbconvert_exporter": "python",
   "pygments_lexer": "ipython3",
   "version": "3.12.4"
  }
 },
 "nbformat": 4,
 "nbformat_minor": 5
}
