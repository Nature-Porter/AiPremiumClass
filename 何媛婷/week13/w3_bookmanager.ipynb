{
 "cells": [
  {
   "cell_type": "markdown",
   "id": "dbec5cbe",
   "metadata": {},
   "source": [
    "3. 利用大模型提示词设计一个智能图书管理AI。\n",
    "功能:实现图书借阅和归还。根据喜好为读者推荐图书。"
   ]
  },
  {
   "cell_type": "code",
   "execution_count": null,
   "id": "430dff67",
   "metadata": {},
   "outputs": [],
   "source": [
    "import os\n",
    "from openai import OpenAI\n",
    "\n",
    "\n",
    "def get_response(messages):\n",
    "    client = OpenAI(\n",
    "        # 若没有配置环境变量，请用阿里云百炼API Key将下行替换为：api_key=\"sk-xxx\",\n",
    "        api_key=\"sk-************************\", \n",
    "        base_url=\"https://dashscope.aliyuncs.com/compatible-mode/v1\",\n",
    "    )\n",
    "    # 模型列表：https://help.aliyun.com/zh/model-studio/getting-started/models\n",
    "    completion = client.chat.completions.create(model=\"qwen-plus\", messages=messages)\n",
    "    return completion"
   ]
  },
  {
   "cell_type": "code",
   "execution_count": 5,
   "id": "3f242918",
   "metadata": {},
   "outputs": [
    {
     "name": "stdout",
     "output_type": "stream",
     "text": [
      "模型输出：你好，美丽的小何为您服务，请问您是要归还书本还是借阅书本？\n",
      "\n",
      "模型输出：您要归还的图书叫什么名字呢？\n",
      "\n",
      "\n",
      "模型输出：这本书的作者是谁呢？\n",
      "\n",
      "\n",
      "模型输出：您提供的信息是书名《过得刚好》，但还需要告诉我这本书的作者是谁，您能告诉我吗？\n",
      "\n",
      "\n",
      "模型输出：您归还的图书是《过得刚好》，作者是郭德纲。根据您的阅读兴趣，我推荐您可能感兴趣的书籍：《俗世奇人》（作者：冯骥才）。您想借阅这本书吗？\n",
      "\n",
      "\n",
      "模型输出：好的，您的业务已经办好，期待下次再见。如果您有其他需要，请随时告诉我！\n",
      "\n",
      "\n"
     ]
    }
   ],
   "source": [
    "\n",
    "# 初始化一个 messages 数组\n",
    "messages = [\n",
    "    {\n",
    "        \"role\": \"system\",\n",
    "        \"content\": \"\"\"你是一个图书管的管理员。你的任务是实现图书借阅和归还，并根据用户的借阅或归还的书本名称推荐图书。用户有2种行为，归还图书和借阅图书。图书有2个参数：书名和作者。你一次只能向用户提问一个参数，如果用户提供的信息不全，你需要反问他，让他提供没有提供的参数。如果参数收集完成，需要向用户推荐可能感兴趣的书籍名称，并询问用户是否要借阅推荐的图书，如果用户借阅，则办理借阅业务，最后你要说：您的业务已经办好，期待下次再见。\"\"\",\n",
    "    }\n",
    "]\n",
    "assistant_output = \"你好，美丽的小何为您服务，请问您是要归还书本还是借阅书本？\"\n",
    "print(f\"模型输出：{assistant_output}\\n\")\n",
    "while \"您的业务已经办好\" not in assistant_output:\n",
    "    user_input = input(\"请输入：\")\n",
    "    # 将用户问题信息添加到messages列表中\n",
    "    messages.append({\"role\": \"user\", \"content\": user_input})\n",
    "    assistant_output = get_response(messages).choices[0].message.content\n",
    "    # 将大模型的回复信息添加到messages列表中\n",
    "    messages.append({\"role\": \"assistant\", \"content\": assistant_output})\n",
    "    print(f\"模型输出：{assistant_output}\")\n",
    "    print(\"\\n\")"
   ]
  }
 ],
 "metadata": {
  "kernelspec": {
   "display_name": "py3124",
   "language": "python",
   "name": "python3"
  },
  "language_info": {
   "codemirror_mode": {
    "name": "ipython",
    "version": 3
   },
   "file_extension": ".py",
   "mimetype": "text/x-python",
   "name": "python",
   "nbconvert_exporter": "python",
   "pygments_lexer": "ipython3",
   "version": "3.12.4"
  }
 },
 "nbformat": 4,
 "nbformat_minor": 5
}
