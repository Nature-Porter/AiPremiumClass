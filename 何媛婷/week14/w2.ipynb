{
 "cells": [
  {
   "cell_type": "markdown",
   "id": "0589f8ce",
   "metadata": {},
   "source": [
    "1⃣️【第十四周作业】\n",
    "\n",
    "2. 借助langchain实现图书管理系统开发扩展，通过图书简介为借阅读者提供咨询。"
   ]
  },
  {
   "cell_type": "code",
   "execution_count": 4,
   "id": "ec2dfb53",
   "metadata": {},
   "outputs": [],
   "source": [
    "from dotenv import find_dotenv, load_dotenv\n",
    "import os\n",
    "from langchain_openai import ChatOpenAI # LLM调用封装\n",
    "from langchain_core.messages import HumanMessage, AIMessage, SystemMessage # 对话角色：user、assistant、system\n",
    "from langchain_core.output_parsers import StrOutputParser\n",
    "\n",
    "# 1. 导入必要包\n",
    "from langchain_core.chat_history import BaseChatMessageHistory, InMemoryChatMessageHistory\n",
    "from langchain_core.runnables.history import RunnableWithMessageHistory\n",
    "\n",
    "# 导入template中传递聊天历史信息的“占位”类\n",
    "from langchain_core.prompts import ChatPromptTemplate, MessagesPlaceholder"
   ]
  },
  {
   "cell_type": "code",
   "execution_count": 5,
   "id": "fb3e6e46",
   "metadata": {},
   "outputs": [
    {
     "name": "stdout",
     "output_type": "stream",
     "text": [
      "User question: 你好\n",
      "AI Message: 您好！欢迎来到图书馆，请问您需要办理什么业务呢？您可以选择借阅图书、归还图书或者咨询相关图书信息。\n",
      "User question: 借阅\n",
      "AI Message: 请问您要借阅哪一本书呢？请告诉我书名。\n",
      "User question: 理想国\n",
      "AI Message: 好的，您要借阅《理想国》。请稍等，我为您办理借阅手续。\n",
      "\n",
      "（处理中……）\n",
      "\n",
      "好的，《理想国》剩余数量已更新为9本。您的借阅业务已经办理完成，期待下次再见！\n",
      "User question: 现在理想国这本书还有多少本\n",
      "AI Message: 目前《理想国》这本书的剩余数量是9本。期待您的再次借阅！\n",
      "User question: 我想了解下 圆圈正义这本书\n",
      "AI Message: 好的，您想了解《圆圈正义》这本书。请稍等，我为您查询相关信息。\n",
      "\n",
      "（处理中……）\n",
      "\n",
      "很抱歉，目前系统中没有关于《圆圈正义》这本书的记录，请确认书名是否正确。如果需要其他帮助，我会很乐意为您提供服务。期待下次再见！\n",
      "User question: 结束会话\n"
     ]
    }
   ],
   "source": [
    "if __name__ == '__main__':\n",
    "    load_dotenv(find_dotenv())\n",
    "\n",
    "    # Initialize the OpenAI Chat model\n",
    "    model = ChatOpenAI(\n",
    "        model=\"qwen-plus\",\n",
    "        base_url=\"https://dashscope.aliyuncs.com/compatible-mode/v1\",\n",
    "        api_key=\"sk-fd258196936240139eb4963a73658bc9\",\n",
    "        temperature=0.7\n",
    "    )\n",
    " \n",
    "    # 带有占位符的prompt template\n",
    "    prompt = ChatPromptTemplate.from_messages(\n",
    "        [\n",
    "            (\"system\", \"你是一个图书管的管理员。你的任务是实现图书借阅、归还和图书推荐。\\\n",
    "                图书有4个参数:书名、作者、简介和剩余数量。剩余数量初始化为10，如果用户借阅、则减一；用户归还、则加一。每本图书只有10本。\\\n",
    "                用户有3种行为,归还图书、借阅图书和咨询相关图书。\\\n",
    "                如果用户借阅，则获取书名、办理借阅业务;如果用户归还、则获取书名，办理归还图书的业务。更新图书的 剩余数量\\\n",
    "                    如果用户咨询图书，你需要获取图书简介回答后回答用户的问题。\\\n",
    "                    最后你要说：您的业务已经办好，期待下次再见。\"),\n",
    "            MessagesPlaceholder(variable_name=\"messages\"),\n",
    "        ]\n",
    "    )\n",
    "\n",
    "    parser = StrOutputParser()\n",
    "    # chain 构建\n",
    "    chain =  prompt | model | parser\n",
    "    \n",
    "    # 定制存储消息的dict\n",
    "    # key:  sessionId会话Id（资源编号）区分不同用户或不同聊天内容\n",
    "    # value: InMemoryChatMessageHistory存储聊天信息list对象\n",
    "    store = {}\n",
    "\n",
    "    # 定义函数：根据sessionId获取聊天历史（callback 回调）\n",
    "    # callback 系统调用时被执行代码\n",
    "    def get_session_hist(session_id):\n",
    "        # 以sessionid为key从store中提取关联聊天历史对象\n",
    "        if session_id not in store:\n",
    "            store[session_id] = InMemoryChatMessageHistory() # 创建\n",
    "        return store[session_id] # 检索 （langchain负责维护内部聊天历史信息）\n",
    "\n",
    "    # 在chain中注入聊天历史消息\n",
    "    # 调用chain之前，还需要根据sessionID提取不同的聊天历史\n",
    "    with_msg_hist = RunnableWithMessageHistory(\n",
    "        chain, \n",
    "        get_session_history=get_session_hist,\n",
    "        input_messages_key=\"messages\")  # input_messages_key 指明用户消息使用key\n",
    "    \n",
    "    # session_id\n",
    "    session_id = \"abc1234\"\n",
    "\n",
    "    flag = 1\n",
    "    while flag:\n",
    "        # 用户输入\n",
    "        user_input = input('用户输入的Message：')\n",
    "        print('User question:',user_input)\n",
    "        if \"结束会话\" == user_input :\n",
    "            flag = 0\n",
    "            continue\n",
    "        # 调用注入聊天历史的对象\n",
    "        response = with_msg_hist.invoke(\n",
    "            {\n",
    "                \"messages\":[HumanMessage(content=user_input)],\n",
    "                \"lang\":\"中文\"\n",
    "            },\n",
    "            config={'configurable':{'session_id': session_id}})\n",
    "        print('AI Message:', response)"
   ]
  },
  {
   "cell_type": "code",
   "execution_count": null,
   "id": "9c2cb4dc",
   "metadata": {},
   "outputs": [],
   "source": []
  }
 ],
 "metadata": {
  "kernelspec": {
   "display_name": "py3124",
   "language": "python",
   "name": "python3"
  },
  "language_info": {
   "codemirror_mode": {
    "name": "ipython",
    "version": 3
   },
   "file_extension": ".py",
   "mimetype": "text/x-python",
   "name": "python",
   "nbconvert_exporter": "python",
   "pygments_lexer": "ipython3",
   "version": "3.12.4"
  }
 },
 "nbformat": 4,
 "nbformat_minor": 5
}
