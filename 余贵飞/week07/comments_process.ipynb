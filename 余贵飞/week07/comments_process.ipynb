{
 "cells": [
  {
   "cell_type": "markdown",
   "metadata": {},
   "source": [
    "### 数据预处理\n",
    "\n",
    "1. 文本评论，尝试筛选Star：1和Star：5 取值样本各1W条，做2分类模型设计\n",
    "2. 文本长度取合理范围\n",
    "3. 关于停用词，标点、其它无关符号"
   ]
  },
  {
   "cell_type": "code",
   "execution_count": 2,
   "metadata": {},
   "outputs": [
    {
     "name": "stderr",
     "output_type": "stream",
     "text": [
      "0it [00:00, ?it/s]"
     ]
    },
    {
     "name": "stderr",
     "output_type": "stream",
     "text": [
      "2125056it [00:08, 254708.41it/s]\n"
     ]
    }
   ],
   "source": [
    "import csv\n",
    "from tqdm import tqdm\n",
    "\n",
    "pos_cnt, neg_cnt = 0,0\n",
    "comments, labels = [],[]\n",
    "\n",
    "with open('../dataset/douban/DMSC/DMSC.csv') as f:\n",
    "    reader = csv.DictReader(f) \n",
    "    for item in tqdm(reader):\n",
    "        comment = item['Comment']\n",
    "        star = int(item['Star'])\n",
    "        if star in [1,5] and 15 <= len(comment) <= 150:\n",
    "            comments.append(comment)\n",
    "            labels.append(1 if star == 5 else 0)  # 1 正样本 0 负样本\n",
    "\n",
    "            "
   ]
  },
  {
   "cell_type": "code",
   "execution_count": 3,
   "metadata": {},
   "outputs": [
    {
     "data": {
      "text/plain": [
       "547840"
      ]
     },
     "execution_count": 3,
     "metadata": {},
     "output_type": "execute_result"
    }
   ],
   "source": [
    "len(comments)"
   ]
  },
  {
   "cell_type": "code",
   "execution_count": 4,
   "metadata": {},
   "outputs": [],
   "source": [
    "# 统计评论文本长度\n",
    "cmt_lens = [len(cmt) for cmt in comments]"
   ]
  },
  {
   "cell_type": "code",
   "execution_count": null,
   "metadata": {},
   "outputs": [
    {
     "data": {
      "image/png": "[encoded data removed]",
      "text/plain": [
       "<Figure size 640x480 with 1 Axes>"
      ]
     },
     "metadata": {},
     "output_type": "display_data"
    }
   ],
   "source": [
    "import matplotlib.pyplot as plt\n",
    "\n",
    "plt.hist(cmt_lens, bins=50)\n",
    "plt\n",
    "plt.show()"
   ]
  },
  {
   "cell_type": "code",
   "execution_count": 7,
   "metadata": {},
   "outputs": [
    {
     "data": {
      "image/png": "[encoded data removed]",
      "text/plain": [
       "<Figure size 640x480 with 1 Axes>"
      ]
     },
     "metadata": {},
     "output_type": "display_data"
    }
   ],
   "source": [
    "# 绘制箱型图\n",
    "plt.boxplot(cmt_lens)\n",
    "plt.title('Comments Lengths')\n",
    "plt.xlabel('Comments')\n",
    "plt.ylabel('Length')\n",
    "# plt.xticks([], [])\n",
    "plt.show()"
   ]
  },
  {
   "cell_type": "code",
   "execution_count": 8,
   "metadata": {},
   "outputs": [],
   "source": [
    "# 筛选无关标点符号、格式控制符号\n",
    "comments = [cmt.replace('。',' ').replace('，',' ') for cmt in comments]"
   ]
  },
  {
   "cell_type": "code",
   "execution_count": 9,
   "metadata": {},
   "outputs": [
    {
     "name": "stderr",
     "output_type": "stream",
     "text": [
      "Building prefix dict from the default dictionary ...\n",
      "Loading model from cache C:\\Users\\guifei\\AppData\\Local\\Temp\\jieba.cache\n",
      "Loading model cost 0.628 seconds.\n",
      "Prefix dict has been built successfully.\n"
     ]
    }
   ],
   "source": [
    "# 结巴分词\n",
    "import jieba\n",
    "comments_jieba = [' '.join(jieba.cut(cmt)) for cmt in comments]"
   ]
  },
  {
   "cell_type": "code",
   "execution_count": 14,
   "metadata": {},
   "outputs": [
    {
     "name": "stdout",
     "output_type": "stream",
     "text": [
      "['  什么 破烂 反派   毫无 戏剧 冲突 能 消耗 两个 多 小时 生命   还 强加 爱情 戏   脑 残片 好 圈钱 倒 是 真的  ', '  机甲 之战 超超 好看   比 变形金刚 强 ； 人   神   变异 人   人工智能 互殴   强强 强强 ； 每 一小 段末句 都 是 槽 或者 笑点   应该 死 了 不少 编剧 ； Jane 不来 客串   雷神 没露   扣分 ； 女神 配 怪兽   fair   enough ； 美国 队长 我 最 喜欢 他 的 盾   大概 因为 紫龙 ； 难得 人物 多次 发表 演讲 还 不 死 ； 最后   找到 了 下半年 新发型   开心 ！', '  说实话 其实 剧情 就 那样 吧   非漫 威粉 看着 可能 有 的 地方 会 get 不到 G 点 吧   （ 其实 漫威 卖 的 不是 剧情 而是 人物 和 世界观 呀   漫威 宇宙 棒棒 哒 ） 但 对于 漫威粉 来说 真是 全程 高能 + IMAX 燃爆 啊 ！ # 漫威 大法 好 #', '  没有 了 洛基 这个 小基仔 真是 觉得 即墨 如雪 啊', '  看毕   我 激动 地 对 友人 说   等等 奥创 要 来 毁灭 台北 怎么办 厚   她 拍了拍 我 肩膀   没事   反正 你 买 了 两份 旅行 保险   惹 ......', '  不 出 意料 得烂   喜欢 这部 电影 的 孩子   大概 也 喜欢 变 4 … …', '  哪个 保证 一刀 不 剪 的   不是 剪 了 好几刀 吗 ！', '  真的 是 全程无 尿点   漫威 在 拍 了 这么 多 系列片 之后 再 拿捏 妇联 2 真是 得心应手   笑点 爆发 点齐飞   拿 锤子 的 哽太 伤人   233   唯一 遗憾   没 洛基', '  绝逼 不 质疑 尾灯 的 导演 和 编剧 水平    ', '  赶上 第一波 看好 开心 ！ 大乱斗 超 好评 ！ ！ ！ 总之 笑料 和 精彩 程度 都 不减 ！ 所有 的 BG 线 都 让 人 尴尬 到 内心 崩溃   寡姐 和 Hulk 在 一起 时   简直 就是 是 超级 宠物 教练   猩红 女巫 和 快 银 也 都 是 萌萌萌 ！ 我 有 好多 嘈想 吐   但 我 不能 剧透   麻蛋 ！']\n",
      "547840\n"
     ]
    }
   ],
   "source": [
    "print(comments_jieba[:10])\n",
    "print(len(comments_jieba))"
   ]
  },
  {
   "cell_type": "code",
   "execution_count": 15,
   "metadata": {},
   "outputs": [],
   "source": [
    "# sentencepiec 分词\n",
    "import sentencepiece as spm\n",
    "sp = spm.SentencePieceProcessor()\n",
    "\n",
    "with open('comments.txt', 'w', encoding='utf-8') as f:\n",
    "    for cmt in comments:\n",
    "        f.write(cmt + '\\n')\n",
    "\n",
    "# 分词模型训练\n",
    "spm.SentencePieceTrainer.Train(\n",
    "    input='comments.txt', model_prefix='spm_model', vocab_size=5000,)"
   ]
  },
  {
   "cell_type": "code",
   "execution_count": 16,
   "metadata": {},
   "outputs": [
    {
     "data": {
      "text/plain": [
       "['▁ 什么 破 烂 反 派 ▁ 毫 无 戏 剧 冲 突 能 消 耗 两个 多 小 时 生 命 ▁ 还 强 加 爱情 戏 ▁ 脑 残 片 好 圈 钱 倒 是 真的',\n",
       " '▁ 机 甲 之 战 超 超 好看 ▁ 比 变 形 金 刚 强 ; 人 ▁ 神 ▁ 变 异 人 ▁ 人 工 智 能 互 殴 ▁ 强 强 强 强 ; 每 一 小 段 末 句 都是 槽 或 者 笑点 ▁ 应该 死 了 不 少 编 剧 ; J an e 不 来 客 串 ▁ 雷 神 没 露 ▁ 扣 分 ; 女 神 配 怪 兽 ▁ f a i r ▁ e n o u g h ; 美 国 队 长 我 最 喜欢 他 的 盾 ▁ 大 概 因为 紫 龙 ; 难 得 人物 多 次 发 表 演 讲 还 不 死 ; 最后 ▁ 找 到了 下 半 年 新 发 型 ▁ 开 心 !',\n",
       " '▁ 说 实 话 其 实 剧情 就 那 样 吧 ▁ 非 漫 威 粉 看 着 可能 有 的 地 方 会 g e t 不 到 G 点 吧 ▁ ( 其 实 漫 威 卖 的 不是 剧情 而 是 人物 和 世界 观 呀 ▁ 漫 威 宇 宙 棒 棒 哒 ) 但 对 于 漫 威 粉 来说 真是 全程 高 能 + I M A X 燃 爆 啊 ! # 漫 威 大 法 好 #',\n",
       " '▁没有 了 洛 基 这个 小 基 仔 真是 觉得 即 墨 如 雪 啊',\n",
       " '▁ 看 毕 ▁我 激 动 地 对 友 人 说 ▁ 等 等 奥 创 要 来 毁 灭 台 北 怎么 办 厚 ▁ 她 拍 了 拍 我 肩 膀 ▁ 没 事 ▁ 反 正 你 买 了 两 份 旅 行 保 险 ▁ 惹 ......',\n",
       " '▁ 不 出 意 料 得 烂 ▁ 喜欢 这部电影 的 孩 子 ▁ 大 概 也 喜欢 变 4 ......',\n",
       " '▁ 哪 个 保 证 一 刀 不 剪 的 ▁ 不是 剪 了 好 几 刀 吗 !',\n",
       " '▁ 真的是 全程 无 尿 点 ▁ 漫 威 在 拍 了 这么 多 系 列 片 之后 再 拿 捏 妇 联 2 真是 得 心 应 手 ▁ 笑点 爆 发 点 齐 飞 ▁ 拿 锤 子 的 哽 太 伤 人 ▁ 2 3 3 ▁ 唯 一 遗 憾 ▁ 没 洛 基',\n",
       " '▁ 绝 逼 不 质 疑 尾 灯 的 导演 和 编 剧 水 平',\n",
       " '▁ 赶 上 第 一 波 看 好 开 心 ! 大 乱 斗 超 好 评 !!! 总 之 笑 料 和 精彩 程 度 都不 减 ! 所有 的 B G 线 都 让人 尴尬 到 内 心 崩 溃 ▁ 寡 姐 和 H u l k 在 一起 时 ▁ 简直 就是 是 超级 宠 物 教 练 ▁ 猩 红 女 巫 和 快 银 也 都是 萌 萌 萌 ! 我 有 好 多 嘈 想 吐 ▁但 我 不能 剧 透 ▁ 麻 蛋 !']"
      ]
     },
     "execution_count": 16,
     "metadata": {},
     "output_type": "execute_result"
    }
   ],
   "source": [
    "# 读取分词模型\n",
    "sp.Load('spm_model.model')\n",
    "# 分词\n",
    "comments_spm = []\n",
    "for cmt in comments:\n",
    "    cmt_spm = sp.EncodeAsPieces(cmt)\n",
    "    comments_spm.append(' '.join(cmt_spm))\n",
    "\n",
    "comments_spm[:10]"
   ]
  },
  {
   "cell_type": "code",
   "execution_count": 10,
   "metadata": {},
   "outputs": [
    {
     "name": "stdout",
     "output_type": "stream",
     "text": [
      "语料处理保存完成！\n"
     ]
    }
   ],
   "source": [
    "import pickle\n",
    "\n",
    "with open('comments_jieba.bin', 'wb') as f:\n",
    "    pickle.dump((comments_jieba, labels), f)\n",
    "\n",
    "# with open('comments_spm.bin', 'wb') as f:\n",
    "#     pickle.dump((comments_spm, labels), f)\n",
    "\n",
    "print('语料处理保存完成！')"
   ]
  },
  {
   "cell_type": "code",
   "execution_count": 11,
   "metadata": {},
   "outputs": [],
   "source": [
    "import pickle\n",
    "with open('comments_jieba.bin','rb') as f:\n",
    "        jieba, labels1 = pickle.load(f)"
   ]
  }
 ],
 "metadata": {
  "kernelspec": {
   "display_name": "pytorch_study",
   "language": "python",
   "name": "python3"
  },
  "language_info": {
   "codemirror_mode": {
    "name": "ipython",
    "version": 3
   },
   "file_extension": ".py",
   "mimetype": "text/x-python",
   "name": "python",
   "nbconvert_exporter": "python",
   "pygments_lexer": "ipython3",
   "version": "3.12.4"
  }
 },
 "nbformat": 4,
 "nbformat_minor": 2
}
