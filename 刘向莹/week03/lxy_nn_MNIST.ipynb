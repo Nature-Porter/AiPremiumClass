{
 "cells": [
  {
   "cell_type": "code",
   "execution_count": null,
   "id": "84d19e4d",
   "metadata": {},
   "outputs": [],
   "source": [
    "# 流程：\n",
    "# 1、加载数据\n",
    "# 2、将数据集分成小批次\n",
    "# 3、选择损失函数和优化器\n",
    "# 4、初始化超参数（学习率，训练轮数，批量大小）\n",
    "# 5、设计模型（隐藏层，激活函数）\n",
    "# 6、训练模型\n",
    "# 7、测试模型"
   ]
  },
  {
   "cell_type": "code",
   "execution_count": 9,
   "id": "65c59004",
   "metadata": {},
   "outputs": [],
   "source": [
    "import matplotlib.pyplot as plt\n",
    "\n",
    "import torch\n",
    "import torch.nn as nn         # 神经网络模块\n",
    "import torch.optim as optim     # 优化器模块\n",
    "\n",
    "from torch.utils.data import DataLoader  # 数据加载器，用于批量加载数据（将数据切成小份，即批次epoch）\n",
    "# from torch.utils.data import random_split # 随机划分数据集\n",
    "\n",
    "from torchvision.datasets import MNIST # MNIST数据集,包含​​60,000张训练图像​​和​​10,000张测试图像​​，每张为​​28×28像素的灰度图​​，共​​10个类别​​。\n",
    "from torchvision.transforms import ToTensor # 图像转换模块，用于数据预处理   将图像数据转换成张量，能得到一个张量的矩阵"
   ]
  },
  {
   "cell_type": "code",
   "execution_count": 8,
   "id": "e190d13f",
   "metadata": {},
   "outputs": [],
   "source": [
    "# 加载数据集    60000张训练集，10000张测试集\n",
    "train_dataset = MNIST(root='data/MNIST', \n",
    "                             train=True, \n",
    "                             download=True,\n",
    "                             transform=ToTensor()) # 将数据集转换成张量\n",
    "test_dataset = MNIST(root='data/MNIST', \n",
    "                            train=False, \n",
    "                            download=True,\n",
    "                             transform=ToTensor()) "
   ]
  },
  {
   "cell_type": "code",
   "execution_count": 10,
   "id": "3b22e016",
   "metadata": {},
   "outputs": [
    {
     "data": {
      "image/png": "[encoded data removed]",
      "text/plain": [
       "<Figure size 640x480 with 1 Axes>"
      ]
     },
     "metadata": {},
     "output_type": "display_data"
    },
    {
     "data": {
      "text/plain": [
       "{0, 1, 2, 3, 4, 5, 6, 7, 8, 9}"
      ]
     },
     "execution_count": 10,
     "metadata": {},
     "output_type": "execute_result"
    }
   ],
   "source": [
    "import matplotlib.pyplot as plt\n",
    "# 可视化数据集中的一张图片\n",
    "train_data = MNIST(root='data/MNIST', train=True, download=True)\n",
    "# train_data是一个数据集对象，包含了训练数据和标签\n",
    "# train_data[0]是一个元组，包含了图片和标签\n",
    "\n",
    "img,clzz = train_data[1]\n",
    "plt.imshow(img, cmap='gray')  # img是一个PIL.Image对象(python原始数据)\n",
    "plt.title(clzz)\n",
    "plt.show()\n",
    "\n",
    "labels = set([clz for img,clz in train_data])\n",
    "labels"
   ]
  },
  {
   "cell_type": "code",
   "execution_count": 11,
   "id": "48fcfbf0",
   "metadata": {},
   "outputs": [],
   "source": [
    "# 数据加载器，将数据集分成小批次，方便训练和测试\n",
    "train_loader = DataLoader(train_dataset, batch_size=64, shuffle=True) # 训练集加载器，batch_size为每个批次的大小，shuffle为是否打乱数据\n",
    "test_loader = DataLoader(test_dataset, batch_size=64, shuffle=False) # 测试集加载器，batch_size为每个批次的大小，shuffle为是否打乱数据"
   ]
  },
  {
   "cell_type": "code",
   "execution_count": null,
   "id": "e161d7d8",
   "metadata": {},
   "outputs": [],
   "source": [
    "# 训练模型\n",
    "def train_model(model, train_loader, criterion, optimizer, num_epochs):\n",
    "    train_loss_history = []  # 训练损失列表，用于存储每个批次的训练损失\n",
    "\n",
    "    model.train()  # 设置模型为训练模式\n",
    "    \n",
    "    for epoch in range(num_epochs):  # 遍历训练轮数\n",
    "        for batch_images, batch_labels in train_loader:\n",
    "            batch_images = batch_images.view(batch_images.size(0), -1)  # 展平图像数据\n",
    "\n",
    "            # 前向传播\n",
    "            outputs = model(batch_images)\n",
    "\n",
    "            # 计算损失\n",
    "            loss = criterion(outputs, batch_labels)\n",
    "\n",
    "            # 清空梯度\n",
    "            optimizer.zero_grad()\n",
    "            # 反向传播\n",
    "            loss.backward()\n",
    "            # 更新参数\n",
    "            optimizer.step()\n",
    "\n",
    "        # 打印训练损失\n",
    "        print(f\"Epoch [{epoch + 1}/{num_epochs}], Loss: {loss.item():.4f}\")\n",
    "\n",
    "        train_loss_history.append(loss.item())  # 将每个批次的训练损失添加到列表中\n",
    "\n",
    "        # 训练完成后，保存模型\n",
    "        # torch.save(model.state_dict(), 'model.pth')\n",
    "        # break  # 仅训练一个批次\n",
    "        \n",
    "    return train_loss_history  # 返回训练损失列表，用于绘制损失曲线图"
   ]
  },
  {
   "cell_type": "code",
   "execution_count": null,
   "id": "d26188cf",
   "metadata": {},
   "outputs": [],
   "source": [
    "# model1_loss_history[19],model2_loss_history[19],model3_loss_history[19] # 训练损失曲线图的最后一个点的值"
   ]
  },
  {
   "cell_type": "markdown",
   "id": "b49ee783",
   "metadata": {},
   "source": [
    "# 调整超参数 - 学习率\n"
   ]
  },
  {
   "cell_type": "code",
   "execution_count": 24,
   "id": "c8f84809",
   "metadata": {},
   "outputs": [],
   "source": [
    "model_lr = nn.Sequential(\n",
    "    nn.Linear(1 * 28 * 28, 128),  # 全连接层，将输入张量映射到128个神经元\n",
    "    nn.Sigmoid(),  # 激活函数，使用Sigmoid函数进行非线性变换\n",
    "    nn.Linear(128, 10)  # 全连接层，将128个神经元映射到10个类别\n",
    ")"
   ]
  },
  {
   "cell_type": "code",
   "execution_count": null,
   "id": "0933e427",
   "metadata": {},
   "outputs": [],
   "source": [
    "# 超参数设置\n",
    "# learning_rate = 0.1  # 学习率\n",
    "num_epochs = 20  # 训练轮数\n",
    "batch_size = 300  # 批量大小"
   ]
  },
  {
   "cell_type": "code",
   "execution_count": null,
   "id": "825d65a8",
   "metadata": {},
   "outputs": [],
   "source": [
    "criterion = nn.CrossEntropyLoss()  # 损失函数，交叉熵损失函数\n",
    "# optimizer = optim.SGD(model_lr.parameters(), lr=learning_rate)  # 优化器，SGD优化器，学习率为0.1"
   ]
  },
  {
   "cell_type": "code",
   "execution_count": 29,
   "id": "4fcc8f05",
   "metadata": {},
   "outputs": [
    {
     "name": "stdout",
     "output_type": "stream",
     "text": [
      "Epoch [1/20], Loss: 0.4722\n",
      "Epoch [2/20], Loss: 0.1664\n",
      "Epoch [3/20], Loss: 0.0855\n",
      "Epoch [4/20], Loss: 0.1657\n",
      "Epoch [5/20], Loss: 0.2380\n",
      "Epoch [6/20], Loss: 0.3017\n",
      "Epoch [7/20], Loss: 0.1404\n",
      "Epoch [8/20], Loss: 0.3485\n",
      "Epoch [9/20], Loss: 0.1219\n",
      "Epoch [10/20], Loss: 0.1286\n",
      "Epoch [11/20], Loss: 0.1897\n",
      "Epoch [12/20], Loss: 0.2285\n",
      "Epoch [13/20], Loss: 0.0702\n",
      "Epoch [14/20], Loss: 0.0647\n",
      "Epoch [15/20], Loss: 0.2679\n",
      "Epoch [16/20], Loss: 0.1060\n",
      "Epoch [17/20], Loss: 0.0941\n",
      "Epoch [18/20], Loss: 0.0393\n",
      "Epoch [19/20], Loss: 0.0604\n",
      "Epoch [20/20], Loss: 0.0382\n",
      "Epoch [1/20], Loss: 0.0684\n",
      "Epoch [2/20], Loss: 0.2057\n",
      "Epoch [3/20], Loss: 0.0950\n",
      "Epoch [4/20], Loss: 0.0755\n",
      "Epoch [5/20], Loss: 0.2235\n",
      "Epoch [6/20], Loss: 0.0592\n",
      "Epoch [7/20], Loss: 0.0788\n",
      "Epoch [8/20], Loss: 0.0238\n",
      "Epoch [9/20], Loss: 0.1849\n",
      "Epoch [10/20], Loss: 0.0823\n",
      "Epoch [11/20], Loss: 0.0584\n",
      "Epoch [12/20], Loss: 0.0685\n",
      "Epoch [13/20], Loss: 0.0559\n",
      "Epoch [14/20], Loss: 0.0564\n",
      "Epoch [15/20], Loss: 0.2257\n",
      "Epoch [16/20], Loss: 0.0500\n",
      "Epoch [17/20], Loss: 0.0813\n",
      "Epoch [18/20], Loss: 0.0976\n",
      "Epoch [19/20], Loss: 0.1640\n",
      "Epoch [20/20], Loss: 0.3176\n",
      "Epoch [1/20], Loss: 0.0158\n",
      "Epoch [2/20], Loss: 0.1581\n",
      "Epoch [3/20], Loss: 0.1035\n",
      "Epoch [4/20], Loss: 0.0288\n",
      "Epoch [5/20], Loss: 0.0632\n",
      "Epoch [6/20], Loss: 0.1183\n",
      "Epoch [7/20], Loss: 0.0338\n",
      "Epoch [8/20], Loss: 0.1658\n",
      "Epoch [9/20], Loss: 0.1061\n",
      "Epoch [10/20], Loss: 0.1663\n",
      "Epoch [11/20], Loss: 0.1234\n",
      "Epoch [12/20], Loss: 0.0686\n",
      "Epoch [13/20], Loss: 0.1610\n",
      "Epoch [14/20], Loss: 0.1226\n",
      "Epoch [15/20], Loss: 0.1978\n",
      "Epoch [16/20], Loss: 0.0759\n",
      "Epoch [17/20], Loss: 0.0815\n",
      "Epoch [18/20], Loss: 0.0675\n",
      "Epoch [19/20], Loss: 0.0185\n",
      "Epoch [20/20], Loss: 0.0613\n"
     ]
    }
   ],
   "source": [
    "lr_loss_history = [\n",
    "    train_model(model_lr, train_loader, criterion, optim.SGD(model_lr.parameters(), lr=0.1), num_epochs) # 学习率为0.1的模型训练损失历史\n",
    "    , train_model(model_lr, train_loader, criterion, optim.SGD(model_lr.parameters(), lr=0.01), num_epochs) # 学习率为0.01的模型训练损失历史\n",
    "    , train_model(model_lr, train_loader, criterion, optim.SGD(model_lr.parameters(), lr=0.001), num_epochs) # 学习率为0.001的模型训练损失历史\n",
    "]"
   ]
  },
  {
   "cell_type": "code",
   "execution_count": null,
   "id": "7ced5997",
   "metadata": {},
   "outputs": [
    {
     "data": {
      "image/png": "[encoded data removed]",
      "text/plain": [
       "<Figure size 640x480 with 1 Axes>"
      ]
     },
     "metadata": {},
     "output_type": "display_data"
    }
   ],
   "source": [
    "def draw_train_hist(lr_loss_history):\n",
    "    for i,hist in enumerate(lr_loss_history):   \n",
    "        plt.plot(hist, label=f'LR_Loss{i}')\n",
    "    plt.legend()\n",
    "    plt.xlabel('Epochs')\n",
    "    plt.ylabel('Loss')\n",
    "    plt.title('Training Loss')\n",
    "    plt.show()\n",
    "\n",
    "# 绘制训练损失曲线图\n",
    "draw_train_hist(lr_loss_history)"
   ]
  },
  {
   "cell_type": "code",
   "execution_count": null,
   "id": "bd762c1f",
   "metadata": {},
   "outputs": [],
   "source": []
  },
  {
   "cell_type": "code",
   "execution_count": null,
   "id": "8bd2fab3",
   "metadata": {},
   "outputs": [],
   "source": []
  },
  {
   "cell_type": "markdown",
   "id": "818137bc",
   "metadata": {},
   "source": [
    "model.parameters()是模型的参数，学习率为0.001"
   ]
  },
  {
   "cell_type": "code",
   "execution_count": null,
   "id": "a5177342",
   "metadata": {},
   "outputs": [],
   "source": []
  },
  {
   "cell_type": "code",
   "execution_count": null,
   "id": "0f6e8522",
   "metadata": {},
   "outputs": [],
   "source": []
  },
  {
   "cell_type": "code",
   "execution_count": null,
   "id": "a79d2dbe",
   "metadata": {},
   "outputs": [],
   "source": []
  },
  {
   "cell_type": "code",
   "execution_count": null,
   "id": "1166e340",
   "metadata": {},
   "outputs": [],
   "source": []
  },
  {
   "cell_type": "code",
   "execution_count": null,
   "id": "4950ec27",
   "metadata": {},
   "outputs": [],
   "source": []
  },
  {
   "cell_type": "code",
   "execution_count": null,
   "id": "da57b23e",
   "metadata": {},
   "outputs": [],
   "source": []
  },
  {
   "cell_type": "code",
   "execution_count": null,
   "id": "119f7526",
   "metadata": {},
   "outputs": [],
   "source": []
  },
  {
   "cell_type": "code",
   "execution_count": null,
   "id": "1f939e8c",
   "metadata": {},
   "outputs": [],
   "source": [
    "\n",
    "# 选择损失函数\n",
    "criterion = nn.CrossEntropyLoss()  # 损失函数，交叉熵损失函数\n",
    "\n",
    "# criterion = nn.MSELoss()  # 损失函数，均方误差损失函数\n",
    "\n",
    "# criterion = nn.NLLLoss()  # 损失函数，负对数似然损失函数，适用于多分类问题\n",
    "# criterion = nn.NLLLoss(reduction='none')  # 损失函数，负对数似然损失函数，适用于多分类问题，reduction='none'表示不进行归约操作\n",
    "# criterion = nn.NLLLoss(reduction='sum')  # 损失函数，负对数似然损失函数，适用于多分类问题，reduction='sum'表示对所有样本的损失进行求和\n",
    "# criterion = nn.NLLLoss(reduction='mean')  # 损失函数，负对数似然损失函数，适用于多分类问题，reduction='mean'表示对所有样本的损失进行求平均\n",
    "\n",
    "# criterion = nn.BCEWithLogitsLoss()  # 损失函数，二进制交叉熵损失函数，适用于多标签分类问题\n",
    "# criterion = nn.BCEWithLogitsLoss(reduction='none')  # 损失函数，二进制交叉熵损失函数，适用于多标签分类问题，reduction='none'表示不进行归约操作\n",
    "# criterion = nn.BCEWithLogitsLoss(reduction='sum')  # 损失函数，二进制交叉熵损失函数，适用于多标签分类问题，reduction='sum'表示对所有样本的损失进行求和\n",
    "# criterion = nn.BCEWithLogitsLoss(reduction='mean')  # 损失函数，二进制交叉熵损失函数，适用于多标签分类问题，reduction='mean'表示对所有样本的损失进行求平均\n",
    "\n",
    "# criterion = nn.BCELoss()  # 损失函数，二进制交叉熵损失函数，适用于二分类问题\n",
    "# criterion = nn.BCELoss(reduction='none')  # 损失函数，二进制交叉熵损失函数，适用于多标签分类问题，reduction='none'表示不进行归约操作\n",
    "# criterion = nn.BCELoss(reduction='sum')  # 损失函数，二进制交叉熵损失函数，适用于多标签分类问题，reduction='sum'表示对所有样本的损失进行求和\n",
    "# criterion = nn.BCELoss(reduction='mean')  # 损失函数，二进制交叉熵损失函数，适用于多标签分类问题，reduction='mean'表示对所有样本的损失进行求平均\n",
    "\n",
    "\n",
    "# 选择优化器\n",
    "optimizer = optim.Adam(model.parameters(), lr=learning_rate)  # 优化器，Adam优化器\n",
    "# optimizer = optim.SGD(model.parameters(), lr=learning_rate)  # 优化器，随机梯度下降优化器\n",
    "# optimizer = optim.RMSprop(model.parameters(), lr=learning_rate)  # 优化器，RMSprop优化器"
   ]
  },
  {
   "cell_type": "code",
   "execution_count": null,
   "id": "0005d4da",
   "metadata": {},
   "outputs": [],
   "source": []
  }
 ],
 "metadata": {
  "kernelspec": {
   "display_name": "Python 3",
   "language": "python",
   "name": "python3"
  },
  "language_info": {
   "codemirror_mode": {
    "name": "ipython",
    "version": 3
   },
   "file_extension": ".py",
   "mimetype": "text/x-python",
   "name": "python",
   "nbconvert_exporter": "python",
   "pygments_lexer": "ipython3",
   "version": "3.10.5"
  }
 },
 "nbformat": 4,
 "nbformat_minor": 5
}
