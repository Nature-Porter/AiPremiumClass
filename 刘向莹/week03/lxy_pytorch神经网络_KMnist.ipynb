{
 "cells": [
  {
   "cell_type": "markdown",
   "metadata": {},
   "source": [
    "### 使用KMnist数据集 训练神经网络模型"
   ]
  },
  {
   "cell_type": "code",
   "execution_count": 1,
   "metadata": {},
   "outputs": [],
   "source": [
    "# 导入必要包\n",
    "import torch\n",
    "import torch.nn as nn\n",
    "import torch.optim as optim\n",
    "from torchvision.transforms.v2 import ToTensor     # 转换图像数据为张量\n",
    "from torchvision.datasets import KMNIST\n",
    "from torch.utils.data import DataLoader  # 数据加载器"
   ]
  },
  {
   "cell_type": "code",
   "execution_count": 2,
   "metadata": {},
   "outputs": [],
   "source": [
    "# 定义超参数\n",
    "LR = 1e-3\n",
    "epochs = 150\n",
    "BATCH_SIZE = 128"
   ]
  },
  {
   "cell_type": "code",
   "execution_count": 3,
   "metadata": {},
   "outputs": [
    {
     "name": "stderr",
     "output_type": "stream",
     "text": [
      "d:\\Users\\helen\\AppData\\Local\\Programs\\Python\\Python310\\lib\\site-packages\\torchvision\\transforms\\v2\\_deprecated.py:42: UserWarning: The transform `ToTensor()` is deprecated and will be removed in a future release. Instead, please use `v2.Compose([v2.ToImage(), v2.ToDtype(torch.float32, scale=True)])`.Output is equivalent up to float precision.\n",
      "  warnings.warn(\n",
      "100%|██████████| 18.2M/18.2M [00:08<00:00, 2.26MB/s]\n",
      "100%|██████████| 29.5k/29.5k [00:00<00:00, 364kB/s]\n",
      "100%|██████████| 3.04M/3.04M [00:01<00:00, 2.19MB/s]\n",
      "100%|██████████| 5.12k/5.12k [00:00<00:00, 2.50MB/s]\n"
     ]
    }
   ],
   "source": [
    "# 数据集加载\n",
    "train_data = KMNIST(root='./data', train=True, download=True, \n",
    "                          transform=ToTensor())\n",
    "test_data = KMNIST(root='./data', train=False, download=True,\n",
    "                         transform=ToTensor())"
   ]
  },
  {
   "cell_type": "code",
   "execution_count": 4,
   "metadata": {},
   "outputs": [
    {
     "data": {
      "image/png": "[encoded data removed]",
      "text/plain": [
       "<Figure size 640x480 with 1 Axes>"
      ]
     },
     "metadata": {},
     "output_type": "display_data"
    }
   ],
   "source": [
    "import matplotlib.pyplot as plt\n",
    "\n",
    "img,label = train_data[1]\n",
    "img.numpy().shape\n",
    "plt.imshow(img.numpy().squeeze(), cmap='gray')\n",
    "plt.title(label)\n",
    "plt.show()"
   ]
  },
  {
   "cell_type": "code",
   "execution_count": 5,
   "metadata": {},
   "outputs": [],
   "source": [
    "trian_dl = DataLoader(train_data, batch_size=BATCH_SIZE, shuffle=True)  # shuffle=True表示打乱数据"
   ]
  },
  {
   "cell_type": "code",
   "execution_count": 6,
   "metadata": {},
   "outputs": [],
   "source": [
    "\n",
    "# 定义模型\n",
    "model = nn.Sequential(\n",
    "    nn.Linear(784, 256),\n",
    "    nn.Sigmoid(),\n",
    "    nn.Linear(256, 10)\n",
    ")"
   ]
  },
  {
   "cell_type": "code",
   "execution_count": 7,
   "metadata": {},
   "outputs": [],
   "source": [
    "\n",
    "# 损失函数&优化器\n",
    "loss_fn = nn.CrossEntropyLoss()  # 交叉熵损失函数\n",
    "# 优化器（模型参数更新）\n",
    "optimizer = torch.optim.SGD(model.parameters(), lr=LR)"
   ]
  },
  {
   "cell_type": "code",
   "execution_count": 8,
   "metadata": {},
   "outputs": [
    {
     "name": "stdout",
     "output_type": "stream",
     "text": [
      "Epoch:0 Loss: 2.2957351207733154\n",
      "Epoch:1 Loss: 2.275634527206421\n",
      "Epoch:2 Loss: 2.266314744949341\n",
      "Epoch:3 Loss: 2.247682809829712\n",
      "Epoch:4 Loss: 2.2299606800079346\n",
      "Epoch:5 Loss: 2.2071104049682617\n",
      "Epoch:6 Loss: 2.184579610824585\n",
      "Epoch:7 Loss: 2.183314800262451\n",
      "Epoch:8 Loss: 2.1787686347961426\n",
      "Epoch:9 Loss: 2.1403753757476807\n",
      "Epoch:10 Loss: 2.132519006729126\n",
      "Epoch:11 Loss: 2.0993032455444336\n",
      "Epoch:12 Loss: 2.0889599323272705\n",
      "Epoch:13 Loss: 2.049330234527588\n",
      "Epoch:14 Loss: 2.029479742050171\n",
      "Epoch:15 Loss: 1.9876502752304077\n",
      "Epoch:16 Loss: 1.988664150238037\n",
      "Epoch:17 Loss: 1.9830026626586914\n",
      "Epoch:18 Loss: 1.955417513847351\n",
      "Epoch:19 Loss: 1.9081014394760132\n",
      "Epoch:20 Loss: 1.9211019277572632\n",
      "Epoch:21 Loss: 1.8576892614364624\n",
      "Epoch:22 Loss: 1.85973060131073\n",
      "Epoch:23 Loss: 1.8173094987869263\n",
      "Epoch:24 Loss: 1.8203482627868652\n",
      "Epoch:25 Loss: 1.732766032218933\n",
      "Epoch:26 Loss: 1.7449322938919067\n",
      "Epoch:27 Loss: 1.6248559951782227\n",
      "Epoch:28 Loss: 1.5949864387512207\n",
      "Epoch:29 Loss: 1.5930248498916626\n",
      "Epoch:30 Loss: 1.6524347066879272\n",
      "Epoch:31 Loss: 1.6350566148757935\n",
      "Epoch:32 Loss: 1.6297975778579712\n",
      "Epoch:33 Loss: 1.6580119132995605\n",
      "Epoch:34 Loss: 1.4998308420181274\n",
      "Epoch:35 Loss: 1.528334617614746\n",
      "Epoch:36 Loss: 1.447805404663086\n",
      "Epoch:37 Loss: 1.484979271888733\n",
      "Epoch:38 Loss: 1.6042543649673462\n",
      "Epoch:39 Loss: 1.4062285423278809\n",
      "Epoch:40 Loss: 1.317038893699646\n",
      "Epoch:41 Loss: 1.3693243265151978\n",
      "Epoch:42 Loss: 1.448724627494812\n",
      "Epoch:43 Loss: 1.30828058719635\n",
      "Epoch:44 Loss: 1.3377690315246582\n",
      "Epoch:45 Loss: 1.2624350786209106\n",
      "Epoch:46 Loss: 1.3459705114364624\n",
      "Epoch:47 Loss: 1.3300939798355103\n",
      "Epoch:48 Loss: 1.3527541160583496\n",
      "Epoch:49 Loss: 1.2993944883346558\n",
      "Epoch:50 Loss: 1.2310737371444702\n",
      "Epoch:51 Loss: 1.4187606573104858\n",
      "Epoch:52 Loss: 1.167075753211975\n",
      "Epoch:53 Loss: 1.243607521057129\n",
      "Epoch:54 Loss: 1.176483154296875\n",
      "Epoch:55 Loss: 1.1753278970718384\n",
      "Epoch:56 Loss: 1.199717402458191\n",
      "Epoch:57 Loss: 1.1986346244812012\n",
      "Epoch:58 Loss: 1.141054391860962\n",
      "Epoch:59 Loss: 1.195874810218811\n",
      "Epoch:60 Loss: 1.2412254810333252\n",
      "Epoch:61 Loss: 1.1664375066757202\n",
      "Epoch:62 Loss: 1.1256170272827148\n",
      "Epoch:63 Loss: 1.1426361799240112\n",
      "Epoch:64 Loss: 1.0773462057113647\n",
      "Epoch:65 Loss: 1.0404309034347534\n",
      "Epoch:66 Loss: 1.1153565645217896\n",
      "Epoch:67 Loss: 1.0600265264511108\n",
      "Epoch:68 Loss: 0.9844258427619934\n",
      "Epoch:69 Loss: 1.0340148210525513\n",
      "Epoch:70 Loss: 0.8378750681877136\n",
      "Epoch:71 Loss: 1.244381308555603\n",
      "Epoch:72 Loss: 1.1335641145706177\n",
      "Epoch:73 Loss: 1.136165976524353\n",
      "Epoch:74 Loss: 0.9123765826225281\n",
      "Epoch:75 Loss: 1.04128897190094\n",
      "Epoch:76 Loss: 0.9498209953308105\n",
      "Epoch:77 Loss: 0.929919421672821\n",
      "Epoch:78 Loss: 1.0534113645553589\n",
      "Epoch:79 Loss: 0.8965651392936707\n",
      "Epoch:80 Loss: 0.7802956700325012\n",
      "Epoch:81 Loss: 1.0034631490707397\n",
      "Epoch:82 Loss: 1.1173361539840698\n",
      "Epoch:83 Loss: 1.015144944190979\n",
      "Epoch:84 Loss: 0.8287343978881836\n",
      "Epoch:85 Loss: 0.8587746620178223\n",
      "Epoch:86 Loss: 0.9848727583885193\n",
      "Epoch:87 Loss: 0.8836398720741272\n",
      "Epoch:88 Loss: 0.8359525203704834\n",
      "Epoch:89 Loss: 0.9478476643562317\n",
      "Epoch:90 Loss: 0.9249565005302429\n",
      "Epoch:91 Loss: 0.9550005793571472\n",
      "Epoch:92 Loss: 0.9888383746147156\n",
      "Epoch:93 Loss: 0.9853472709655762\n",
      "Epoch:94 Loss: 0.9972276091575623\n",
      "Epoch:95 Loss: 0.9161803722381592\n",
      "Epoch:96 Loss: 0.771635115146637\n",
      "Epoch:97 Loss: 0.9601335525512695\n",
      "Epoch:98 Loss: 0.8716416954994202\n",
      "Epoch:99 Loss: 1.0051604509353638\n",
      "Epoch:100 Loss: 0.8617205023765564\n",
      "Epoch:101 Loss: 0.8200488090515137\n",
      "Epoch:102 Loss: 0.891350507736206\n",
      "Epoch:103 Loss: 0.8800968527793884\n",
      "Epoch:104 Loss: 0.9339087605476379\n",
      "Epoch:105 Loss: 0.7600521445274353\n",
      "Epoch:106 Loss: 0.9872565269470215\n",
      "Epoch:107 Loss: 0.7763379216194153\n",
      "Epoch:108 Loss: 0.8145044445991516\n",
      "Epoch:109 Loss: 0.8687027096748352\n",
      "Epoch:110 Loss: 0.8404250741004944\n",
      "Epoch:111 Loss: 0.7746808528900146\n",
      "Epoch:112 Loss: 0.8447834849357605\n",
      "Epoch:113 Loss: 0.7775702476501465\n",
      "Epoch:114 Loss: 0.8399490714073181\n",
      "Epoch:115 Loss: 0.821278989315033\n",
      "Epoch:116 Loss: 0.8600783348083496\n",
      "Epoch:117 Loss: 0.8887850642204285\n",
      "Epoch:118 Loss: 0.7693984508514404\n",
      "Epoch:119 Loss: 0.9727793335914612\n",
      "Epoch:120 Loss: 0.8454285264015198\n",
      "Epoch:121 Loss: 0.7628293037414551\n",
      "Epoch:122 Loss: 0.8740549087524414\n",
      "Epoch:123 Loss: 0.8961262106895447\n",
      "Epoch:124 Loss: 0.8339552283287048\n",
      "Epoch:125 Loss: 0.7861818671226501\n",
      "Epoch:126 Loss: 0.8244020938873291\n",
      "Epoch:127 Loss: 0.7954936623573303\n",
      "Epoch:128 Loss: 0.6332792043685913\n",
      "Epoch:129 Loss: 0.8035300374031067\n",
      "Epoch:130 Loss: 0.8532323837280273\n",
      "Epoch:131 Loss: 0.5865322947502136\n",
      "Epoch:132 Loss: 0.6632418036460876\n",
      "Epoch:133 Loss: 0.7799368500709534\n",
      "Epoch:134 Loss: 0.766582190990448\n",
      "Epoch:135 Loss: 0.7470124363899231\n",
      "Epoch:136 Loss: 0.9419824481010437\n",
      "Epoch:137 Loss: 0.8095555305480957\n",
      "Epoch:138 Loss: 0.7596409320831299\n",
      "Epoch:139 Loss: 0.6604309678077698\n",
      "Epoch:140 Loss: 0.7820742130279541\n",
      "Epoch:141 Loss: 0.782484769821167\n",
      "Epoch:142 Loss: 0.5682125091552734\n",
      "Epoch:143 Loss: 0.855288565158844\n",
      "Epoch:144 Loss: 0.767482340335846\n",
      "Epoch:145 Loss: 0.8203923106193542\n",
      "Epoch:146 Loss: 0.6589561104774475\n",
      "Epoch:147 Loss: 0.7195820212364197\n",
      "Epoch:148 Loss: 0.7987415194511414\n",
      "Epoch:149 Loss: 0.7425630688667297\n"
     ]
    }
   ],
   "source": [
    "\n",
    "for epoch in range(epochs):\n",
    "    # 提取训练数据\n",
    "    for data, target in trian_dl:\n",
    "        # 前向运算\n",
    "        output = model(data.reshape(-1, 784))\n",
    "        # 计算损失\n",
    "        loss = loss_fn(output, target)\n",
    "        # 反向传播\n",
    "        optimizer.zero_grad()  # 所有参数梯度清零\n",
    "        loss.backward()     # 计算梯度（参数.grad）\n",
    "        optimizer.step()    # 更新参数\n",
    "\n",
    "    print(f'Epoch:{epoch} Loss: {loss.item()}')"
   ]
  },
  {
   "cell_type": "code",
   "execution_count": null,
   "metadata": {},
   "outputs": [],
   "source": []
  },
  {
   "cell_type": "code",
   "execution_count": null,
   "metadata": {},
   "outputs": [],
   "source": []
  },
  {
   "cell_type": "code",
   "execution_count": null,
   "metadata": {},
   "outputs": [],
   "source": []
  },
  {
   "cell_type": "code",
   "execution_count": null,
   "metadata": {},
   "outputs": [],
   "source": []
  },
  {
   "cell_type": "code",
   "execution_count": null,
   "metadata": {},
   "outputs": [],
   "source": []
  },
  {
   "cell_type": "code",
   "execution_count": null,
   "metadata": {},
   "outputs": [],
   "source": []
  },
  {
   "cell_type": "code",
   "execution_count": null,
   "metadata": {},
   "outputs": [],
   "source": []
  },
  {
   "cell_type": "code",
   "execution_count": null,
   "metadata": {},
   "outputs": [],
   "source": []
  },
  {
   "cell_type": "code",
   "execution_count": null,
   "metadata": {},
   "outputs": [],
   "source": []
  },
  {
   "cell_type": "code",
   "execution_count": null,
   "metadata": {},
   "outputs": [],
   "source": []
  },
  {
   "cell_type": "code",
   "execution_count": null,
   "metadata": {},
   "outputs": [],
   "source": []
  }
 ],
 "metadata": {
  "kernelspec": {
   "display_name": "Python 3",
   "language": "python",
   "name": "python3"
  },
  "language_info": {
   "codemirror_mode": {
    "name": "ipython",
    "version": 3
   },
   "file_extension": ".py",
   "mimetype": "text/x-python",
   "name": "python",
   "nbconvert_exporter": "python",
   "pygments_lexer": "ipython3",
   "version": "3.10.5"
  }
 },
 "nbformat": 4,
 "nbformat_minor": 2
}
