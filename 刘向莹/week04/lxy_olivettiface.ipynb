{
 "cells": [
  {
   "cell_type": "markdown",
   "metadata": {},
   "source": [
    "### 搭建的神经网络，使用olivettiface数据集进行训练"
   ]
  },
  {
   "cell_type": "code",
   "execution_count": 1,
   "metadata": {},
   "outputs": [],
   "source": [
    "from sklearn.datasets import fetch_olivetti_faces"
   ]
  },
  {
   "cell_type": "code",
   "execution_count": 2,
   "metadata": {},
   "outputs": [],
   "source": [
    "import os\n",
    "os.makedirs('./face_data', exist_ok=True)  # 创建 data_home 目录"
   ]
  },
  {
   "cell_type": "markdown",
   "metadata": {},
   "source": [
    "MNIST是来自torchvision.datasets的一个类，而fetch_olivetti_faces是来自scikit-learn的sklearn.datasets中的函数。  \n",
    "这两个库的数据集加载方式有所不同。  \n",
    "MNIST在初始化时接受参数如root、train、download和transform，而scikit-learn的fetch函数通常参数不同\n",
    "\n",
    "fetch_olivetti_faces并没有train、root这些参数，而是使用data_home来指定数据存储路径。  \n",
    "scikit-learn的数据集加载通常不会直接应用transform参数，因为返回的是numpy数组，而不是图像对象，所以需要用户自己处理转换"
   ]
  },
  {
   "cell_type": "code",
   "execution_count": 3,
   "metadata": {},
   "outputs": [
    {
     "name": "stdout",
     "output_type": "stream",
     "text": [
      "(400, 4096)\n",
      "(400,)\n",
      "(400, 64, 64)\n"
     ]
    }
   ],
   "source": [
    "# 加载数据集  ​​40 个不同个体​​，每人 ​​10 张人脸图像​​，共 ​​400 张图像​​，以灰度图形式存储\n",
    "olivetti_faces = fetch_olivetti_faces(data_home='./face_data', shuffle=True)\n",
    "print(olivetti_faces.data.shape)\n",
    "print(olivetti_faces.target.shape)\n",
    "print(olivetti_faces.images.shape)"
   ]
  },
  {
   "cell_type": "code",
   "execution_count": 4,
   "metadata": {},
   "outputs": [
    {
     "data": {
      "image/png": "[encoded data removed]",
      "text/plain": [
       "<Figure size 640x480 with 1 Axes>"
      ]
     },
     "metadata": {},
     "output_type": "display_data"
    }
   ],
   "source": [
    "import matplotlib.pyplot as plt\n",
    "\n",
    "face = olivetti_faces.images[8]\n",
    "plt.imshow(face, cmap='gray')\n",
    "plt.show()"
   ]
  },
  {
   "cell_type": "code",
   "execution_count": 5,
   "metadata": {},
   "outputs": [
    {
     "data": {
      "text/plain": [
       "array([0.3966942 , 0.3677686 , 0.3429752 , ..., 0.37190083, 0.26859504,\n",
       "       0.29752067], dtype=float32)"
      ]
     },
     "execution_count": 5,
     "metadata": {},
     "output_type": "execute_result"
    }
   ],
   "source": [
    "olivetti_faces.data[399]"
   ]
  },
  {
   "cell_type": "code",
   "execution_count": 6,
   "metadata": {},
   "outputs": [
    {
     "data": {
      "text/plain": [
       "array([13, 30, 34, 19, 24,  6, 15, 26, 14, 21,  3, 13, 11, 34,  1,  5, 29,\n",
       "       14, 20, 19, 17, 26, 12, 34, 17, 31,  7,  1, 28, 10, 17, 30, 33, 22,\n",
       "        6,  7,  9, 17, 17, 39, 10, 32,  0,  0, 29,  5, 37, 25, 15, 23, 24,\n",
       "       14, 29, 17, 28, 31,  5,  1,  2,  4,  7, 27,  0, 35, 19, 37, 14,  0,\n",
       "       15, 31,  0, 26,  6,  2, 10,  1, 36, 30, 36, 32, 33,  6,  5, 10, 30,\n",
       "       22, 12, 37, 39, 32, 38, 25,  5,  0, 19, 14, 13, 39, 26, 36, 25,  6,\n",
       "       31, 15, 28, 34,  8, 34, 15, 29,  9,  8, 29,  2, 36, 21, 25,  4, 23,\n",
       "       34,  9, 22, 23, 23, 37, 14,  2, 25, 35, 16, 15, 39,  6, 24, 21, 10,\n",
       "       31, 19, 32,  1, 16, 18,  3, 11, 26, 10, 35, 24, 23, 11, 33, 12, 28,\n",
       "       11, 21, 13, 27, 12, 19, 29, 28, 13,  3, 37, 16,  3, 23,  9,  8,  6,\n",
       "       16, 28, 20, 39, 23, 28, 10,  4, 32, 39, 22,  7, 13, 38, 22, 21,  2,\n",
       "       18, 36, 27,  5, 32, 35,  2,  0, 21, 15, 21, 37, 22, 13, 23, 21, 27,\n",
       "       27, 30, 23,  3, 20, 39,  6,  2, 33,  4, 24, 12,  9, 11, 16, 38, 38,\n",
       "       34,  4,  1, 28,  7, 24, 39,  7,  1, 36, 21, 38, 38, 22, 16, 10, 16,\n",
       "        8, 18, 39, 11, 25, 18, 20, 37, 11, 14, 15, 15,  1, 26,  7, 10, 32,\n",
       "       20, 31, 13, 23, 31, 24, 30,  1, 22, 30,  0, 27, 12,  7, 18, 30, 37,\n",
       "       34, 18, 35,  8, 25,  1, 29,  8, 26,  3, 38,  5,  4, 27,  5, 20, 31,\n",
       "       31, 33, 12, 22,  6, 30, 13, 18,  2,  4,  0, 20, 33,  9, 38, 17, 25,\n",
       "        9, 36,  9, 35, 16,  6, 30,  4, 20, 27, 22, 14, 14, 18, 13, 35, 39,\n",
       "       26, 32, 20,  8, 12, 34, 36,  9,  8, 26, 11, 29,  5, 32, 25, 35,  4,\n",
       "       10, 36, 27, 35,  3,  5, 34, 12, 29,  2, 18, 16, 15, 24, 20,  3,  3,\n",
       "       12, 18, 37, 28, 36, 14, 28, 37, 17,  9, 33, 33, 19, 24, 11, 26,  7,\n",
       "       33,  2, 16, 33, 38, 17, 38,  3, 19, 31,  8,  7,  8, 29, 24, 27, 21,\n",
       "        0, 35, 19, 25, 32, 19, 11,  4, 17])"
      ]
     },
     "execution_count": 6,
     "metadata": {},
     "output_type": "execute_result"
    }
   ],
   "source": [
    "olivetti_faces.target"
   ]
  },
  {
   "cell_type": "code",
   "execution_count": 7,
   "metadata": {},
   "outputs": [],
   "source": [
    "import torch\n",
    "import torch.nn as nn"
   ]
  },
  {
   "cell_type": "code",
   "execution_count": 8,
   "metadata": {},
   "outputs": [
    {
     "name": "stdout",
     "output_type": "stream",
     "text": [
      "torch.Size([400, 4096])\n",
      "torch.Size([400])\n"
     ]
    }
   ],
   "source": [
    "\n",
    "images = torch.tensor(olivetti_faces.data)\n",
    "targets = torch.tensor(olivetti_faces.target)\n",
    "print(images.shape)\n",
    "print(targets.shape)"
   ]
  },
  {
   "cell_type": "code",
   "execution_count": 9,
   "metadata": {},
   "outputs": [
    {
     "name": "stdout",
     "output_type": "stream",
     "text": [
      "torch.Size([4096])\n",
      "tensor([0.6694, 0.6364, 0.6488,  ..., 0.0868, 0.0826, 0.0744])\n",
      "tensor(13, dtype=torch.int32)\n",
      "(tensor([0.6694, 0.6364, 0.6488,  ..., 0.0868, 0.0826, 0.0744]), tensor(13, dtype=torch.int32))\n"
     ]
    }
   ],
   "source": [
    "dataset = [(img,lbl) for img,lbl in zip(images, targets)]\n",
    "print(dataset[0][0].shape)  # 64*64=4096,torch.Size([4096])\n",
    "print(dataset[0][0])  # tensor(13, dtype=torch.int32)\n",
    "print(dataset[0][1])  # tensor(13, dtype=torch.int32)\n",
    "print(dataset[0])"
   ]
  },
  {
   "cell_type": "code",
   "execution_count": 10,
   "metadata": {},
   "outputs": [
    {
     "name": "stdout",
     "output_type": "stream",
     "text": [
      "torch.Size([10, 4096])\n",
      "torch.Size([10])\n"
     ]
    },
    {
     "data": {
      "text/plain": [
       "<torch.utils.data.dataloader.DataLoader at 0x264cec05bd0>"
      ]
     },
     "execution_count": 10,
     "metadata": {},
     "output_type": "execute_result"
    }
   ],
   "source": [
    "dataloader = torch.utils.data.DataLoader(dataset, batch_size=10, shuffle=True) # 创建数据加载器\n",
    "for data in dataloader:\n",
    "    print(data[0].shape)  # torch.Size([10, 4096])\n",
    "    print(data[1].shape)  # torch.Size([10])\n",
    "    break  # 只打印第一个批次的数据\n",
    "dataloader"
   ]
  },
  {
   "cell_type": "code",
   "execution_count": 11,
   "metadata": {},
   "outputs": [
    {
     "data": {
      "text/plain": [
       "device(type='cpu')"
      ]
     },
     "execution_count": 11,
     "metadata": {},
     "output_type": "execute_result"
    }
   ],
   "source": [
    "\n",
    "# device = torch.device('mps' if torch.backends.mps.is_available() else 'cpu')\n",
    "device = torch.device('cuda' if torch.cuda.is_available() else 'cpu')\n",
    "\n",
    "device"
   ]
  },
  {
   "cell_type": "code",
   "execution_count": 12,
   "metadata": {},
   "outputs": [
    {
     "name": "stdout",
     "output_type": "stream",
     "text": [
      "Sequential(\n",
      "  (0): Linear(in_features=4096, out_features=8192, bias=True)\n",
      "  (1): ReLU()\n",
      "  (2): Linear(in_features=8192, out_features=16384, bias=True)\n",
      "  (3): ReLU()\n",
      "  (4): Linear(in_features=16384, out_features=1024, bias=True)\n",
      "  (5): ReLU()\n",
      "  (6): Linear(in_features=1024, out_features=40, bias=True)\n",
      ")\n"
     ]
    }
   ],
   "source": [
    "\n",
    "# 多层神经网络模型\n",
    "model = nn.Sequential(\n",
    "    nn.Linear(4096, 8192),\n",
    "    nn.ReLU(),\n",
    "    nn.Linear(8192, 16384),\n",
    "    nn.ReLU(),\n",
    "    nn.Linear(16384, 1024),\n",
    "    nn.ReLU(),\n",
    "    nn.Linear(1024, 40)\n",
    ").to(device)  # 模型结构搬到GPU内存中\n",
    "\n",
    "print(model)\n"
   ]
  },
  {
   "cell_type": "code",
   "execution_count": 13,
   "metadata": {},
   "outputs": [],
   "source": [
    "criterion = nn.CrossEntropyLoss()\n",
    "optimizer = torch.optim.Adam(model.parameters(), lr=1e-3)"
   ]
  },
  {
   "cell_type": "code",
   "execution_count": null,
   "metadata": {},
   "outputs": [],
   "source": []
  },
  {
   "cell_type": "code",
   "execution_count": 14,
   "metadata": {},
   "outputs": [
    {
     "name": "stdout",
     "output_type": "stream",
     "text": [
      "epoch:1 loss:3.6936\n",
      "epoch:1 loss:53.2422\n",
      "epoch:1 loss:6.3499\n",
      "epoch:1 loss:3.9482\n",
      "epoch:1 loss:3.5944\n",
      "epoch:1 loss:4.2084\n",
      "epoch:1 loss:4.0305\n",
      "epoch:1 loss:3.6573\n",
      "epoch:1 loss:3.7282\n",
      "epoch:1 loss:3.7034\n",
      "epoch:1 loss:3.7343\n",
      "epoch:1 loss:3.7482\n",
      "epoch:1 loss:3.7256\n",
      "epoch:1 loss:3.7208\n",
      "epoch:1 loss:3.7487\n",
      "epoch:1 loss:3.6503\n",
      "epoch:1 loss:3.7102\n",
      "epoch:1 loss:3.7232\n",
      "epoch:1 loss:3.7949\n",
      "epoch:1 loss:3.6846\n",
      "epoch:1 loss:3.6961\n",
      "epoch:1 loss:3.7609\n",
      "epoch:1 loss:3.6787\n",
      "epoch:1 loss:3.7060\n",
      "epoch:1 loss:3.7115\n",
      "epoch:1 loss:3.7107\n",
      "epoch:1 loss:3.7009\n",
      "epoch:1 loss:3.6875\n",
      "epoch:1 loss:3.6989\n",
      "epoch:1 loss:3.6535\n",
      "epoch:1 loss:4.3703\n",
      "epoch:1 loss:3.7160\n",
      "epoch:1 loss:3.6892\n",
      "epoch:1 loss:3.7058\n",
      "epoch:1 loss:3.7095\n",
      "epoch:1 loss:3.6764\n",
      "epoch:1 loss:3.6807\n",
      "epoch:1 loss:3.7129\n",
      "epoch:1 loss:3.7083\n",
      "epoch:1 loss:3.6905\n",
      "epoch:2 loss:3.5799\n",
      "epoch:2 loss:3.7763\n",
      "epoch:2 loss:3.7217\n",
      "epoch:2 loss:3.8140\n",
      "epoch:2 loss:3.7777\n",
      "epoch:2 loss:3.6686\n",
      "epoch:2 loss:3.6841\n",
      "epoch:2 loss:3.7413\n",
      "epoch:2 loss:3.6752\n",
      "epoch:2 loss:3.7074\n",
      "epoch:2 loss:3.6867\n",
      "epoch:2 loss:3.7133\n",
      "epoch:2 loss:3.6652\n",
      "epoch:2 loss:3.6808\n",
      "epoch:2 loss:3.7162\n",
      "epoch:2 loss:3.7210\n",
      "epoch:2 loss:3.7075\n",
      "epoch:2 loss:3.6972\n",
      "epoch:2 loss:3.6822\n",
      "epoch:2 loss:3.6799\n",
      "epoch:2 loss:3.6772\n",
      "epoch:2 loss:3.7064\n",
      "epoch:2 loss:3.7145\n",
      "epoch:2 loss:3.7439\n",
      "epoch:2 loss:3.6996\n",
      "epoch:2 loss:3.7532\n",
      "epoch:2 loss:3.7154\n",
      "epoch:2 loss:3.7157\n",
      "epoch:2 loss:3.7275\n",
      "epoch:2 loss:3.6824\n",
      "epoch:2 loss:3.6756\n",
      "epoch:2 loss:3.7157\n",
      "epoch:2 loss:3.6808\n",
      "epoch:2 loss:3.7291\n",
      "epoch:2 loss:3.7118\n",
      "epoch:2 loss:3.6912\n",
      "epoch:2 loss:3.6780\n",
      "epoch:2 loss:3.6883\n",
      "epoch:2 loss:3.6976\n",
      "epoch:2 loss:3.7017\n",
      "epoch:3 loss:3.6922\n",
      "epoch:3 loss:3.7033\n",
      "epoch:3 loss:3.6795\n",
      "epoch:3 loss:3.6878\n",
      "epoch:3 loss:3.6876\n",
      "epoch:3 loss:3.6871\n",
      "epoch:3 loss:3.6823\n",
      "epoch:3 loss:3.6913\n",
      "epoch:3 loss:3.6868\n",
      "epoch:3 loss:3.6776\n",
      "epoch:3 loss:3.6927\n",
      "epoch:3 loss:3.6869\n",
      "epoch:3 loss:3.6919\n",
      "epoch:3 loss:3.6924\n",
      "epoch:3 loss:3.6913\n",
      "epoch:3 loss:3.6885\n",
      "epoch:3 loss:3.7003\n",
      "epoch:3 loss:3.6865\n",
      "epoch:3 loss:3.6782\n",
      "epoch:3 loss:3.6969\n",
      "epoch:3 loss:3.6970\n",
      "epoch:3 loss:3.6923\n",
      "epoch:3 loss:3.6945\n",
      "epoch:3 loss:3.6947\n",
      "epoch:3 loss:3.6918\n",
      "epoch:3 loss:3.6859\n",
      "epoch:3 loss:3.6890\n",
      "epoch:3 loss:3.6997\n",
      "epoch:3 loss:3.6919\n",
      "epoch:3 loss:3.6950\n",
      "epoch:3 loss:3.6886\n",
      "epoch:3 loss:3.6966\n",
      "epoch:3 loss:3.6948\n",
      "epoch:3 loss:3.6883\n",
      "epoch:3 loss:3.6869\n",
      "epoch:3 loss:3.6931\n",
      "epoch:3 loss:3.6872\n",
      "epoch:3 loss:3.6932\n",
      "epoch:3 loss:3.6899\n",
      "epoch:3 loss:3.6886\n",
      "epoch:4 loss:3.6863\n",
      "epoch:4 loss:3.6850\n",
      "epoch:4 loss:3.6907\n",
      "epoch:4 loss:3.6973\n",
      "epoch:4 loss:3.6840\n",
      "epoch:4 loss:3.6837\n",
      "epoch:4 loss:3.6928\n",
      "epoch:4 loss:3.6878\n",
      "epoch:4 loss:3.6865\n",
      "epoch:4 loss:3.6879\n",
      "epoch:4 loss:3.6902\n",
      "epoch:4 loss:3.6919\n",
      "epoch:4 loss:3.6937\n",
      "epoch:4 loss:3.6875\n",
      "epoch:4 loss:3.6856\n",
      "epoch:4 loss:3.6827\n",
      "epoch:4 loss:3.6967\n",
      "epoch:4 loss:3.6886\n",
      "epoch:4 loss:3.6893\n",
      "epoch:4 loss:3.6842\n",
      "epoch:4 loss:3.7005\n",
      "epoch:4 loss:3.6869\n",
      "epoch:4 loss:3.6926\n",
      "epoch:4 loss:3.6899\n",
      "epoch:4 loss:3.6900\n",
      "epoch:4 loss:3.6936\n",
      "epoch:4 loss:3.6797\n",
      "epoch:4 loss:3.6807\n",
      "epoch:4 loss:3.6849\n",
      "epoch:4 loss:3.6898\n",
      "epoch:4 loss:3.6920\n",
      "epoch:4 loss:3.6881\n",
      "epoch:4 loss:3.6882\n",
      "epoch:4 loss:3.6971\n",
      "epoch:4 loss:3.6943\n",
      "epoch:4 loss:3.6959\n",
      "epoch:4 loss:3.6934\n",
      "epoch:4 loss:3.6984\n",
      "epoch:4 loss:3.6891\n",
      "epoch:4 loss:3.6937\n",
      "epoch:5 loss:3.6912\n",
      "epoch:5 loss:3.6882\n",
      "epoch:5 loss:3.6868\n",
      "epoch:5 loss:3.6949\n",
      "epoch:5 loss:3.6935\n",
      "epoch:5 loss:3.6838\n",
      "epoch:5 loss:3.6844\n",
      "epoch:5 loss:3.6837\n",
      "epoch:5 loss:3.6868\n",
      "epoch:5 loss:3.6962\n",
      "epoch:5 loss:3.6864\n",
      "epoch:5 loss:3.6903\n",
      "epoch:5 loss:3.6889\n",
      "epoch:5 loss:3.6875\n",
      "epoch:5 loss:3.6906\n",
      "epoch:5 loss:3.6985\n",
      "epoch:5 loss:3.6898\n",
      "epoch:5 loss:3.6875\n",
      "epoch:5 loss:3.6949\n",
      "epoch:5 loss:3.6920\n",
      "epoch:5 loss:3.6893\n",
      "epoch:5 loss:3.6900\n",
      "epoch:5 loss:3.6943\n",
      "epoch:5 loss:3.6943\n",
      "epoch:5 loss:3.6910\n",
      "epoch:5 loss:3.6797\n",
      "epoch:5 loss:3.6969\n",
      "epoch:5 loss:3.6803\n",
      "epoch:5 loss:3.6922\n",
      "epoch:5 loss:3.6863\n",
      "epoch:5 loss:3.6890\n",
      "epoch:5 loss:3.6938\n",
      "epoch:5 loss:3.6896\n",
      "epoch:5 loss:3.6883\n",
      "epoch:5 loss:3.6843\n",
      "epoch:5 loss:3.6964\n",
      "epoch:5 loss:3.6815\n",
      "epoch:5 loss:3.6876\n",
      "epoch:5 loss:3.6887\n",
      "epoch:5 loss:3.6973\n",
      "epoch:6 loss:3.6978\n",
      "epoch:6 loss:3.6771\n",
      "epoch:6 loss:3.6853\n",
      "epoch:6 loss:3.6884\n",
      "epoch:6 loss:3.6884\n",
      "epoch:6 loss:3.6903\n",
      "epoch:6 loss:3.6892\n",
      "epoch:6 loss:3.6813\n",
      "epoch:6 loss:3.6979\n",
      "epoch:6 loss:3.6935\n",
      "epoch:6 loss:3.6939\n",
      "epoch:6 loss:3.6926\n",
      "epoch:6 loss:3.6967\n",
      "epoch:6 loss:3.6892\n",
      "epoch:6 loss:3.7022\n",
      "epoch:6 loss:3.6947\n",
      "epoch:6 loss:3.6926\n",
      "epoch:6 loss:3.6794\n",
      "epoch:6 loss:3.6909\n",
      "epoch:6 loss:3.6846\n",
      "epoch:6 loss:3.6883\n",
      "epoch:6 loss:3.6957\n",
      "epoch:6 loss:3.6932\n",
      "epoch:6 loss:3.6875\n",
      "epoch:6 loss:3.6869\n",
      "epoch:6 loss:3.6886\n",
      "epoch:6 loss:3.6925\n",
      "epoch:6 loss:3.6768\n",
      "epoch:6 loss:3.6860\n",
      "epoch:6 loss:3.6856\n",
      "epoch:6 loss:3.6935\n",
      "epoch:6 loss:3.6869\n",
      "epoch:6 loss:3.6911\n",
      "epoch:6 loss:3.6879\n",
      "epoch:6 loss:3.6966\n",
      "epoch:6 loss:3.6904\n",
      "epoch:6 loss:3.6827\n",
      "epoch:6 loss:3.6909\n",
      "epoch:6 loss:3.6873\n",
      "epoch:6 loss:3.6937\n",
      "epoch:7 loss:3.6985\n",
      "epoch:7 loss:3.6907\n",
      "epoch:7 loss:3.6900\n",
      "epoch:7 loss:3.6831\n",
      "epoch:7 loss:3.6867\n",
      "epoch:7 loss:3.6926\n",
      "epoch:7 loss:3.6879\n",
      "epoch:7 loss:3.6913\n",
      "epoch:7 loss:3.6842\n",
      "epoch:7 loss:3.6901\n",
      "epoch:7 loss:3.6926\n",
      "epoch:7 loss:3.6896\n",
      "epoch:7 loss:3.6873\n",
      "epoch:7 loss:3.6956\n",
      "epoch:7 loss:3.6938\n",
      "epoch:7 loss:3.6914\n",
      "epoch:7 loss:3.6859\n",
      "epoch:7 loss:3.6949\n",
      "epoch:7 loss:3.6921\n",
      "epoch:7 loss:3.6880\n",
      "epoch:7 loss:3.6892\n",
      "epoch:7 loss:3.6783\n",
      "epoch:7 loss:3.6879\n",
      "epoch:7 loss:3.6882\n",
      "epoch:7 loss:3.6954\n",
      "epoch:7 loss:3.6867\n",
      "epoch:7 loss:3.6867\n",
      "epoch:7 loss:3.6948\n",
      "epoch:7 loss:3.6919\n",
      "epoch:7 loss:3.6890\n",
      "epoch:7 loss:3.6901\n",
      "epoch:7 loss:3.6837\n",
      "epoch:7 loss:3.6874\n",
      "epoch:7 loss:3.6946\n",
      "epoch:7 loss:3.6946\n",
      "epoch:7 loss:3.6885\n",
      "epoch:7 loss:3.6851\n",
      "epoch:7 loss:3.6951\n",
      "epoch:7 loss:3.6859\n",
      "epoch:7 loss:3.6876\n",
      "epoch:8 loss:3.6868\n",
      "epoch:8 loss:3.6861\n",
      "epoch:8 loss:3.6891\n",
      "epoch:8 loss:3.6874\n",
      "epoch:8 loss:3.6906\n",
      "epoch:8 loss:3.6964\n",
      "epoch:8 loss:3.6874\n",
      "epoch:8 loss:3.6850\n",
      "epoch:8 loss:3.6948\n",
      "epoch:8 loss:3.6860\n",
      "epoch:8 loss:3.6941\n",
      "epoch:8 loss:3.6924\n",
      "epoch:8 loss:3.6969\n",
      "epoch:8 loss:3.6921\n",
      "epoch:8 loss:3.6799\n",
      "epoch:8 loss:3.6854\n",
      "epoch:8 loss:3.6907\n",
      "epoch:8 loss:3.6951\n",
      "epoch:8 loss:3.6899\n",
      "epoch:8 loss:3.6867\n",
      "epoch:8 loss:3.6907\n",
      "epoch:8 loss:3.6902\n",
      "epoch:8 loss:3.6885\n",
      "epoch:8 loss:3.6901\n",
      "epoch:8 loss:3.6846\n",
      "epoch:8 loss:3.6854\n",
      "epoch:8 loss:3.6940\n",
      "epoch:8 loss:3.7005\n",
      "epoch:8 loss:3.6937\n",
      "epoch:8 loss:3.6861\n",
      "epoch:8 loss:3.6876\n",
      "epoch:8 loss:3.6889\n",
      "epoch:8 loss:3.6873\n",
      "epoch:8 loss:3.6894\n",
      "epoch:8 loss:3.6971\n",
      "epoch:8 loss:3.6881\n",
      "epoch:8 loss:3.6808\n",
      "epoch:8 loss:3.6870\n",
      "epoch:8 loss:3.6922\n",
      "epoch:8 loss:3.6953\n",
      "epoch:9 loss:3.6848\n",
      "epoch:9 loss:3.6861\n",
      "epoch:9 loss:3.6842\n",
      "epoch:9 loss:3.6883\n",
      "epoch:9 loss:3.6978\n",
      "epoch:9 loss:3.6888\n",
      "epoch:9 loss:3.6858\n",
      "epoch:9 loss:3.6907\n",
      "epoch:9 loss:3.6851\n",
      "epoch:9 loss:3.6951\n",
      "epoch:9 loss:3.6882\n",
      "epoch:9 loss:3.6875\n",
      "epoch:9 loss:3.6845\n",
      "epoch:9 loss:3.6882\n",
      "epoch:9 loss:3.7003\n",
      "epoch:9 loss:3.6849\n",
      "epoch:9 loss:3.6899\n",
      "epoch:9 loss:3.6866\n",
      "epoch:9 loss:3.6924\n",
      "epoch:9 loss:3.6919\n",
      "epoch:9 loss:3.6862\n",
      "epoch:9 loss:3.6879\n",
      "epoch:9 loss:3.6930\n",
      "epoch:9 loss:3.6923\n",
      "epoch:9 loss:3.6860\n",
      "epoch:9 loss:3.6884\n",
      "epoch:9 loss:3.6899\n",
      "epoch:9 loss:3.6914\n",
      "epoch:9 loss:3.6908\n",
      "epoch:9 loss:3.6997\n",
      "epoch:9 loss:3.6877\n",
      "epoch:9 loss:3.6956\n",
      "epoch:9 loss:3.6858\n",
      "epoch:9 loss:3.6913\n",
      "epoch:9 loss:3.6951\n",
      "epoch:9 loss:3.6906\n",
      "epoch:9 loss:3.6886\n",
      "epoch:9 loss:3.6876\n",
      "epoch:9 loss:3.6854\n",
      "epoch:9 loss:3.6900\n",
      "epoch:10 loss:3.6866\n",
      "epoch:10 loss:3.6810\n",
      "epoch:10 loss:3.6816\n",
      "epoch:10 loss:3.6899\n",
      "epoch:10 loss:3.6915\n",
      "epoch:10 loss:3.6926\n",
      "epoch:10 loss:3.6847\n",
      "epoch:10 loss:3.6917\n",
      "epoch:10 loss:3.6873\n",
      "epoch:10 loss:3.6842\n",
      "epoch:10 loss:3.6862\n",
      "epoch:10 loss:3.6901\n",
      "epoch:10 loss:3.6930\n",
      "epoch:10 loss:3.6942\n",
      "epoch:10 loss:3.6941\n",
      "epoch:10 loss:3.6875\n",
      "epoch:10 loss:3.6876\n",
      "epoch:10 loss:3.7004\n",
      "epoch:10 loss:3.6900\n",
      "epoch:10 loss:3.6859\n",
      "epoch:10 loss:3.6911\n",
      "epoch:10 loss:3.6862\n",
      "epoch:10 loss:3.6911\n",
      "epoch:10 loss:3.6910\n",
      "epoch:10 loss:3.6931\n",
      "epoch:10 loss:3.6876\n",
      "epoch:10 loss:3.6862\n",
      "epoch:10 loss:3.6911\n",
      "epoch:10 loss:3.6938\n",
      "epoch:10 loss:3.6841\n",
      "epoch:10 loss:3.6847\n",
      "epoch:10 loss:3.6908\n",
      "epoch:10 loss:3.6888\n",
      "epoch:10 loss:3.6934\n",
      "epoch:10 loss:3.6873\n",
      "epoch:10 loss:3.6915\n",
      "epoch:10 loss:3.6956\n",
      "epoch:10 loss:3.7003\n",
      "epoch:10 loss:3.6847\n",
      "epoch:10 loss:3.6892\n"
     ]
    }
   ],
   "source": [
    "loss_hist = []\n",
    "for i in range(10):\n",
    "    for img,lbl in dataloader:\n",
    "        img,lbl = img.to(device), lbl.to(device)  # 数据和模型在同一个设备端\n",
    "        lbl = lbl.long()  # 将标签转换为 Long 类型 <<< 核心修复点\n",
    "        result = model(img)\n",
    "        loss = criterion(result, lbl)\n",
    "        loss.backward()\n",
    "        optimizer.step()\n",
    "        optimizer.zero_grad()\n",
    "\n",
    "        loss_hist.append(loss.item())\n",
    "        print(f'epoch:{i+1} loss:{loss.item():.4f}')"
   ]
  },
  {
   "cell_type": "code",
   "execution_count": 15,
   "metadata": {},
   "outputs": [
    {
     "data": {
      "image/png": "[encoded data removed]",
      "text/plain": [
       "<Figure size 640x480 with 1 Axes>"
      ]
     },
     "metadata": {},
     "output_type": "display_data"
    }
   ],
   "source": [
    "plt.plot(range(len(loss_hist)), loss_hist)\n",
    "plt.show()"
   ]
  },
  {
   "cell_type": "code",
   "execution_count": null,
   "metadata": {},
   "outputs": [],
   "source": []
  },
  {
   "cell_type": "code",
   "execution_count": null,
   "metadata": {},
   "outputs": [],
   "source": []
  },
  {
   "cell_type": "code",
   "execution_count": null,
   "metadata": {},
   "outputs": [],
   "source": []
  },
  {
   "cell_type": "code",
   "execution_count": null,
   "metadata": {},
   "outputs": [],
   "source": []
  },
  {
   "cell_type": "code",
   "execution_count": null,
   "metadata": {},
   "outputs": [],
   "source": []
  }
 ],
 "metadata": {
  "kernelspec": {
   "display_name": "Python 3",
   "language": "python",
   "name": "python3"
  },
  "language_info": {
   "codemirror_mode": {
    "name": "ipython",
    "version": 3
   },
   "file_extension": ".py",
   "mimetype": "text/x-python",
   "name": "python",
   "nbconvert_exporter": "python",
   "pygments_lexer": "ipython3",
   "version": "3.10.5"
  }
 },
 "nbformat": 4,
 "nbformat_minor": 2
}
