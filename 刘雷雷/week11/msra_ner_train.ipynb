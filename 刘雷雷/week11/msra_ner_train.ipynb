{
 "cells": [
  {
   "cell_type": "markdown",
   "metadata": {},
   "source": [
    "\n",
    "1. 参考课堂案例，使用指定的数据集，编写代码实现ner模型训练和推流。\n",
    "https://huggingface.co/datasets/doushabao4766/msra_ner_k_V3\n",
    "2. 完成预测结果的实体抽取。\n",
    "    输入：“双方确定了今后发展中美关系的指导方针。”\n",
    "    输出：[{\"entity\":\"ORG\",\"content\":\"中\"},{\"entity\":\"ORG\",\"content\":\"美\"}]\n",
    "3. 整理Dataset、Trainer、TrainingArgument、DataCollator、Evaluate 知识点，总结文档"
   ]
  },
  {
   "cell_type": "code",
   "execution_count": null,
   "metadata": {},
   "outputs": [],
   "source": [
    "import os\n",
    "from transformers import (\n",
    "    AutoModelForTokenClassification,\n",
    "    AutoTokenizer,\n",
    "    DataCollatorForTokenClassification,\n",
    ")\n",
    "from transformers import TrainingArguments, Trainer\n",
    "import evaluate\n",
    "from datasets import DownloadConfig, load_dataset\n",
    "import numpy as np\n",
    "current_dir = f\"/kaggle/\""
   ]
  },
  {
   "cell_type": "code",
   "execution_count": 1,
   "metadata": {},
   "outputs": [
    {
     "ename": "NameError",
     "evalue": "name 'load_dataset' is not defined",
     "output_type": "error",
     "traceback": [
      "\u001b[1;31m---------------------------------------------------------------------------\u001b[0m",
      "\u001b[1;31mNameError\u001b[0m                                 Traceback (most recent call last)",
      "Cell \u001b[1;32mIn[1], line 2\u001b[0m\n\u001b[0;32m      1\u001b[0m \u001b[38;5;66;03m# 加载hf中dataset\u001b[39;00m\n\u001b[1;32m----> 2\u001b[0m ds \u001b[38;5;241m=\u001b[39m load_dataset(\u001b[38;5;124m'\u001b[39m\u001b[38;5;124mmsra_ner\u001b[39m\u001b[38;5;124m'\u001b[39m)\n\u001b[0;32m      3\u001b[0m ds\n",
      "\u001b[1;31mNameError\u001b[0m: name 'load_dataset' is not defined"
     ]
    }
   ],
   "source": [
    "# 加载hf中dataset\n",
    "ds = load_dataset('msra_ner')\n",
    "ds"
   ]
  },
  {
   "cell_type": "code",
   "execution_count": null,
   "metadata": {},
   "outputs": [],
   "source": [
    "for items in ds['train']:\n",
    "    print(items['tokens'])\n",
    "    print(items['ner_tags'])\n",
    "    break"
   ]
  },
  {
   "cell_type": "code",
   "execution_count": null,
   "metadata": {},
   "outputs": [],
   "source": [
    "tokenizer = AutoTokenizer.from_pretrained(\"bert-base-chinese\")"
   ]
  },
  {
   "cell_type": "markdown",
   "metadata": {},
   "source": [
    "字体映射字典\n",
    "'O':0\n",
    "'B-PER':1\n",
    "'I-PER':2\n",
    "'B-LOC':3\n",
    "'I-LOC':4\n",
    "'B-ORG':5\n",
    "'I-ORG':6"
   ]
  },
  {
   "cell_type": "code",
   "execution_count": null,
   "metadata": {},
   "outputs": [],
   "source": [
    "# 验证tag标签数量\n",
    "tags_id = set()\n",
    "for items in ds[\"train\"]:\n",
    "    tags_id.update(items[\"ner_tags\"])\n",
    "\n",
    "tags_id"
   ]
  },
  {
   "cell_type": "code",
   "execution_count": null,
   "metadata": {},
   "outputs": [],
   "source": [
    "# entity_index\n",
    "entites = [\"0\"] + list({\"PER\", \"LOC\", \"ORG\"})\n",
    "tags = [\"0\"]\n",
    "\n",
    "for entity in entites[1:]:\n",
    "    tags.append(\"B-\" + entity.upper())\n",
    "    tags.append(\"I-\" + entity.upper())\n",
    "\n",
    "entity_index = {entity: i for i, entity in enumerate(entites)}\n",
    "entity_index\n",
    "tags"
   ]
  },
  {
   "cell_type": "code",
   "execution_count": null,
   "metadata": {},
   "outputs": [],
   "source": [
    "def data_input_proc(item):\n",
    "    # 文本已经分为字符,且tag索引也已经提供\n",
    "    # 数据预处理\n",
    "    # 导入已经拆分为字符的文本列表,需要设置参数is_split_into_words=True\n",
    "    input_data = tokenizer(\n",
    "        item[\"tokens\"],\n",
    "        is_split_into_words=True,\n",
    "        truncation=True,\n",
    "        add_special_tokens=False,\n",
    "        max_length=512,\n",
    "        return_offsets_mapping=True,\n",
    "    )\n",
    "\n",
    "    labels = [lbl[:512] for lbl in item[\"ner_tags\"]]\n",
    "    # 将标签转换为索引\n",
    "    input_data[\"labels\"] = labels\n",
    "    return input_data\n"
   ]
  },
  {
   "cell_type": "code",
   "execution_count": null,
   "metadata": {},
   "outputs": [],
   "source": [
    "ds1 = ds.map(data_input_proc, batched=True)\n",
    "\n",
    "ds1.set_format(\n",
    "    type=\"torch\",\n",
    "    columns=[\"input_ids\", \"token_type_ids\", \"attention_mask\", \"labels\"],\n",
    ")"
   ]
  },
  {
   "cell_type": "code",
   "execution_count": null,
   "metadata": {},
   "outputs": [],
   "source": [
    "for item in ds1[\"train\"]:\n",
    "    print(item)\n",
    "    break"
   ]
  },
  {
   "cell_type": "code",
   "execution_count": null,
   "metadata": {},
   "outputs": [],
   "source": [
    "# 构建模型对象\n",
    "id2lbl = {i: tag for i, tag in enumerate(tags)}\n",
    "lbl2id = {tag: i for i, tag in enumerate(tags)}\n",
    "model = AutoModelForTokenClassification.from_pretrained(\n",
    "    \"bert-base-chinese\",\n",
    "    num_labels=len(tags),\n",
    "    id2label=id2lbl,\n",
    "    label2id=lbl2id,\n",
    ")\n",
    "model"
   ]
  },
  {
   "cell_type": "code",
   "execution_count": null,
   "metadata": {},
   "outputs": [],
   "source": [
    "# 模型训练 TrainingArguments\n",
    "args = TrainingArguments(\n",
    "    output_dir=\"msra_ner_train\",  # 模型保存路径\n",
    "    num_train_epochs=3,  # 训练轮数\n",
    "    save_safetensors=False,  # 设置false 保存文件可以通过torch.load()加载\n",
    "    per_device_train_batch_size=32,  # 训练batch_size\n",
    "    per_device_eval_batch_size=32,  # 验证batch_size\n",
    "    report_to=\"tensorboard\",  # 日志记录方式\n",
    "    eval_strategy=\"epoch\",  # 验证策略\n",
    ")"
   ]
  },
  {
   "cell_type": "code",
   "execution_count": null,
   "metadata": {},
   "outputs": [],
   "source": [
    "# 模型训练 Trainer\n",
    "def compute_metric(result):\n",
    "    # 获取评估对象\n",
    "    seqeval = evaluate.load(\"seqeval\")\n",
    "    predicts, labels = result\n",
    "    predicts = np.argmax(predicts, axis=2)\n",
    "\n",
    "    # 准备评估数据\n",
    "    predicts = [\n",
    "        [tags[p] for p, l in zip(ps, ls) if l != -100]\n",
    "        for ps, ls in zip(predicts, labels)\n",
    "    ]\n",
    "    labels = [\n",
    "        [tags[l] for p, l in zip(ps, ls) if l != -100]\n",
    "        for ps, ls in zip(predicts, labels)\n",
    "    ]\n",
    "    # 计算评估指标\n",
    "    results = seqeval.compute(predictions=predicts, references=labels)\n",
    "\n",
    "    return results"
   ]
  },
  {
   "cell_type": "code",
   "execution_count": null,
   "metadata": {},
   "outputs": [],
   "source": [
    "data_collator = DataCollatorForTokenClassification(tokenizer=tokenizer, padding=True)\n",
    "# 实例化Trainer\n",
    "trainer = Trainer(\n",
    "    model=model,\n",
    "    args=args,\n",
    "    train_dataset=ds1[\"train\"],\n",
    "    eval_dataset=ds1[\"test\"],\n",
    "    data_collator=data_collator,\n",
    "    compute_metrics=compute_metric,\n",
    ")"
   ]
  },
  {
   "cell_type": "code",
   "execution_count": null,
   "metadata": {},
   "outputs": [],
   "source": [
    "# 模型训练\n",
    "trainer.train()"
   ]
  },
  {
   "cell_type": "code",
   "execution_count": null,
   "metadata": {},
   "outputs": [],
   "source": [
    "# 模型推理\n",
    "from transformers import pipeline\n",
    "pipeline = pipeline('token-classification', \"msra_ner_train/checkpoint-2112\")"
   ]
  },
  {
   "cell_type": "code",
   "execution_count": null,
   "metadata": {},
   "outputs": [],
   "source": [
    "pipeline(\"双方确定了今后发展中美关系的指导方针\")"
   ]
  }
 ],
 "metadata": {
  "kernelspec": {
   "display_name": "py312",
   "language": "python",
   "name": "python3"
  },
  "language_info": {
   "codemirror_mode": {
    "name": "ipython",
    "version": 3
   },
   "file_extension": ".py",
   "mimetype": "text/x-python",
   "name": "python",
   "nbconvert_exporter": "python",
   "pygments_lexer": "ipython3",
   "version": "3.12.9"
  }
 },
 "nbformat": 4,
 "nbformat_minor": 2
}
