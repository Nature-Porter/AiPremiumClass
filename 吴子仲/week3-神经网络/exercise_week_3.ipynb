{
 "cells": [
  {
   "cell_type": "code",
   "execution_count": 3,
   "metadata": {},
   "outputs": [],
   "source": [
    "import torch\n",
    "from torchvision.transforms.v2 import ToTensor\n",
    "import torch.nn as nn\n",
    "import torch.optim as optim\n",
    "from torch.utils.data import DataLoader\n",
    "from torchvision.datasets import KMNIST"
   ]
  },
  {
   "cell_type": "code",
   "execution_count": 62,
   "metadata": {},
   "outputs": [
    {
     "name": "stdout",
     "output_type": "stream",
     "text": [
      "epoch: 0, loss: 2.059077739715576\n",
      "epoch: 1, loss: 1.5281038284301758\n",
      "epoch: 2, loss: 1.2852203845977783\n",
      "epoch: 3, loss: 0.8322193026542664\n",
      "epoch: 4, loss: 0.6077675819396973\n",
      "epoch: 5, loss: 0.8588521480560303\n",
      "epoch: 6, loss: 0.5500332117080688\n",
      "epoch: 7, loss: 0.5008435845375061\n",
      "epoch: 8, loss: 0.274258017539978\n",
      "epoch: 9, loss: 0.43217793107032776\n",
      "epoch: 10, loss: 0.4323316812515259\n",
      "epoch: 11, loss: 0.37454017996788025\n",
      "epoch: 12, loss: 0.25164636969566345\n",
      "epoch: 13, loss: 0.35695502161979675\n",
      "epoch: 14, loss: 0.31820449233055115\n",
      "epoch: 15, loss: 0.2749771177768707\n",
      "epoch: 16, loss: 0.4822560250759125\n",
      "epoch: 17, loss: 0.2647589147090912\n",
      "epoch: 18, loss: 0.16048145294189453\n",
      "epoch: 19, loss: 0.15815521776676178\n"
     ]
    }
   ],
   "source": [
    "# 定义超参数\n",
    "LR = 1e-1\n",
    "epochs = 20\n",
    "BATCH_SIZE = 100\n",
    "\n",
    "# 数据集加载\n",
    "train_data = KMNIST(root=\"./Kuzushiji_data\", train=True, download=True, transform=ToTensor())\n",
    "test_data = KMNIST(root=\"./Kuzushiji_data\", train=False, download=True, transform=ToTensor())\n",
    "\n",
    "# type_list = []\n",
    "# for data in train_data:\n",
    "#     type_list.append(data[1])\n",
    "# print(type_list)\n",
    "\n",
    "# 数据打包\n",
    "train_dl = DataLoader(train_data, batch_size=BATCH_SIZE, shuffle=True)\n",
    "\n",
    "# 定义模型\n",
    "model = nn.Sequential(\n",
    "    nn.Linear(784, 64),\n",
    "    nn.Sigmoid(),\n",
    "    nn.Linear(64, 32),\n",
    "    nn.Sigmoid(),\n",
    "    nn.Linear(32, 10),\n",
    ")\n",
    "\n",
    "# 损失函数&优化器\n",
    "loss_fn = nn.CrossEntropyLoss()\n",
    "optimizer = torch.optim.SGD(model.parameters(), lr=LR)\n",
    "\n",
    "# 训练数据\n",
    "for epoch in range(epochs):\n",
    "    for data, target in train_dl:\n",
    "        # 前向运算\n",
    "        output = model(data.reshape(-1, 784))\n",
    "        # 计算损失\n",
    "        loss = loss_fn(output, target)\n",
    "        # 反向传播\n",
    "        optimizer.zero_grad() # 参数梯度清零\n",
    "        loss.backward()\n",
    "        optimizer.step()\n",
    "    print(f'epoch: {epoch}, loss: {loss}')"
   ]
  },
  {
   "cell_type": "code",
   "execution_count": 63,
   "metadata": {},
   "outputs": [
    {
     "name": "stdout",
     "output_type": "stream",
     "text": [
      "acc: 82.19999999999999%\n"
     ]
    }
   ],
   "source": [
    "test_dl = DataLoader(test_data, batch_size=BATCH_SIZE)\n",
    "\n",
    "correct = 0\n",
    "total = 0\n",
    "\n",
    "with torch.no_grad():\n",
    "    for data, target in test_dl:\n",
    "        output = model(data.reshape(-1, 784))\n",
    "        _,predict = torch.max(output, 1)\n",
    "        total += target.size(0)\n",
    "        correct += (predict == target).sum().item()\n",
    "print(f'acc: {correct/total*100}%')"
   ]
  }
 ],
 "metadata": {
  "kernelspec": {
   "display_name": "py312",
   "language": "python",
   "name": "python3"
  },
  "language_info": {
   "codemirror_mode": {
    "name": "ipython",
    "version": 3
   },
   "file_extension": ".py",
   "mimetype": "text/x-python",
   "name": "python",
   "nbconvert_exporter": "python",
   "pygments_lexer": "ipython3",
   "version": "3.12.9"
  }
 },
 "nbformat": 4,
 "nbformat_minor": 2
}
