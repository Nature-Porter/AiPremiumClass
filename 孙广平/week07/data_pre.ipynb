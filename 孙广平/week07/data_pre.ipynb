{
 "cells": [
  {
   "cell_type": "code",
   "execution_count": 2,
   "id": "214c0cf5",
   "metadata": {},
   "outputs": [
    {
     "name": "stderr",
     "output_type": "stream",
     "text": [
      "c:\\Users\\sgp\\miniconda3\\envs\\py312\\Lib\\site-packages\\tqdm\\auto.py:21: TqdmWarning: IProgress not found. Please update jupyter and ipywidgets. See https://ipywidgets.readthedocs.io/en/stable/user_install.html\n",
      "  from .autonotebook import tqdm as notebook_tqdm\n"
     ]
    },
    {
     "name": "stdout",
     "output_type": "stream",
     "text": [
      "Path to dataset files: C:\\Users\\sgp\\.cache\\kagglehub\\datasets\\utmhikari\\doubanmovieshortcomments\\versions\\7\n"
     ]
    }
   ],
   "source": [
    "import kagglehub\n",
    "\n",
    "# Download latest version\n",
    "path = kagglehub.dataset_download(\"utmhikari/doubanmovieshortcomments\")\n",
    "\n",
    "print(\"Path to dataset files:\", path)"
   ]
  },
  {
   "cell_type": "code",
   "execution_count": 3,
   "id": "89c54e6f",
   "metadata": {},
   "outputs": [],
   "source": [
    "import pandas as pd\n",
    "import re\n",
    "import jieba\n",
    "import hanlp\n",
    "import matplotlib.pyplot as plt\n",
    "import torch\n",
    "import torch.nn as nn\n",
    "import numpy as np\n",
    "from torch.nn.utils.rnn import pad_sequence"
   ]
  },
  {
   "cell_type": "code",
   "execution_count": 21,
   "id": "f1afe664",
   "metadata": {},
   "outputs": [
    {
     "data": {
      "text/html": [
       "<div>\n",
       "<style scoped>\n",
       "    .dataframe tbody tr th:only-of-type {\n",
       "        vertical-align: middle;\n",
       "    }\n",
       "\n",
       "    .dataframe tbody tr th {\n",
       "        vertical-align: top;\n",
       "    }\n",
       "\n",
       "    .dataframe thead th {\n",
       "        text-align: right;\n",
       "    }\n",
       "</style>\n",
       "<table border=\"1\" class=\"dataframe\">\n",
       "  <thead>\n",
       "    <tr style=\"text-align: right;\">\n",
       "      <th></th>\n",
       "      <th>ID</th>\n",
       "      <th>Movie_Name_EN</th>\n",
       "      <th>Movie_Name_CN</th>\n",
       "      <th>Crawl_Date</th>\n",
       "      <th>Number</th>\n",
       "      <th>Username</th>\n",
       "      <th>Date</th>\n",
       "      <th>Star</th>\n",
       "      <th>Comment</th>\n",
       "      <th>Like</th>\n",
       "    </tr>\n",
       "  </thead>\n",
       "  <tbody>\n",
       "    <tr>\n",
       "      <th>0</th>\n",
       "      <td>0</td>\n",
       "      <td>Avengers Age of Ultron</td>\n",
       "      <td>复仇者联盟2</td>\n",
       "      <td>2017-01-22</td>\n",
       "      <td>1</td>\n",
       "      <td>然潘</td>\n",
       "      <td>2015-05-13</td>\n",
       "      <td>3</td>\n",
       "      <td>连奥创都知道整容要去韩国。</td>\n",
       "      <td>2404</td>\n",
       "    </tr>\n",
       "    <tr>\n",
       "      <th>1</th>\n",
       "      <td>1</td>\n",
       "      <td>Avengers Age of Ultron</td>\n",
       "      <td>复仇者联盟2</td>\n",
       "      <td>2017-01-22</td>\n",
       "      <td>2</td>\n",
       "      <td>更深的白色</td>\n",
       "      <td>2015-04-24</td>\n",
       "      <td>2</td>\n",
       "      <td>非常失望，剧本完全敷衍了事，主线剧情没突破大家可以理解，可所有的人物都缺乏动机，正邪之间、...</td>\n",
       "      <td>1231</td>\n",
       "    </tr>\n",
       "    <tr>\n",
       "      <th>2</th>\n",
       "      <td>2</td>\n",
       "      <td>Avengers Age of Ultron</td>\n",
       "      <td>复仇者联盟2</td>\n",
       "      <td>2017-01-22</td>\n",
       "      <td>3</td>\n",
       "      <td>有意识的贱民</td>\n",
       "      <td>2015-04-26</td>\n",
       "      <td>2</td>\n",
       "      <td>2015年度最失望作品。以为面面俱到，实则画蛇添足；以为主题深刻，实则老调重弹；以为推陈出...</td>\n",
       "      <td>1052</td>\n",
       "    </tr>\n",
       "    <tr>\n",
       "      <th>3</th>\n",
       "      <td>3</td>\n",
       "      <td>Avengers Age of Ultron</td>\n",
       "      <td>复仇者联盟2</td>\n",
       "      <td>2017-01-22</td>\n",
       "      <td>4</td>\n",
       "      <td>不老的李大爷耶</td>\n",
       "      <td>2015-04-23</td>\n",
       "      <td>4</td>\n",
       "      <td>《铁人2》中勾引钢铁侠，《妇联1》中勾引鹰眼，《美队2》中勾引美国队长，在《妇联2》中终于...</td>\n",
       "      <td>1045</td>\n",
       "    </tr>\n",
       "    <tr>\n",
       "      <th>4</th>\n",
       "      <td>4</td>\n",
       "      <td>Avengers Age of Ultron</td>\n",
       "      <td>复仇者联盟2</td>\n",
       "      <td>2017-01-22</td>\n",
       "      <td>5</td>\n",
       "      <td>ZephyrO</td>\n",
       "      <td>2015-04-22</td>\n",
       "      <td>2</td>\n",
       "      <td>虽然从头打到尾，但是真的很无聊啊。</td>\n",
       "      <td>723</td>\n",
       "    </tr>\n",
       "  </tbody>\n",
       "</table>\n",
       "</div>"
      ],
      "text/plain": [
       "   ID           Movie_Name_EN Movie_Name_CN  Crawl_Date  Number Username  \\\n",
       "0   0  Avengers Age of Ultron        复仇者联盟2  2017-01-22       1       然潘   \n",
       "1   1  Avengers Age of Ultron        复仇者联盟2  2017-01-22       2    更深的白色   \n",
       "2   2  Avengers Age of Ultron        复仇者联盟2  2017-01-22       3   有意识的贱民   \n",
       "3   3  Avengers Age of Ultron        复仇者联盟2  2017-01-22       4  不老的李大爷耶   \n",
       "4   4  Avengers Age of Ultron        复仇者联盟2  2017-01-22       5  ZephyrO   \n",
       "\n",
       "         Date  Star                                            Comment  Like  \n",
       "0  2015-05-13     3                                      连奥创都知道整容要去韩国。  2404  \n",
       "1  2015-04-24     2   非常失望，剧本完全敷衍了事，主线剧情没突破大家可以理解，可所有的人物都缺乏动机，正邪之间、...  1231  \n",
       "2  2015-04-26     2   2015年度最失望作品。以为面面俱到，实则画蛇添足；以为主题深刻，实则老调重弹；以为推陈出...  1052  \n",
       "3  2015-04-23     4   《铁人2》中勾引钢铁侠，《妇联1》中勾引鹰眼，《美队2》中勾引美国队长，在《妇联2》中终于...  1045  \n",
       "4  2015-04-22     2                                  虽然从头打到尾，但是真的很无聊啊。   723  "
      ]
     },
     "execution_count": 21,
     "metadata": {},
     "output_type": "execute_result"
    }
   ],
   "source": [
    "df = pd.read_csv(path + \"/DMSC.csv\")\n",
    "df.head()"
   ]
  },
  {
   "cell_type": "code",
   "execution_count": 22,
   "id": "061396ba",
   "metadata": {},
   "outputs": [
    {
     "data": {
      "text/plain": [
       "ID                 0\n",
       "Movie_Name_EN      0\n",
       "Movie_Name_CN      0\n",
       "Crawl_Date         0\n",
       "Number             0\n",
       "Username         173\n",
       "Date               0\n",
       "Star               0\n",
       "Comment            0\n",
       "Like               0\n",
       "dtype: int64"
      ]
     },
     "execution_count": 22,
     "metadata": {},
     "output_type": "execute_result"
    }
   ],
   "source": [
    "df.isnull().sum()"
   ]
  },
  {
   "cell_type": "code",
   "execution_count": 23,
   "id": "7c5fd062",
   "metadata": {},
   "outputs": [],
   "source": [
    "# 数据预处理\n",
    "def data_preprocess(df):\n",
    "    df = df[['Star','Comment']].copy()\n",
    "    df['label'] = df['Star'].apply(lambda x:1 if x>=4 else 0 if x<=2 else -1)\n",
    "    df = df[df['label'] != -1].reset_index(drop=True)\n",
    "    df.drop(columns=['Star'], inplace=True)\n",
    "\n",
    "    return df\n"
   ]
  },
  {
   "cell_type": "code",
   "execution_count": 24,
   "id": "3ec32dea",
   "metadata": {},
   "outputs": [
    {
     "data": {
      "text/plain": [
       "label\n",
       "1    1279892\n",
       "0     370605\n",
       "Name: count, dtype: int64"
      ]
     },
     "execution_count": 24,
     "metadata": {},
     "output_type": "execute_result"
    }
   ],
   "source": [
    "# 统计数据分布\n",
    "df = data_preprocess(df)\n",
    "df['label'] = df['label'].astype(int)\n",
    "df['label'].value_counts()\n"
   ]
  },
  {
   "cell_type": "code",
   "execution_count": 25,
   "id": "397d4be9",
   "metadata": {},
   "outputs": [],
   "source": [
    "# 文本处理\n",
    "\n",
    "remove_punctuation = re.compile(r'[^\\w\\s]')\n",
    "remove_digits = re.compile(r'\\d+')\n",
    "\n",
    "stop_words = set()\n",
    "with open(\"./data/stopwords.txt\", 'r', encoding='utf-8') as f:\n",
    "        for line in f:\n",
    "            stop_words.add(line.strip())\n",
    "\n",
    "\n",
    "def text_cleaning(text, tokenizer):\n",
    "    text = remove_punctuation.sub('', text)\n",
    "    text = remove_digits.sub('', text)\n",
    "\n",
    "    if tokenizer == 'jieba':\n",
    "        words = jieba.lcut(text)\n",
    "    elif tokenizer == 'hanlp':\n",
    "        hanlp_preprocessor = hanlp.pipeline('tok/fine')\n",
    "        words = hanlp_preprocessor(text)\n",
    "    else:\n",
    "        raise ValueError(\"Unsupported tokenizer\")\n",
    "\n",
    "    # 去除停用词\n",
    "    words = [word for word in words if word not in stop_words]\n",
    "\n",
    "    return words"
   ]
  },
  {
   "cell_type": "code",
   "execution_count": 26,
   "id": "0d31c603",
   "metadata": {},
   "outputs": [],
   "source": [
    "# 对df['Comment']用 hanlp 进行文本分词处理\n",
    "# df['Comment'] = df['Comment'].apply(lambda x: text_cleaning(x, 'hanlp'))\n",
    "# df.head()"
   ]
  },
  {
   "cell_type": "code",
   "execution_count": 27,
   "id": "4886c2cb",
   "metadata": {},
   "outputs": [
    {
     "data": {
      "text/html": [
       "<div>\n",
       "<style scoped>\n",
       "    .dataframe tbody tr th:only-of-type {\n",
       "        vertical-align: middle;\n",
       "    }\n",
       "\n",
       "    .dataframe tbody tr th {\n",
       "        vertical-align: top;\n",
       "    }\n",
       "\n",
       "    .dataframe thead th {\n",
       "        text-align: right;\n",
       "    }\n",
       "</style>\n",
       "<table border=\"1\" class=\"dataframe\">\n",
       "  <thead>\n",
       "    <tr style=\"text-align: right;\">\n",
       "      <th></th>\n",
       "      <th>Comment</th>\n",
       "      <th>label</th>\n",
       "    </tr>\n",
       "  </thead>\n",
       "  <tbody>\n",
       "    <tr>\n",
       "      <th>0</th>\n",
       "      <td>[ , 失望, 剧本, 敷衍了事, 主线, 剧情, 突破, 理解, 人物, 缺乏, 动机, ...</td>\n",
       "      <td>0</td>\n",
       "    </tr>\n",
       "    <tr>\n",
       "      <th>1</th>\n",
       "      <td>[ , 年度, 失望, 作品, 面面俱到, 实则, 画蛇添足, 主题深刻, 实则, 老调重弹...</td>\n",
       "      <td>0</td>\n",
       "    </tr>\n",
       "    <tr>\n",
       "      <th>2</th>\n",
       "      <td>[ , 铁人, 中, 勾引, 钢铁, 侠, 妇联, 中, 勾引, 鹰眼, 美队, 中, 勾引...</td>\n",
       "      <td>1</td>\n",
       "    </tr>\n",
       "    <tr>\n",
       "      <th>3</th>\n",
       "      <td>[ , 打到, 尾, 真的, 无聊]</td>\n",
       "      <td>0</td>\n",
       "    </tr>\n",
       "    <tr>\n",
       "      <th>4</th>\n",
       "      <td>[ , 一颗, 彩蛋, 降一星, 外加, 漫威, 编剧, 有心无力, 复仇者, 联盟, 只能...</td>\n",
       "      <td>0</td>\n",
       "    </tr>\n",
       "  </tbody>\n",
       "</table>\n",
       "</div>"
      ],
      "text/plain": [
       "                                             Comment  label\n",
       "0  [ , 失望, 剧本, 敷衍了事, 主线, 剧情, 突破, 理解, 人物, 缺乏, 动机, ...      0\n",
       "1  [ , 年度, 失望, 作品, 面面俱到, 实则, 画蛇添足, 主题深刻, 实则, 老调重弹...      0\n",
       "2  [ , 铁人, 中, 勾引, 钢铁, 侠, 妇联, 中, 勾引, 鹰眼, 美队, 中, 勾引...      1\n",
       "3                                 [ , 打到, 尾, 真的, 无聊]      0\n",
       "4  [ , 一颗, 彩蛋, 降一星, 外加, 漫威, 编剧, 有心无力, 复仇者, 联盟, 只能...      0"
      ]
     },
     "execution_count": 27,
     "metadata": {},
     "output_type": "execute_result"
    }
   ],
   "source": [
    "# 对df['Comment']用 jeiba 进行文本分词处理\n",
    "df['Comment'] = df['Comment'].apply(lambda x: text_cleaning(x, 'jieba'))\n",
    "df.head()"
   ]
  },
  {
   "cell_type": "code",
   "execution_count": 28,
   "id": "5029a030",
   "metadata": {},
   "outputs": [
    {
     "data": {
      "image/png": "[encoded data removed]",
      "text/plain": [
       "<Figure size 640x480 with 1 Axes>"
      ]
     },
     "metadata": {},
     "output_type": "display_data"
    }
   ],
   "source": [
    "# 统计comment不同label对应的每一列词语的数量，绘制箱型图\n",
    "import matplotlib.pyplot as plt\n",
    "import seaborn as sns\n",
    "\n",
    "def plot_boxplot(df):\n",
    "    # 统计不同label对应的每一列词语的数量\n",
    "    df['word_count'] = df['Comment'].apply(lambda x: len(x))\n",
    "    sns.boxplot(x='label', y='word_count', data=df)\n",
    "    plt.title('Word Count Distribution by Label')\n",
    "    plt.xlabel('Label')\n",
    "    plt.ylabel('Word Count')\n",
    "    plt.show()\n",
    "\n",
    "plot_boxplot(df)\n"
   ]
  },
  {
   "cell_type": "code",
   "execution_count": 29,
   "id": "4c0acfc0",
   "metadata": {},
   "outputs": [
    {
     "data": {
      "text/plain": [
       "label\n",
       "1    548362\n",
       "0    140176\n",
       "Name: count, dtype: int64"
      ]
     },
     "execution_count": 29,
     "metadata": {},
     "output_type": "execute_result"
    }
   ],
   "source": [
    "# 取词数在[10,60]的comment\n",
    "df = df[(df['word_count'] >= 10) & (df['word_count'] <= 60)].reset_index(drop=True)\n",
    "df['label'].value_counts()"
   ]
  },
  {
   "cell_type": "code",
   "execution_count": 30,
   "id": "3fe11296",
   "metadata": {},
   "outputs": [
    {
     "data": {
      "text/plain": [
       "(array([61954.,     0., 53790.,     0., 47506.,     0., 41987.,     0.,\n",
       "        37709.,     0., 33539.,     0., 30900.,     0., 27784.,     0.,\n",
       "        25543.,     0., 23053.,     0., 21226.,     0., 19734.,     0.,\n",
       "        18457.,     0., 16887.,     0., 15818.,     0., 14614.,     0.,\n",
       "        13992.,     0., 12955.,     0., 12475.,     0., 11700.,     0.,\n",
       "        11039.,     0., 10684.,     0., 10338.,     0., 10407.,     0.,\n",
       "         9984.,     0.,  9660.,     0.,  9654.,     0.,  9036.,     0.,\n",
       "         8984.,     0.,  8291.,     0.,  7607.,     0.,  6727.,     0.,\n",
       "         6155.,     0.,  5211.,     0.,  4442.,     0.,  3695.,     0.,\n",
       "         3040.,     0.,  2475.,     0.,  1929.,     0.,  1594.,     0.,\n",
       "         1336.,     0.,   983.,     0.,   794.,     0.,   682.,     0.,\n",
       "          538.,     0.,   458.,     0.,   338.,     0.,   284.,     0.,\n",
       "          228.,     0.,   182.,   140.]),\n",
       " array([10. , 10.5, 11. , 11.5, 12. , 12.5, 13. , 13.5, 14. , 14.5, 15. ,\n",
       "        15.5, 16. , 16.5, 17. , 17.5, 18. , 18.5, 19. , 19.5, 20. , 20.5,\n",
       "        21. , 21.5, 22. , 22.5, 23. , 23.5, 24. , 24.5, 25. , 25.5, 26. ,\n",
       "        26.5, 27. , 27.5, 28. , 28.5, 29. , 29.5, 30. , 30.5, 31. , 31.5,\n",
       "        32. , 32.5, 33. , 33.5, 34. , 34.5, 35. , 35.5, 36. , 36.5, 37. ,\n",
       "        37.5, 38. , 38.5, 39. , 39.5, 40. , 40.5, 41. , 41.5, 42. , 42.5,\n",
       "        43. , 43.5, 44. , 44.5, 45. , 45.5, 46. , 46.5, 47. , 47.5, 48. ,\n",
       "        48.5, 49. , 49.5, 50. , 50.5, 51. , 51.5, 52. , 52.5, 53. , 53.5,\n",
       "        54. , 54.5, 55. , 55.5, 56. , 56.5, 57. , 57.5, 58. , 58.5, 59. ,\n",
       "        59.5, 60. ]),\n",
       " <BarContainer object of 100 artists>)"
      ]
     },
     "execution_count": 30,
     "metadata": {},
     "output_type": "execute_result"
    },
    {
     "data": {
      "image/png": "[encoded data removed]",
      "text/plain": [
       "<Figure size 640x480 with 1 Axes>"
      ]
     },
     "metadata": {},
     "output_type": "display_data"
    }
   ],
   "source": [
    "plt.hist(df['word_count'], bins=100, color='blue', alpha=0.7)"
   ]
  },
  {
   "cell_type": "code",
   "execution_count": 31,
   "id": "98bea7c5",
   "metadata": {},
   "outputs": [
    {
     "name": "stdout",
     "output_type": "stream",
     "text": [
      "Vocabulary Size: 276218\n",
      "Vocabulary: [('PAD', 0), ('UNK', 1), ('盗走', 2), ('纯用', 3), ('书架子', 4), ('手触', 5), ('城起', 6), ('残带', 7), ('小气鬼', 8), ('接地', 9)]\n"
     ]
    }
   ],
   "source": [
    "# 构建词汇表，加入处理OOV（词表外词汇）\n",
    "word2idx = {}\n",
    "def build_from_df(df):\n",
    "    vocab = set()\n",
    "    for comment in df['Comment']:\n",
    "        vocab.update(comment)\n",
    "\n",
    "    vocab = list(vocab - {'PAD', 'UNK'})  # 确保不会重复\n",
    "    vocab = ['PAD', 'UNK'] + vocab        # 手动保证 PAD 是 index 0，UNK 是 1\n",
    "    word2idx = {word: idx for idx, word in enumerate(vocab)}\n",
    "    return word2idx\n",
    "\n",
    "\n",
    "word2idx = build_from_df(df)\n",
    "# 词汇表大小\n",
    "vocab_size = len(word2idx)\n",
    "print(\"Vocabulary Size:\", vocab_size)\n",
    "# 词汇表前10个词和对应的索引\n",
    "print(\"Vocabulary:\", list(word2idx.items())[:10])\n"
   ]
  },
  {
   "cell_type": "code",
   "execution_count": 32,
   "id": "cad62daa",
   "metadata": {},
   "outputs": [
    {
     "data": {
      "text/html": [
       "<div>\n",
       "<style scoped>\n",
       "    .dataframe tbody tr th:only-of-type {\n",
       "        vertical-align: middle;\n",
       "    }\n",
       "\n",
       "    .dataframe tbody tr th {\n",
       "        vertical-align: top;\n",
       "    }\n",
       "\n",
       "    .dataframe thead th {\n",
       "        text-align: right;\n",
       "    }\n",
       "</style>\n",
       "<table border=\"1\" class=\"dataframe\">\n",
       "  <thead>\n",
       "    <tr style=\"text-align: right;\">\n",
       "      <th></th>\n",
       "      <th>Comment</th>\n",
       "      <th>label</th>\n",
       "      <th>word_count</th>\n",
       "    </tr>\n",
       "  </thead>\n",
       "  <tbody>\n",
       "    <tr>\n",
       "      <th>0</th>\n",
       "      <td>[108268, 8231, 258275, 57864, 95104, 170207, 1...</td>\n",
       "      <td>0</td>\n",
       "      <td>41</td>\n",
       "    </tr>\n",
       "    <tr>\n",
       "      <th>1</th>\n",
       "      <td>[108268, 9597, 8231, 53644, 215695, 260389, 17...</td>\n",
       "      <td>0</td>\n",
       "      <td>33</td>\n",
       "    </tr>\n",
       "    <tr>\n",
       "      <th>2</th>\n",
       "      <td>[108268, 192684, 45725, 104168, 72194, 39303, ...</td>\n",
       "      <td>1</td>\n",
       "      <td>35</td>\n",
       "    </tr>\n",
       "    <tr>\n",
       "      <th>3</th>\n",
       "      <td>[108268, 58671, 123809, 215999, 250883, 2816, ...</td>\n",
       "      <td>0</td>\n",
       "      <td>41</td>\n",
       "    </tr>\n",
       "    <tr>\n",
       "      <th>4</th>\n",
       "      <td>[108268, 219931, 4425, 160751, 135253, 108268,...</td>\n",
       "      <td>1</td>\n",
       "      <td>42</td>\n",
       "    </tr>\n",
       "  </tbody>\n",
       "</table>\n",
       "</div>"
      ],
      "text/plain": [
       "                                             Comment  label  word_count\n",
       "0  [108268, 8231, 258275, 57864, 95104, 170207, 1...      0          41\n",
       "1  [108268, 9597, 8231, 53644, 215695, 260389, 17...      0          33\n",
       "2  [108268, 192684, 45725, 104168, 72194, 39303, ...      1          35\n",
       "3  [108268, 58671, 123809, 215999, 250883, 2816, ...      0          41\n",
       "4  [108268, 219931, 4425, 160751, 135253, 108268,...      1          42"
      ]
     },
     "execution_count": 32,
     "metadata": {},
     "output_type": "execute_result"
    }
   ],
   "source": [
    "# 将评论转换为索引\n",
    "def comments_to_indices(df, word2idx):\n",
    "    df['Comment'] = df['Comment'].apply(lambda x: [word2idx[word] for word in x])\n",
    "    return df\n",
    "\n",
    "df = comments_to_indices(df, word2idx)\n",
    "df.head()"
   ]
  },
  {
   "cell_type": "code",
   "execution_count": 33,
   "id": "fd230151",
   "metadata": {},
   "outputs": [
    {
     "name": "stdout",
     "output_type": "stream",
     "text": [
      "Padded Comments Tensor Shape: torch.Size([688538, 60])\n",
      "Labels Tensor Shape: torch.Size([688538])\n"
     ]
    }
   ],
   "source": [
    "import torch\n",
    "import numpy as np\n",
    "from torch.nn.utils.rnn import pad_sequence\n",
    "\n",
    "# 将评论转换为 NumPy 数组\n",
    "comments_array = df['Comment'].tolist()  # 保持为列表形式\n",
    "labels_array = np.array(df['label'].tolist(), dtype=np.int64)  # 转换为整数类型的 NumPy 数组\n",
    "\n",
    "# 将评论列表转换为张量，并进行填充\n",
    "comments = pad_sequence([torch.tensor(c, dtype=torch.long) for c in comments_array], \n",
    "                               batch_first=True, padding_value=0)  # 填充为相同长度\n",
    "labels = torch.tensor(labels_array, dtype=torch.long)  \n",
    "\n",
    "print(\"Padded Comments Tensor Shape:\", comments.shape)\n",
    "print(\"Labels Tensor Shape:\", labels.shape)\n"
   ]
  },
  {
   "cell_type": "code",
   "execution_count": 34,
   "id": "82c727b5",
   "metadata": {},
   "outputs": [],
   "source": [
    "# 保存数据\n",
    "torch.save(comments, './data/comments_jieba.pkl')\n",
    "torch.save(labels, './data/labels_jieba.pkl')"
   ]
  },
  {
   "cell_type": "code",
   "execution_count": 35,
   "id": "827a2e7b",
   "metadata": {},
   "outputs": [],
   "source": [
    "# # 保存数据\n",
    "# torch.save(comments, './data/comments_hanlp.pt')\n",
    "# torch.save(labels, './data/labels_hannlp.pt')"
   ]
  },
  {
   "cell_type": "markdown",
   "id": "09e9521b",
   "metadata": {},
   "source": [
    "tensorboard --logdir=./logs"
   ]
  }
 ],
 "metadata": {
  "kernelspec": {
   "display_name": "py312",
   "language": "python",
   "name": "python3"
  },
  "language_info": {
   "codemirror_mode": {
    "name": "ipython",
    "version": 3
   },
   "file_extension": ".py",
   "mimetype": "text/x-python",
   "name": "python",
   "nbconvert_exporter": "python",
   "pygments_lexer": "ipython3",
   "version": "3.12.9"
  }
 },
 "nbformat": 4,
 "nbformat_minor": 5
}
