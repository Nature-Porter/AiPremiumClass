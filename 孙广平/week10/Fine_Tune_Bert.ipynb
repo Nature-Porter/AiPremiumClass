{
 "cells": [
  {
   "cell_type": "code",
   "execution_count": 1,
   "metadata": {
    "_cell_guid": "b1076dfc-b9ad-4769-8c92-a6c4dae69d19",
    "_uuid": "8f2839f25d086af736a60e9eeb907d3b93b6e0e5",
    "execution": {
     "iopub.execute_input": "2025-05-22T18:14:32.808468Z",
     "iopub.status.busy": "2025-05-22T18:14:32.807972Z",
     "iopub.status.idle": "2025-05-22T18:14:33.161659Z",
     "shell.execute_reply": "2025-05-22T18:14:33.160931Z",
     "shell.execute_reply.started": "2025-05-22T18:14:32.808448Z"
    },
    "trusted": true
   },
   "outputs": [
    {
     "name": "stdout",
     "output_type": "stream",
     "text": [
      "/kaggle/input/stopwords/stopwords.txt\n",
      "/kaggle/input/jd_comment_with_label/jd_comment_data.xlsx\n"
     ]
    }
   ],
   "source": [
    "# This Python 3 environment comes with many helpful analytics libraries installed\n",
    "# It is defined by the kaggle/python Docker image: https://github.com/kaggle/docker-python\n",
    "# For example, here's several helpful packages to load\n",
    "\n",
    "import numpy as np # linear algebra\n",
    "import pandas as pd # data processing, CSV file I/O (e.g. pd.read_csv)\n",
    "\n",
    "# Input data files are available in the read-only \"../input/\" directory\n",
    "# For example, running this (by clicking run or pressing Shift+Enter) will list all files under the input directory\n",
    "\n",
    "import os\n",
    "for dirname, _, filenames in os.walk('/kaggle/input'):\n",
    "    for filename in filenames:\n",
    "        print(os.path.join(dirname, filename))\n",
    "\n",
    "# You can write up to 20GB to the current directory (/kaggle/working/) that gets preserved as output when you create a version using \"Save & Run All\" \n",
    "# You can also write temporary files to /kaggle/temp/, but they won't be saved outside of the current session"
   ]
  },
  {
   "cell_type": "code",
   "execution_count": 2,
   "metadata": {
    "execution": {
     "iopub.execute_input": "2025-05-22T18:14:33.163067Z",
     "iopub.status.busy": "2025-05-22T18:14:33.162626Z",
     "iopub.status.idle": "2025-05-22T18:14:33.167117Z",
     "shell.execute_reply": "2025-05-22T18:14:33.166283Z",
     "shell.execute_reply.started": "2025-05-22T18:14:33.163034Z"
    },
    "trusted": true
   },
   "outputs": [],
   "source": [
    "import matplotlib.pyplot as plt"
   ]
  },
  {
   "cell_type": "code",
   "execution_count": 3,
   "metadata": {
    "execution": {
     "iopub.execute_input": "2025-05-22T18:14:33.168501Z",
     "iopub.status.busy": "2025-05-22T18:14:33.168163Z",
     "iopub.status.idle": "2025-05-22T18:14:42.779963Z",
     "shell.execute_reply": "2025-05-22T18:14:42.779359Z",
     "shell.execute_reply.started": "2025-05-22T18:14:33.168484Z"
    },
    "trusted": true
   },
   "outputs": [],
   "source": [
    "file_path = '/kaggle/input/jd_comment_with_label/jd_comment_data.xlsx'\n",
    "df = pd.read_excel(file_path)"
   ]
  },
  {
   "cell_type": "code",
   "execution_count": 4,
   "metadata": {
    "execution": {
     "iopub.execute_input": "2025-05-22T18:14:42.781115Z",
     "iopub.status.busy": "2025-05-22T18:14:42.780720Z",
     "iopub.status.idle": "2025-05-22T18:14:42.796677Z",
     "shell.execute_reply": "2025-05-22T18:14:42.795817Z",
     "shell.execute_reply.started": "2025-05-22T18:14:42.781088Z"
    },
    "trusted": true
   },
   "outputs": [
    {
     "data": {
      "text/html": [
       "<div>\n",
       "<style scoped>\n",
       "    .dataframe tbody tr th:only-of-type {\n",
       "        vertical-align: middle;\n",
       "    }\n",
       "\n",
       "    .dataframe tbody tr th {\n",
       "        vertical-align: top;\n",
       "    }\n",
       "\n",
       "    .dataframe thead th {\n",
       "        text-align: right;\n",
       "    }\n",
       "</style>\n",
       "<table border=\"1\" class=\"dataframe\">\n",
       "  <thead>\n",
       "    <tr style=\"text-align: right;\">\n",
       "      <th></th>\n",
       "      <th>爬取时间(__time)</th>\n",
       "      <th>爬取链接(__url)</th>\n",
       "      <th>商品ID(product_id)</th>\n",
       "      <th>评价时间(publish_time)</th>\n",
       "      <th>评分（总分5分）(score)</th>\n",
       "      <th>评价内容(content)</th>\n",
       "      <th>评价者(author_name)</th>\n",
       "      <th>评价者会员等级(author_level)</th>\n",
       "      <th>商品sku(product_sku)</th>\n",
       "      <th>评价标签(tags)</th>\n",
       "    </tr>\n",
       "  </thead>\n",
       "  <tbody>\n",
       "    <tr>\n",
       "      <th>0</th>\n",
       "      <td>2019-03-08 00:50:34</td>\n",
       "      <td>https://sclub.jd.com/comment/productPageCommen...</td>\n",
       "      <td>4722324</td>\n",
       "      <td>1550631798</td>\n",
       "      <td>5</td>\n",
       "      <td>此用户未填写评价内容</td>\n",
       "      <td>j***e</td>\n",
       "      <td>注册会员</td>\n",
       "      <td>单机版 小D黑色</td>\n",
       "      <td>[]</td>\n",
       "    </tr>\n",
       "    <tr>\n",
       "      <th>1</th>\n",
       "      <td>2019-03-08 00:50:34</td>\n",
       "      <td>https://sclub.jd.com/comment/productPageCommen...</td>\n",
       "      <td>4722324</td>\n",
       "      <td>1550633151</td>\n",
       "      <td>5</td>\n",
       "      <td>此用户未填写评价内容</td>\n",
       "      <td>c***n</td>\n",
       "      <td>钻石会员</td>\n",
       "      <td>单机版 小D黑色</td>\n",
       "      <td>[]</td>\n",
       "    </tr>\n",
       "    <tr>\n",
       "      <th>2</th>\n",
       "      <td>2019-03-08 00:50:34</td>\n",
       "      <td>https://sclub.jd.com/comment/productPageCommen...</td>\n",
       "      <td>4722324</td>\n",
       "      <td>1550633330</td>\n",
       "      <td>3</td>\n",
       "      <td>此用户未填写评价内容</td>\n",
       "      <td>j***1</td>\n",
       "      <td>银牌会员</td>\n",
       "      <td>单机版 小D黑色</td>\n",
       "      <td>[]</td>\n",
       "    </tr>\n",
       "    <tr>\n",
       "      <th>3</th>\n",
       "      <td>2019-03-08 00:50:34</td>\n",
       "      <td>https://sclub.jd.com/comment/productPageCommen...</td>\n",
       "      <td>4722324</td>\n",
       "      <td>1550633401</td>\n",
       "      <td>5</td>\n",
       "      <td>此用户未填写评价内容</td>\n",
       "      <td>苗***4</td>\n",
       "      <td>钻石会员</td>\n",
       "      <td>单机版 小D黑色</td>\n",
       "      <td>[]</td>\n",
       "    </tr>\n",
       "    <tr>\n",
       "      <th>4</th>\n",
       "      <td>2019-03-08 00:50:33</td>\n",
       "      <td>https://sclub.jd.com/comment/productPageCommen...</td>\n",
       "      <td>4722324</td>\n",
       "      <td>1550633461</td>\n",
       "      <td>5</td>\n",
       "      <td>此用户未填写评价内容</td>\n",
       "      <td>J***3</td>\n",
       "      <td>注册会员</td>\n",
       "      <td>单机版 小D黑色</td>\n",
       "      <td>[]</td>\n",
       "    </tr>\n",
       "  </tbody>\n",
       "</table>\n",
       "</div>"
      ],
      "text/plain": [
       "          爬取时间(__time)                                        爬取链接(__url)  \\\n",
       "0  2019-03-08 00:50:34  https://sclub.jd.com/comment/productPageCommen...   \n",
       "1  2019-03-08 00:50:34  https://sclub.jd.com/comment/productPageCommen...   \n",
       "2  2019-03-08 00:50:34  https://sclub.jd.com/comment/productPageCommen...   \n",
       "3  2019-03-08 00:50:34  https://sclub.jd.com/comment/productPageCommen...   \n",
       "4  2019-03-08 00:50:33  https://sclub.jd.com/comment/productPageCommen...   \n",
       "\n",
       "   商品ID(product_id)  评价时间(publish_time)  评分（总分5分）(score) 评价内容(content)  \\\n",
       "0           4722324          1550631798                5    此用户未填写评价内容   \n",
       "1           4722324          1550633151                5    此用户未填写评价内容   \n",
       "2           4722324          1550633330                3    此用户未填写评价内容   \n",
       "3           4722324          1550633401                5    此用户未填写评价内容   \n",
       "4           4722324          1550633461                5    此用户未填写评价内容   \n",
       "\n",
       "  评价者(author_name) 评价者会员等级(author_level) 商品sku(product_sku) 评价标签(tags)  \n",
       "0            j***e                  注册会员           单机版 小D黑色         []  \n",
       "1            c***n                  钻石会员           单机版 小D黑色         []  \n",
       "2            j***1                  银牌会员           单机版 小D黑色         []  \n",
       "3            苗***4                  钻石会员           单机版 小D黑色         []  \n",
       "4            J***3                  注册会员           单机版 小D黑色         []  "
      ]
     },
     "execution_count": 4,
     "metadata": {},
     "output_type": "execute_result"
    }
   ],
   "source": [
    "df.head()"
   ]
  },
  {
   "cell_type": "code",
   "execution_count": 5,
   "metadata": {
    "execution": {
     "iopub.execute_input": "2025-05-22T18:14:42.797856Z",
     "iopub.status.busy": "2025-05-22T18:14:42.797613Z",
     "iopub.status.idle": "2025-05-22T18:14:42.861193Z",
     "shell.execute_reply": "2025-05-22T18:14:42.860290Z",
     "shell.execute_reply.started": "2025-05-22T18:14:42.797838Z"
    },
    "trusted": true
   },
   "outputs": [
    {
     "name": "stdout",
     "output_type": "stream",
     "text": [
      "<class 'pandas.core.frame.DataFrame'>\n",
      "RangeIndex: 71818 entries, 0 to 71817\n",
      "Data columns (total 10 columns):\n",
      " #   Column                 Non-Null Count  Dtype \n",
      "---  ------                 --------------  ----- \n",
      " 0   爬取时间(__time)           71818 non-null  object\n",
      " 1   爬取链接(__url)            71818 non-null  object\n",
      " 2   商品ID(product_id)       71818 non-null  int64 \n",
      " 3   评价时间(publish_time)     71818 non-null  int64 \n",
      " 4   评分（总分5分）(score)        71818 non-null  int64 \n",
      " 5   评价内容(content)          71818 non-null  object\n",
      " 6   评价者(author_name)       71818 non-null  object\n",
      " 7   评价者会员等级(author_level)  71818 non-null  object\n",
      " 8   商品sku(product_sku)     68032 non-null  object\n",
      " 9   评价标签(tags)             71809 non-null  object\n",
      "dtypes: int64(3), object(7)\n",
      "memory usage: 5.5+ MB\n"
     ]
    }
   ],
   "source": [
    "df.info()"
   ]
  },
  {
   "cell_type": "code",
   "execution_count": 6,
   "metadata": {
    "execution": {
     "iopub.execute_input": "2025-05-22T18:14:42.863653Z",
     "iopub.status.busy": "2025-05-22T18:14:42.863427Z",
     "iopub.status.idle": "2025-05-22T18:14:42.875008Z",
     "shell.execute_reply": "2025-05-22T18:14:42.874378Z",
     "shell.execute_reply.started": "2025-05-22T18:14:42.863634Z"
    },
    "trusted": true
   },
   "outputs": [
    {
     "data": {
      "text/plain": [
       "评价标签(tags)\n",
       "[]                                     70214\n",
       "[\"质量很好\",\"面料不错\"]                           71\n",
       "[\"还可以\"]                                   53\n",
       "[\"速度快\"]                                   44\n",
       "[\"性价比高\"]                                  38\n",
       "                                       ...  \n",
       "[\"效果不错\",\"打印速度快\"]                           1\n",
       "[\"颜色鲜艳\",\"没什么异味\",\"挺好的东西\"]                   1\n",
       "[\"孩子喜欢\",\"没什么异味\",\"一般\",\"价格给力\",\"质量不错\"]        1\n",
       "[\"扭力大\"]                                    1\n",
       "[\"挺好的东西\",\"积木数量多\"]                          1\n",
       "Name: count, Length: 725, dtype: int64"
      ]
     },
     "execution_count": 6,
     "metadata": {},
     "output_type": "execute_result"
    }
   ],
   "source": [
    "df['评价标签(tags)'].value_counts()"
   ]
  },
  {
   "cell_type": "code",
   "execution_count": 7,
   "metadata": {
    "execution": {
     "iopub.execute_input": "2025-05-22T18:14:42.876454Z",
     "iopub.status.busy": "2025-05-22T18:14:42.875909Z",
     "iopub.status.idle": "2025-05-22T18:14:42.941501Z",
     "shell.execute_reply": "2025-05-22T18:14:42.940730Z",
     "shell.execute_reply.started": "2025-05-22T18:14:42.876427Z"
    },
    "trusted": true
   },
   "outputs": [
    {
     "name": "stdout",
     "output_type": "stream",
     "text": [
      "<class 'pandas.core.frame.DataFrame'>\n",
      "RangeIndex: 44422 entries, 0 to 44421\n",
      "Data columns (total 10 columns):\n",
      " #   Column                 Non-Null Count  Dtype \n",
      "---  ------                 --------------  ----- \n",
      " 0   爬取时间(__time)           44422 non-null  object\n",
      " 1   爬取链接(__url)            44422 non-null  object\n",
      " 2   商品ID(product_id)       44422 non-null  int64 \n",
      " 3   评价时间(publish_time)     44422 non-null  int64 \n",
      " 4   评分（总分5分）(score)        44422 non-null  int64 \n",
      " 5   评价内容(content)          44422 non-null  object\n",
      " 6   评价者(author_name)       44422 non-null  object\n",
      " 7   评价者会员等级(author_level)  44422 non-null  object\n",
      " 8   商品sku(product_sku)     42054 non-null  object\n",
      " 9   评价标签(tags)             44413 non-null  object\n",
      "dtypes: int64(3), object(7)\n",
      "memory usage: 3.4+ MB\n"
     ]
    }
   ],
   "source": [
    "df = df[~df['评价内容(content)'].isin(['', ' ', '此用户未填写评价内容'])]\n",
    "df = df.dropna(subset=['评价内容(content)'])\n",
    "df = df.reset_index(drop=True)\n",
    "df.info()"
   ]
  },
  {
   "cell_type": "code",
   "execution_count": 8,
   "metadata": {
    "execution": {
     "iopub.execute_input": "2025-05-22T18:14:42.942537Z",
     "iopub.status.busy": "2025-05-22T18:14:42.942247Z",
     "iopub.status.idle": "2025-05-22T18:14:42.949456Z",
     "shell.execute_reply": "2025-05-22T18:14:42.948697Z",
     "shell.execute_reply.started": "2025-05-22T18:14:42.942506Z"
    },
    "trusted": true
   },
   "outputs": [
    {
     "data": {
      "text/plain": [
       "评分（总分5分）(score)\n",
       "5    41832\n",
       "1      960\n",
       "4      852\n",
       "3      528\n",
       "2      250\n",
       "Name: count, dtype: int64"
      ]
     },
     "execution_count": 8,
     "metadata": {},
     "output_type": "execute_result"
    }
   ],
   "source": [
    "df['评分（总分5分）(score)'].value_counts()"
   ]
  },
  {
   "cell_type": "code",
   "execution_count": 9,
   "metadata": {
    "execution": {
     "iopub.execute_input": "2025-05-22T18:14:42.950743Z",
     "iopub.status.busy": "2025-05-22T18:14:42.950471Z",
     "iopub.status.idle": "2025-05-22T18:14:42.989384Z",
     "shell.execute_reply": "2025-05-22T18:14:42.988581Z",
     "shell.execute_reply.started": "2025-05-22T18:14:42.950719Z"
    },
    "trusted": true
   },
   "outputs": [
    {
     "data": {
      "text/html": [
       "<div>\n",
       "<style scoped>\n",
       "    .dataframe tbody tr th:only-of-type {\n",
       "        vertical-align: middle;\n",
       "    }\n",
       "\n",
       "    .dataframe tbody tr th {\n",
       "        vertical-align: top;\n",
       "    }\n",
       "\n",
       "    .dataframe thead th {\n",
       "        text-align: right;\n",
       "    }\n",
       "</style>\n",
       "<table border=\"1\" class=\"dataframe\">\n",
       "  <thead>\n",
       "    <tr style=\"text-align: right;\">\n",
       "      <th></th>\n",
       "      <th>content</th>\n",
       "      <th>label</th>\n",
       "    </tr>\n",
       "  </thead>\n",
       "  <tbody>\n",
       "    <tr>\n",
       "      <th>0</th>\n",
       "      <td>一般般，一分钱一分货吧</td>\n",
       "      <td>0</td>\n",
       "    </tr>\n",
       "    <tr>\n",
       "      <th>1</th>\n",
       "      <td>您没有填写内容，默认好评</td>\n",
       "      <td>0</td>\n",
       "    </tr>\n",
       "    <tr>\n",
       "      <th>2</th>\n",
       "      <td>我买的是带遥感的的，结果就给我发了这个，我的手柄呢！？70块被你们白吃了，总是漏东西，催了n...</td>\n",
       "      <td>0</td>\n",
       "    </tr>\n",
       "    <tr>\n",
       "      <th>3</th>\n",
       "      <td>没用的东西。</td>\n",
       "      <td>0</td>\n",
       "    </tr>\n",
       "    <tr>\n",
       "      <th>4</th>\n",
       "      <td>重影，一般</td>\n",
       "      <td>0</td>\n",
       "    </tr>\n",
       "  </tbody>\n",
       "</table>\n",
       "</div>"
      ],
      "text/plain": [
       "                                             content  label\n",
       "0                                        一般般，一分钱一分货吧      0\n",
       "1                                       您没有填写内容，默认好评      0\n",
       "2  我买的是带遥感的的，结果就给我发了这个，我的手柄呢！？70块被你们白吃了，总是漏东西，催了n...      0\n",
       "3                                             没用的东西。      0\n",
       "4                                              重影，一般      0"
      ]
     },
     "execution_count": 9,
     "metadata": {},
     "output_type": "execute_result"
    }
   ],
   "source": [
    "neg_df = df[df['评分（总分5分）(score)'] <= 2].copy()\n",
    "neg_df['label'] = 0\n",
    "\n",
    "pos_df_full = df[df['评分（总分5分）(score)'] == 5].copy()\n",
    "pos_df = pos_df_full.sample(n=len(neg_df), random_state=42)\n",
    "pos_df['label'] = 1\n",
    "\n",
    "df = pd.concat([neg_df, pos_df], ignore_index=True)\n",
    "df = df[['评价内容(content)', 'label']].rename(columns={'评价内容(content)': 'content'})\n",
    "\n",
    "df.head()"
   ]
  },
  {
   "cell_type": "code",
   "execution_count": 10,
   "metadata": {
    "execution": {
     "iopub.execute_input": "2025-05-22T18:14:42.990476Z",
     "iopub.status.busy": "2025-05-22T18:14:42.990266Z",
     "iopub.status.idle": "2025-05-22T18:14:44.143653Z",
     "shell.execute_reply": "2025-05-22T18:14:44.142806Z",
     "shell.execute_reply.started": "2025-05-22T18:14:42.990459Z"
    },
    "trusted": true
   },
   "outputs": [
    {
     "name": "stderr",
     "output_type": "stream",
     "text": [
      "Building prefix dict from the default dictionary ...\n",
      "Loading model from cache /tmp/jieba.cache\n",
      "Loading model cost 0.844 seconds.\n",
      "Prefix dict has been built successfully.\n"
     ]
    },
    {
     "data": {
      "text/html": [
       "<div>\n",
       "<style scoped>\n",
       "    .dataframe tbody tr th:only-of-type {\n",
       "        vertical-align: middle;\n",
       "    }\n",
       "\n",
       "    .dataframe tbody tr th {\n",
       "        vertical-align: top;\n",
       "    }\n",
       "\n",
       "    .dataframe thead th {\n",
       "        text-align: right;\n",
       "    }\n",
       "</style>\n",
       "<table border=\"1\" class=\"dataframe\">\n",
       "  <thead>\n",
       "    <tr style=\"text-align: right;\">\n",
       "      <th></th>\n",
       "      <th>content</th>\n",
       "      <th>label</th>\n",
       "    </tr>\n",
       "  </thead>\n",
       "  <tbody>\n",
       "    <tr>\n",
       "      <th>0</th>\n",
       "      <td>一般般 一分钱 一分货</td>\n",
       "      <td>0</td>\n",
       "    </tr>\n",
       "    <tr>\n",
       "      <th>1</th>\n",
       "      <td>填写内容 默认 好评</td>\n",
       "      <td>0</td>\n",
       "    </tr>\n",
       "    <tr>\n",
       "      <th>2</th>\n",
       "      <td>遥感 给我发 手柄 白吃 东西 没见 补发 每次 帮忙 一点 反正 消费者 气死我了 一款 ...</td>\n",
       "      <td>0</td>\n",
       "    </tr>\n",
       "    <tr>\n",
       "      <th>3</th>\n",
       "      <td>没用 东西</td>\n",
       "      <td>0</td>\n",
       "    </tr>\n",
       "    <tr>\n",
       "      <th>4</th>\n",
       "      <td>重影</td>\n",
       "      <td>0</td>\n",
       "    </tr>\n",
       "  </tbody>\n",
       "</table>\n",
       "</div>"
      ],
      "text/plain": [
       "                                             content  label\n",
       "0                                        一般般 一分钱 一分货      0\n",
       "1                                         填写内容 默认 好评      0\n",
       "2  遥感 给我发 手柄 白吃 东西 没见 补发 每次 帮忙 一点 反正 消费者 气死我了 一款 ...      0\n",
       "3                                              没用 东西      0\n",
       "4                                                 重影      0"
      ]
     },
     "execution_count": 10,
     "metadata": {},
     "output_type": "execute_result"
    }
   ],
   "source": [
    "import jieba\n",
    "import re\n",
    "\n",
    "with open('/kaggle/input/stopwords/stopwords.txt', encoding='utf-8') as f:\n",
    "    stopwords = set([line.strip() for line in f])\n",
    "\n",
    "def clean_text(text):\n",
    "    text = str(text)\n",
    "    text = re.sub(r'[^\\u4e00-\\u9fa5]', '', text)  \n",
    "    words = jieba.lcut(text)\n",
    "    words = [w for w in words if w not in stopwords and len(w) > 1]\n",
    "    return ' '.join(words)\n",
    "\n",
    "df['content'] = df['content'].apply(clean_text)\n",
    "\n",
    "df.head()"
   ]
  },
  {
   "cell_type": "code",
   "execution_count": 11,
   "metadata": {
    "execution": {
     "iopub.execute_input": "2025-05-22T18:14:44.144648Z",
     "iopub.status.busy": "2025-05-22T18:14:44.144442Z",
     "iopub.status.idle": "2025-05-22T18:14:44.639707Z",
     "shell.execute_reply": "2025-05-22T18:14:44.638851Z",
     "shell.execute_reply.started": "2025-05-22T18:14:44.144631Z"
    },
    "trusted": true
   },
   "outputs": [],
   "source": [
    "from sklearn.model_selection import train_test_split\n",
    "\n",
    "texts = df['content'].tolist()\n",
    "labels = df['label'].tolist()\n",
    "\n",
    "X_temp, X_test, y_temp, y_test = train_test_split(texts, labels, test_size=0.1, random_state=42, stratify=labels)\n",
    "\n",
    "X_train, X_val, y_train, y_val = train_test_split(X_temp, y_temp, test_size=0.111, random_state=42, stratify=y_temp)"
   ]
  },
  {
   "cell_type": "code",
   "execution_count": 12,
   "metadata": {
    "execution": {
     "iopub.execute_input": "2025-05-22T18:14:44.640849Z",
     "iopub.status.busy": "2025-05-22T18:14:44.640519Z",
     "iopub.status.idle": "2025-05-22T18:14:49.439084Z",
     "shell.execute_reply": "2025-05-22T18:14:49.438445Z",
     "shell.execute_reply.started": "2025-05-22T18:14:44.640831Z"
    },
    "trusted": true
   },
   "outputs": [],
   "source": [
    "import torch\n",
    "from torch.utils.data import Dataset, DataLoader\n",
    "from transformers import BertTokenizer\n",
    "\n",
    "tokenizer = BertTokenizer.from_pretrained('bert-base-chinese')"
   ]
  },
  {
   "cell_type": "code",
   "execution_count": 13,
   "metadata": {
    "execution": {
     "iopub.execute_input": "2025-05-22T18:14:49.440519Z",
     "iopub.status.busy": "2025-05-22T18:14:49.439963Z",
     "iopub.status.idle": "2025-05-22T18:14:49.445734Z",
     "shell.execute_reply": "2025-05-22T18:14:49.445082Z",
     "shell.execute_reply.started": "2025-05-22T18:14:49.440493Z"
    },
    "trusted": true
   },
   "outputs": [],
   "source": [
    "class JDDataset(Dataset):\n",
    "    def __init__(self, texts, labels):\n",
    "        self.texts = texts  # list of cleaned text strings\n",
    "        self.labels = labels  # list of 0 or 1\n",
    "\n",
    "    def __len__(self):\n",
    "        return len(self.texts)\n",
    "\n",
    "    def __getitem__(self, idx):\n",
    "        return {\n",
    "            'text': self.texts[idx],\n",
    "            'label': int(self.labels[idx])\n",
    "        }\n"
   ]
  },
  {
   "cell_type": "code",
   "execution_count": 16,
   "metadata": {
    "execution": {
     "iopub.execute_input": "2025-05-22T18:17:15.686541Z",
     "iopub.status.busy": "2025-05-22T18:17:15.685899Z",
     "iopub.status.idle": "2025-05-22T18:17:15.691680Z",
     "shell.execute_reply": "2025-05-22T18:17:15.690725Z",
     "shell.execute_reply.started": "2025-05-22T18:17:15.686506Z"
    },
    "trusted": true
   },
   "outputs": [],
   "source": [
    "def collate_fn(batch):\n",
    "    texts = [item['text'] for item in batch]\n",
    "    labels = [item['label'] for item in batch]\n",
    "    \n",
    "    encoding = tokenizer(\n",
    "        texts,\n",
    "        padding='max_length',\n",
    "        truncation=True,\n",
    "        max_length=128,\n",
    "        return_tensors='pt'\n",
    "    )\n",
    "\n",
    "    labels = torch.tensor(labels, dtype=torch.long)\n",
    "\n",
    "    return {\n",
    "        'input_ids': encoding['input_ids'],             \n",
    "        'attention_mask': encoding['attention_mask'], \n",
    "        'label': torch.tensor(labels) \n",
    "    }"
   ]
  },
  {
   "cell_type": "code",
   "execution_count": 17,
   "metadata": {
    "execution": {
     "iopub.execute_input": "2025-05-22T18:17:15.693854Z",
     "iopub.status.busy": "2025-05-22T18:17:15.693123Z",
     "iopub.status.idle": "2025-05-22T18:17:15.710960Z",
     "shell.execute_reply": "2025-05-22T18:17:15.710274Z",
     "shell.execute_reply.started": "2025-05-22T18:17:15.693831Z"
    },
    "trusted": true
   },
   "outputs": [],
   "source": [
    "train_loader = DataLoader(JDDataset(X_train, y_train), batch_size=32, shuffle=True, collate_fn=collate_fn)\n",
    "val_loader   = DataLoader(JDDataset(X_val, y_val), batch_size=32, shuffle=False, collate_fn=collate_fn)\n",
    "test_loader  = DataLoader(JDDataset(X_test, y_test), batch_size=32, shuffle=False, collate_fn=collate_fn)\n"
   ]
  },
  {
   "cell_type": "code",
   "execution_count": 18,
   "metadata": {
    "execution": {
     "iopub.execute_input": "2025-05-22T18:17:15.712071Z",
     "iopub.status.busy": "2025-05-22T18:17:15.711840Z",
     "iopub.status.idle": "2025-05-22T18:17:18.732851Z",
     "shell.execute_reply": "2025-05-22T18:17:18.732142Z",
     "shell.execute_reply.started": "2025-05-22T18:17:15.712056Z"
    },
    "trusted": true
   },
   "outputs": [
    {
     "name": "stderr",
     "output_type": "stream",
     "text": [
      "2025-05-22 18:17:16.110946: E external/local_xla/xla/stream_executor/cuda/cuda_fft.cc:477] Unable to register cuFFT factory: Attempting to register factory for plugin cuFFT when one has already been registered\n",
      "WARNING: All log messages before absl::InitializeLog() is called are written to STDERR\n",
      "E0000 00:00:1747937836.133301     290 cuda_dnn.cc:8310] Unable to register cuDNN factory: Attempting to register factory for plugin cuDNN when one has already been registered\n",
      "E0000 00:00:1747937836.140111     290 cuda_blas.cc:1418] Unable to register cuBLAS factory: Attempting to register factory for plugin cuBLAS when one has already been registered\n"
     ]
    }
   ],
   "source": [
    "import torch.nn as nn\n",
    "from transformers import BertModel\n",
    "\n",
    "class BertForClassification(nn.Module):\n",
    "    def __init__(self, freeze_bert=True):\n",
    "        super(BertForClassification, self).__init__()\n",
    "        self.bert = BertModel.from_pretrained('bert-base-chinese')\n",
    "        self.dropout = nn.Dropout(0.3)\n",
    "        self.classifier = nn.Linear(self.bert.config.hidden_size, 2)\n",
    "\n",
    "        if freeze_bert:\n",
    "            for param in self.bert.parameters():\n",
    "                param.requires_grad = False\n",
    "\n",
    "    def forward(self, input_ids, attention_mask):\n",
    "        outputs = self.bert(input_ids=input_ids, attention_mask=attention_mask)\n",
    "        pooled_output = outputs.pooler_output\n",
    "        x = self.dropout(pooled_output)\n",
    "        logits = self.classifier(x)\n",
    "        return logits\n"
   ]
  },
  {
   "cell_type": "code",
   "execution_count": 19,
   "metadata": {
    "execution": {
     "iopub.execute_input": "2025-05-22T18:17:18.734343Z",
     "iopub.status.busy": "2025-05-22T18:17:18.733756Z",
     "iopub.status.idle": "2025-05-22T18:17:19.260096Z",
     "shell.execute_reply": "2025-05-22T18:17:19.259277Z",
     "shell.execute_reply.started": "2025-05-22T18:17:18.734314Z"
    },
    "trusted": true
   },
   "outputs": [],
   "source": [
    "from torch.utils.tensorboard import SummaryWriter\n",
    "import os\n",
    "from tqdm import tqdm\n",
    "\n",
    "def train(model, train_loader, val_loader, epochs, log_dir):\n",
    "    writer = SummaryWriter(log_dir=log_dir)\n",
    "    global_step = 0\n",
    "\n",
    "    for epoch in range(epochs):\n",
    "        model.train()\n",
    "        train_loss = 0\n",
    "        correct = 0\n",
    "        total = 0\n",
    "\n",
    "        for batch in tqdm(train_loader, desc=f\"Epoch {epoch+1}/{epochs}\"):\n",
    "            input_ids = batch['input_ids'].to(device)\n",
    "            attention_mask = batch['attention_mask'].to(device)\n",
    "            labels = batch['label'].to(device)\n",
    "\n",
    "            optimizer.zero_grad()\n",
    "            outputs = model(input_ids, attention_mask)\n",
    "            loss = criterion(outputs, labels)\n",
    "            loss.backward()\n",
    "            optimizer.step()\n",
    "\n",
    "            train_loss += loss.item()\n",
    "            preds = outputs.argmax(dim=1)\n",
    "            correct += (preds == labels).sum().item()\n",
    "            total += labels.size(0)\n",
    "\n",
    "            writer.add_scalar(\"Train/Loss\", loss.item(), global_step)\n",
    "            global_step += 1\n",
    "\n",
    "        acc = correct / total\n",
    "        writer.add_scalar(\"Train/Accuracy\", acc, epoch)\n",
    "\n",
    "        # 验证\n",
    "        val_acc, val_loss = evaluate(model, val_loader)\n",
    "        writer.add_scalar(\"Val/Loss\", val_loss, epoch)\n",
    "        writer.add_scalar(\"Val/Accuracy\", val_acc, epoch)\n",
    "\n",
    "        print(f\"Epoch {epoch+1}, Train Acc: {acc:.4f}, Val Acc: {val_acc:.4f}\")\n",
    "\n",
    "    writer.close()\n",
    "\n",
    "def evaluate(model, dataloader):\n",
    "    model.eval()\n",
    "    total_loss = 0\n",
    "    correct = 0\n",
    "    total = 0\n",
    "\n",
    "    with torch.no_grad():\n",
    "        for batch in dataloader:\n",
    "            input_ids = batch['input_ids'].to(device)\n",
    "            attention_mask = batch['attention_mask'].to(device)\n",
    "            labels = batch['label'].to(device)\n",
    "\n",
    "            outputs = model(input_ids, attention_mask)\n",
    "            loss = criterion(outputs, labels)\n",
    "            total_loss += loss.item()\n",
    "\n",
    "            preds = outputs.argmax(dim=1)\n",
    "            correct += (preds == labels).sum().item()\n",
    "            total += labels.size(0)\n",
    "\n",
    "    return correct / total, total_loss / len(dataloader)\n"
   ]
  },
  {
   "cell_type": "code",
   "execution_count": 20,
   "metadata": {
    "execution": {
     "iopub.execute_input": "2025-05-22T18:17:19.262117Z",
     "iopub.status.busy": "2025-05-22T18:17:19.261893Z",
     "iopub.status.idle": "2025-05-22T18:17:19.265746Z",
     "shell.execute_reply": "2025-05-22T18:17:19.264996Z",
     "shell.execute_reply.started": "2025-05-22T18:17:19.262101Z"
    },
    "trusted": true
   },
   "outputs": [],
   "source": [
    "device = torch.device(\"cuda\" if torch.cuda.is_available() else \"cpu\")\n",
    "criterion = nn.CrossEntropyLoss()\n"
   ]
  },
  {
   "cell_type": "code",
   "execution_count": 21,
   "metadata": {
    "execution": {
     "iopub.execute_input": "2025-05-22T18:17:19.266814Z",
     "iopub.status.busy": "2025-05-22T18:17:19.266536Z",
     "iopub.status.idle": "2025-05-22T18:19:59.050252Z",
     "shell.execute_reply": "2025-05-22T18:19:59.049600Z",
     "shell.execute_reply.started": "2025-05-22T18:17:19.266790Z"
    },
    "trusted": true
   },
   "outputs": [
    {
     "name": "stderr",
     "output_type": "stream",
     "text": [
      "Epoch 1/20:   0%|          | 0/61 [00:00<?, ?it/s]/tmp/ipykernel_290/3204579863.py:18: UserWarning: To copy construct from a tensor, it is recommended to use sourceTensor.clone().detach() or sourceTensor.clone().detach().requires_grad_(True), rather than torch.tensor(sourceTensor).\n",
      "  'label': torch.stack([torch.tensor(l) for l in labels])\n",
      "Epoch 1/20: 100%|██████████| 61/61 [00:07<00:00,  8.26it/s]\n"
     ]
    },
    {
     "name": "stdout",
     "output_type": "stream",
     "text": [
      "Epoch 1, Train Acc: 0.4845, Val Acc: 0.4545\n"
     ]
    },
    {
     "name": "stderr",
     "output_type": "stream",
     "text": [
      "Epoch 2/20: 100%|██████████| 61/61 [00:07<00:00,  8.68it/s]\n"
     ]
    },
    {
     "name": "stdout",
     "output_type": "stream",
     "text": [
      "Epoch 2, Train Acc: 0.5010, Val Acc: 0.5041\n"
     ]
    },
    {
     "name": "stderr",
     "output_type": "stream",
     "text": [
      "Epoch 3/20: 100%|██████████| 61/61 [00:07<00:00,  8.67it/s]\n"
     ]
    },
    {
     "name": "stdout",
     "output_type": "stream",
     "text": [
      "Epoch 3, Train Acc: 0.5196, Val Acc: 0.5124\n"
     ]
    },
    {
     "name": "stderr",
     "output_type": "stream",
     "text": [
      "Epoch 4/20: 100%|██████████| 61/61 [00:07<00:00,  8.67it/s]\n"
     ]
    },
    {
     "name": "stdout",
     "output_type": "stream",
     "text": [
      "Epoch 4, Train Acc: 0.5284, Val Acc: 0.5579\n"
     ]
    },
    {
     "name": "stderr",
     "output_type": "stream",
     "text": [
      "Epoch 5/20: 100%|██████████| 61/61 [00:07<00:00,  8.70it/s]\n"
     ]
    },
    {
     "name": "stdout",
     "output_type": "stream",
     "text": [
      "Epoch 5, Train Acc: 0.5289, Val Acc: 0.5620\n"
     ]
    },
    {
     "name": "stderr",
     "output_type": "stream",
     "text": [
      "Epoch 6/20: 100%|██████████| 61/61 [00:07<00:00,  8.68it/s]\n"
     ]
    },
    {
     "name": "stdout",
     "output_type": "stream",
     "text": [
      "Epoch 6, Train Acc: 0.5542, Val Acc: 0.5661\n"
     ]
    },
    {
     "name": "stderr",
     "output_type": "stream",
     "text": [
      "Epoch 7/20: 100%|██████████| 61/61 [00:07<00:00,  8.66it/s]\n"
     ]
    },
    {
     "name": "stdout",
     "output_type": "stream",
     "text": [
      "Epoch 7, Train Acc: 0.5480, Val Acc: 0.5950\n"
     ]
    },
    {
     "name": "stderr",
     "output_type": "stream",
     "text": [
      "Epoch 8/20: 100%|██████████| 61/61 [00:07<00:00,  8.62it/s]\n"
     ]
    },
    {
     "name": "stdout",
     "output_type": "stream",
     "text": [
      "Epoch 8, Train Acc: 0.5775, Val Acc: 0.5744\n"
     ]
    },
    {
     "name": "stderr",
     "output_type": "stream",
     "text": [
      "Epoch 9/20: 100%|██████████| 61/61 [00:07<00:00,  8.63it/s]\n"
     ]
    },
    {
     "name": "stdout",
     "output_type": "stream",
     "text": [
      "Epoch 9, Train Acc: 0.5651, Val Acc: 0.5950\n"
     ]
    },
    {
     "name": "stderr",
     "output_type": "stream",
     "text": [
      "Epoch 10/20: 100%|██████████| 61/61 [00:07<00:00,  8.62it/s]\n"
     ]
    },
    {
     "name": "stdout",
     "output_type": "stream",
     "text": [
      "Epoch 10, Train Acc: 0.5878, Val Acc: 0.6074\n"
     ]
    },
    {
     "name": "stderr",
     "output_type": "stream",
     "text": [
      "Epoch 11/20: 100%|██████████| 61/61 [00:07<00:00,  8.63it/s]\n"
     ]
    },
    {
     "name": "stdout",
     "output_type": "stream",
     "text": [
      "Epoch 11, Train Acc: 0.5899, Val Acc: 0.6074\n"
     ]
    },
    {
     "name": "stderr",
     "output_type": "stream",
     "text": [
      "Epoch 12/20: 100%|██████████| 61/61 [00:07<00:00,  8.60it/s]\n"
     ]
    },
    {
     "name": "stdout",
     "output_type": "stream",
     "text": [
      "Epoch 12, Train Acc: 0.5873, Val Acc: 0.6446\n"
     ]
    },
    {
     "name": "stderr",
     "output_type": "stream",
     "text": [
      "Epoch 13/20: 100%|██████████| 61/61 [00:07<00:00,  8.63it/s]\n"
     ]
    },
    {
     "name": "stdout",
     "output_type": "stream",
     "text": [
      "Epoch 13, Train Acc: 0.6043, Val Acc: 0.6488\n"
     ]
    },
    {
     "name": "stderr",
     "output_type": "stream",
     "text": [
      "Epoch 14/20: 100%|██████████| 61/61 [00:07<00:00,  8.64it/s]\n"
     ]
    },
    {
     "name": "stdout",
     "output_type": "stream",
     "text": [
      "Epoch 14, Train Acc: 0.6007, Val Acc: 0.6653\n"
     ]
    },
    {
     "name": "stderr",
     "output_type": "stream",
     "text": [
      "Epoch 15/20: 100%|██████████| 61/61 [00:07<00:00,  8.64it/s]\n"
     ]
    },
    {
     "name": "stdout",
     "output_type": "stream",
     "text": [
      "Epoch 15, Train Acc: 0.6121, Val Acc: 0.6694\n"
     ]
    },
    {
     "name": "stderr",
     "output_type": "stream",
     "text": [
      "Epoch 16/20: 100%|██████████| 61/61 [00:07<00:00,  8.61it/s]\n"
     ]
    },
    {
     "name": "stdout",
     "output_type": "stream",
     "text": [
      "Epoch 16, Train Acc: 0.6111, Val Acc: 0.6901\n"
     ]
    },
    {
     "name": "stderr",
     "output_type": "stream",
     "text": [
      "Epoch 17/20: 100%|██████████| 61/61 [00:07<00:00,  8.65it/s]\n"
     ]
    },
    {
     "name": "stdout",
     "output_type": "stream",
     "text": [
      "Epoch 17, Train Acc: 0.6074, Val Acc: 0.7025\n"
     ]
    },
    {
     "name": "stderr",
     "output_type": "stream",
     "text": [
      "Epoch 18/20: 100%|██████████| 61/61 [00:07<00:00,  8.63it/s]\n"
     ]
    },
    {
     "name": "stdout",
     "output_type": "stream",
     "text": [
      "Epoch 18, Train Acc: 0.6410, Val Acc: 0.6694\n"
     ]
    },
    {
     "name": "stderr",
     "output_type": "stream",
     "text": [
      "Epoch 19/20: 100%|██████████| 61/61 [00:07<00:00,  8.64it/s]\n"
     ]
    },
    {
     "name": "stdout",
     "output_type": "stream",
     "text": [
      "Epoch 19, Train Acc: 0.6100, Val Acc: 0.6860\n"
     ]
    },
    {
     "name": "stderr",
     "output_type": "stream",
     "text": [
      "Epoch 20/20: 100%|██████████| 61/61 [00:07<00:00,  8.59it/s]\n"
     ]
    },
    {
     "name": "stdout",
     "output_type": "stream",
     "text": [
      "Epoch 20, Train Acc: 0.6198, Val Acc: 0.7025\n"
     ]
    }
   ],
   "source": [
    "# 冻结 BERT，只训练分类头\n",
    "frozen_model = BertForClassification(freeze_bert=True).to(device)\n",
    "optimizer = torch.optim.AdamW(frozen_model.parameters(), lr=2e-5)\n",
    "train(frozen_model, train_loader, val_loader, epochs=20, log_dir=\"/kaggle/working/runs/bert_frozen\")\n",
    "\n",
    "# 保存冻结模型\n",
    "torch.save(frozen_model.state_dict(), \"/kaggle/working/bert_frozen.pth\")\n"
   ]
  },
  {
   "cell_type": "code",
   "execution_count": 22,
   "metadata": {
    "execution": {
     "iopub.execute_input": "2025-05-22T18:19:59.051420Z",
     "iopub.status.busy": "2025-05-22T18:19:59.051160Z",
     "iopub.status.idle": "2025-05-22T18:28:17.356619Z",
     "shell.execute_reply": "2025-05-22T18:28:17.355881Z",
     "shell.execute_reply.started": "2025-05-22T18:19:59.051400Z"
    },
    "trusted": true
   },
   "outputs": [
    {
     "name": "stderr",
     "output_type": "stream",
     "text": [
      "Epoch 1/20:   0%|          | 0/61 [00:00<?, ?it/s]/tmp/ipykernel_290/3204579863.py:18: UserWarning: To copy construct from a tensor, it is recommended to use sourceTensor.clone().detach() or sourceTensor.clone().detach().requires_grad_(True), rather than torch.tensor(sourceTensor).\n",
      "  'label': torch.stack([torch.tensor(l) for l in labels])\n",
      "Epoch 1/20: 100%|██████████| 61/61 [00:23<00:00,  2.55it/s]\n"
     ]
    },
    {
     "name": "stdout",
     "output_type": "stream",
     "text": [
      "Epoch 1, Train Acc: 0.7913, Val Acc: 0.8636\n"
     ]
    },
    {
     "name": "stderr",
     "output_type": "stream",
     "text": [
      "Epoch 2/20: 100%|██████████| 61/61 [00:23<00:00,  2.55it/s]\n"
     ]
    },
    {
     "name": "stdout",
     "output_type": "stream",
     "text": [
      "Epoch 2, Train Acc: 0.8946, Val Acc: 0.8843\n"
     ]
    },
    {
     "name": "stderr",
     "output_type": "stream",
     "text": [
      "Epoch 3/20: 100%|██████████| 61/61 [00:23<00:00,  2.54it/s]\n"
     ]
    },
    {
     "name": "stdout",
     "output_type": "stream",
     "text": [
      "Epoch 3, Train Acc: 0.9215, Val Acc: 0.8471\n"
     ]
    },
    {
     "name": "stderr",
     "output_type": "stream",
     "text": [
      "Epoch 4/20: 100%|██████████| 61/61 [00:24<00:00,  2.54it/s]\n"
     ]
    },
    {
     "name": "stdout",
     "output_type": "stream",
     "text": [
      "Epoch 4, Train Acc: 0.9421, Val Acc: 0.8843\n"
     ]
    },
    {
     "name": "stderr",
     "output_type": "stream",
     "text": [
      "Epoch 5/20: 100%|██████████| 61/61 [00:23<00:00,  2.54it/s]\n"
     ]
    },
    {
     "name": "stdout",
     "output_type": "stream",
     "text": [
      "Epoch 5, Train Acc: 0.9525, Val Acc: 0.8554\n"
     ]
    },
    {
     "name": "stderr",
     "output_type": "stream",
     "text": [
      "Epoch 6/20: 100%|██████████| 61/61 [00:24<00:00,  2.54it/s]\n"
     ]
    },
    {
     "name": "stdout",
     "output_type": "stream",
     "text": [
      "Epoch 6, Train Acc: 0.9654, Val Acc: 0.8843\n"
     ]
    },
    {
     "name": "stderr",
     "output_type": "stream",
     "text": [
      "Epoch 7/20: 100%|██████████| 61/61 [00:24<00:00,  2.54it/s]\n"
     ]
    },
    {
     "name": "stdout",
     "output_type": "stream",
     "text": [
      "Epoch 7, Train Acc: 0.9644, Val Acc: 0.8678\n"
     ]
    },
    {
     "name": "stderr",
     "output_type": "stream",
     "text": [
      "Epoch 8/20: 100%|██████████| 61/61 [00:24<00:00,  2.53it/s]\n"
     ]
    },
    {
     "name": "stdout",
     "output_type": "stream",
     "text": [
      "Epoch 8, Train Acc: 0.9695, Val Acc: 0.8967\n"
     ]
    },
    {
     "name": "stderr",
     "output_type": "stream",
     "text": [
      "Epoch 9/20: 100%|██████████| 61/61 [00:24<00:00,  2.54it/s]\n"
     ]
    },
    {
     "name": "stdout",
     "output_type": "stream",
     "text": [
      "Epoch 9, Train Acc: 0.9721, Val Acc: 0.8926\n"
     ]
    },
    {
     "name": "stderr",
     "output_type": "stream",
     "text": [
      "Epoch 10/20: 100%|██████████| 61/61 [00:24<00:00,  2.54it/s]\n"
     ]
    },
    {
     "name": "stdout",
     "output_type": "stream",
     "text": [
      "Epoch 10, Train Acc: 0.9628, Val Acc: 0.9050\n"
     ]
    },
    {
     "name": "stderr",
     "output_type": "stream",
     "text": [
      "Epoch 11/20: 100%|██████████| 61/61 [00:24<00:00,  2.54it/s]\n"
     ]
    },
    {
     "name": "stdout",
     "output_type": "stream",
     "text": [
      "Epoch 11, Train Acc: 0.9664, Val Acc: 0.9091\n"
     ]
    },
    {
     "name": "stderr",
     "output_type": "stream",
     "text": [
      "Epoch 12/20: 100%|██████████| 61/61 [00:23<00:00,  2.54it/s]\n"
     ]
    },
    {
     "name": "stdout",
     "output_type": "stream",
     "text": [
      "Epoch 12, Train Acc: 0.9690, Val Acc: 0.8760\n"
     ]
    },
    {
     "name": "stderr",
     "output_type": "stream",
     "text": [
      "Epoch 13/20: 100%|██████████| 61/61 [00:23<00:00,  2.55it/s]\n"
     ]
    },
    {
     "name": "stdout",
     "output_type": "stream",
     "text": [
      "Epoch 13, Train Acc: 0.9685, Val Acc: 0.8926\n"
     ]
    },
    {
     "name": "stderr",
     "output_type": "stream",
     "text": [
      "Epoch 14/20: 100%|██████████| 61/61 [00:23<00:00,  2.55it/s]\n"
     ]
    },
    {
     "name": "stdout",
     "output_type": "stream",
     "text": [
      "Epoch 14, Train Acc: 0.9731, Val Acc: 0.8967\n"
     ]
    },
    {
     "name": "stderr",
     "output_type": "stream",
     "text": [
      "Epoch 15/20: 100%|██████████| 61/61 [00:23<00:00,  2.54it/s]\n"
     ]
    },
    {
     "name": "stdout",
     "output_type": "stream",
     "text": [
      "Epoch 15, Train Acc: 0.9747, Val Acc: 0.8884\n"
     ]
    },
    {
     "name": "stderr",
     "output_type": "stream",
     "text": [
      "Epoch 16/20: 100%|██████████| 61/61 [00:23<00:00,  2.54it/s]\n"
     ]
    },
    {
     "name": "stdout",
     "output_type": "stream",
     "text": [
      "Epoch 16, Train Acc: 0.9757, Val Acc: 0.8926\n"
     ]
    },
    {
     "name": "stderr",
     "output_type": "stream",
     "text": [
      "Epoch 17/20: 100%|██████████| 61/61 [00:24<00:00,  2.54it/s]\n"
     ]
    },
    {
     "name": "stdout",
     "output_type": "stream",
     "text": [
      "Epoch 17, Train Acc: 0.9731, Val Acc: 0.8967\n"
     ]
    },
    {
     "name": "stderr",
     "output_type": "stream",
     "text": [
      "Epoch 18/20: 100%|██████████| 61/61 [00:24<00:00,  2.54it/s]\n"
     ]
    },
    {
     "name": "stdout",
     "output_type": "stream",
     "text": [
      "Epoch 18, Train Acc: 0.9747, Val Acc: 0.9091\n"
     ]
    },
    {
     "name": "stderr",
     "output_type": "stream",
     "text": [
      "Epoch 19/20: 100%|██████████| 61/61 [00:23<00:00,  2.54it/s]\n"
     ]
    },
    {
     "name": "stdout",
     "output_type": "stream",
     "text": [
      "Epoch 19, Train Acc: 0.9731, Val Acc: 0.9008\n"
     ]
    },
    {
     "name": "stderr",
     "output_type": "stream",
     "text": [
      "Epoch 20/20: 100%|██████████| 61/61 [00:24<00:00,  2.54it/s]\n"
     ]
    },
    {
     "name": "stdout",
     "output_type": "stream",
     "text": [
      "Epoch 20, Train Acc: 0.9401, Val Acc: 0.8843\n"
     ]
    }
   ],
   "source": [
    "# 不冻结 BERT，微调模型\n",
    "unfrozen_model = BertForClassification(freeze_bert=False).to(device)\n",
    "optimizer = torch.optim.AdamW(unfrozen_model.parameters(), lr=2e-5)\n",
    "train(unfrozen_model, train_loader, val_loader, epochs=20, log_dir=\"/kaggle/working/runs/bert_unfrozen\")\n",
    "\n",
    "# 保存不冻结模型\n",
    "torch.save(unfrozen_model.state_dict(), \"/kaggle/working/bert_unfrozen.pth\")\n"
   ]
  },
  {
   "cell_type": "code",
   "execution_count": 32,
   "metadata": {
    "execution": {
     "iopub.execute_input": "2025-05-22T18:31:10.498040Z",
     "iopub.status.busy": "2025-05-22T18:31:10.497739Z",
     "iopub.status.idle": "2025-05-22T18:31:10.503686Z",
     "shell.execute_reply": "2025-05-22T18:31:10.502678Z",
     "shell.execute_reply.started": "2025-05-22T18:31:10.498019Z"
    },
    "trusted": true
   },
   "outputs": [],
   "source": [
    "import torch.nn.functional as F\n",
    "\n",
    "def predict(model, texts, max_length=128):\n",
    "    inputs = tokenizer(\n",
    "        texts,\n",
    "        padding='max_length',\n",
    "        truncation=True,\n",
    "        max_length=128,\n",
    "        return_tensors='pt'\n",
    "    ).to(device)\n",
    "\n",
    "    # 模型预测\n",
    "    with torch.no_grad():\n",
    "        logits = model(inputs['input_ids'], inputs['attention_mask'])\n",
    "        probs = F.softmax(logits, dim=1)\n",
    "        preds = torch.argmax(probs, dim=1)\n",
    "\n",
    "    return preds.cpu().tolist(), probs.cpu().tolist()\n"
   ]
  },
  {
   "cell_type": "code",
   "execution_count": 24,
   "metadata": {
    "execution": {
     "iopub.execute_input": "2025-05-22T18:28:17.365110Z",
     "iopub.status.busy": "2025-05-22T18:28:17.364814Z",
     "iopub.status.idle": "2025-05-22T18:28:18.429010Z",
     "shell.execute_reply": "2025-05-22T18:28:18.428282Z",
     "shell.execute_reply.started": "2025-05-22T18:28:17.365083Z"
    },
    "trusted": true
   },
   "outputs": [
    {
     "data": {
      "text/plain": [
       "BertForClassification(\n",
       "  (bert): BertModel(\n",
       "    (embeddings): BertEmbeddings(\n",
       "      (word_embeddings): Embedding(21128, 768, padding_idx=0)\n",
       "      (position_embeddings): Embedding(512, 768)\n",
       "      (token_type_embeddings): Embedding(2, 768)\n",
       "      (LayerNorm): LayerNorm((768,), eps=1e-12, elementwise_affine=True)\n",
       "      (dropout): Dropout(p=0.1, inplace=False)\n",
       "    )\n",
       "    (encoder): BertEncoder(\n",
       "      (layer): ModuleList(\n",
       "        (0-11): 12 x BertLayer(\n",
       "          (attention): BertAttention(\n",
       "            (self): BertSdpaSelfAttention(\n",
       "              (query): Linear(in_features=768, out_features=768, bias=True)\n",
       "              (key): Linear(in_features=768, out_features=768, bias=True)\n",
       "              (value): Linear(in_features=768, out_features=768, bias=True)\n",
       "              (dropout): Dropout(p=0.1, inplace=False)\n",
       "            )\n",
       "            (output): BertSelfOutput(\n",
       "              (dense): Linear(in_features=768, out_features=768, bias=True)\n",
       "              (LayerNorm): LayerNorm((768,), eps=1e-12, elementwise_affine=True)\n",
       "              (dropout): Dropout(p=0.1, inplace=False)\n",
       "            )\n",
       "          )\n",
       "          (intermediate): BertIntermediate(\n",
       "            (dense): Linear(in_features=768, out_features=3072, bias=True)\n",
       "            (intermediate_act_fn): GELUActivation()\n",
       "          )\n",
       "          (output): BertOutput(\n",
       "            (dense): Linear(in_features=3072, out_features=768, bias=True)\n",
       "            (LayerNorm): LayerNorm((768,), eps=1e-12, elementwise_affine=True)\n",
       "            (dropout): Dropout(p=0.1, inplace=False)\n",
       "          )\n",
       "        )\n",
       "      )\n",
       "    )\n",
       "    (pooler): BertPooler(\n",
       "      (dense): Linear(in_features=768, out_features=768, bias=True)\n",
       "      (activation): Tanh()\n",
       "    )\n",
       "  )\n",
       "  (dropout): Dropout(p=0.3, inplace=False)\n",
       "  (classifier): Linear(in_features=768, out_features=2, bias=True)\n",
       ")"
      ]
     },
     "execution_count": 24,
     "metadata": {},
     "output_type": "execute_result"
    }
   ],
   "source": [
    "tokenizer = BertTokenizer.from_pretrained('bert-base-chinese')\n",
    "\n",
    "model = BertForClassification(freeze_bert=False).to(device)\n",
    "model.load_state_dict(torch.load(\"/kaggle/working/bert_unfrozen.pth\", map_location=device))\n",
    "model.eval()  \n"
   ]
  },
  {
   "cell_type": "code",
   "execution_count": 25,
   "metadata": {
    "execution": {
     "iopub.execute_input": "2025-05-22T18:28:18.430137Z",
     "iopub.status.busy": "2025-05-22T18:28:18.429819Z",
     "iopub.status.idle": "2025-05-22T18:28:18.434262Z",
     "shell.execute_reply": "2025-05-22T18:28:18.433402Z",
     "shell.execute_reply.started": "2025-05-22T18:28:18.430111Z"
    },
    "trusted": true
   },
   "outputs": [],
   "source": [
    "# device = torch.device(\"cuda\" if torch.cuda.is_available() else \"cpu\")\n",
    "\n",
    "# tokenizer = BertTokenizer.from_pretrained('bert-base-chinese')\n",
    "\n",
    "# model = BertForClassification(freeze_bert=True).to(device)\n",
    "# model.load_state_dict(torch.load(\"/kaggle/working/bert_frozen.pth\", map_location=device))\n",
    "# model.eval()  "
   ]
  },
  {
   "cell_type": "code",
   "execution_count": 26,
   "metadata": {
    "execution": {
     "iopub.execute_input": "2025-05-22T18:28:18.435643Z",
     "iopub.status.busy": "2025-05-22T18:28:18.435316Z",
     "iopub.status.idle": "2025-05-22T18:28:18.467198Z",
     "shell.execute_reply": "2025-05-22T18:28:18.466465Z",
     "shell.execute_reply.started": "2025-05-22T18:28:18.435619Z"
    },
    "trusted": true
   },
   "outputs": [
    {
     "name": "stdout",
     "output_type": "stream",
     "text": [
      "【评论】：快递速度很快，商品包装很好，非常满意\n",
      "→ 预测标签：1（正面），概率：[0.00935341976583004, 0.9906466007232666]\n",
      "\n",
      "【评论】：用了几天就坏了，质量太差了\n",
      "→ 预测标签：0（负面），概率：[0.9913827776908875, 0.008617241866886616]\n",
      "\n",
      "【评论】：中规中矩，没有特别的感觉\n",
      "→ 预测标签：1（正面），概率：[0.029887964949011803, 0.9701120257377625]\n",
      "\n"
     ]
    }
   ],
   "source": [
    "texts = [\n",
    "    \"快递速度很快，商品包装很好，非常满意\",\n",
    "    \"用了几天就坏了，质量太差了\",\n",
    "    \"中规中矩，没有特别的感觉\"\n",
    "]\n",
    "\n",
    "# 预测\n",
    "preds, probs = predict(model, texts)\n",
    "\n",
    "# 输出\n",
    "for text, pred, prob in zip(texts, preds, probs):\n",
    "    print(f\"【评论】：{text}\\n→ 预测标签：{pred}（{['负面','正面'][pred]}），概率：{prob}\\n\")\n"
   ]
  },
  {
   "cell_type": "code",
   "execution_count": null,
   "metadata": {},
   "outputs": [],
   "source": [
    "# tensorboard --logdir=runs"
   ]
  }
 ],
 "metadata": {
  "kaggle": {
   "accelerator": "gpu",
   "dataSources": [
    {
     "datasetId": 134082,
     "sourceId": 318737,
     "sourceType": "datasetVersion"
    },
    {
     "datasetId": 7488876,
     "sourceId": 11912148,
     "sourceType": "datasetVersion"
    }
   ],
   "dockerImageVersionId": 31041,
   "isGpuEnabled": true,
   "isInternetEnabled": true,
   "language": "python",
   "sourceType": "notebook"
  },
  "kernelspec": {
   "display_name": "Python 3",
   "language": "python",
   "name": "python3"
  },
  "language_info": {
   "codemirror_mode": {
    "name": "ipython",
    "version": 3
   },
   "file_extension": ".py",
   "mimetype": "text/x-python",
   "name": "python",
   "nbconvert_exporter": "python",
   "pygments_lexer": "ipython3",
   "version": "3.11.11"
  }
 },
 "nbformat": 4,
 "nbformat_minor": 4
}
