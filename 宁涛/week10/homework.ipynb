{
 "cells": [
  {
   "cell_type": "code",
   "execution_count": 1,
   "id": "d04fc178",
   "metadata": {},
   "outputs": [
    {
     "name": "stderr",
     "output_type": "stream",
     "text": [
      "d:\\anaconda\\envs\\deepstudy\\Lib\\site-packages\\tqdm\\auto.py:21: TqdmWarning: IProgress not found. Please update jupyter and ipywidgets. See https://ipywidgets.readthedocs.io/en/stable/user_install.html\n",
      "  from .autonotebook import tqdm as notebook_tqdm\n",
      "The cache for model files in Transformers v4.22.0 has been updated. Migrating your old cache. This is a one-time only operation. You can interrupt this and resume the migration later on by calling `transformers.utils.move_cache()`.\n",
      "0it [00:00, ?it/s]\n"
     ]
    }
   ],
   "source": [
    "import torch\n",
    "import torch.nn as nn\n",
    "from torch.optim import Adam\n",
    "from transformers import AutoTokenizer, AutoModelForSequenceClassification\n",
    "from torch.utils.data import DataLoader\n",
    "from torch.utils.tensorboard import SummaryWriter\n",
    "from sklearn.model_selection import train_test_split\n",
    "\n",
    "import pandas as pd\n",
    "from tqdm import tqdm "
   ]
  },
  {
   "cell_type": "code",
   "execution_count": 22,
   "id": "24383851",
   "metadata": {},
   "outputs": [],
   "source": [
    "device = 'cuda' if torch.cuda.is_available() else 'cpu'\n",
    "writer = SummaryWriter()"
   ]
  },
  {
   "cell_type": "code",
   "execution_count": 3,
   "id": "7ea26544",
   "metadata": {},
   "outputs": [
    {
     "data": {
      "text/html": [
       "<div>\n",
       "<style scoped>\n",
       "    .dataframe tbody tr th:only-of-type {\n",
       "        vertical-align: middle;\n",
       "    }\n",
       "\n",
       "    .dataframe tbody tr th {\n",
       "        vertical-align: top;\n",
       "    }\n",
       "\n",
       "    .dataframe thead th {\n",
       "        text-align: right;\n",
       "    }\n",
       "</style>\n",
       "<table border=\"1\" class=\"dataframe\">\n",
       "  <thead>\n",
       "    <tr style=\"text-align: right;\">\n",
       "      <th></th>\n",
       "      <th>爬取时间(__time)</th>\n",
       "      <th>爬取链接(__url)</th>\n",
       "      <th>商品ID(product_id)</th>\n",
       "      <th>评价时间(publish_time)</th>\n",
       "      <th>评分（总分5分）(score)</th>\n",
       "      <th>评价内容(content)</th>\n",
       "      <th>评价者(author_name)</th>\n",
       "      <th>评价者会员等级(author_level)</th>\n",
       "      <th>商品sku(product_sku)</th>\n",
       "      <th>评价标签(tags)</th>\n",
       "    </tr>\n",
       "  </thead>\n",
       "  <tbody>\n",
       "    <tr>\n",
       "      <th>0</th>\n",
       "      <td>2019-03-08 00:50:34</td>\n",
       "      <td>https://sclub.jd.com/comment/productPageCommen...</td>\n",
       "      <td>4722324</td>\n",
       "      <td>1550631798</td>\n",
       "      <td>5</td>\n",
       "      <td>此用户未填写评价内容</td>\n",
       "      <td>j***e</td>\n",
       "      <td>注册会员</td>\n",
       "      <td>单机版 小D黑色</td>\n",
       "      <td>[]</td>\n",
       "    </tr>\n",
       "    <tr>\n",
       "      <th>1</th>\n",
       "      <td>2019-03-08 00:50:34</td>\n",
       "      <td>https://sclub.jd.com/comment/productPageCommen...</td>\n",
       "      <td>4722324</td>\n",
       "      <td>1550633151</td>\n",
       "      <td>5</td>\n",
       "      <td>此用户未填写评价内容</td>\n",
       "      <td>c***n</td>\n",
       "      <td>钻石会员</td>\n",
       "      <td>单机版 小D黑色</td>\n",
       "      <td>[]</td>\n",
       "    </tr>\n",
       "    <tr>\n",
       "      <th>2</th>\n",
       "      <td>2019-03-08 00:50:34</td>\n",
       "      <td>https://sclub.jd.com/comment/productPageCommen...</td>\n",
       "      <td>4722324</td>\n",
       "      <td>1550633330</td>\n",
       "      <td>3</td>\n",
       "      <td>此用户未填写评价内容</td>\n",
       "      <td>j***1</td>\n",
       "      <td>银牌会员</td>\n",
       "      <td>单机版 小D黑色</td>\n",
       "      <td>[]</td>\n",
       "    </tr>\n",
       "    <tr>\n",
       "      <th>3</th>\n",
       "      <td>2019-03-08 00:50:34</td>\n",
       "      <td>https://sclub.jd.com/comment/productPageCommen...</td>\n",
       "      <td>4722324</td>\n",
       "      <td>1550633401</td>\n",
       "      <td>5</td>\n",
       "      <td>此用户未填写评价内容</td>\n",
       "      <td>苗***4</td>\n",
       "      <td>钻石会员</td>\n",
       "      <td>单机版 小D黑色</td>\n",
       "      <td>[]</td>\n",
       "    </tr>\n",
       "    <tr>\n",
       "      <th>4</th>\n",
       "      <td>2019-03-08 00:50:33</td>\n",
       "      <td>https://sclub.jd.com/comment/productPageCommen...</td>\n",
       "      <td>4722324</td>\n",
       "      <td>1550633461</td>\n",
       "      <td>5</td>\n",
       "      <td>此用户未填写评价内容</td>\n",
       "      <td>J***3</td>\n",
       "      <td>注册会员</td>\n",
       "      <td>单机版 小D黑色</td>\n",
       "      <td>[]</td>\n",
       "    </tr>\n",
       "  </tbody>\n",
       "</table>\n",
       "</div>"
      ],
      "text/plain": [
       "          爬取时间(__time)                                        爬取链接(__url)  \\\n",
       "0  2019-03-08 00:50:34  https://sclub.jd.com/comment/productPageCommen...   \n",
       "1  2019-03-08 00:50:34  https://sclub.jd.com/comment/productPageCommen...   \n",
       "2  2019-03-08 00:50:34  https://sclub.jd.com/comment/productPageCommen...   \n",
       "3  2019-03-08 00:50:34  https://sclub.jd.com/comment/productPageCommen...   \n",
       "4  2019-03-08 00:50:33  https://sclub.jd.com/comment/productPageCommen...   \n",
       "\n",
       "   商品ID(product_id)  评价时间(publish_time)  评分（总分5分）(score) 评价内容(content)  \\\n",
       "0           4722324          1550631798                5    此用户未填写评价内容   \n",
       "1           4722324          1550633151                5    此用户未填写评价内容   \n",
       "2           4722324          1550633330                3    此用户未填写评价内容   \n",
       "3           4722324          1550633401                5    此用户未填写评价内容   \n",
       "4           4722324          1550633461                5    此用户未填写评价内容   \n",
       "\n",
       "  评价者(author_name) 评价者会员等级(author_level) 商品sku(product_sku) 评价标签(tags)  \n",
       "0            j***e                  注册会员           单机版 小D黑色         []  \n",
       "1            c***n                  钻石会员           单机版 小D黑色         []  \n",
       "2            j***1                  银牌会员           单机版 小D黑色         []  \n",
       "3            苗***4                  钻石会员           单机版 小D黑色         []  \n",
       "4            J***3                  注册会员           单机版 小D黑色         []  "
      ]
     },
     "execution_count": 3,
     "metadata": {},
     "output_type": "execute_result"
    }
   ],
   "source": [
    "df = pd.read_excel('jd_comment_data.xlsx')\n",
    "\n",
    "df.head()"
   ]
  },
  {
   "cell_type": "code",
   "execution_count": 4,
   "id": "b679cec2",
   "metadata": {},
   "outputs": [
    {
     "data": {
      "text/plain": [
       "Index(['爬取时间(__time)', '爬取链接(__url)', '商品ID(product_id)', '评价时间(publish_time)',\n",
       "       '评分（总分5分）(score)', '评价内容(content)', '评价者(author_name)',\n",
       "       '评价者会员等级(author_level)', '商品sku(product_sku)', '评价标签(tags)'],\n",
       "      dtype='object')"
      ]
     },
     "execution_count": 4,
     "metadata": {},
     "output_type": "execute_result"
    }
   ],
   "source": [
    "df.columns"
   ]
  },
  {
   "cell_type": "code",
   "execution_count": 5,
   "id": "7a63f5ca",
   "metadata": {},
   "outputs": [
    {
     "data": {
      "text/html": [
       "<div>\n",
       "<style scoped>\n",
       "    .dataframe tbody tr th:only-of-type {\n",
       "        vertical-align: middle;\n",
       "    }\n",
       "\n",
       "    .dataframe tbody tr th {\n",
       "        vertical-align: top;\n",
       "    }\n",
       "\n",
       "    .dataframe thead th {\n",
       "        text-align: right;\n",
       "    }\n",
       "</style>\n",
       "<table border=\"1\" class=\"dataframe\">\n",
       "  <thead>\n",
       "    <tr style=\"text-align: right;\">\n",
       "      <th></th>\n",
       "      <th>评价内容(content)</th>\n",
       "      <th>评分（总分5分）(score)</th>\n",
       "    </tr>\n",
       "  </thead>\n",
       "  <tbody>\n",
       "    <tr>\n",
       "      <th>15</th>\n",
       "      <td>一般般，一分钱一分货吧</td>\n",
       "      <td>1</td>\n",
       "    </tr>\n",
       "    <tr>\n",
       "      <th>18</th>\n",
       "      <td>商品质量很好，很满意，配送速度快啊，而且配送员态度也非常好。</td>\n",
       "      <td>4</td>\n",
       "    </tr>\n",
       "    <tr>\n",
       "      <th>19</th>\n",
       "      <td>。。。</td>\n",
       "      <td>5</td>\n",
       "    </tr>\n",
       "    <tr>\n",
       "      <th>22</th>\n",
       "      <td>刘慧敏提莫摸摸摸休息泽TCL退咯的一组婆婆破鼓规土局</td>\n",
       "      <td>5</td>\n",
       "    </tr>\n",
       "    <tr>\n",
       "      <th>25</th>\n",
       "      <td>还好还好还好还好红红火火好很好好</td>\n",
       "      <td>5</td>\n",
       "    </tr>\n",
       "    <tr>\n",
       "      <th>...</th>\n",
       "      <td>...</td>\n",
       "      <td>...</td>\n",
       "    </tr>\n",
       "    <tr>\n",
       "      <th>71813</th>\n",
       "      <td>还可以，挺合身！物流挺好的！！快</td>\n",
       "      <td>5</td>\n",
       "    </tr>\n",
       "    <tr>\n",
       "      <th>71814</th>\n",
       "      <td>还可以</td>\n",
       "      <td>5</td>\n",
       "    </tr>\n",
       "    <tr>\n",
       "      <th>71815</th>\n",
       "      <td>没有色差，穿上很舒服，到货快。</td>\n",
       "      <td>5</td>\n",
       "    </tr>\n",
       "    <tr>\n",
       "      <th>71816</th>\n",
       "      <td>可以</td>\n",
       "      <td>5</td>\n",
       "    </tr>\n",
       "    <tr>\n",
       "      <th>71817</th>\n",
       "      <td>物有所值 客服贴心东西收到以后马上查看，发现与图片描述一致，超级喜欢，卖家发货 速度很快 ，...</td>\n",
       "      <td>5</td>\n",
       "    </tr>\n",
       "  </tbody>\n",
       "</table>\n",
       "<p>44422 rows × 2 columns</p>\n",
       "</div>"
      ],
      "text/plain": [
       "                                           评价内容(content)  评分（总分5分）(score)\n",
       "15                                           一般般，一分钱一分货吧                1\n",
       "18                        商品质量很好，很满意，配送速度快啊，而且配送员态度也非常好。                4\n",
       "19                                                   。。。                5\n",
       "22                            刘慧敏提莫摸摸摸休息泽TCL退咯的一组婆婆破鼓规土局                5\n",
       "25                                      还好还好还好还好红红火火好很好好                5\n",
       "...                                                  ...              ...\n",
       "71813                                   还可以，挺合身！物流挺好的！！快                5\n",
       "71814                                                还可以                5\n",
       "71815                                    没有色差，穿上很舒服，到货快。                5\n",
       "71816                                                 可以                5\n",
       "71817  物有所值 客服贴心东西收到以后马上查看，发现与图片描述一致，超级喜欢，卖家发货 速度很快 ，...                5\n",
       "\n",
       "[44422 rows x 2 columns]"
      ]
     },
     "execution_count": 5,
     "metadata": {},
     "output_type": "execute_result"
    }
   ],
   "source": [
    "filterd= df['评价内容(content)'] != \"此用户未填写评价内容\"\n",
    "data_df = df[filterd][['评价内容(content)','评分（总分5分）(score)']]\n",
    "data_df"
   ]
  },
  {
   "cell_type": "code",
   "execution_count": 6,
   "id": "52dc4a2d",
   "metadata": {},
   "outputs": [
    {
     "data": {
      "text/plain": [
       "array([['一般般，一分钱一分货吧', 1],\n",
       "       ['商品质量很好，很满意，配送速度快啊，而且配送员态度也非常好。', 4],\n",
       "       ['。。。', 5],\n",
       "       ...,\n",
       "       ['没有色差，穿上很舒服，到货快。', 5],\n",
       "       ['可以', 5],\n",
       "       ['物有所值 客服贴心东西收到以后马上查看，发现与图片描述一致，超级喜欢，卖家发货 速度很快 ，，服务也很到位，给老板点个赞，下次还会来购买.........',\n",
       "        5]], dtype=object)"
      ]
     },
     "execution_count": 6,
     "metadata": {},
     "output_type": "execute_result"
    }
   ],
   "source": [
    "data = data_df.values\n",
    "data"
   ]
  },
  {
   "cell_type": "code",
   "execution_count": 7,
   "id": "a8bdecc5",
   "metadata": {},
   "outputs": [],
   "source": [
    "train ,test = train_test_split(data)"
   ]
  },
  {
   "cell_type": "code",
   "execution_count": 8,
   "id": "0191ea4f",
   "metadata": {},
   "outputs": [],
   "source": [
    "# 分词器\n",
    "tokenzier = AutoTokenizer.from_pretrained('hfl/chinese-bert-wwm')"
   ]
  },
  {
   "cell_type": "code",
   "execution_count": null,
   "id": "a542b906",
   "metadata": {},
   "outputs": [],
   "source": [
    "def collate_fun(batch_data):\n",
    "    comments = []\n",
    "    labels = []\n",
    "    for data in batch_data:\n",
    "        comments.append(data[0])\n",
    "        labels.append(int(data[1])-1)\n",
    "    \n",
    "    input_data = tokenzier(comments, return_tensors='pt', padding=True, truncation=True, max_length=512)\n",
    "    input_label = torch.tensor(labels)\n",
    "    return input_data, input_label\n",
    "\n",
    "\n",
    "train_dl = DataLoader(train, batch_size=1, collate_fn=collate_fun)\n",
    "test_dl = DataLoader(test, batch_size=1, collate_fn=collate_fun)"
   ]
  },
  {
   "cell_type": "code",
   "execution_count": null,
   "id": "ca9232e9",
   "metadata": {},
   "outputs": [],
   "source": [
    "# # 自定义DataLoader创建方法\n",
    "\n",
    "# def warp_data(batch_data):\n",
    "#     comments, lables = [],[]\n",
    "#     for bdate in batch_data:\n",
    "#         comments.append(bdate[0])\n",
    "#         lables.append(int(bdate[1])-1)  # 标签取值[0-4]\n",
    "    \n",
    "#     # 转换模型输入数据\n",
    "#     input_data = tokenzier(comments, return_tensors='pt', padding=True, truncation=True, max_length=512)\n",
    "#     labels_data = torch.tensor(lables)\n",
    "    \n",
    "#     return input_data, labels_data\n",
    "\n",
    "# train_dl = DataLoader(train, batch_size=20, shuffle=True, collate_fn = warp_data)\n",
    "# test_dl = DataLoader(test, batch_size=20, shuffle=False, collate_fn = warp_data)"
   ]
  },
  {
   "cell_type": "code",
   "execution_count": 11,
   "id": "4d5b5c80",
   "metadata": {},
   "outputs": [
    {
     "name": "stderr",
     "output_type": "stream",
     "text": [
      "Some weights of BertForSequenceClassification were not initialized from the model checkpoint at hfl/chinese-bert-wwm and are newly initialized: ['classifier.bias', 'classifier.weight']\n",
      "You should probably TRAIN this model on a down-stream task to be able to use it for predictions and inference.\n",
      "Some weights of BertForSequenceClassification were not initialized from the model checkpoint at hfl/chinese-bert-wwm and are newly initialized: ['classifier.bias', 'classifier.weight']\n",
      "You should probably TRAIN this model on a down-stream task to be able to use it for predictions and inference.\n"
     ]
    }
   ],
   "source": [
    "# model_1 模型微调 Supervised Fine Tuning\n",
    "# model_2 迁移学习 Transfer Learning 冻结bert\n",
    "model_1 = AutoModelForSequenceClassification.from_pretrained('hfl/chinese-bert-wwm', num_labels=5)\n",
    "model_2 = AutoModelForSequenceClassification.from_pretrained('hfl/chinese-bert-wwm', num_labels=5)"
   ]
  },
  {
   "cell_type": "code",
   "execution_count": 12,
   "id": "18c437e1",
   "metadata": {},
   "outputs": [],
   "source": [
    "model_1 = model_1.to(device)\n",
    "model_2 = model_2.to(device)\n",
    "model_2.bert.trainable = False"
   ]
  },
  {
   "cell_type": "code",
   "execution_count": 13,
   "id": "422d2b5c",
   "metadata": {},
   "outputs": [],
   "source": [
    "# loss、optim\n",
    "loss_fn1 = nn.CrossEntropyLoss()\n",
    "optim1 = Adam(model_1.parameters(), lr=1e-4)\n",
    "\n",
    "loss_fn2 = nn.CrossEntropyLoss()\n",
    "optim2 = Adam(model_2.parameters(), lr=1e-3)"
   ]
  },
  {
   "cell_type": "code",
   "execution_count": null,
   "id": "36bbf176",
   "metadata": {},
   "outputs": [],
   "source": [
    "model1_train_loss_cnt = 0\n",
    "\n",
    "for epoch in range(3):\n",
    "    pbar = tqdm(train_dl)\n",
    "    for input_data, labels_data in pbar:\n",
    "        datas = { k:v.to(device) for k,v in input_data.items() }\n",
    "        labels = labels_data.to(device)\n",
    "        \n",
    "        result = model_1(**datas)\n",
    "        loss = loss_fn1(result.logits, labels)\n",
    "        \n",
    "        pbar.set_description(f'epoch:{epoch} train_loss:{loss.item():.4f}')\n",
    "\n",
    "        writer.add_scalar(\"Fine Tuning Train Loss\", loss, model1_train_loss_cnt)\n",
    "        model1_train_loss_cnt += 1\n",
    "        \n",
    "        loss.backward()\n",
    "        optim1.step()\n",
    "        \n",
    "        model_1.zero_grad()\n",
    "\n",
    "\n",
    "torch.save(model_1.state_dict(),'model_1.pt')"
   ]
  },
  {
   "cell_type": "code",
   "execution_count": null,
   "id": "93b7f348",
   "metadata": {},
   "outputs": [],
   "source": [
    "model2_train_loss_cnt = 0\n",
    "\n",
    "for epoch in range(3):\n",
    "    pbar = tqdm(train_dl)\n",
    "    for input_data, labels_data in pbar:\n",
    "        datas = { k:v.to(device) for k,v in input_data.items() }\n",
    "        labels = labels_data.to(device)\n",
    "        \n",
    "        result = model_2(**datas)\n",
    "        loss = loss_fn2(result.logits, labels)\n",
    "        \n",
    "        pbar.set_description(f'epoch:{epoch} train_loss:{loss.item():.4f}')\n",
    "\n",
    "        writer.add_scalar(\"Transfer Learning Train Loss\", loss, model2_train_loss_cnt)\n",
    "        model2_train_loss_cnt += 1\n",
    "        \n",
    "        loss.backward()\n",
    "        optim2.step()\n",
    "        \n",
    "        model_2.zero_grad()\n",
    "\n",
    "\n",
    "torch.save(model_2.state_dict(),'model_2.pt')"
   ]
  },
  {
   "cell_type": "code",
   "execution_count": null,
   "id": "05e19f8d",
   "metadata": {},
   "outputs": [],
   "source": [
    "model_1.eval()\n",
    "model_2.eval()\n",
    "pbar = tqdm(test_dl)\n",
    "\n",
    "\n",
    "correct1, correct2 = 0,0\n",
    "\n",
    "for input_data, labels_data in pbar:\n",
    "    datas = { k:v.to(device) for k,v in input_data.items() }\n",
    "    labels = labels_data.to(device)\n",
    "\n",
    "    with torch.no_grad():\n",
    "        result1 = model_1(**datas)\n",
    "        result2 = model_2(**datas)\n",
    "\n",
    "    predict1 = torch.argmax(result1.logits, dim=-1)\n",
    "    predict2 = torch.argmax(result2.logits, dim=-1)\n",
    "\n",
    "    correct1 += (predict1 == labels).sum()\n",
    "    correct2 += (predict1 == labels).sum()"
   ]
  }
 ],
 "metadata": {
  "kernelspec": {
   "display_name": "deepstudy",
   "language": "python",
   "name": "python3"
  },
  "language_info": {
   "codemirror_mode": {
    "name": "ipython",
    "version": 3
   },
   "file_extension": ".py",
   "mimetype": "text/x-python",
   "name": "python",
   "nbconvert_exporter": "python",
   "pygments_lexer": "ipython3",
   "version": "3.12.8"
  }
 },
 "nbformat": 4,
 "nbformat_minor": 5
}
