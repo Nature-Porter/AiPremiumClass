{
 "cells": [
  {
   "cell_type": "code",
   "execution_count": 1,
   "id": "74f534f8",
   "metadata": {
    "_cell_guid": "b1076dfc-b9ad-4769-8c92-a6c4dae69d19",
    "_uuid": "8f2839f25d086af736a60e9eeb907d3b93b6e0e5",
    "execution": {
     "iopub.execute_input": "2025-04-17T14:06:03.905152Z",
     "iopub.status.busy": "2025-04-17T14:06:03.904818Z",
     "iopub.status.idle": "2025-04-17T14:06:06.078070Z",
     "shell.execute_reply": "2025-04-17T14:06:06.076829Z"
    },
    "papermill": {
     "duration": 2.17916,
     "end_time": "2025-04-17T14:06:06.079718",
     "exception": false,
     "start_time": "2025-04-17T14:06:03.900558",
     "status": "completed"
    },
    "tags": []
   },
   "outputs": [
    {
     "name": "stdout",
     "output_type": "stream",
     "text": [
      "/kaggle/input/doubanmovieshortcomments/DMSC.csv\n",
      "/kaggle/input/stopwords/stopwords.txt\n"
     ]
    }
   ],
   "source": [
    "# This Python 3 environment comes with many helpful analytics libraries installed\n",
    "# It is defined by the kaggle/python Docker image: https://github.com/kaggle/docker-python\n",
    "# For example, here's several helpful packages to load\n",
    "\n",
    "import numpy as np # linear algebra\n",
    "import pandas as pd # data processing, CSV file I/O (e.g. pd.read_csv)\n",
    "\n",
    "# Input data files are available in the read-only \"../input/\" directory\n",
    "# For example, running this (by clicking run or pressing Shift+Enter) will list all files under the input directory\n",
    "\n",
    "import os\n",
    "for dirname, _, filenames in os.walk('/kaggle/input'):\n",
    "    for filename in filenames:\n",
    "        print(os.path.join(dirname, filename))\n",
    "\n",
    "# You can write up to 20GB to the current directory (/kaggle/working/) that gets preserved as output when you create a version using \"Save & Run All\" \n",
    "# You can also write temporary files to /kaggle/temp/, but they won't be saved outside of the current session"
   ]
  },
  {
   "cell_type": "markdown",
   "id": "ab069df1",
   "metadata": {
    "papermill": {
     "duration": 0.002163,
     "end_time": "2025-04-17T14:06:06.084838",
     "exception": false,
     "start_time": "2025-04-17T14:06:06.082675",
     "status": "completed"
    },
    "tags": []
   },
   "source": [
    "#### 1、使用豆瓣电影评论数据完成文本分类处理：文本预处理，加载、构建词典。（评论得分1～2\t表示negative取值：0，评论得分4～5代表positive取值：1）\n",
    "https://www.kaggle.com/datasets/utmhikari/doubanmovieshortcomments"
   ]
  },
  {
   "cell_type": "code",
   "execution_count": 2,
   "id": "3e49ebaa",
   "metadata": {
    "execution": {
     "iopub.execute_input": "2025-04-17T14:06:06.091485Z",
     "iopub.status.busy": "2025-04-17T14:06:06.090876Z",
     "iopub.status.idle": "2025-04-17T14:06:06.472551Z",
     "shell.execute_reply": "2025-04-17T14:06:06.471543Z"
    },
    "papermill": {
     "duration": 0.387182,
     "end_time": "2025-04-17T14:06:06.474372",
     "exception": false,
     "start_time": "2025-04-17T14:06:06.087190",
     "status": "completed"
    },
    "tags": []
   },
   "outputs": [],
   "source": [
    "import csv\n",
    "import jieba\n",
    "import pickle"
   ]
  },
  {
   "cell_type": "code",
   "execution_count": 3,
   "id": "3a28189c",
   "metadata": {
    "execution": {
     "iopub.execute_input": "2025-04-17T14:06:06.480642Z",
     "iopub.status.busy": "2025-04-17T14:06:06.480330Z",
     "iopub.status.idle": "2025-04-17T14:06:06.489032Z",
     "shell.execute_reply": "2025-04-17T14:06:06.487961Z"
    },
    "papermill": {
     "duration": 0.013723,
     "end_time": "2025-04-17T14:06:06.490727",
     "exception": false,
     "start_time": "2025-04-17T14:06:06.477004",
     "status": "completed"
    },
    "tags": []
   },
   "outputs": [],
   "source": [
    "# 加载停用词\n",
    "stopwords = [line.strip() for line in open('/kaggle/input/stopwords/stopwords.txt', 'r', encoding='utf-8')] + ['PAD']"
   ]
  },
  {
   "cell_type": "code",
   "execution_count": 4,
   "id": "b0348fef",
   "metadata": {
    "execution": {
     "iopub.execute_input": "2025-04-17T14:06:06.497323Z",
     "iopub.status.busy": "2025-04-17T14:06:06.496982Z",
     "iopub.status.idle": "2025-04-17T14:19:37.044698Z",
     "shell.execute_reply": "2025-04-17T14:19:37.043386Z"
    },
    "papermill": {
     "duration": 810.554046,
     "end_time": "2025-04-17T14:19:37.047418",
     "exception": false,
     "start_time": "2025-04-17T14:06:06.493372",
     "status": "completed"
    },
    "tags": []
   },
   "outputs": [
    {
     "name": "stderr",
     "output_type": "stream",
     "text": [
      "Building prefix dict from the default dictionary ...\n",
      "Dumping model to file cache /tmp/jieba.cache\n",
      "Loading model cost 0.813 seconds.\n",
      "Prefix dict has been built successfully.\n"
     ]
    },
    {
     "name": "stdout",
     "output_type": "stream",
     "text": [
      "1650495\n"
     ]
    }
   ],
   "source": [
    "# 进行分词\n",
    "comments_list = []\n",
    "with open('/kaggle/input/doubanmovieshortcomments/DMSC.csv') as f:\n",
    "    reader = csv.DictReader(f)\n",
    "    for row in reader:\n",
    "        comment = row['Comment'].strip()\n",
    "        star = row['Star'].strip()\n",
    "        if (not comment) or (not star):continue\n",
    "        star = int(star)\n",
    "        if star <= 2:\n",
    "            words = jieba.lcut(comment)\n",
    "            comments_list.append(([item for item in words if item not in stopwords], 0))\n",
    "        elif star >= 4:\n",
    "            words = jieba.lcut(comment)\n",
    "            comments_list.append(([item for item in words if item not in stopwords], 1))\n",
    "        \n",
    "print(len(comments_list)) # 1650495"
   ]
  },
  {
   "cell_type": "code",
   "execution_count": 5,
   "id": "cc125c28",
   "metadata": {
    "collapsed": true,
    "execution": {
     "iopub.execute_input": "2025-04-17T14:19:37.054349Z",
     "iopub.status.busy": "2025-04-17T14:19:37.054015Z",
     "iopub.status.idle": "2025-04-17T14:19:41.288033Z",
     "shell.execute_reply": "2025-04-17T14:19:41.286962Z"
    },
    "jupyter": {
     "outputs_hidden": true
    },
    "papermill": {
     "duration": 4.239659,
     "end_time": "2025-04-17T14:19:41.289873",
     "exception": false,
     "start_time": "2025-04-17T14:19:37.050214",
     "status": "completed"
    },
    "tags": []
   },
   "outputs": [
    {
     "data": {
      "image/png": "[encoded data removed]",
      "text/plain": [
       "<Figure size 640x480 with 1 Axes>"
      ]
     },
     "metadata": {},
     "output_type": "display_data"
    }
   ],
   "source": [
    "# 查看数据分布\n",
    "import matplotlib.pyplot as plt\n",
    "\n",
    "comments_len = [len(c) for c,s in comments_list]\n",
    "plt.hist(comments_len, bins=10)\n",
    "plt.show()"
   ]
  },
  {
   "cell_type": "code",
   "execution_count": 6,
   "id": "667988c3",
   "metadata": {
    "execution": {
     "iopub.execute_input": "2025-04-17T14:19:41.297123Z",
     "iopub.status.busy": "2025-04-17T14:19:41.296780Z",
     "iopub.status.idle": "2025-04-17T14:19:56.010935Z",
     "shell.execute_reply": "2025-04-17T14:19:56.009936Z"
    },
    "papermill": {
     "duration": 14.719978,
     "end_time": "2025-04-17T14:19:56.012932",
     "exception": false,
     "start_time": "2025-04-17T14:19:41.292954",
     "status": "completed"
    },
    "tags": []
   },
   "outputs": [
    {
     "name": "stdout",
     "output_type": "stream",
     "text": [
      "1220249\n"
     ]
    }
   ],
   "source": [
    "# 取分词长度5-100的评论\n",
    "comments_list = [c for c in comments_list if len(c[0]) in range(5, 100)]\n",
    "print(len(comments_list)) # 1220249\n",
    "# 保存分词结果\n",
    "with open('comments_list.pkl', 'wb') as f:\n",
    "    pickle.dump(comments_list, f)"
   ]
  },
  {
   "cell_type": "code",
   "execution_count": 7,
   "id": "b1c912a5",
   "metadata": {
    "execution": {
     "iopub.execute_input": "2025-04-17T14:19:56.020641Z",
     "iopub.status.busy": "2025-04-17T14:19:56.020312Z",
     "iopub.status.idle": "2025-04-17T14:19:59.356600Z",
     "shell.execute_reply": "2025-04-17T14:19:59.355526Z"
    },
    "papermill": {
     "duration": 3.342194,
     "end_time": "2025-04-17T14:19:59.358261",
     "exception": false,
     "start_time": "2025-04-17T14:19:56.016067",
     "status": "completed"
    },
    "tags": []
   },
   "outputs": [
    {
     "name": "stdout",
     "output_type": "stream",
     "text": [
      "278670\n"
     ]
    }
   ],
   "source": [
    "# 构建词典\n",
    "vocab = {}\n",
    "word_set = set()\n",
    "for comment, _ in comments_list:\n",
    "    word_set.update(comment)\n",
    "word_list = ['PAD', 'UNK'] + list(word_set)\n",
    "vocab = {word: i for i, word in enumerate(word_list)}\n",
    "print(len(vocab)) # 278670\n",
    "# 保存词典\n",
    "with open('vocab.pkl', 'wb') as f:\n",
    "    pickle.dump(vocab, f)"
   ]
  }
 ],
 "metadata": {
  "kaggle": {
   "accelerator": "none",
   "dataSources": [
    {
     "datasetId": 600,
     "sourceId": 1683,
     "sourceType": "datasetVersion"
    },
    {
     "datasetId": 7170435,
     "sourceId": 11445582,
     "sourceType": "datasetVersion"
    }
   ],
   "dockerImageVersionId": 31012,
   "isGpuEnabled": false,
   "isInternetEnabled": true,
   "language": "python",
   "sourceType": "notebook"
  },
  "kernelspec": {
   "display_name": "Python 3",
   "language": "python",
   "name": "python3"
  },
  "language_info": {
   "codemirror_mode": {
    "name": "ipython",
    "version": 3
   },
   "file_extension": ".py",
   "mimetype": "text/x-python",
   "name": "python",
   "nbconvert_exporter": "python",
   "pygments_lexer": "ipython3",
   "version": "3.11.11"
  },
  "papermill": {
   "default_parameters": {},
   "duration": 843.771803,
   "end_time": "2025-04-17T14:20:02.185221",
   "environment_variables": {},
   "exception": null,
   "input_path": "__notebook__.ipynb",
   "output_path": "__notebook__.ipynb",
   "parameters": {},
   "start_time": "2025-04-17T14:05:58.413418",
   "version": "2.6.0"
  }
 },
 "nbformat": 4,
 "nbformat_minor": 5
}
