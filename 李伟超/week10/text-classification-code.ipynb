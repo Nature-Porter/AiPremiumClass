{
 "cells": [
  {
   "cell_type": "code",
   "execution_count": 1,
   "id": "1430db41",
   "metadata": {
    "_cell_guid": "b1076dfc-b9ad-4769-8c92-a6c4dae69d19",
    "_uuid": "8f2839f25d086af736a60e9eeb907d3b93b6e0e5",
    "execution": {
     "iopub.execute_input": "2025-05-21T16:07:41.044525Z",
     "iopub.status.busy": "2025-05-21T16:07:41.044330Z",
     "iopub.status.idle": "2025-05-21T16:07:42.469208Z",
     "shell.execute_reply": "2025-05-21T16:07:42.468202Z"
    },
    "papermill": {
     "duration": 1.429839,
     "end_time": "2025-05-21T16:07:42.470729",
     "exception": false,
     "start_time": "2025-05-21T16:07:41.040890",
     "status": "completed"
    },
    "tags": []
   },
   "outputs": [
    {
     "name": "stdout",
     "output_type": "stream",
     "text": [
      "/kaggle/input/jd_comment_with_label/jd_comment_data.xlsx\n"
     ]
    }
   ],
   "source": [
    "# This Python 3 environment comes with many helpful analytics libraries installed\n",
    "# It is defined by the kaggle/python Docker image: https://github.com/kaggle/docker-python\n",
    "# For example, here's several helpful packages to load\n",
    "\n",
    "import numpy as np # linear algebra\n",
    "import pandas as pd # data processing, CSV file I/O (e.g. pd.read_csv)\n",
    "\n",
    "# Input data files are available in the read-only \"../input/\" directory\n",
    "# For example, running this (by clicking run or pressing Shift+Enter) will list all files under the input directory\n",
    "\n",
    "import os\n",
    "for dirname, _, filenames in os.walk('/kaggle/input'):\n",
    "    for filename in filenames:\n",
    "        print(os.path.join(dirname, filename))\n",
    "\n",
    "# You can write up to 20GB to the current directory (/kaggle/working/) that gets preserved as output when you create a version using \"Save & Run All\" \n",
    "# You can also write temporary files to /kaggle/temp/, but they won't be saved outside of the current session"
   ]
  },
  {
   "cell_type": "code",
   "execution_count": 2,
   "id": "bcef6323",
   "metadata": {
    "execution": {
     "iopub.execute_input": "2025-05-21T16:07:42.482721Z",
     "iopub.status.busy": "2025-05-21T16:07:42.482202Z",
     "iopub.status.idle": "2025-05-21T16:08:08.462505Z",
     "shell.execute_reply": "2025-05-21T16:08:08.461896Z"
    },
    "papermill": {
     "duration": 25.988106,
     "end_time": "2025-05-21T16:08:08.463784",
     "exception": false,
     "start_time": "2025-05-21T16:07:42.475678",
     "status": "completed"
    },
    "tags": []
   },
   "outputs": [
    {
     "name": "stderr",
     "output_type": "stream",
     "text": [
      "2025-05-21 16:07:57.638409: E external/local_xla/xla/stream_executor/cuda/cuda_fft.cc:477] Unable to register cuFFT factory: Attempting to register factory for plugin cuFFT when one has already been registered\n",
      "WARNING: All log messages before absl::InitializeLog() is called are written to STDERR\n",
      "E0000 00:00:1747843677.821579      19 cuda_dnn.cc:8310] Unable to register cuDNN factory: Attempting to register factory for plugin cuDNN when one has already been registered\n",
      "E0000 00:00:1747843677.877322      19 cuda_blas.cc:1418] Unable to register cuBLAS factory: Attempting to register factory for plugin cuBLAS when one has already been registered\n"
     ]
    }
   ],
   "source": [
    "import pandas as pd\n",
    "import torch\n",
    "from torch.utils.data import Dataset, DataLoader\n",
    "from transformers import AutoTokenizer, AutoModelForSequenceClassification\n",
    "from torch.optim import AdamW\n",
    "from transformers import get_scheduler\n",
    "from sklearn.model_selection import train_test_split\n",
    "from tqdm import tqdm\n",
    "from torch.utils.tensorboard import SummaryWriter\n",
    "import os"
   ]
  },
  {
   "cell_type": "code",
   "execution_count": 3,
   "id": "88206b27",
   "metadata": {
    "execution": {
     "iopub.execute_input": "2025-05-21T16:08:08.469911Z",
     "iopub.status.busy": "2025-05-21T16:08:08.469469Z",
     "iopub.status.idle": "2025-05-21T16:08:15.573836Z",
     "shell.execute_reply": "2025-05-21T16:08:15.573107Z"
    },
    "papermill": {
     "duration": 7.10869,
     "end_time": "2025-05-21T16:08:15.575141",
     "exception": false,
     "start_time": "2025-05-21T16:08:08.466451",
     "status": "completed"
    },
    "tags": []
   },
   "outputs": [
    {
     "data": {
      "application/vnd.jupyter.widget-view+json": {
       "model_id": "1d243625fa714b2cb4980963e0a30438",
       "version_major": 2,
       "version_minor": 0
      },
      "text/plain": [
       "config.json:   0%|          | 0.00/624 [00:00<?, ?B/s]"
      ]
     },
     "metadata": {},
     "output_type": "display_data"
    },
    {
     "data": {
      "application/vnd.jupyter.widget-view+json": {
       "model_id": "2bf49759911b425ea5b6825534c57fec",
       "version_major": 2,
       "version_minor": 0
      },
      "text/plain": [
       "model.safetensors:   0%|          | 0.00/412M [00:00<?, ?B/s]"
      ]
     },
     "metadata": {},
     "output_type": "display_data"
    }
   ],
   "source": [
    "# 加载google的bert中文模型\n",
    "from transformers import AutoModel\n",
    "\n",
    "bert = AutoModel.from_pretrained('google-bert/bert-base-chinese')"
   ]
  },
  {
   "cell_type": "code",
   "execution_count": 4,
   "id": "9ca2f414",
   "metadata": {
    "execution": {
     "iopub.execute_input": "2025-05-21T16:08:15.581828Z",
     "iopub.status.busy": "2025-05-21T16:08:15.581189Z",
     "iopub.status.idle": "2025-05-21T16:08:15.668290Z",
     "shell.execute_reply": "2025-05-21T16:08:15.667536Z"
    },
    "papermill": {
     "duration": 0.091436,
     "end_time": "2025-05-21T16:08:15.669392",
     "exception": false,
     "start_time": "2025-05-21T16:08:15.577956",
     "status": "completed"
    },
    "tags": []
   },
   "outputs": [
    {
     "name": "stdout",
     "output_type": "stream",
     "text": [
      "BertConfig {\n",
      "  \"architectures\": [\n",
      "    \"BertForMaskedLM\"\n",
      "  ],\n",
      "  \"attention_probs_dropout_prob\": 0.1,\n",
      "  \"classifier_dropout\": null,\n",
      "  \"directionality\": \"bidi\",\n",
      "  \"hidden_act\": \"gelu\",\n",
      "  \"hidden_dropout_prob\": 0.1,\n",
      "  \"hidden_size\": 768,\n",
      "  \"initializer_range\": 0.02,\n",
      "  \"intermediate_size\": 3072,\n",
      "  \"layer_norm_eps\": 1e-12,\n",
      "  \"max_position_embeddings\": 512,\n",
      "  \"model_type\": \"bert\",\n",
      "  \"num_attention_heads\": 12,\n",
      "  \"num_hidden_layers\": 12,\n",
      "  \"pad_token_id\": 0,\n",
      "  \"pooler_fc_size\": 768,\n",
      "  \"pooler_num_attention_heads\": 12,\n",
      "  \"pooler_num_fc_layers\": 3,\n",
      "  \"pooler_size_per_head\": 128,\n",
      "  \"pooler_type\": \"first_token_transform\",\n",
      "  \"position_embedding_type\": \"absolute\",\n",
      "  \"transformers_version\": \"4.51.3\",\n",
      "  \"type_vocab_size\": 2,\n",
      "  \"use_cache\": true,\n",
      "  \"vocab_size\": 21128\n",
      "}\n",
      "\n"
     ]
    }
   ],
   "source": [
    "# 加载预训练模型配置参数\n",
    "from transformers import AutoConfig, BertModel\n",
    "\n",
    "config = AutoConfig.from_pretrained('google-bert/bert-base-chinese')\n",
    "\n",
    "# 添加自定义参数传给模型构建方法\n",
    "# config = AutoConfig.from_pretrained('google-bert/bert-base-chinese',foo=1,bar=True)\n",
    "\n",
    "print(config)\n"
   ]
  },
  {
   "cell_type": "code",
   "execution_count": 5,
   "id": "7ba28a81",
   "metadata": {
    "execution": {
     "iopub.execute_input": "2025-05-21T16:08:15.675259Z",
     "iopub.status.busy": "2025-05-21T16:08:15.675056Z",
     "iopub.status.idle": "2025-05-21T16:08:24.789769Z",
     "shell.execute_reply": "2025-05-21T16:08:24.788918Z"
    },
    "papermill": {
     "duration": 9.119073,
     "end_time": "2025-05-21T16:08:24.790981",
     "exception": false,
     "start_time": "2025-05-21T16:08:15.671908",
     "status": "completed"
    },
    "tags": []
   },
   "outputs": [
    {
     "name": "stdout",
     "output_type": "stream",
     "text": [
      "['爬取时间(__time)', '爬取链接(__url)', '商品ID(product_id)', '评价时间(publish_time)', '评分（总分5分）(score)', '评价内容(content)', '评价者(author_name)', '评价者会员等级(author_level)', '商品sku(product_sku)', '评价标签(tags)']\n"
     ]
    },
    {
     "data": {
      "text/html": [
       "<div>\n",
       "<style scoped>\n",
       "    .dataframe tbody tr th:only-of-type {\n",
       "        vertical-align: middle;\n",
       "    }\n",
       "\n",
       "    .dataframe tbody tr th {\n",
       "        vertical-align: top;\n",
       "    }\n",
       "\n",
       "    .dataframe thead th {\n",
       "        text-align: right;\n",
       "    }\n",
       "</style>\n",
       "<table border=\"1\" class=\"dataframe\">\n",
       "  <thead>\n",
       "    <tr style=\"text-align: right;\">\n",
       "      <th></th>\n",
       "      <th>爬取时间(__time)</th>\n",
       "      <th>爬取链接(__url)</th>\n",
       "      <th>商品ID(product_id)</th>\n",
       "      <th>评价时间(publish_time)</th>\n",
       "      <th>评分（总分5分）(score)</th>\n",
       "      <th>评价内容(content)</th>\n",
       "      <th>评价者(author_name)</th>\n",
       "      <th>评价者会员等级(author_level)</th>\n",
       "      <th>商品sku(product_sku)</th>\n",
       "      <th>评价标签(tags)</th>\n",
       "    </tr>\n",
       "  </thead>\n",
       "  <tbody>\n",
       "    <tr>\n",
       "      <th>0</th>\n",
       "      <td>2019-03-08 00:50:34</td>\n",
       "      <td>https://sclub.jd.com/comment/productPageCommen...</td>\n",
       "      <td>4722324</td>\n",
       "      <td>1550631798</td>\n",
       "      <td>5</td>\n",
       "      <td>此用户未填写评价内容</td>\n",
       "      <td>j***e</td>\n",
       "      <td>注册会员</td>\n",
       "      <td>单机版 小D黑色</td>\n",
       "      <td>[]</td>\n",
       "    </tr>\n",
       "    <tr>\n",
       "      <th>1</th>\n",
       "      <td>2019-03-08 00:50:34</td>\n",
       "      <td>https://sclub.jd.com/comment/productPageCommen...</td>\n",
       "      <td>4722324</td>\n",
       "      <td>1550633151</td>\n",
       "      <td>5</td>\n",
       "      <td>此用户未填写评价内容</td>\n",
       "      <td>c***n</td>\n",
       "      <td>钻石会员</td>\n",
       "      <td>单机版 小D黑色</td>\n",
       "      <td>[]</td>\n",
       "    </tr>\n",
       "    <tr>\n",
       "      <th>2</th>\n",
       "      <td>2019-03-08 00:50:34</td>\n",
       "      <td>https://sclub.jd.com/comment/productPageCommen...</td>\n",
       "      <td>4722324</td>\n",
       "      <td>1550633330</td>\n",
       "      <td>3</td>\n",
       "      <td>此用户未填写评价内容</td>\n",
       "      <td>j***1</td>\n",
       "      <td>银牌会员</td>\n",
       "      <td>单机版 小D黑色</td>\n",
       "      <td>[]</td>\n",
       "    </tr>\n",
       "    <tr>\n",
       "      <th>3</th>\n",
       "      <td>2019-03-08 00:50:34</td>\n",
       "      <td>https://sclub.jd.com/comment/productPageCommen...</td>\n",
       "      <td>4722324</td>\n",
       "      <td>1550633401</td>\n",
       "      <td>5</td>\n",
       "      <td>此用户未填写评价内容</td>\n",
       "      <td>苗***4</td>\n",
       "      <td>钻石会员</td>\n",
       "      <td>单机版 小D黑色</td>\n",
       "      <td>[]</td>\n",
       "    </tr>\n",
       "    <tr>\n",
       "      <th>4</th>\n",
       "      <td>2019-03-08 00:50:33</td>\n",
       "      <td>https://sclub.jd.com/comment/productPageCommen...</td>\n",
       "      <td>4722324</td>\n",
       "      <td>1550633461</td>\n",
       "      <td>5</td>\n",
       "      <td>此用户未填写评价内容</td>\n",
       "      <td>J***3</td>\n",
       "      <td>注册会员</td>\n",
       "      <td>单机版 小D黑色</td>\n",
       "      <td>[]</td>\n",
       "    </tr>\n",
       "  </tbody>\n",
       "</table>\n",
       "</div>"
      ],
      "text/plain": [
       "          爬取时间(__time)                                        爬取链接(__url)  \\\n",
       "0  2019-03-08 00:50:34  https://sclub.jd.com/comment/productPageCommen...   \n",
       "1  2019-03-08 00:50:34  https://sclub.jd.com/comment/productPageCommen...   \n",
       "2  2019-03-08 00:50:34  https://sclub.jd.com/comment/productPageCommen...   \n",
       "3  2019-03-08 00:50:34  https://sclub.jd.com/comment/productPageCommen...   \n",
       "4  2019-03-08 00:50:33  https://sclub.jd.com/comment/productPageCommen...   \n",
       "\n",
       "   商品ID(product_id)  评价时间(publish_time)  评分（总分5分）(score) 评价内容(content)  \\\n",
       "0           4722324          1550631798                5    此用户未填写评价内容   \n",
       "1           4722324          1550633151                5    此用户未填写评价内容   \n",
       "2           4722324          1550633330                3    此用户未填写评价内容   \n",
       "3           4722324          1550633401                5    此用户未填写评价内容   \n",
       "4           4722324          1550633461                5    此用户未填写评价内容   \n",
       "\n",
       "  评价者(author_name) 评价者会员等级(author_level) 商品sku(product_sku) 评价标签(tags)  \n",
       "0            j***e                  注册会员           单机版 小D黑色         []  \n",
       "1            c***n                  钻石会员           单机版 小D黑色         []  \n",
       "2            j***1                  银牌会员           单机版 小D黑色         []  \n",
       "3            苗***4                  钻石会员           单机版 小D黑色         []  \n",
       "4            J***3                  注册会员           单机版 小D黑色         []  "
      ]
     },
     "execution_count": 5,
     "metadata": {},
     "output_type": "execute_result"
    }
   ],
   "source": [
    "import pandas as pd\n",
    "# 替换为你的数据集路径\n",
    "data_path = '/kaggle/input/jd_comment_with_label/jd_comment_data.xlsx'\n",
    "\n",
    "# 加载评论数据\n",
    "df = pd.read_excel(data_path)\n",
    "# 查看实际列名\n",
    "print(df.columns.tolist())\n",
    "df.head()\n",
    "\n"
   ]
  },
  {
   "cell_type": "code",
   "execution_count": 6,
   "id": "b366522d",
   "metadata": {
    "execution": {
     "iopub.execute_input": "2025-05-21T16:08:24.798260Z",
     "iopub.status.busy": "2025-05-21T16:08:24.797328Z",
     "iopub.status.idle": "2025-05-21T16:08:24.817214Z",
     "shell.execute_reply": "2025-05-21T16:08:24.816445Z"
    },
    "papermill": {
     "duration": 0.024353,
     "end_time": "2025-05-21T16:08:24.818286",
     "exception": false,
     "start_time": "2025-05-21T16:08:24.793933",
     "status": "completed"
    },
    "tags": []
   },
   "outputs": [
    {
     "name": "stdout",
     "output_type": "stream",
     "text": [
      "      content  label\n",
      "0  此用户未填写评价内容      5\n",
      "1  此用户未填写评价内容      5\n",
      "2  此用户未填写评价内容      3\n",
      "3  此用户未填写评价内容      5\n",
      "4  此用户未填写评价内容      5\n",
      "label\n",
      "5    68572\n",
      "4     1162\n",
      "1     1096\n",
      "3      679\n",
      "2      309\n",
      "Name: count, dtype: int64\n"
     ]
    }
   ],
   "source": [
    "# 提取“评价内容”和“评分”作为输入和标签\n",
    "df = df[['评价内容(content)', '评分（总分5分）(score)']].dropna()\n",
    "\n",
    "# 重命名列，便于后续统一处理\n",
    "df.columns = ['content', 'label']\n",
    "\n",
    "# 显示前几行确认\n",
    "print(df.head())\n",
    "# 显示标签分布（1~5分）\n",
    "print(df['label'].value_counts())"
   ]
  },
  {
   "cell_type": "code",
   "execution_count": 7,
   "id": "fdbac4a2",
   "metadata": {
    "execution": {
     "iopub.execute_input": "2025-05-21T16:08:24.824957Z",
     "iopub.status.busy": "2025-05-21T16:08:24.824547Z",
     "iopub.status.idle": "2025-05-21T16:08:24.846351Z",
     "shell.execute_reply": "2025-05-21T16:08:24.845838Z"
    },
    "papermill": {
     "duration": 0.026156,
     "end_time": "2025-05-21T16:08:24.847376",
     "exception": false,
     "start_time": "2025-05-21T16:08:24.821220",
     "status": "completed"
    },
    "tags": []
   },
   "outputs": [],
   "source": [
    "from sklearn.model_selection import train_test_split\n",
    "# 转换为 int 并划分训练验证集\n",
    "df['label'] = df['label'].astype(int)\n",
    "train_texts, val_texts, train_labels, val_labels = train_test_split(\n",
    "    df['content'].tolist(), df['label'].tolist(), test_size=0.2, random_state=42)"
   ]
  },
  {
   "cell_type": "code",
   "execution_count": 8,
   "id": "90e296e2",
   "metadata": {
    "execution": {
     "iopub.execute_input": "2025-05-21T16:08:24.853792Z",
     "iopub.status.busy": "2025-05-21T16:08:24.853434Z",
     "iopub.status.idle": "2025-05-21T16:08:25.985504Z",
     "shell.execute_reply": "2025-05-21T16:08:25.984757Z"
    },
    "papermill": {
     "duration": 1.136655,
     "end_time": "2025-05-21T16:08:25.986768",
     "exception": false,
     "start_time": "2025-05-21T16:08:24.850113",
     "status": "completed"
    },
    "tags": []
   },
   "outputs": [
    {
     "data": {
      "application/vnd.jupyter.widget-view+json": {
       "model_id": "81c2757a0de940f293e810075feda023",
       "version_major": 2,
       "version_minor": 0
      },
      "text/plain": [
       "tokenizer_config.json:   0%|          | 0.00/49.0 [00:00<?, ?B/s]"
      ]
     },
     "metadata": {},
     "output_type": "display_data"
    },
    {
     "data": {
      "application/vnd.jupyter.widget-view+json": {
       "model_id": "0656a27edd4e4c3b8474d448227cb38e",
       "version_major": 2,
       "version_minor": 0
      },
      "text/plain": [
       "vocab.txt:   0%|          | 0.00/110k [00:00<?, ?B/s]"
      ]
     },
     "metadata": {},
     "output_type": "display_data"
    },
    {
     "data": {
      "application/vnd.jupyter.widget-view+json": {
       "model_id": "19539baf071045b1902d7f6e598f0f40",
       "version_major": 2,
       "version_minor": 0
      },
      "text/plain": [
       "tokenizer.json:   0%|          | 0.00/269k [00:00<?, ?B/s]"
      ]
     },
     "metadata": {},
     "output_type": "display_data"
    }
   ],
   "source": [
    "class JDDataset(Dataset):\n",
    "    def __init__(self, texts, labels):\n",
    "        self.data = list(zip(texts, labels))\n",
    "\n",
    "    def __getitem__(self, idx):\n",
    "        return self.data[idx][0], self.data[idx][1] - 1  # 保证是 tuple 类型 (str, int)\n",
    "\n",
    "    def __len__(self):\n",
    "        return len(self.data)\n",
    "\n",
    "\n",
    "def build_collate(tokenizer):\n",
    "    def collate_fn(batch):\n",
    "        # 正确：batch 是 List[Tuple[str, int]]\n",
    "        sentences, labels = zip(*batch)\n",
    "        model_inputs = tokenizer(\n",
    "            list(sentences), return_tensors='pt', padding=True, truncation=True, max_length=128\n",
    "        )\n",
    "        labels = torch.tensor(labels)\n",
    "        return model_inputs, labels\n",
    "    return collate_fn\n",
    "\n",
    "\n",
    "tokenizer = AutoTokenizer.from_pretrained('google-bert/bert-base-chinese')\n",
    "\n",
    "train_dataset = JDDataset(train_texts, train_labels)\n",
    "val_dataset = JDDataset(val_texts, val_labels)\n",
    "\n",
    "train_loader = DataLoader(train_dataset, batch_size=16, shuffle=True, collate_fn=build_collate(tokenizer))\n",
    "val_loader = DataLoader(val_dataset, batch_size=32, collate_fn=build_collate(tokenizer))\n"
   ]
  },
  {
   "cell_type": "code",
   "execution_count": 9,
   "id": "c06b67e0",
   "metadata": {
    "execution": {
     "iopub.execute_input": "2025-05-21T16:08:25.994384Z",
     "iopub.status.busy": "2025-05-21T16:08:25.993820Z",
     "iopub.status.idle": "2025-05-21T16:08:25.997454Z",
     "shell.execute_reply": "2025-05-21T16:08:25.996927Z"
    },
    "papermill": {
     "duration": 0.008303,
     "end_time": "2025-05-21T16:08:25.998465",
     "exception": false,
     "start_time": "2025-05-21T16:08:25.990162",
     "status": "completed"
    },
    "tags": []
   },
   "outputs": [],
   "source": [
    "def get_model(freeze_bert=False):\n",
    "    model = AutoModelForSequenceClassification.from_pretrained(\n",
    "        'google-bert/bert-base-chinese', num_labels=5)\n",
    "    if freeze_bert:\n",
    "        for param in model.bert.parameters():\n",
    "            param.requires_grad = False\n",
    "    return model"
   ]
  },
  {
   "cell_type": "code",
   "execution_count": 10,
   "id": "06dca57b",
   "metadata": {
    "execution": {
     "iopub.execute_input": "2025-05-21T16:08:26.005341Z",
     "iopub.status.busy": "2025-05-21T16:08:26.005139Z",
     "iopub.status.idle": "2025-05-21T16:08:26.012800Z",
     "shell.execute_reply": "2025-05-21T16:08:26.012313Z"
    },
    "papermill": {
     "duration": 0.012351,
     "end_time": "2025-05-21T16:08:26.013778",
     "exception": false,
     "start_time": "2025-05-21T16:08:26.001427",
     "status": "completed"
    },
    "tags": []
   },
   "outputs": [],
   "source": [
    "def train(model, freeze_bert=False):\n",
    "    device = torch.device(\"cuda\" if torch.cuda.is_available() else \"cpu\")\n",
    "    model.to(device)\n",
    "\n",
    "    optimizer = AdamW(model.parameters(), lr=2e-5)\n",
    "    total_steps = len(train_loader) * 3\n",
    "    scheduler = get_scheduler(\"linear\", optimizer, num_warmup_steps=0, num_training_steps=total_steps)\n",
    "\n",
    "    writer = SummaryWriter(log_dir=f'./runs/freeze_{freeze_bert}')\n",
    "    global_step = 0\n",
    "\n",
    "    for epoch in range(3):\n",
    "        model.train()\n",
    "        total_loss, total_correct, total = 0, 0, 0\n",
    "\n",
    "        for model_inputs, labels in tqdm(train_loader, desc=f\"Epoch {epoch} Train\"):\n",
    "            model_inputs = {k: v.to(device) for k, v in model_inputs.items()}\n",
    "            labels = labels.to(device)\n",
    "\n",
    "            outputs = model(**model_inputs, labels=labels)\n",
    "            loss = outputs.loss\n",
    "            logits = outputs.logits\n",
    "\n",
    "            loss.backward()\n",
    "            optimizer.step()\n",
    "            scheduler.step()\n",
    "            optimizer.zero_grad()\n",
    "\n",
    "            total_loss += loss.item()\n",
    "            preds = torch.argmax(logits, dim=1)\n",
    "            total_correct += (preds == labels).sum().item()\n",
    "            total += labels.size(0)\n",
    "\n",
    "            writer.add_scalar(\"Loss/train_step\", loss.item(), global_step)\n",
    "            global_step += 1\n",
    "\n",
    "        writer.add_scalar(\"Accuracy/train\", total_correct / total, epoch)\n",
    "\n",
    "        # 验证集\n",
    "        model.eval()\n",
    "        val_correct, val_total = 0, 0\n",
    "        with torch.no_grad():\n",
    "            for model_inputs, labels in val_loader:\n",
    "                model_inputs = {k: v.to(device) for k, v in model_inputs.items()}\n",
    "                labels = labels.to(device)\n",
    "                outputs = model(**model_inputs)\n",
    "                preds = torch.argmax(outputs.logits, dim=1)\n",
    "                val_correct += (preds == labels).sum().item()\n",
    "                val_total += labels.size(0)\n",
    "\n",
    "        writer.add_scalar(\"Accuracy/val\", val_correct / val_total, epoch)\n",
    "\n",
    "    writer.close()\n",
    "    torch.save(model.state_dict(), f'/kaggle/working/bert_freeze_{freeze_bert}.pt')\n",
    "    print(f\"模型已保存: /kaggle/working/bert_freeze_{freeze_bert}.pt\")"
   ]
  },
  {
   "cell_type": "code",
   "execution_count": null,
   "id": "7a04779d",
   "metadata": {
    "execution": {
     "iopub.execute_input": "2025-05-21T14:45:04.695395Z",
     "iopub.status.busy": "2025-05-21T14:45:04.694647Z",
     "iopub.status.idle": "2025-05-21T15:49:19.958081Z",
     "shell.execute_reply": "2025-05-21T15:49:19.957423Z",
     "shell.execute_reply.started": "2025-05-21T14:45:04.695357Z"
    },
    "papermill": {
     "duration": null,
     "end_time": null,
     "exception": false,
     "start_time": "2025-05-21T16:08:26.016737",
     "status": "running"
    },
    "tags": []
   },
   "outputs": [],
   "source": [
    "model1 = get_model(freeze_bert=True)\n",
    "train(model1, freeze_bert=True)\n",
    "\n",
    "model2 = get_model(freeze_bert=False)\n",
    "train(model2, freeze_bert=False)"
   ]
  },
  {
   "cell_type": "code",
   "execution_count": null,
   "id": "4e16508e",
   "metadata": {
    "execution": {
     "iopub.execute_input": "2025-05-21T15:56:06.391791Z",
     "iopub.status.busy": "2025-05-21T15:56:06.391473Z",
     "iopub.status.idle": "2025-05-21T15:56:07.395103Z",
     "shell.execute_reply": "2025-05-21T15:56:07.394479Z",
     "shell.execute_reply.started": "2025-05-21T15:56:06.391767Z"
    },
    "papermill": {
     "duration": null,
     "end_time": null,
     "exception": null,
     "start_time": null,
     "status": "pending"
    },
    "tags": []
   },
   "outputs": [],
   "source": [
    "def predict(text_list, model_path):\n",
    "    device = torch.device(\"cuda\" if torch.cuda.is_available() else \"cpu\")\n",
    "    model = AutoModelForSequenceClassification.from_pretrained(\n",
    "        'google-bert/bert-base-chinese', num_labels=5)\n",
    "    model.load_state_dict(torch.load(model_path, map_location=device))\n",
    "    model.to(device)\n",
    "    model.eval()\n",
    "\n",
    "    inputs = tokenizer(text_list, return_tensors='pt', padding=True, truncation=True, max_length=128).to(device)\n",
    "    with torch.no_grad():\n",
    "        outputs = model(**inputs)\n",
    "        preds = torch.argmax(outputs.logits, dim=1)\n",
    "    return preds.cpu().numpy() + 1  # 转换为原始1~5分\n",
    "\n",
    "# 示例\n",
    "example = [\"手机拍照效果真棒啊，把人拍成马赛克了\"]\n",
    "print(\"预测评分:\", predict(example, '/kaggle/working/bert_freeze_True.pt'))\n"
   ]
  }
 ],
 "metadata": {
  "kaggle": {
   "accelerator": "nvidiaTeslaT4",
   "dataSources": [
    {
     "datasetId": 134082,
     "sourceId": 318737,
     "sourceType": "datasetVersion"
    }
   ],
   "dockerImageVersionId": 31041,
   "isGpuEnabled": true,
   "isInternetEnabled": true,
   "language": "python",
   "sourceType": "notebook"
  },
  "kernelspec": {
   "display_name": "Python 3",
   "language": "python",
   "name": "python3"
  },
  "language_info": {
   "codemirror_mode": {
    "name": "ipython",
    "version": 3
   },
   "file_extension": ".py",
   "mimetype": "text/x-python",
   "name": "python",
   "nbconvert_exporter": "python",
   "pygments_lexer": "ipython3",
   "version": "3.11.11"
  },
  "papermill": {
   "default_parameters": {},
   "duration": null,
   "end_time": null,
   "environment_variables": {},
   "exception": null,
   "input_path": "__notebook__.ipynb",
   "output_path": "__notebook__.ipynb",
   "parameters": {},
   "start_time": "2025-05-21T16:07:36.914267",
   "version": "2.6.0"
  }
 },
 "nbformat": 4,
 "nbformat_minor": 5
}