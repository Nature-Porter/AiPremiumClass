{
 "cells": [
  {
   "cell_type": "markdown",
   "metadata": {},
   "source": [
    "## 1. 根据课堂RAG示例，完成外部文档导入并进行RAG检索的过程。\n",
    "### 外部PDF文档：https://storage.googleapis.com/deepmind-media/Era-of-Experience%20/The%20Era%20of%20Experience%20Paper.pdf\n",
    "### 使用 langchain_community.document_loaders.PDFMinerLoader 加载 PDF 文件。\n",
    "### docs = PDFMinerLoader(path).load()\n",
    "\n"
   ]
  },
  {
   "cell_type": "code",
   "execution_count": 1,
   "metadata": {},
   "outputs": [
    {
     "name": "stdout",
     "output_type": "stream",
     "text": [
      "加载faiss数据库本地化记录成功\n"
     ]
    },
    {
     "name": "stderr",
     "output_type": "stream",
     "text": [
      "/opt/miniconda3/envs/py312/lib/python3.12/site-packages/langsmith/client.py:272: LangSmithMissingAPIKeyWarning: API key must be provided when using hosted LangSmith API\n",
      "  warnings.warn(\n"
     ]
    },
    {
     "name": "stdout",
     "output_type": "stream",
     "text": [
      "主要的动作和观察包括：代理人会在实际环境中自主行动，利用来自环境的信号和数据来调整其行为和学习方法。同时，代理人通过观察结果并相应更新原则，从而不断优化其理解以促进长期成功。通过这种方式，代理人能够从外部事件和信号中学习，而不仅仅依赖于人类的偏好。\n"
     ]
    }
   ],
   "source": [
    "from langchain_openai import ChatOpenAI\n",
    "from dotenv import load_dotenv, find_dotenv\n",
    "import os\n",
    "from langchain_community.document_loaders import PDFMinerLoader\n",
    "from langchain_text_splitters import RecursiveCharacterTextSplitter\n",
    "from langchain_community.vectorstores import FAISS\n",
    "from langchain_openai import OpenAIEmbeddings\n",
    "from langchain_core.output_parsers import StrOutputParser\n",
    "from langchain import hub\n",
    "from langchain_core.runnables import RunnablePassthrough\n",
    "\n",
    "\n",
    "if __name__ == '__main__':\n",
    "\n",
    "    load_dotenv(find_dotenv())\n",
    "\n",
    "    llm = ChatOpenAI(\n",
    "        model=\"gpt-4o-mini\",\n",
    "        api_key=os.environ['API_KEY'],\n",
    "        base_url=os.environ['BASE_URL']\n",
    "    )\n",
    "\n",
    "    # 存储 vector store 向量数据库k/v\n",
    "    # 创建向量数据库（内存中），对chunk进行向量化和存储\n",
    "    embedding_model = OpenAIEmbeddings(\n",
    "        api_key=os.environ['API_KEY'],\n",
    "        base_url=os.environ['BASE_URL']\n",
    "    )\n",
    "    \n",
    "    if not os.path.exists('/Users/peiqi/code/AiPremiumClass/李思佳/week15/local_save'):\n",
    "\n",
    "        # 加载网页中文本内容，转换为langchain处理的document\n",
    "        loader = PDFMinerLoader(file_path='/Users/peiqi/code/AiPremiumClass/李思佳/week15/The Era of Experience Paper.pdf')\n",
    "\n",
    "        docs = loader.load()\n",
    "\n",
    "        # TextSplitter实现加载后的文档的分割\n",
    "        splitter = RecursiveCharacterTextSplitter(\n",
    "            chunk_size=1000, \n",
    "            chunk_overlap=200, \n",
    "            separators=['\\n\\n','\\n','']\n",
    "        )\n",
    "        splited_docs = splitter.split_documents(docs)\n",
    "\n",
    "        vector_store = FAISS.from_documents(\n",
    "            documents=splited_docs, \n",
    "            embedding=embedding_model\n",
    "        )\n",
    "\n",
    "        vector_store.save_local('/Users/peiqi/code/AiPremiumClass/李思佳/week15/local_save')\n",
    "        print('faiss数据库本地化保存成功')\n",
    "    else:\n",
    "        vector_store = FAISS.load_local(\n",
    "            '/Users/peiqi/code/AiPremiumClass/李思佳/week15/local_save',\n",
    "            embeddings=embedding_model,\n",
    "            allow_dangerous_deserialization=True                      \n",
    "            )\n",
    "\n",
    "        print('加载faiss数据库本地化记录成功')\n",
    "\n",
    "    # 构建检索器\n",
    "    retriever = vector_store.as_retriever(\n",
    "        search_type=\"similarity\", \n",
    "        search_kwargs={\"k\": 6}\n",
    "    ) \n",
    "    \n",
    "    docs = retriever.invoke(\"actions and observations\")\n",
    "    # retrieved_docs = retriever.invoke(\"任务分解的⽅法有哪些?\")\n",
    "    # 构建rag chain\n",
    "\n",
    "    def format_docs(docs):\n",
    "        return '\\n\\n'.join([doc.page_content for doc in docs])\n",
    "    \n",
    "    prompt = hub.pull(\"rlm/rag-prompt\")\n",
    "\n",
    "    rag_chain = (\n",
    "        {\"context\": retriever | format_docs, \"question\": RunnablePassthrough()} \n",
    "        | prompt \n",
    "        | llm \n",
    "        | StrOutputParser())\n",
    "    \n",
    "    respons = rag_chain.invoke(\"What's the main actions and observations, please translate to Chinese\")\n",
    "    print(respons)\n",
    "\n"
   ]
  }
 ],
 "metadata": {
  "kernelspec": {
   "display_name": "py312",
   "language": "python",
   "name": "python3"
  },
  "language_info": {
   "codemirror_mode": {
    "name": "ipython",
    "version": 3
   },
   "file_extension": ".py",
   "mimetype": "text/x-python",
   "name": "python",
   "nbconvert_exporter": "python",
   "pygments_lexer": "ipython3",
   "version": "3.12.9"
  }
 },
 "nbformat": 4,
 "nbformat_minor": 2
}
