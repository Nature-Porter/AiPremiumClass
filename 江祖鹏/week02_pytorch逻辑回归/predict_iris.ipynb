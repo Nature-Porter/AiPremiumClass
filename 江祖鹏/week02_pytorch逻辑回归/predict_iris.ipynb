{
 "cells": [
  {
   "cell_type": "code",
   "execution_count": 15,
   "id": "7a1fca32-b5a5-45f3-aaf1-4eaf66a3cae2",
   "metadata": {},
   "outputs": [
    {
     "name": "stdout",
     "output_type": "stream",
     "text": [
      "y:1,预测值：1\n",
      "模型整体准确率：100.00%\n"
     ]
    }
   ],
   "source": [
    "import numpy as np\n",
    "from sklearn.datasets import load_iris\n",
    "\n",
    "#加载模型参数\n",
    "def load_model():\n",
    "    theta = np.load('iris_theta.npy')\n",
    "    bias = np.load('iris_bias.npy')\n",
    "    return theta, bias\n",
    "    \n",
    "#前向传播函数\n",
    "def forward(X, theta, bias):\n",
    "    z = np.dot(theta,X.T) + bias\n",
    "    y_hat = 1 / (1 + np.exp(-z))\n",
    "    return y_hat\n",
    "    \n",
    "#预测函数\n",
    "def predict(X, theta, bias):\n",
    "    prob = forward(X, theta, bias)\n",
    "    return np.round(prob).astype(int)\n",
    "    \n",
    "if __name__ == '__main__':\n",
    "    #加载iris数据集,取前两类\n",
    "    iris = load_iris()\n",
    "    X_new = iris.data[:100]\n",
    "    y_true = iris.target[:100]\n",
    "\n",
    "    #加载模型参数\n",
    "    theta, bias = load_model()\n",
    "\n",
    "    #进行预测\n",
    "    y_pred = predict(X_new, theta, bias)\n",
    "\n",
    "    #模型推理\n",
    "    idx = np.random.randint(len(X_new))#随机预测\n",
    "    print(f'y:{y_true[idx]},预测值：{y_pred[0][idx]}')\n",
    "\n",
    "    #计算整体准确率\n",
    "    acc = np.mean(y_pred == y_true)\n",
    "    print(f'模型整体准确率：{acc:.2%}')\n",
    "    "
   ]
  },
  {
   "cell_type": "code",
   "execution_count": null,
   "id": "29c6af43-9709-4c5a-83b7-8bd490401adf",
   "metadata": {},
   "outputs": [],
   "source": []
  }
 ],
 "metadata": {
  "kernelspec": {
   "display_name": "Python 3 (ipykernel)",
   "language": "python",
   "name": "python3"
  },
  "language_info": {
   "codemirror_mode": {
    "name": "ipython",
    "version": 3
   },
   "file_extension": ".py",
   "mimetype": "text/x-python",
   "name": "python",
   "nbconvert_exporter": "python",
   "pygments_lexer": "ipython3",
   "version": "3.12.9"
  }
 },
 "nbformat": 4,
 "nbformat_minor": 5
}
