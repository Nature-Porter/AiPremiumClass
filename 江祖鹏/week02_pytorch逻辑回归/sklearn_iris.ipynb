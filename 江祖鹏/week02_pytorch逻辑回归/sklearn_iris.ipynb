{
 "cells": [
  {
   "cell_type": "code",
   "execution_count": 30,
   "id": "c0b924f6-22f1-47e2-85f8-b4762a3c7d53",
   "metadata": {},
   "outputs": [
    {
     "name": "stdout",
     "output_type": "stream",
     "text": [
      "epochs:0,loss_val:0.1459133230566743,acc:1.0\n",
      "epochs:200,loss_val:0.12133058324092201,acc:1.0\n",
      "epochs:400,loss_val:0.11481464286185167,acc:1.0\n",
      "epochs:600,loss_val:0.11056177217244895,acc:1.0\n",
      "epochs:800,loss_val:0.10683539655585575,acc:1.0\n",
      "epochs:1000,loss_val:0.10338312014333091,acc:1.0\n",
      "epochs:1200,loss_val:0.1001500597896748,acc:1.0\n",
      "epochs:1400,loss_val:0.09711213973190272,acc:1.0\n",
      "epochs:1600,loss_val:0.09425181657493668,acc:1.0\n",
      "epochs:1800,loss_val:0.0915540994726858,acc:1.0\n",
      "epochs:2000,loss_val:0.08900570745010761,acc:1.0\n",
      "epochs:2200,loss_val:0.08659476316537625,acc:1.0\n",
      "epochs:2400,loss_val:0.08431060159228589,acc:1.0\n",
      "epochs:2600,loss_val:0.08214361874445089,acc:1.0\n",
      "epochs:2800,loss_val:0.08008514409484967,acc:1.0\n"
     ]
    }
   ],
   "source": [
    "#导入load_iris库\n",
    "from sklearn.datasets import load_iris\n",
    "from sklearn.model_selection import train_test_split\n",
    "import numpy as np\n",
    "\n",
    "iris = load_iris()\n",
    "#iris数据集共有 150个样本，分为 3个类别（类别0、1、2），每个类别 50个样本，提取前2个类别\n",
    "X = iris.data[:100]\n",
    "y = iris.target[:100]\n",
    "\n",
    "#拆分数据,40%的数据测试，并随机打乱顺序\n",
    "X_train, X_test, y_train, y_test = train_test_split(X, y, test_size=0.4, shuffle=True)\n",
    "\n",
    "#初始化模型\n",
    "theta = np.random.randn(1,4) #权重参数（形状为1X20）\n",
    "bias = 0                      #偏置\n",
    "lr = 0.001                    #学习率超参数\n",
    "epochs = 3000                 #训练轮次\n",
    "\n",
    "#模型运算\n",
    "\n",
    "#前向传播函数\n",
    "def forward(X, theta, bias):\n",
    "    z = np.dot(theta, X.T) + bias    # 线性计算：theta·X^T + bias     \n",
    "    y_hat = 1 / (1 + np.exp(-z))     #sigmoid 激活函数\n",
    "    return y_hat\n",
    "\n",
    "#损失函数，cost函数\n",
    "def loss(y, y_hat):\n",
    "    e = 1e-8\n",
    "    return -np.mean(y * np.log(y_hat + e) + (1 - y) * np.log(1 - y_hat +e))  #交叉熵损失\n",
    "\n",
    "#梯度下降函数\n",
    "def calc_gradient(X, y, y_hat):\n",
    "    m = X.shape[0]                                      #样本数[n_samples, n_features]\n",
    "    delta_theta = np.dot((y_hat - y), X) / m            #theta权重梯度\n",
    "    delta_bias = np.mean(y_hat - y)                     #bias偏置梯度\n",
    "    return delta_theta, delta_bias\n",
    "\n",
    "#训练模型\n",
    "for i in range(epochs):\n",
    "    #前向计算\n",
    "    y_hat = forward(X_train, theta, bias)\n",
    "    #计算损失\n",
    "    loss_val = loss(y_train, y_hat)\n",
    "    #计算梯度\n",
    "    delta_theta, delta_bias = calc_gradient(X_train, y_train, y_hat)\n",
    "    #更新参数\n",
    "    theta = theta - lr * delta_theta\n",
    "    bias = bias - lr * delta_bias\n",
    "    #计算准确率\n",
    "    if i % 200 == 0:\n",
    "        acc = np.mean(np.round(y_hat) == y_train)\n",
    "        print(f'epochs:{i},loss_val:{loss_val},acc:{acc}')\n",
    "    "
   ]
  },
  {
   "cell_type": "code",
   "execution_count": 38,
   "id": "860b7291-94d0-4f19-83b4-d8fc5bf46e8c",
   "metadata": {},
   "outputs": [
    {
     "name": "stdout",
     "output_type": "stream",
     "text": [
      "y_true:0,y_predict:[0.]\n"
     ]
    }
   ],
   "source": [
    "#测试模型\n",
    "idx = np.random.randint(len(X_test)) #随机选择一个测试样本索引\n",
    "X = X_test[idx]\n",
    "y = y_test[idx]\n",
    "\n",
    "y_predict = np.round(forward(X, theta, bias))\n",
    "print(f'y_true:{y},y_predict:{y_predict}')\n"
   ]
  },
  {
   "cell_type": "code",
   "execution_count": 42,
   "id": "0dcc5341-3c3e-46a3-9194-4567baafe690",
   "metadata": {},
   "outputs": [
    {
     "name": "stdout",
     "output_type": "stream",
     "text": [
      "模型参数已保存到iris_theta和iris_bias\n"
     ]
    }
   ],
   "source": [
    "#保存模型参数到文件\n",
    "np.save('iris_theta.npy', theta)\n",
    "np.save('iris_bias.npy', bias)\n",
    "print('模型参数已保存到iris_theta和iris_bias')\n"
   ]
  },
  {
   "cell_type": "code",
   "execution_count": null,
   "id": "7cfd042f-d0fe-443a-805a-9415167e2702",
   "metadata": {},
   "outputs": [],
   "source": []
  }
 ],
 "metadata": {
  "kernelspec": {
   "display_name": "Python 3 (ipykernel)",
   "language": "python",
   "name": "python3"
  },
  "language_info": {
   "codemirror_mode": {
    "name": "ipython",
    "version": 3
   },
   "file_extension": ".py",
   "mimetype": "text/x-python",
   "name": "python",
   "nbconvert_exporter": "python",
   "pygments_lexer": "ipython3",
   "version": "3.12.9"
  }
 },
 "nbformat": 4,
 "nbformat_minor": 5
}
