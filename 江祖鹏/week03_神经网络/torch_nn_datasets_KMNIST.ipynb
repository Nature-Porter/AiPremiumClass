{
 "cells": [
  {
   "cell_type": "code",
   "execution_count": 13,
   "id": "e0badded-dbd6-4590-896b-a7d80d49d341",
   "metadata": {},
   "outputs": [],
   "source": [
    "#导入必要包\n",
    "import torch\n",
    "import torch.nn as nn   #神经网络模块\n",
    "import torch.optim as optim  #优化器\n",
    "from torch.utils.data import DataLoader #数据加载器\n",
    "from torchvision.datasets import KMNIST #导入KMNIST数据\n",
    "from torchvision.transforms.v2 import ToTensor #转换图片为张量"
   ]
  },
  {
   "cell_type": "code",
   "execution_count": 14,
   "id": "84364b4d-4c90-421f-a5dd-f5a657200748",
   "metadata": {},
   "outputs": [],
   "source": [
    "#定义超参数\n",
    "LR = 1e-3 #学习率\n",
    "epochs = 20  #轮次\n",
    "BATCH_SIZE = 64 #每次64张图"
   ]
  },
  {
   "cell_type": "code",
   "execution_count": 15,
   "id": "e0840310-575e-44c6-9fc0-d9d5241418cb",
   "metadata": {},
   "outputs": [],
   "source": [
    "#导入数据\n",
    "train_data = KMNIST(root='./kmnist_data', train=True, download=True, transform=ToTensor())\n",
    "test_data = KMNIST(root='./kmnist_data', train=False, download=True, transform=ToTensor())"
   ]
  },
  {
   "cell_type": "code",
   "execution_count": 16,
   "id": "8d1ebf6b-e4a1-407d-b55f-8b535edb0de3",
   "metadata": {},
   "outputs": [],
   "source": [
    "#数据加载器\n",
    "train_dl = DataLoader(train_data, batch_size=BATCH_SIZE, shuffle=True)"
   ]
  },
  {
   "cell_type": "code",
   "execution_count": 17,
   "id": "d016e969-160d-4c46-8605-3c433dd12ed6",
   "metadata": {},
   "outputs": [],
   "source": [
    "#模型定义\n",
    "model = nn.Sequential(\n",
    "    nn.Linear(784,128),\n",
    "    nn.ReLU(),\n",
    "    nn.Linear(128,64),\n",
    "    nn.ReLU(),\n",
    "    nn.Linear(64,10)\n",
    ")"
   ]
  },
  {
   "cell_type": "code",
   "execution_count": 18,
   "id": "22c3697a-12e6-4d12-ad3b-b3a55cb10096",
   "metadata": {},
   "outputs": [],
   "source": [
    "#损失函数\n",
    "loss_fn = nn.CrossEntropyLoss()    #交叉熵损失\n",
    "#优化器\n",
    "optimizer = torch.optim.Adam(model.parameters(), lr=LR)"
   ]
  },
  {
   "cell_type": "code",
   "execution_count": 26,
   "id": "a280ab3c-6a30-495f-84e9-78a86ad4ca03",
   "metadata": {},
   "outputs": [
    {
     "name": "stdout",
     "output_type": "stream",
     "text": [
      "epoch:0,loss:0.06491463631391525\n",
      "epoch:1,loss:0.13771550357341766\n",
      "epoch:2,loss:0.045668743550777435\n",
      "epoch:3,loss:0.013335514813661575\n",
      "epoch:4,loss:0.09984420984983444\n",
      "epoch:5,loss:0.003515528282150626\n",
      "epoch:6,loss:0.010091406293213367\n",
      "epoch:7,loss:0.04419479891657829\n",
      "epoch:8,loss:0.005565072409808636\n",
      "epoch:9,loss:0.08929959684610367\n",
      "epoch:10,loss:0.00036235179868526757\n",
      "epoch:11,loss:0.006666154135018587\n",
      "epoch:12,loss:0.00177381606772542\n",
      "epoch:13,loss:0.00017508177552372217\n",
      "epoch:14,loss:0.0032780494075268507\n",
      "epoch:15,loss:0.000767228368204087\n",
      "epoch:16,loss:0.01480199210345745\n",
      "epoch:17,loss:0.0005973931401968002\n",
      "epoch:18,loss:0.0750720202922821\n",
      "epoch:19,loss:0.0006339241517707705\n"
     ]
    }
   ],
   "source": [
    "#模型训练\n",
    "for epoch in range(epochs):\n",
    "#数据提取\n",
    "    for images, lables in train_dl:\n",
    "        #前向运算\n",
    "        output = model(images.reshape(-1,784))\n",
    "        #计算损失\n",
    "        loss = loss_fn(output, lables)\n",
    "        #梯度清空\n",
    "        optimizer.zero_grad()\n",
    "        #反向传播\n",
    "        loss.backward()\n",
    "        #更新参数\n",
    "        optimizer.step()\n",
    "    print(f'epoch:{epoch},loss:{loss.item()}')"
   ]
  },
  {
   "cell_type": "code",
   "execution_count": 29,
   "id": "a05fc4f4-ab9c-4ad2-8fe8-1c22c5fd7136",
   "metadata": {},
   "outputs": [
    {
     "name": "stdout",
     "output_type": "stream",
     "text": [
      "accuracy:90.57%\n"
     ]
    }
   ],
   "source": [
    "#模型推理\n",
    "#测试数据加载\n",
    "test_dl = DataLoader(test_data, batch_size=BATCH_SIZE, shuffle=True)\n",
    "correct = 0\n",
    "total = 0\n",
    "#不需要计算梯度\n",
    "with torch.no_grad():\n",
    "    for images, lables in test_dl:\n",
    "        #前向运算\n",
    "        output = model(images.reshape(-1,784))\n",
    "        #取概率最大的类别\n",
    "        _, preticted = torch.max(output, dim=-1)\n",
    "        #计算总数\n",
    "        total = total + lables.size(0)\n",
    "        #累加正确预测的样本数\n",
    "        correct = correct + (preticted == lables).sum().item()  \n",
    "print(f'accuracy:{correct/total*100}%')  "
   ]
  },
  {
   "cell_type": "code",
   "execution_count": null,
   "id": "a5b95b42-2cba-4fed-b2d3-4cd5f269e7eb",
   "metadata": {},
   "outputs": [],
   "source": []
  }
 ],
 "metadata": {
  "kernelspec": {
   "display_name": "Python 3 (ipykernel)",
   "language": "python",
   "name": "python3"
  },
  "language_info": {
   "codemirror_mode": {
    "name": "ipython",
    "version": 3
   },
   "file_extension": ".py",
   "mimetype": "text/x-python",
   "name": "python",
   "nbconvert_exporter": "python",
   "pygments_lexer": "ipython3",
   "version": "3.12.9"
  }
 },
 "nbformat": 4,
 "nbformat_minor": 5
}
