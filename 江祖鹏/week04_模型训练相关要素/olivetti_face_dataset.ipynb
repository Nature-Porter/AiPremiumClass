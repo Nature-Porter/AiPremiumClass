{
 "cells": [
  {
   "cell_type": "markdown",
   "metadata": {},
   "source": [
    "olive_face_datasets"
   ]
  },
  {
   "cell_type": "code",
   "execution_count": 116,
   "metadata": {},
   "outputs": [],
   "source": [
    "#导入必要的包\n",
    "import torch\n",
    "import torch.nn as nn  #导入神经网络模块\n",
    "import torch.optim as optim  #导入优化器模块\n",
    "from sklearn.datasets import fetch_olivetti_faces  #导入sklearn中的人脸数据集\n",
    "from torch.utils.data import DataLoader  #导入数据加载器\n",
    "# from torchvision.transforms.v2 import ToTensor  #导入数据转换器"
   ]
  },
  {
   "cell_type": "code",
   "execution_count": 117,
   "metadata": {},
   "outputs": [],
   "source": [
    "#数据加载\n",
    "faces = fetch_olivetti_faces(data_home='./face_data', shuffle=True)  #加载数据集\n"
   ]
  },
  {
   "cell_type": "code",
   "execution_count": 118,
   "metadata": {},
   "outputs": [],
   "source": [
    "# import matplotlib.pyplot as plt  #导入绘图库\n",
    "\n",
    "# face = faces.images[300]  #取出第n张人脸\n",
    "# plt.imshow(face, cmap='gray')  #绘制灰度图\n",
    "# plt.show()  #显示图像"
   ]
  },
  {
   "cell_type": "code",
   "execution_count": 119,
   "metadata": {},
   "outputs": [],
   "source": [
    "# faces.data[0]\n",
    "# faces.target"
   ]
  },
  {
   "cell_type": "code",
   "execution_count": 120,
   "metadata": {},
   "outputs": [],
   "source": [
    "#初始化参数\n",
    "LR =1e-3  #学习率\n",
    "epochs = 50  #训练轮数\n",
    "BATCH_SIZE = 128  #批次大小"
   ]
  },
  {
   "cell_type": "code",
   "execution_count": 121,
   "metadata": {},
   "outputs": [],
   "source": [
    "#数据转换\n",
    "images = torch.tensor(faces.data.reshape(400, -1) / 255.0) #将数据转换为张量,归一化到 [0, 1]\n",
    "labels = torch.tensor(faces.target) #将标签转换为张量\n",
    "\n",
    "from sklearn.model_selection import train_test_split\n",
    "#划分数据集\n",
    "images_train, images_test, labels_train, labels_test = train_test_split(images, labels, \n",
    "                                        test_size=0.3, random_state=42, stratify=labels)\n",
    "\n",
    "#将数据和标签打包成元组\n",
    "train_dataset = [(img,lbs) for img,lbs in zip(images_train,labels_train)] \n",
    "test_dataset = [(img,lbs) for img,lbs in zip(images_test,labels_test)]\n",
    "\n",
    "#数据封装\n",
    "train_datadl = DataLoader(train_dataset, batch_size=BATCH_SIZE, shuffle=True)\n",
    "test_datadl = DataLoader(test_dataset, batch_size=BATCH_SIZE, shuffle=False)\n",
    "\n"
   ]
  },
  {
   "cell_type": "code",
   "execution_count": 122,
   "metadata": {},
   "outputs": [],
   "source": [
    "#导入模型\n",
    "from olivetti_face_model import faceNN\n",
    "model = faceNN()  #实例化模型"
   ]
  },
  {
   "cell_type": "code",
   "execution_count": 123,
   "metadata": {},
   "outputs": [],
   "source": [
    "#定义损失函数\n",
    "loss_fn = nn.CrossEntropyLoss()  #交叉熵损失函数\n",
    "#定义优化器\n",
    "\n",
    "# optimizer = optim.SGD(model.parameters(), lr=LR)\n",
    "# optimizer = optim.RMSprop(model.parameters(), lr=LR)\n",
    "# optimizer = optim.Adam(model.parameters(), lr=LR)\n",
    "optimizer = optim.AdamW(model.parameters(), lr=LR)"
   ]
  },
  {
   "cell_type": "code",
   "execution_count": 124,
   "metadata": {},
   "outputs": [
    {
     "data": {
      "text/plain": [
       "device(type='cpu')"
      ]
     },
     "execution_count": 124,
     "metadata": {},
     "output_type": "execute_result"
    }
   ],
   "source": [
    "#运行到cuda上\n",
    "device = torch.device(\"cuda\" if torch.cuda.is_available() else \"cpu\")\n",
    "model.to(device)\n",
    "device"
   ]
  },
  {
   "cell_type": "code",
   "execution_count": 125,
   "metadata": {},
   "outputs": [
    {
     "name": "stdout",
     "output_type": "stream",
     "text": [
      "epoch:0, loss:3.7656\n",
      "epoch:1, loss:1.7426\n",
      "epoch:2, loss:1.0102\n",
      "epoch:3, loss:0.5274\n",
      "epoch:4, loss:0.2824\n",
      "epoch:5, loss:0.2838\n",
      "epoch:6, loss:0.2086\n",
      "epoch:7, loss:0.2624\n",
      "epoch:8, loss:0.0736\n",
      "epoch:9, loss:0.0819\n",
      "epoch:10, loss:0.1212\n",
      "epoch:11, loss:0.0752\n",
      "epoch:12, loss:0.0399\n",
      "epoch:13, loss:0.0372\n",
      "epoch:14, loss:0.0273\n",
      "epoch:15, loss:0.0281\n",
      "epoch:16, loss:0.0312\n",
      "epoch:17, loss:0.0296\n",
      "epoch:18, loss:0.1173\n",
      "epoch:19, loss:0.0201\n",
      "epoch:20, loss:0.0213\n",
      "epoch:21, loss:0.0148\n",
      "epoch:22, loss:0.0156\n",
      "epoch:23, loss:0.0100\n",
      "epoch:24, loss:0.0080\n",
      "epoch:25, loss:0.0089\n",
      "epoch:26, loss:0.0117\n",
      "epoch:27, loss:0.0090\n",
      "epoch:28, loss:0.0103\n",
      "epoch:29, loss:0.0057\n",
      "epoch:30, loss:0.0102\n",
      "epoch:31, loss:0.0077\n",
      "epoch:32, loss:0.0072\n",
      "epoch:33, loss:0.0158\n",
      "epoch:34, loss:0.0064\n",
      "epoch:35, loss:0.0072\n",
      "epoch:36, loss:0.0111\n",
      "epoch:37, loss:0.0042\n",
      "epoch:38, loss:0.0051\n",
      "epoch:39, loss:0.0066\n",
      "epoch:40, loss:0.0051\n",
      "epoch:41, loss:0.0046\n",
      "epoch:42, loss:0.0070\n",
      "epoch:43, loss:0.0026\n",
      "epoch:44, loss:0.0041\n",
      "epoch:45, loss:0.0029\n",
      "epoch:46, loss:0.0045\n",
      "epoch:47, loss:0.0063\n",
      "epoch:48, loss:0.0048\n",
      "epoch:49, loss:0.0026\n"
     ]
    }
   ],
   "source": [
    "#初始化列表\n",
    "train_loss = []\n",
    "#训练模型\n",
    " # 正则化&归一化生效\n",
    "model.train() \n",
    "#提取数据\n",
    "for epoch in range(epochs): \n",
    "    for img, lbs in train_datadl:\n",
    "        #数据转移到cuda上\n",
    "        img, lbs = img.to(device), lbs.to(device)\n",
    "        #前向运算\n",
    "        out = model(img)  #输出预测值\n",
    "        #计算损失\n",
    "        loss = loss_fn(out, lbs)  #计算损失\n",
    "        #梯度清零\n",
    "        optimizer.zero_grad()  #梯度清零\n",
    "        #反向传播\n",
    "        loss.backward()  #反向传播\n",
    "        #更新参数\n",
    "        optimizer.step()  #更新参数\n",
    "\n",
    "        #记录损失\n",
    "        train_loss.append(loss.item())\n",
    "        #打印损失\n",
    "    print(f'epoch:{epoch}, loss:{loss.item():.4f}')  #打印损失"
   ]
  },
  {
   "cell_type": "code",
   "execution_count": 128,
   "metadata": {},
   "outputs": [
    {
     "data": {
      "image/png": "[encoded data removed]",
      "text/plain": [
       "<Figure size 640x480 with 1 Axes>"
      ]
     },
     "metadata": {},
     "output_type": "display_data"
    }
   ],
   "source": [
    "import matplotlib.pyplot as plt  #导入绘图库\n",
    "plt.plot(train_loss)  #绘制损失曲线\n",
    "plt.xlabel('epoch')  #x轴标签\n",
    "plt.ylabel('loss')  #y轴标签\n",
    "plt.show()  #显示图像\n"
   ]
  },
  {
   "cell_type": "code",
   "execution_count": 129,
   "metadata": {},
   "outputs": [
    {
     "name": "stdout",
     "output_type": "stream",
     "text": [
      "97.5000%\n"
     ]
    }
   ],
   "source": [
    "#模型推理\n",
    "model.eval()  #正则化&归一化失效\n",
    "total = 0  #总数\n",
    "correct = 0  #正确数\n",
    "with torch.no_grad():\n",
    "#提取数据\n",
    "    for img, lbs in test_datadl:\n",
    "        img, lbs = img.to(device), lbs.to(device)\n",
    "        #前向运算\n",
    "        out = model(img)\n",
    "        #返回每行最大值的索引\n",
    "        _, predicted = torch.max(out, dim=-1)\n",
    "        #计算总数\n",
    "        total += lbs.size(0)\n",
    "        #返回相同的元素个数\n",
    "        correct += (predicted == lbs).sum().item()\n",
    "    #打印准确率\n",
    "    print(f'{correct/total*100:.4f}%')\n",
    "\n",
    "\n"
   ]
  }
 ],
 "metadata": {
  "kernelspec": {
   "display_name": "py312",
   "language": "python",
   "name": "python3"
  },
  "language_info": {
   "codemirror_mode": {
    "name": "ipython",
    "version": 3
   },
   "file_extension": ".py",
   "mimetype": "text/x-python",
   "name": "python",
   "nbconvert_exporter": "python",
   "pygments_lexer": "ipython3",
   "version": "3.12.9"
  }
 },
 "nbformat": 4,
 "nbformat_minor": 2
}
