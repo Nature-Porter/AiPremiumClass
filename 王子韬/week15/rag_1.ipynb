{
 "cells": [
  {
   "metadata": {
    "ExecuteTime": {
     "end_time": "2025-07-03T17:15:32.821078Z",
     "start_time": "2025-07-03T17:15:32.808171Z"
    }
   },
   "cell_type": "code",
   "source": [
    "from langchain_openai import ChatOpenAI, OpenAIEmbeddings\n",
    "from dotenv import load_dotenv, find_dotenv\n",
    "from langchain_community.document_loaders import WebBaseLoader, PyMuPDFLoader, PDFMinerLoader\n",
    "\n",
    "from langchain_text_splitters import RecursiveCharacterTextSplitter\n",
    "from langchain_community.vectorstores import FAISS\n",
    "from langchain_core.output_parsers import StrOutputParser\n",
    "from langchain_core.runnables import RunnablePassthrough\n",
    "\n",
    "from langchain import hub\n",
    "\n",
    "import os\n"
   ],
   "id": "59c7119370413f5e",
   "outputs": [],
   "execution_count": 34
  },
  {
   "metadata": {
    "ExecuteTime": {
     "end_time": "2025-07-03T17:04:42.508732Z",
     "start_time": "2025-07-03T17:04:40.120752Z"
    }
   },
   "cell_type": "code",
   "source": [
    "load_dotenv(find_dotenv())\n",
    "\n",
    "llm = ChatOpenAI(\n",
    "    model='glm-4-air-250414',\n",
    "    api_key=os.getenv(\"API_KEY\"),\n",
    "    base_url=os.getenv(\"BASE_URL\"),\n",
    ")\n",
    "\n",
    "embedding_model = OpenAIEmbeddings(\n",
    "    model='embedding-3',\n",
    "    api_key=os.getenv('API_KEY'),\n",
    "    base_url=os.environ['BASE_URL'],\n",
    "    chunk_size=64\n",
    ")\n",
    "\n",
    "from langchain_core.messages import HumanMessage, SystemMessage\n",
    "\n",
    "x = embedding_model.embed_query(\"eeeee\")\n",
    "print(len(x))"
   ],
   "id": "1644f5f0d7ccd361",
   "outputs": [
    {
     "name": "stdout",
     "output_type": "stream",
     "text": [
      "2048\n"
     ]
    }
   ],
   "execution_count": 27
  },
  {
   "metadata": {
    "ExecuteTime": {
     "end_time": "2025-07-03T17:08:46.345877Z",
     "start_time": "2025-07-03T17:07:46.993478Z"
    }
   },
   "cell_type": "code",
   "source": [
    "\n",
    "\n",
    "if not os.path.exists('local_save'):\n",
    "    loader = PDFMinerLoader(file_path='The Era of Experience Paper.pdf')\n",
    "    docs = loader.load()\n",
    "\n",
    "    # TextSplitter实现加载后Document分割\n",
    "    splitter = RecursiveCharacterTextSplitter(\n",
    "        separators=['\\n\\n','\\n',''],\n",
    "        chunk_size=1000,\n",
    "        chunk_overlap=100,\n",
    "    )\n",
    "    splited_docs = splitter.split_documents(docs)\n",
    "\n",
    "    # 创建向量数据库（内存中）对chunk进行向量化和存储\n",
    "    vector_store = FAISS.from_documents(\n",
    "        documents=splited_docs,\n",
    "        embedding=embedding_model,\n",
    "    )\n",
    "    # 向量数据库本地化存储\n",
    "    vector_store.save_local('local_save')\n",
    "    print('faiss数据库本地化保存成功！')\n",
    "else:\n",
    "    vector_store = FAISS.load_local(\n",
    "        'local_save',\n",
    "        embeddings=embedding_model,\n",
    "        allow_dangerous_deserialization=True\n",
    "    )\n",
    "    print('加载faiss数据库本地化记录成功！')"
   ],
   "id": "dabb07969059d90c",
   "outputs": [
    {
     "name": "stdout",
     "output_type": "stream",
     "text": [
      "faiss数据库本地化保存成功！\n"
     ]
    }
   ],
   "execution_count": 32
  },
  {
   "metadata": {
    "ExecuteTime": {
     "end_time": "2025-07-03T17:08:56.238683Z",
     "start_time": "2025-07-03T17:08:51.619321Z"
    }
   },
   "cell_type": "code",
   "source": [
    "vector_store = FAISS.load_local(\n",
    "    'local_save',\n",
    "    embeddings=embedding_model,\n",
    "    allow_dangerous_deserialization=True\n",
    ")\n",
    "retriever = vector_store.as_retriever(search_kwargs={\"k\":2})\n",
    "def format_docs(docs):\n",
    "    return '\\n\\n'.join([doc.page_content for doc in docs])\n",
    "\n",
    "# prompt\n",
    "prompt = hub.pull('rlm/rag-prompt')\n",
    "\n",
    "rag_chain = (\n",
    "    {\"context\": retriever | format_docs , \"question\": RunnablePassthrough()}\n",
    "    | prompt\n",
    "    | llm\n",
    "    | StrOutputParser()\n",
    ")\n",
    "\n",
    "# rag检索\n",
    "response = rag_chain.invoke(\"what is the era of experience?\")\n",
    "print(response)"
   ],
   "id": "8489640942b4d9bd",
   "outputs": [
    {
     "name": "stderr",
     "output_type": "stream",
     "text": [
      "/opt/anaconda3/envs/AI/lib/python3.12/site-packages/langsmith/client.py:241: LangSmithMissingAPIKeyWarning: API key must be provided when using hosted LangSmith API\n",
      "  warnings.warn(\n"
     ]
    },
    {
     "name": "stdout",
     "output_type": "stream",
     "text": [
      "The era of experience is characterized by AI agents learning from vast, continuous streams of experiential data, breaking beyond human-centric limitations by grounding actions and rewards in the environment. It involves improving reinforcement learning concepts for long-term, autonomous interactions and developing new methods for reward functions, value estimation, and world modeling. This era aims to enable AI to surpass human knowledge and priors.\n"
     ]
    }
   ],
   "execution_count": 33
  }
 ],
 "metadata": {
  "kernelspec": {
   "name": "python3",
   "language": "python",
   "display_name": "Python 3 (ipykernel)"
  }
 },
 "nbformat": 5,
 "nbformat_minor": 9
}
