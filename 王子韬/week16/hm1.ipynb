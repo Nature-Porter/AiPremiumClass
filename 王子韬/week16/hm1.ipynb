{
 "cells": [
  {
   "metadata": {
    "ExecuteTime": {
     "end_time": "2025-07-11T03:49:56.908126Z",
     "start_time": "2025-07-11T03:49:56.904663Z"
    }
   },
   "cell_type": "code",
   "source": [
    "from langchain_openai import ChatOpenAI, OpenAIEmbeddings\n",
    "from dotenv import load_dotenv, find_dotenv\n",
    "from langchain_community.document_loaders import WebBaseLoader, PyMuPDFLoader, PDFMinerLoader\n",
    "\n",
    "from langchain_text_splitters import RecursiveCharacterTextSplitter\n",
    "from langchain_community.vectorstores import FAISS\n",
    "from langchain_core.output_parsers import StrOutputParser\n",
    "from langchain_core.runnables import RunnablePassthrough\n",
    "\n",
    "from langchain import hub\n",
    "\n",
    "import os\n"
   ],
   "id": "59c7119370413f5e",
   "outputs": [],
   "execution_count": 13
  },
  {
   "metadata": {
    "ExecuteTime": {
     "end_time": "2025-07-11T03:50:03.596529Z",
     "start_time": "2025-07-11T03:50:00.976191Z"
    }
   },
   "cell_type": "code",
   "source": [
    "load_dotenv(find_dotenv())\n",
    "\n",
    "llm = ChatOpenAI(\n",
    "    model='glm-4-air-250414',\n",
    "    api_key=os.getenv(\"API_KEY\"),\n",
    "    base_url=os.getenv(\"BASE_URL\"),\n",
    ")\n",
    "\n",
    "embedding_model = OpenAIEmbeddings(\n",
    "    model='embedding-3',\n",
    "    api_key=os.getenv('API_KEY'),\n",
    "    base_url=os.environ['BASE_URL'],\n",
    "    chunk_size=64\n",
    ")\n",
    "\n",
    "from langchain_core.messages import HumanMessage, SystemMessage\n",
    "\n",
    "x = embedding_model.embed_query(\"eeeee\")\n",
    "print(len(x))"
   ],
   "id": "1644f5f0d7ccd361",
   "outputs": [
    {
     "name": "stdout",
     "output_type": "stream",
     "text": [
      "2048\n"
     ]
    }
   ],
   "execution_count": 14
  },
  {
   "metadata": {
    "ExecuteTime": {
     "end_time": "2025-07-11T03:50:05.240479Z",
     "start_time": "2025-07-11T03:50:05.235102Z"
    }
   },
   "cell_type": "code",
   "source": [
    "\n",
    "\n",
    "if not os.path.exists('local_save'):\n",
    "    loader = PDFMinerLoader(file_path='The Era of Experience Paper.pdf')\n",
    "    docs = loader.load()\n",
    "\n",
    "    # TextSplitter实现加载后Document分割\n",
    "    splitter = RecursiveCharacterTextSplitter(\n",
    "        separators=['\\n\\n','\\n',''],\n",
    "        chunk_size=1000,\n",
    "        chunk_overlap=100,\n",
    "    )\n",
    "    splited_docs = splitter.split_documents(docs)\n",
    "\n",
    "    # 创建向量数据库（内存中）对chunk进行向量化和存储\n",
    "    vector_store = FAISS.from_documents(\n",
    "        documents=splited_docs,\n",
    "        embedding=embedding_model,\n",
    "    )\n",
    "    # 向量数据库本地化存储\n",
    "    vector_store.save_local('local_save')\n",
    "    print('faiss数据库本地化保存成功！')\n",
    "else:\n",
    "    vector_store = FAISS.load_local(\n",
    "        'local_save',\n",
    "        embeddings=embedding_model,\n",
    "        allow_dangerous_deserialization=True\n",
    "    )\n",
    "    print('加载faiss数据库本地化记录成功！')"
   ],
   "id": "dabb07969059d90c",
   "outputs": [
    {
     "name": "stdout",
     "output_type": "stream",
     "text": [
      "加载faiss数据库本地化记录成功！\n"
     ]
    }
   ],
   "execution_count": 15
  },
  {
   "metadata": {
    "ExecuteTime": {
     "end_time": "2025-07-11T03:50:07.375563Z",
     "start_time": "2025-07-11T03:50:07.373386Z"
    }
   },
   "cell_type": "code",
   "source": [
    "from langchain_tavily import TavilySearch\n",
    "search_tool = TavilySearch(max_results=5, tavily_api_key=os.getenv('TAVILY_API_KEY'))\n"
   ],
   "id": "2a8f5af425de651d",
   "outputs": [],
   "execution_count": 16
  },
  {
   "metadata": {
    "ExecuteTime": {
     "end_time": "2025-07-11T03:51:48.439760Z",
     "start_time": "2025-07-11T03:51:42.389935Z"
    }
   },
   "cell_type": "code",
   "source": [
    "from langchain.agents import create_tool_calling_agent, AgentExecutor\n",
    "from langchain_core.tools import create_retriever_tool\n",
    "\n",
    "vector_store = FAISS.load_local(\n",
    "    'local_save',\n",
    "    embeddings=embedding_model,\n",
    "    allow_dangerous_deserialization=True\n",
    ")\n",
    "retriever = vector_store.as_retriever(search_kwargs={\"k\":2})\n",
    "\n",
    "retriever_tool = create_retriever_tool(\n",
    "    retriever, \"book_retriever\",\n",
    "    description=\"围绕《把时间当作朋友》核心内容，从心智力量、时间管理、自律坚持、兴趣与努力的关系、对成功学的反思等多方面，阐述了通过开启和管理心智、合理规划时间、克服懒惰、持续行动等实现个人成长与改变的理念。\"\n",
    ")\n",
    "# prompt\n",
    "prompt = hub.pull(\"hwchase17/openai-functions-agent\")\n",
    "tools = [search_tool,retriever_tool]\n",
    "agent = create_tool_calling_agent(\n",
    "    llm=llm, prompt=prompt, tools=tools)\n",
    "\n",
    "# agent executor\n",
    "executor = AgentExecutor(\n",
    "    agent=agent,\n",
    "    tools=tools,\n",
    "    verbose=True)\n",
    "\n",
    "msgs = executor.invoke({\"input\":\"what is the era of experience?\"})\n",
    "\n",
    "print(msgs['output'])"
   ],
   "id": "8489640942b4d9bd",
   "outputs": [
    {
     "name": "stderr",
     "output_type": "stream",
     "text": [
      "/opt/anaconda3/envs/AI/lib/python3.12/site-packages/langsmith/client.py:241: LangSmithMissingAPIKeyWarning: API key must be provided when using hosted LangSmith API\n",
      "  warnings.warn(\n"
     ]
    },
    {
     "name": "stdout",
     "output_type": "stream",
     "text": [
      "\n",
      "\n",
      "\u001B[1m> Entering new AgentExecutor chain...\u001B[0m\n",
      "\u001B[32;1m\u001B[1;3m\n",
      "Invoking: `tavily_search` with `{'query': 'what is the era of experience'}`\n",
      "\n",
      "\n",
      "\u001B[0m\u001B[36;1m\u001B[1;3m{'query': 'what is the era of experience', 'follow_up_questions': None, 'answer': None, 'images': [], 'results': [{'url': 'https://medium.com/@la_boukouffallah/welcome-to-the-era-of-experience-028440180a86', 'title': 'Welcome to The Era of Experience - Medium', 'content': \"The Era of Experience is a bold vision for AI's future. By moving beyond human data and learning through interaction with the world, AI could achieve\", 'score': 0.9307171, 'raw_content': None}, {'url': 'https://bdtechtalks.substack.com/p/ais-era-of-experience', 'title': 'AI\\'s \"Era of Experience\" - by Ben Dickson - TechTalks', 'content': 'The \"Era of Experience\" envisions AI\\'s evolution beyond human data, emphasizing self-learning from real-world interactions. But challenges loom', 'score': 0.8687491, 'raw_content': None}, {'url': 'https://storage.googleapis.com/deepmind-media/Era-of-Experience%20/The%20Era%20of%20Experience%20Paper.pdf', 'title': '[PDF] Welcome to the Era of Experience - Googleapis.com', 'content': 'The advent of the era of experience, where AI agents learn from their interactions with the world, promises a future profoundly different from', 'score': 0.86413884, 'raw_content': None}, {'url': 'https://www.reddit.com/r/MachineLearning/comments/1k4zr1i/r_deepmind_welcome_to_the_era_of_experience/', 'title': '[R] [DeepMind] Welcome to the Era of Experience : r/MachineLearning', 'content': 'A new generation of agents will acquire superhuman capabilities by learning pre dominantly from experience. This note explores the key characteristics that', 'score': 0.82694983, 'raw_content': None}, {'url': 'https://andrewclark.co.uk/all-media/all-media/welcome-to-the-era-of-experience', 'title': 'Welcome to the Era of Experience', 'content': 'We stand on the threshold of a new era in artificial intelligence that promises to achieve an unprecedented level of ability.', 'score': 0.65412235, 'raw_content': None}], 'response_time': 1.07}\u001B[0m\u001B[32;1m\u001B[1;3mThe \"Era of Experience\" refers to a future vision in artificial intelligence where AI systems evolve beyond learning solely from human data. Instead, they gain knowledge and skills primarily through direct interaction with the real world. This approach emphasizes self-learning from real-world experiences, enabling AI to achieve greater adaptability, creativity, and problem-solving capabilities. It represents a shift toward AI that can operate more like humans by learning from their own experiences rather than just relying on pre-existing datasets.\u001B[0m\n",
      "\n",
      "\u001B[1m> Finished chain.\u001B[0m\n",
      "The \"Era of Experience\" refers to a future vision in artificial intelligence where AI systems evolve beyond learning solely from human data. Instead, they gain knowledge and skills primarily through direct interaction with the real world. This approach emphasizes self-learning from real-world experiences, enabling AI to achieve greater adaptability, creativity, and problem-solving capabilities. It represents a shift toward AI that can operate more like humans by learning from their own experiences rather than just relying on pre-existing datasets.\n"
     ]
    }
   ],
   "execution_count": 19
  },
  {
   "metadata": {
    "ExecuteTime": {
     "end_time": "2025-07-11T04:08:21.532371Z",
     "start_time": "2025-07-11T04:08:21.318595Z"
    }
   },
   "cell_type": "code",
   "source": [
    "import requests\n",
    "\n",
    "url = \"https://raw.githubusercontent.com/karpathy/char-rnn/master/data/tinyshakespeare/input.txt\"\n",
    "response = requests.get(url)\n",
    "\n",
    "# 检查是否成功\n",
    "if response.status_code == 200:\n",
    "    with open(\"input.txt\", \"w\", encoding=\"utf-8\") as f:\n",
    "        f.write(response.text)\n",
    "    print(\"下载完成，已保存为 input.txt\")\n",
    "else:\n",
    "    print(f\"下载失败，状态码：{response.status_code}\")"
   ],
   "id": "b1fe0c093f9ac90",
   "outputs": [
    {
     "name": "stdout",
     "output_type": "stream",
     "text": [
      "下载完成，已保存为 input.txt\n"
     ]
    }
   ],
   "execution_count": 20
  }
 ],
 "metadata": {
  "kernelspec": {
   "name": "python3",
   "language": "python",
   "display_name": "Python 3 (ipykernel)"
  }
 },
 "nbformat": 5,
 "nbformat_minor": 9
}
