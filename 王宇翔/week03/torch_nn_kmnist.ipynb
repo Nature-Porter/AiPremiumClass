{
 "cells": [
  {
   "metadata": {},
   "cell_type": "markdown",
   "source": "",
   "id": "3fb3ca9e341c6a8d"
  },
  {
   "metadata": {},
   "cell_type": "markdown",
   "source": "#### pytorch kmnist数据集 神经网络搭建和训练",
   "id": "a622535cfe4e3ff1"
  },
  {
   "cell_type": "code",
   "id": "initial_id",
   "metadata": {
    "collapsed": true,
    "ExecuteTime": {
     "end_time": "2025-03-13T13:24:01.201806Z",
     "start_time": "2025-03-13T13:23:58.523872Z"
    }
   },
   "source": [
    "#导入必要的包\n",
    "import torch\n",
    "import torch.nn as nn\n",
    "import torch.optim as optim\n",
    "from torchvision.transforms.v2 import ToTensor     # 转换图像数据为张量\n",
    "from torchvision.datasets import KMNIST\n",
    "from torch.utils.data import DataLoader  # 数据加载器"
   ],
   "outputs": [],
   "execution_count": 2
  },
  {
   "metadata": {
    "ExecuteTime": {
     "end_time": "2025-03-13T13:24:01.204876Z",
     "start_time": "2025-03-13T13:24:01.202313Z"
    }
   },
   "cell_type": "code",
   "source": [
    "# 定义超参数\n",
    "LR = 1e-3\n",
    "epochs = 20\n",
    "BATCH_SIZE = 128"
   ],
   "id": "962ac9f565c80622",
   "outputs": [],
   "execution_count": 3
  },
  {
   "metadata": {
    "ExecuteTime": {
     "end_time": "2025-03-13T13:24:39.778274Z",
     "start_time": "2025-03-13T13:24:02.262198Z"
    }
   },
   "cell_type": "code",
   "source": [
    "# 数据集加载\n",
    "train_data = KMNIST(root='./KMNIST_data', train=True, download=True, \n",
    "                          transform=ToTensor())\n",
    "test_data = KMNIST(root='./KMNIST_data', train=False, download=True,\n",
    "                         transform=ToTensor())\n"
   ],
   "id": "bbceafff4661a620",
   "outputs": [
    {
     "name": "stderr",
     "output_type": "stream",
     "text": [
      "D:\\anaconda\\envs\\py312\\Lib\\site-packages\\torchvision\\transforms\\v2\\_deprecated.py:42: UserWarning: The transform `ToTensor()` is deprecated and will be removed in a future release. Instead, please use `v2.Compose([v2.ToImage(), v2.ToDtype(torch.float32, scale=True)])`.Output is equivalent up to float precision.\n",
      "  warnings.warn(\n"
     ]
    },
    {
     "name": "stdout",
     "output_type": "stream",
     "text": [
      "Downloading http://codh.rois.ac.jp/kmnist/dataset/kmnist/train-images-idx3-ubyte.gz\n",
      "Downloading https://codh.rois.ac.jp/kmnist/dataset/kmnist/train-images-idx3-ubyte.gz to ./KMNIST_data\\KMNIST\\raw\\train-images-idx3-ubyte.gz\n"
     ]
    },
    {
     "name": "stderr",
     "output_type": "stream",
     "text": [
      "100%|██████████| 18165135/18165135 [00:11<00:00, 1525855.92it/s]\n"
     ]
    },
    {
     "name": "stdout",
     "output_type": "stream",
     "text": [
      "Extracting ./KMNIST_data\\KMNIST\\raw\\train-images-idx3-ubyte.gz to ./KMNIST_data\\KMNIST\\raw\n",
      "\n",
      "Downloading http://codh.rois.ac.jp/kmnist/dataset/kmnist/train-labels-idx1-ubyte.gz\n",
      "Downloading https://codh.rois.ac.jp/kmnist/dataset/kmnist/train-labels-idx1-ubyte.gz to ./KMNIST_data\\KMNIST\\raw\\train-labels-idx1-ubyte.gz\n"
     ]
    },
    {
     "name": "stderr",
     "output_type": "stream",
     "text": [
      "100%|██████████| 29497/29497 [00:00<00:00, 327848.98it/s]\n"
     ]
    },
    {
     "name": "stdout",
     "output_type": "stream",
     "text": [
      "Extracting ./KMNIST_data\\KMNIST\\raw\\train-labels-idx1-ubyte.gz to ./KMNIST_data\\KMNIST\\raw\n",
      "\n",
      "Downloading http://codh.rois.ac.jp/kmnist/dataset/kmnist/t10k-images-idx3-ubyte.gz\n",
      "Downloading https://codh.rois.ac.jp/kmnist/dataset/kmnist/t10k-images-idx3-ubyte.gz to ./KMNIST_data\\KMNIST\\raw\\t10k-images-idx3-ubyte.gz\n"
     ]
    },
    {
     "name": "stderr",
     "output_type": "stream",
     "text": [
      "100%|██████████| 3041136/3041136 [00:01<00:00, 2585896.99it/s]\n"
     ]
    },
    {
     "name": "stdout",
     "output_type": "stream",
     "text": [
      "Extracting ./KMNIST_data\\KMNIST\\raw\\t10k-images-idx3-ubyte.gz to ./KMNIST_data\\KMNIST\\raw\n",
      "\n",
      "Downloading http://codh.rois.ac.jp/kmnist/dataset/kmnist/t10k-labels-idx1-ubyte.gz\n",
      "Downloading https://codh.rois.ac.jp/kmnist/dataset/kmnist/t10k-labels-idx1-ubyte.gz to ./KMNIST_data\\KMNIST\\raw\\t10k-labels-idx1-ubyte.gz\n"
     ]
    },
    {
     "name": "stderr",
     "output_type": "stream",
     "text": [
      "100%|██████████| 5120/5120 [00:00<00:00, 5634961.03it/s]"
     ]
    },
    {
     "name": "stdout",
     "output_type": "stream",
     "text": [
      "Extracting ./KMNIST_data\\KMNIST\\raw\\t10k-labels-idx1-ubyte.gz to ./KMNIST_data\\KMNIST\\raw\n",
      "\n"
     ]
    },
    {
     "name": "stderr",
     "output_type": "stream",
     "text": [
      "\n"
     ]
    }
   ],
   "execution_count": 4
  },
  {
   "metadata": {
    "ExecuteTime": {
     "end_time": "2025-03-13T13:24:55.180257Z",
     "start_time": "2025-03-13T13:24:55.177641Z"
    }
   },
   "cell_type": "code",
   "source": "train_dl = DataLoader(train_data, batch_size=BATCH_SIZE, shuffle=True)  # shuffle=True表示打乱数据",
   "id": "1aca64d5e1adca72",
   "outputs": [],
   "execution_count": 5
  },
  {
   "metadata": {
    "ExecuteTime": {
     "end_time": "2025-03-13T13:24:56.451114Z",
     "start_time": "2025-03-13T13:24:56.447469Z"
    }
   },
   "cell_type": "code",
   "source": [
    "# 定义模型\n",
    "model = nn.Sequential(\n",
    "    nn.Linear(784, 64),\n",
    "    nn.Sigmoid(),\n",
    "    nn.Linear(64, 10)\n",
    ")"
   ],
   "id": "7798668c86af1ed",
   "outputs": [],
   "execution_count": 6
  },
  {
   "metadata": {},
   "cell_type": "markdown",
   "source": "",
   "id": "6d4a7e36093e6561"
  },
  {
   "metadata": {
    "ExecuteTime": {
     "end_time": "2025-03-13T13:24:57.729714Z",
     "start_time": "2025-03-13T13:24:57.726673Z"
    }
   },
   "cell_type": "code",
   "source": [
    "# 损失函数&优化器\n",
    "loss_fn = nn.CrossEntropyLoss()  # 交叉熵损失函数\n",
    "# 优化器（模型参数更新）\n",
    "optimizer = torch.optim.SGD(model.parameters(), lr=LR)"
   ],
   "id": "a85e367af60b2336",
   "outputs": [],
   "execution_count": 7
  },
  {
   "metadata": {
    "ExecuteTime": {
     "end_time": "2025-03-13T13:26:14.041861Z",
     "start_time": "2025-03-13T13:24:59.207666Z"
    }
   },
   "cell_type": "code",
   "source": [
    "for epoch in range(epochs):\n",
    "    # 提取训练数据\n",
    "    for data, target in train_dl:\n",
    "        # 前向运算\n",
    "        output = model(data.reshape(-1, 784))\n",
    "        # 计算损失\n",
    "        loss = loss_fn(output, target)\n",
    "        # 反向传播\n",
    "        optimizer.zero_grad()  # 所有参数梯度清零\n",
    "        loss.backward()     # 计算梯度（参数.grad）\n",
    "        optimizer.step()    # 更新参数\n",
    "\n",
    "    print(f'Epoch:{epoch} Loss: {loss.item()}')"
   ],
   "id": "5e4486d7c1e889b",
   "outputs": [
    {
     "name": "stdout",
     "output_type": "stream",
     "text": [
      "Epoch:0 Loss: 2.3029086589813232\n",
      "Epoch:1 Loss: 2.2807114124298096\n",
      "Epoch:2 Loss: 2.2704343795776367\n",
      "Epoch:3 Loss: 2.2651262283325195\n",
      "Epoch:4 Loss: 2.255704164505005\n",
      "Epoch:5 Loss: 2.2411434650421143\n",
      "Epoch:6 Loss: 2.2287440299987793\n",
      "Epoch:7 Loss: 2.2145068645477295\n",
      "Epoch:8 Loss: 2.2140588760375977\n",
      "Epoch:9 Loss: 2.1809442043304443\n",
      "Epoch:10 Loss: 2.1769888401031494\n",
      "Epoch:11 Loss: 2.1829330921173096\n",
      "Epoch:12 Loss: 2.1638567447662354\n",
      "Epoch:13 Loss: 2.1428942680358887\n",
      "Epoch:14 Loss: 2.101891040802002\n",
      "Epoch:15 Loss: 2.0876784324645996\n",
      "Epoch:16 Loss: 2.072131395339966\n",
      "Epoch:17 Loss: 2.0423624515533447\n",
      "Epoch:18 Loss: 2.06022047996521\n",
      "Epoch:19 Loss: 2.0493102073669434\n"
     ]
    }
   ],
   "execution_count": 8
  },
  {
   "metadata": {
    "ExecuteTime": {
     "end_time": "2025-03-13T13:26:25.006816Z",
     "start_time": "2025-03-13T13:26:24.355752Z"
    }
   },
   "cell_type": "code",
   "source": [
    "# 测试\n",
    "test_dl = DataLoader(test_data, batch_size=BATCH_SIZE)\n",
    "\n",
    "correct = 0\n",
    "total = 0\n",
    "with torch.no_grad():  # 不计算梯度\n",
    "    for data, target in test_dl:\n",
    "        output = model(data.reshape(-1, 784))\n",
    "        _, predicted = torch.max(output, 1)  # 返回每行最大值和索引\n",
    "        total += target.size(0)  # size(0) 等效 shape[0]\n",
    "        correct += (predicted == target).sum().item()\n",
    "\n",
    "print(f'Accuracy: {correct/total*100}%')"
   ],
   "id": "6e94e61fc63a4071",
   "outputs": [
    {
     "name": "stdout",
     "output_type": "stream",
     "text": [
      "Accuracy: 45.51%\n"
     ]
    }
   ],
   "execution_count": 9
  }
 ],
 "metadata": {
  "kernelspec": {
   "display_name": "Python 3",
   "language": "python",
   "name": "python3"
  },
  "language_info": {
   "codemirror_mode": {
    "name": "ipython",
    "version": 2
   },
   "file_extension": ".py",
   "mimetype": "text/x-python",
   "name": "python",
   "nbconvert_exporter": "python",
   "pygments_lexer": "ipython2",
   "version": "2.7.6"
  }
 },
 "nbformat": 4,
 "nbformat_minor": 5
}
