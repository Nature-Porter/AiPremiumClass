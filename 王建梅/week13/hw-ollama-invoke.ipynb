{
 "cells": [
  {
   "cell_type": "markdown",
   "id": "ecc0e8ab",
   "metadata": {},
   "source": [
    "#### ollama的三种调用方式"
   ]
  },
  {
   "cell_type": "markdown",
   "id": "ce4321ad",
   "metadata": {},
   "source": [
    "### 方式1：控制台使用 ollama run model_name 直接运行模型\n",
    "\n",
    "![#### 控制台直接调用](./hw-ollama-invoke.png)"
   ]
  },
  {
   "cell_type": "markdown",
   "id": "f2e7c1d2",
   "metadata": {},
   "source": [
    "#### 方式2：使用http接口方式调用"
   ]
  },
  {
   "cell_type": "code",
   "execution_count": 4,
   "id": "e0b73542",
   "metadata": {},
   "outputs": [
    {
     "name": "stdout",
     "output_type": "stream",
     "text": [
      "😊 你好！我很高兴见到你！\n"
     ]
    }
   ],
   "source": [
    "### 方式2：使用http接口方式调用\n",
    "import requests\n",
    "import json\n",
    "\n",
    "url = 'http://127.0.0.1:11434/api/generate'  # 接口地址，/api/generate为固定路径,http://127.0.0.1:11434测试ollama服务是否开启\n",
    "# 通过post请求调用ollama服务\n",
    "data = {\n",
    "    \"model\": \"llama3:latest\",  # 模型名称\n",
    "    \"prompt\": \"你好\",  # 输入文本\n",
    "    \"stream\": False,  # 是否为流式\n",
    "}\n",
    "response = requests.post(url, json=data)\n",
    "\n",
    "if response.status_code == 200:  # 请求成功\n",
    "    print(json.loads(response.text)['response'])"
   ]
  },
  {
   "cell_type": "markdown",
   "id": "bfa40c7f",
   "metadata": {},
   "source": [
    "#### 方式3：使用OpenAI客户端访问"
   ]
  },
  {
   "cell_type": "code",
   "execution_count": 8,
   "id": "6a4351c7",
   "metadata": {},
   "outputs": [],
   "source": [
    "### 使用OpenAI API调用\n",
    "import os\n",
    "from dotenv import load_dotenv, find_dotenv\n",
    "from openai import OpenAI\n",
    "\n",
    "load_dotenv(find_dotenv())\n",
    "\n",
    "client = OpenAI(\n",
    "    base_url=os.getenv(\"OPENAI_BASE_URL\"),\n",
    "    api_key=os.getenv(\"OPENAI_API_KEY\")\n",
    ")"
   ]
  },
  {
   "cell_type": "code",
   "execution_count": 14,
   "id": "d0e1d194",
   "metadata": {},
   "outputs": [
    {
     "name": "stdout",
     "output_type": "stream",
     "text": [
      "😊 Ni Hao! ( greetings!) Yes, I can understand and respond in Mandarin Chinese. I'd be happy to help you with any questions or topics you'd like to discuss. What's on your mind? 🤔\n"
     ]
    }
   ],
   "source": [
    "# chat模式调用\n",
    "response = client.chat.completions.create(\n",
    "    model=\"llama3:latest\",\n",
    "    messages=[\n",
    "        {\"role\": \"system\",\"content\": \"Hello, I am a chatbot. How can I help you?\"},\n",
    "        {\"role\": \"user\",\"content\": \"你好,你会说中文吗?\"}],\n",
    "    temperature=0.9\n",
    ")\n",
    "print(response.choices[0].message.content)"
   ]
  },
  {
   "cell_type": "code",
   "execution_count": 15,
   "id": "249c9424",
   "metadata": {},
   "outputs": [
    {
     "name": "stdout",
     "output_type": "stream",
     "text": [
      "😊 Ni Hao! (你好) Yes, I can understand and respond in Chinese! 我可以理解和回应中文。请随时提出问题或话题，我将尽力帮助您。\n"
     ]
    }
   ],
   "source": [
    "# chat模式调用\n",
    "response = client.chat.completions.create(\n",
    "    model=\"llama3:latest\",\n",
    "    messages=[\n",
    "        {\"role\": \"system\",\"content\": \"Hello, I am a chatbot. How can I help you?\"},\n",
    "        {\"role\": \"user\",\"content\": \"你好,你会说中文吗?\"}],\n",
    "    temperature=0.1\n",
    ")\n",
    "print(response.choices[0].message.content)"
   ]
  }
 ],
 "metadata": {
  "kernelspec": {
   "display_name": "bd_py312",
   "language": "python",
   "name": "python3"
  },
  "language_info": {
   "codemirror_mode": {
    "name": "ipython",
    "version": 3
   },
   "file_extension": ".py",
   "mimetype": "text/x-python",
   "name": "python",
   "nbconvert_exporter": "python",
   "pygments_lexer": "ipython3",
   "version": "3.12.9"
  }
 },
 "nbformat": 4,
 "nbformat_minor": 5
}
