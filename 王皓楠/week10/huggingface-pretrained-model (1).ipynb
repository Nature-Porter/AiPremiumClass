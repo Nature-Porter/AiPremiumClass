{
 "cells": [
  {
   "cell_type": "markdown",
   "metadata": {},
   "source": [
    "### 利用huggingface中预训练模型，实现文本分类模型定制和微调\n",
    "\n",
    "1. 加载预训练模型定制输出端任务\n",
    "2. 原始数据进行清洗转换\n",
    "   - 清理停用词或非法字符\n",
    "3. 构建Dataset和DataLoader\n",
    "   - DataLoader的collate_fn参数，在回调函数中使用tokenizer转换模型输入数据\n",
    "5. 创建模型，损失函数、优化器\n",
    "6. 训练模型\n",
    "7. 观察损失调参迭代\n",
    "8. 模型保存"
   ]
  },
  {
   "cell_type": "code",
   "execution_count": 1,
   "metadata": {
    "execution": {
     "iopub.execute_input": "2025-05-22T12:26:47.289051Z",
     "iopub.status.busy": "2025-05-22T12:26:47.288747Z",
     "iopub.status.idle": "2025-05-22T12:27:35.813974Z",
     "shell.execute_reply": "2025-05-22T12:27:35.813127Z",
     "shell.execute_reply.started": "2025-05-22T12:26:47.289025Z"
    },
    "trusted": true
   },
   "outputs": [
    {
     "data": {
      "application/vnd.jupyter.widget-view+json": {
       "model_id": "bf18b21f533d4055af4a5d3cdf175535",
       "version_major": 2,
       "version_minor": 0
      },
      "text/plain": [
       "tokenizer_config.json:   0%|          | 0.00/49.0 [00:00<?, ?B/s]"
      ]
     },
     "metadata": {},
     "output_type": "display_data"
    },
    {
     "data": {
      "application/vnd.jupyter.widget-view+json": {
       "model_id": "08b49f5b13954395be67013204415996",
       "version_major": 2,
       "version_minor": 0
      },
      "text/plain": [
       "config.json:   0%|          | 0.00/624 [00:00<?, ?B/s]"
      ]
     },
     "metadata": {},
     "output_type": "display_data"
    },
    {
     "data": {
      "application/vnd.jupyter.widget-view+json": {
       "model_id": "cda3959f09e64c2eb384b742ca5cd3de",
       "version_major": 2,
       "version_minor": 0
      },
      "text/plain": [
       "vocab.txt:   0%|          | 0.00/110k [00:00<?, ?B/s]"
      ]
     },
     "metadata": {},
     "output_type": "display_data"
    },
    {
     "data": {
      "application/vnd.jupyter.widget-view+json": {
       "model_id": "19520572e04e48f3bc5bc01d83c4989a",
       "version_major": 2,
       "version_minor": 0
      },
      "text/plain": [
       "tokenizer.json:   0%|          | 0.00/269k [00:00<?, ?B/s]"
      ]
     },
     "metadata": {},
     "output_type": "display_data"
    },
    {
     "name": "stderr",
     "output_type": "stream",
     "text": [
      "2025-05-22 12:27:06.814956: E external/local_xla/xla/stream_executor/cuda/cuda_fft.cc:477] Unable to register cuFFT factory: Attempting to register factory for plugin cuFFT when one has already been registered\n",
      "WARNING: All log messages before absl::InitializeLog() is called are written to STDERR\n",
      "E0000 00:00:1747916827.059298      35 cuda_dnn.cc:8310] Unable to register cuDNN factory: Attempting to register factory for plugin cuDNN when one has already been registered\n",
      "E0000 00:00:1747916827.134606      35 cuda_blas.cc:1418] Unable to register cuBLAS factory: Attempting to register factory for plugin cuBLAS when one has already been registered\n"
     ]
    },
    {
     "data": {
      "application/vnd.jupyter.widget-view+json": {
       "model_id": "2578568dc2b448e1ae60d820b3a97edf",
       "version_major": 2,
       "version_minor": 0
      },
      "text/plain": [
       "model.safetensors:   0%|          | 0.00/412M [00:00<?, ?B/s]"
      ]
     },
     "metadata": {},
     "output_type": "display_data"
    },
    {
     "name": "stderr",
     "output_type": "stream",
     "text": [
      "Some weights of BertForSequenceClassification were not initialized from the model checkpoint at google-bert/bert-base-chinese and are newly initialized: ['classifier.bias', 'classifier.weight']\n",
      "You should probably TRAIN this model on a down-stream task to be able to use it for predictions and inference.\n",
      "Some weights of BertForSequenceClassification were not initialized from the model checkpoint at google-bert/bert-base-chinese and are newly initialized: ['classifier.bias', 'classifier.weight']\n",
      "You should probably TRAIN this model on a down-stream task to be able to use it for predictions and inference.\n"
     ]
    },
    {
     "name": "stdout",
     "output_type": "stream",
     "text": [
      "BertForSequenceClassification(\n",
      "  (bert): BertModel(\n",
      "    (embeddings): BertEmbeddings(\n",
      "      (word_embeddings): Embedding(21128, 768, padding_idx=0)\n",
      "      (position_embeddings): Embedding(512, 768)\n",
      "      (token_type_embeddings): Embedding(2, 768)\n",
      "      (LayerNorm): LayerNorm((768,), eps=1e-12, elementwise_affine=True)\n",
      "      (dropout): Dropout(p=0.1, inplace=False)\n",
      "    )\n",
      "    (encoder): BertEncoder(\n",
      "      (layer): ModuleList(\n",
      "        (0-11): 12 x BertLayer(\n",
      "          (attention): BertAttention(\n",
      "            (self): BertSdpaSelfAttention(\n",
      "              (query): Linear(in_features=768, out_features=768, bias=True)\n",
      "              (key): Linear(in_features=768, out_features=768, bias=True)\n",
      "              (value): Linear(in_features=768, out_features=768, bias=True)\n",
      "              (dropout): Dropout(p=0.1, inplace=False)\n",
      "            )\n",
      "            (output): BertSelfOutput(\n",
      "              (dense): Linear(in_features=768, out_features=768, bias=True)\n",
      "              (LayerNorm): LayerNorm((768,), eps=1e-12, elementwise_affine=True)\n",
      "              (dropout): Dropout(p=0.1, inplace=False)\n",
      "            )\n",
      "          )\n",
      "          (intermediate): BertIntermediate(\n",
      "            (dense): Linear(in_features=768, out_features=3072, bias=True)\n",
      "            (intermediate_act_fn): GELUActivation()\n",
      "          )\n",
      "          (output): BertOutput(\n",
      "            (dense): Linear(in_features=3072, out_features=768, bias=True)\n",
      "            (LayerNorm): LayerNorm((768,), eps=1e-12, elementwise_affine=True)\n",
      "            (dropout): Dropout(p=0.1, inplace=False)\n",
      "          )\n",
      "        )\n",
      "      )\n",
      "    )\n",
      "    (pooler): BertPooler(\n",
      "      (dense): Linear(in_features=768, out_features=768, bias=True)\n",
      "      (activation): Tanh()\n",
      "    )\n",
      "  )\n",
      "  (dropout): Dropout(p=0.1, inplace=False)\n",
      "  (classifier): Linear(in_features=768, out_features=5, bias=True)\n",
      ")\n",
      "123\n"
     ]
    }
   ],
   "source": [
    "import zipfile \n",
    "import pandas as pd \n",
    "import torch \n",
    "from torch.utils.data import Dataset, DataLoader \n",
    "from transformers import AutoTokenizer\n",
    "from transformers import AutoModelForSequenceClassification, AutoModelForMaskedLM\n",
    "#设置分词器\n",
    "tokenizer=  AutoTokenizer.from_pretrained('google-bert/bert-base-chinese')\n",
    "# 设置文本分类任务(5个类别，对应1-5星)\n",
    "model = AutoModelForSequenceClassification.from_pretrained('google-bert/bert-base-chinese', num_labels=5)\n",
    "model1 = AutoModelForSequenceClassification.from_pretrained('google-bert/bert-base-chinese', num_labels=5)\n",
    "print(model)\n",
    "#这里是处理压缩包的核心代码\n",
    "def extract_and_load_data(excel_file_path):\n",
    "    #kaggle上直接读取就好\n",
    "    df=pd.read_excel(excel_file_path)\n",
    "    df=df.dropna(subset=['评价内容(content)','评分（总分5分）(score)']).reset_index(drop=True)\n",
    "    df['评分（总分5分）(score)']=df['评分（总分5分）(score)']-1\n",
    "    return df['评价内容(content)'].tolist(),df['评分（总分5分）(score)'].tolist()\n",
    "\n",
    "#自定义构建数据集常用方法\n",
    "class CommentDataset(Dataset):\n",
    "    \"\"\"自定义数据集\"\"\"\n",
    "    def __init__(self,texts,labels):\n",
    "        self.texts=texts\n",
    "        self.labels=labels\n",
    "    def __len__(self):\n",
    "        return len(self.texts)\n",
    "    def __getitem__(self,idx):\n",
    "        return self.texts[idx],self.labels[idx]\n",
    "'''\n",
    "class CommentDataset(Dataset):\n",
    "    \"\"\"自定义评论数据集\"\"\"\n",
    "    def __init__(self, texts, labels):\n",
    "        self.texts = texts\n",
    "        self.labels = labels\n",
    "\n",
    "    def __len__(self):\n",
    "        return len(self.texts)\n",
    "\n",
    "    def __getitem__(self, idx):\n",
    "        return self.texts[idx], self.labels[idx]\n",
    "'''\n",
    "def build_collate(tokenizer):\n",
    "    def collate_fn(batch):\n",
    "        # 文本分类语料：输入语句，类别标签\n",
    "        sentents,labels = zip(*batch)\n",
    "    \n",
    "        # tokenizer转换\n",
    "        model_inputs = tokenizer(sentents, return_tensors='pt', padding = True,  truncation = True)\n",
    "        labels = torch.tensor(labels)\n",
    "\n",
    "        return model_inputs, labels\n",
    "    return collate_fn\n",
    "    \n",
    "ZIP_FILE_PATH = '/kaggle/input/jd_comment_with_label/jd_comment_data.xlsx'  # 你的文件路径\n",
    "MODEL_NAME = 'bert-base-chinese'  # 替换为实际使用的模型\n",
    "BATCH_SIZE = 16\n",
    "# 1. 加载数据\n",
    "texts, labels = extract_and_load_data(ZIP_FILE_PATH)\n",
    "# 2. 初始化tokenizer和dataset\n",
    "dataset = CommentDataset(texts, labels)\n",
    "# DataLoader\n",
    "dl = DataLoader(dataset, batch_size=BATCH_SIZE, shuffle=True, collate_fn=build_collate(tokenizer))\n",
    "# 使用预训练bert模型时，学习率不能太大!!! 推荐1e-4或1e-5 \n",
    "print(123)"
   ]
  },
  {
   "cell_type": "code",
   "execution_count": null,
   "metadata": {
    "execution": {
     "execution_failed": "2025-05-22T13:14:09.216Z",
     "iopub.execute_input": "2025-05-22T12:28:15.668912Z",
     "iopub.status.busy": "2025-05-22T12:28:15.668553Z"
    },
    "trusted": true
   },
   "outputs": [],
   "source": [
    "device = torch.device('cuda' if torch.cuda.is_available() else 'cpu')\n",
    "#定制相同的优化器和损失函数并冻结model1的参数，以此来进行对比\n",
    "optimizer1 = torch.optim.Adam(model.parameters(), lr=1e-5)\n",
    "optimizer2 = torch.optim.Adam(model1.parameters(), lr=1e-5)\n",
    "loss_fn = torch.nn.CrossEntropyLoss(ignore_index=0)\n",
    "model1.bert.trainable=False\n",
    "for epoch in range(5):\n",
    "        model.train()\n",
    "        model1.train()\n",
    "        total_loss1=0\n",
    "        total_loss2=0\n",
    "        #model.to(device)\n",
    "        #model1.to(device)\n",
    "        for batch in dl:\n",
    "            X, y = batch \n",
    "            #X ={key: value.to(device) for key, value in X.items()}\n",
    "            #y=y.to(device)\n",
    "            logits1=model(**X)\n",
    "            logits2=model1(**X)\n",
    "            # logits: [B,out_feature]\n",
    "            #此处输出的是一个对象，需要提取实际的logits属性才醒\n",
    "            loss1 = loss_fn(logits1.logits,y)\n",
    "            loss2 = loss_fn(logits2.logits,y)\n",
    "            optimizer1.zero_grad()\n",
    "            optimizer2.zero_grad()\n",
    "            loss1.backward()\n",
    "            loss2.backward()\n",
    "            optimizer1.step()\n",
    "            optimizer2.step()\n",
    "            total_loss1 += loss1.item()\n",
    "            total_loss2 += loss2.item()\n",
    "        print(f\"Epoch {epoch+1}, Loss1: {total_loss1/len(dataloader):.4f}\")\n",
    "        print(f\"Epoch {epoch+1}, Loss2: {total_loss2/len(dataloader):.4f}\")\n",
    "#bert模型参数保存\n",
    "torch.save(model.state_dict(), 'bert.pth')"
   ]
  },
  {
   "cell_type": "code",
   "execution_count": null,
   "metadata": {
    "trusted": true
   },
   "outputs": [],
   "source": [
    "new_model = AutoModelForSequenceClassification.from_pretrained(\n",
    "        'google-bert/bert-base-chinese',\n",
    "        5  # 必须与训练时的num_labels一致（如5）\n",
    "    )\n",
    "    \n",
    "    # 加载训练好的参数（state_dict）\n",
    "new_model.load_state_dict(torch.load('bert.pth'))\n",
    "# 移动模型到目标设备（CPU/GPU）\n",
    "device = torch.device('cuda' if torch.cuda.is_available() else 'cpu')\n",
    "new_model = model.to(device)\n",
    "# 开启评估模式（关闭dropout等随机层）\n",
    "new_model.eval()"
   ]
  },
  {
   "cell_type": "code",
   "execution_count": null,
   "metadata": {
    "trusted": true
   },
   "outputs": [],
   "source": [
    "correct = 0\n",
    "total = 0\n",
    "with torch.no_grad():  # 评估时不计算梯度（节省内存）\n",
    "    for batch in dataloader:\n",
    "        model_inputs, labels = batch\n",
    "        # 数据移动到设备\n",
    "        model_inputs = {k: v.to(device) for k, v in model_inputs.items()}\n",
    "        labels = labels.to(device)\n",
    "        \n",
    "        # 前向传播获取预测logits\n",
    "        outputs = model(**model_inputs)\n",
    "        logits = outputs.logits  # 形状：[batch_size, num_labels]\n",
    "        \n",
    "        # 计算预测标签（取概率最大的索引）\n",
    "        preds = logits.argmax(dim=1)\n",
    "        \n",
    "        # 统计正确数\n",
    "        correct += (preds == labels).sum().item()\n",
    "        total += labels.size(0)\n",
    "accuracy = correct / total"
   ]
  }
 ],
 "metadata": {
  "kaggle": {
   "accelerator": "none",
   "dataSources": [
    {
     "datasetId": 134082,
     "sourceId": 318737,
     "sourceType": "datasetVersion"
    }
   ],
   "dockerImageVersionId": 31041,
   "isGpuEnabled": false,
   "isInternetEnabled": true,
   "language": "python",
   "sourceType": "notebook"
  },
  "kernelspec": {
   "display_name": "Python 3",
   "language": "python",
   "name": "python3"
  },
  "language_info": {
   "codemirror_mode": {
    "name": "ipython",
    "version": 3
   },
   "file_extension": ".py",
   "mimetype": "text/x-python",
   "name": "python",
   "nbconvert_exporter": "python",
   "pygments_lexer": "ipython3",
   "version": "3.11.11"
  }
 },
 "nbformat": 4,
 "nbformat_minor": 4
}
