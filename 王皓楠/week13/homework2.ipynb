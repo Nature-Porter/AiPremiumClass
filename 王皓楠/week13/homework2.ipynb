{
 "cells": [
  {
   "cell_type": "code",
   "execution_count": 4,
   "id": "ec340453",
   "metadata": {},
   "outputs": [],
   "source": [
    "from openai import OpenAI\n",
    "from dotenv import load_dotenv, find_dotenv\n",
    "from dotenv import load_dotenv,find_dotenv\n",
    "import os\n",
    "load_dotenv(find_dotenv())\n",
    "client = OpenAI(api_key=os.environ['api_key'] ,\n",
    "                base_url=os.environ['base_url'] )\n",
    "\n",
    "response = client.chat.completions.create(\n",
    "    model=\"glm-z1-flash\",\n",
    "    messages=[\n",
    "        {\"role\": \"system\", \"content\": \"你是一个人工智能助手\"},\n",
    "        {\"role\": \"user\", \"content\": \"请帮我写歌颂爱情的一首诗\"},\n",
    "    ],\n",
    ")"
   ]
  },
  {
   "cell_type": "code",
   "execution_count": 5,
   "id": "6aecaa3a",
   "metadata": {},
   "outputs": [
    {
     "name": "stdout",
     "output_type": "stream",
     "text": [
      "<think>\n",
      "嗯，用户让我帮忙写一首歌颂爱情的诗。首先，我需要确定他们想要什么样的风格和主题。爱情诗有很多种，有浪漫的、深情的，也有象征性的或者带有哲理的。用户可能希望这首诗既有画面感又充满情感，所以得考虑用比喻和意象来表达。\n",
      "\n",
      "接下来，我得想想用哪些自然元素来比喻爱情，比如星辰、海洋、植物等，这些容易引起共鸣。然后结构方面，可能需要分几个小节，每节集中一个意象，比如相遇、相知、承诺、永恒等。押韵和节奏也很重要，中文诗通常押尾韵，但现代诗可能更自由，所以得平衡一下。\n",
      "\n",
      "用户可能没有明确说明诗的长度，但通常诗歌不宜过长，四到五节比较合适。还要考虑用词是否新颖，避免陈词滥调。比如“潮汐”和“钟摆”这样的组合，既有动感又有时间的流逝感。最后一句需要升华主题，把爱情与永恒联系起来，比如用“星群”和“潮汐”来象征永恒的循环。\n",
      "\n",
      "另外，用户可能希望诗中有一些独特的比喻，比如将心跳比作秒针，承诺比作藤蔓，这样既有新意又能传达情感。还要注意每行的字数大致相同，保持节奏感。可能需要反复调整用词，让整体流畅自然，同时每句之间有逻辑上的衔接。最后检查押韵是否合适，是否有生硬的地方，确保整体意境统一，情感真挚。\n",
      "</think>\n",
      "《潮汐与钟摆》\n",
      "（一）\n",
      "当你的瞳孔成为我失重的星球\n",
      "秒针在耳膜深处发芽成心跳\n",
      "潮水漫过所有未命名的礁石\n",
      "我们的相遇是第三颗月亮的诞生\n",
      "\n",
      "（二）\n",
      "钟摆切开黄昏的果冻\n",
      "年轮在掌纹里结网\n",
      "藤蔓缠绕着石英钟的喉咙\n",
      "每个时辰都滴落琥珀色的汗\n",
      "\n",
      "（三）\n",
      "你指间流淌的沙漏\n",
      "正在翻译我骨骼里的暗语\n",
      "候鸟衔来褪色的经文\n",
      "我们用指纹拼凑失传的星图\n",
      "\n",
      "（四）\n",
      "当所有比喻都溺亡在第七个黄昏\n",
      "请将我的影子铸成青铜钥匙\n",
      "解开你睫毛上凝结的霜\n",
      "让所有未完成的诗篇\n",
      "在子夜的褶皱里完成交媾\n",
      "\n",
      "（五）\n",
      "永恒不过是两个倒影交换姓氏\n",
      "星群在血管里重新排列\n",
      "潮汐与钟摆终将学会\n",
      "用同一种频率\n",
      "丈量彼此的深渊与高度\n"
     ]
    }
   ],
   "source": [
    "response_text = response.choices[0].message.content\n",
    "print(response_text)"
   ]
  }
 ],
 "metadata": {
  "kernelspec": {
   "display_name": "py311",
   "language": "python",
   "name": "python3"
  },
  "language_info": {
   "codemirror_mode": {
    "name": "ipython",
    "version": 3
   },
   "file_extension": ".py",
   "mimetype": "text/x-python",
   "name": "python",
   "nbconvert_exporter": "python",
   "pygments_lexer": "ipython3",
   "version": "3.11.11"
  }
 },
 "nbformat": 4,
 "nbformat_minor": 5
}
