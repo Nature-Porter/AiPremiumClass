{
 "cells": [
  {
   "cell_type": "code",
   "execution_count": 1,
   "id": "cc98917b",
   "metadata": {
    "_cell_guid": "b1076dfc-b9ad-4769-8c92-a6c4dae69d19",
    "_uuid": "8f2839f25d086af736a60e9eeb907d3b93b6e0e5",
    "execution": {
     "iopub.execute_input": "2025-06-24T14:00:19.818552Z",
     "iopub.status.busy": "2025-06-24T14:00:19.818287Z",
     "iopub.status.idle": "2025-06-24T14:00:21.991076Z",
     "shell.execute_reply": "2025-06-24T14:00:21.990501Z"
    },
    "papermill": {
     "duration": 2.179273,
     "end_time": "2025-06-24T14:00:21.992425",
     "exception": false,
     "start_time": "2025-06-24T14:00:19.813152",
     "status": "completed"
    },
    "tags": []
   },
   "outputs": [],
   "source": [
    "# This Python 3 environment comes with many helpful analytics libraries installed\n",
    "# It is defined by the kaggle/python Docker image: https://github.com/kaggle/docker-python\n",
    "# For example, here's several helpful packages to load\n",
    "\n",
    "import numpy as np # linear algebra\n",
    "import pandas as pd # data processing, CSV file I/O (e.g. pd.read_csv)\n",
    "\n",
    "# Input data files are available in the read-only \"../input/\" directory\n",
    "# For example, running this (by clicking run or pressing Shift+Enter) will list all files under the input directory\n",
    "\n",
    "import os\n",
    "for dirname, _, filenames in os.walk('/kaggle/input'):\n",
    "    for filename in filenames:\n",
    "        print(os.path.join(dirname, filename))\n",
    "\n",
    "# You can write up to 20GB to the current directory (/kaggle/working/) that gets preserved as output when you create a version using \"Save & Run All\" \n",
    "# You can also write temporary files to /kaggle/temp/, but they won't be saved outside of the current session"
   ]
  },
  {
   "cell_type": "code",
   "execution_count": 2,
   "id": "058860a6",
   "metadata": {
    "execution": {
     "iopub.execute_input": "2025-06-24T14:00:22.000824Z",
     "iopub.status.busy": "2025-06-24T14:00:22.000299Z",
     "iopub.status.idle": "2025-06-24T14:01:10.595468Z",
     "shell.execute_reply": "2025-06-24T14:01:10.594322Z"
    },
    "papermill": {
     "duration": 48.603848,
     "end_time": "2025-06-24T14:01:10.600110",
     "exception": true,
     "start_time": "2025-06-24T14:00:21.996262",
     "status": "failed"
    },
    "tags": []
   },
   "outputs": [
    {
     "name": "stderr",
     "output_type": "stream",
     "text": [
      "2025-06-24 14:00:49.043619: E external/local_xla/xla/stream_executor/cuda/cuda_fft.cc:477] Unable to register cuFFT factory: Attempting to register factory for plugin cuFFT when one has already been registered\n",
      "WARNING: All log messages before absl::InitializeLog() is called are written to STDERR\n",
      "E0000 00:00:1750773649.551689      19 cuda_dnn.cc:8310] Unable to register cuDNN factory: Attempting to register factory for plugin cuDNN when one has already been registered\n",
      "E0000 00:00:1750773649.679805      19 cuda_blas.cc:1418] Unable to register cuBLAS factory: Attempting to register factory for plugin cuBLAS when one has already been registered\n"
     ]
    },
    {
     "ename": "ModuleNotFoundError",
     "evalue": "No module named 'evaluate'",
     "output_type": "error",
     "traceback": [
      "\u001b[0;31m---------------------------------------------------------------------------\u001b[0m",
      "\u001b[0;31mModuleNotFoundError\u001b[0m                       Traceback (most recent call last)",
      "\u001b[0;32m/tmp/ipykernel_19/4133701395.py\u001b[0m in \u001b[0;36m<cell line: 0>\u001b[0;34m()\u001b[0m\n\u001b[1;32m      2\u001b[0m \u001b[0;32mfrom\u001b[0m \u001b[0mtransformers\u001b[0m \u001b[0;32mimport\u001b[0m \u001b[0mTrainingArguments\u001b[0m\u001b[0;34m,\u001b[0m\u001b[0mTrainer\u001b[0m\u001b[0;34m\u001b[0m\u001b[0;34m\u001b[0m\u001b[0m\n\u001b[1;32m      3\u001b[0m \u001b[0;32mimport\u001b[0m \u001b[0mtorch\u001b[0m\u001b[0;34m\u001b[0m\u001b[0;34m\u001b[0m\u001b[0m\n\u001b[0;32m----> 4\u001b[0;31m \u001b[0;32mimport\u001b[0m \u001b[0mevaluate\u001b[0m \u001b[0;31m#pip install evaluate\u001b[0m\u001b[0;34m\u001b[0m\u001b[0;34m\u001b[0m\u001b[0m\n\u001b[0m\u001b[1;32m      5\u001b[0m \u001b[0;32mimport\u001b[0m \u001b[0mseqeval\u001b[0m \u001b[0;31m#pip install seqeval\u001b[0m\u001b[0;34m\u001b[0m\u001b[0;34m\u001b[0m\u001b[0m\n\u001b[1;32m      6\u001b[0m \u001b[0;32mfrom\u001b[0m \u001b[0mdatasets\u001b[0m \u001b[0;32mimport\u001b[0m \u001b[0mload_dataset\u001b[0m\u001b[0;34m\u001b[0m\u001b[0;34m\u001b[0m\u001b[0m\n",
      "\u001b[0;31mModuleNotFoundError\u001b[0m: No module named 'evaluate'"
     ]
    }
   ],
   "source": [
    "from transformers import AutoModelForTokenClassification ,AutoTokenizer,DataCollatorForTokenClassification\n",
    "from transformers import TrainingArguments,Trainer\n",
    "import torch\n",
    "import evaluate #pip install evaluate\n",
    "import seqeval #pip install seqeval\n",
    "from datasets import load_dataset"
   ]
  },
  {
   "cell_type": "code",
   "execution_count": null,
   "id": "cb91429d",
   "metadata": {
    "execution": {
     "iopub.execute_input": "2025-06-24T13:02:30.719182Z",
     "iopub.status.busy": "2025-06-24T13:02:30.718891Z",
     "iopub.status.idle": "2025-06-24T13:02:30.807165Z",
     "shell.execute_reply": "2025-06-24T13:02:30.806330Z",
     "shell.execute_reply.started": "2025-06-24T13:02:30.719161Z"
    },
    "papermill": {
     "duration": null,
     "end_time": null,
     "exception": null,
     "start_time": null,
     "status": "pending"
    },
    "tags": []
   },
   "outputs": [],
   "source": [
    "tokenizer = AutoTokenizer.from_pretrained('google-bert/bert-base-chinese')"
   ]
  },
  {
   "cell_type": "code",
   "execution_count": null,
   "id": "4e24fa70",
   "metadata": {
    "execution": {
     "iopub.execute_input": "2025-06-24T13:02:33.264758Z",
     "iopub.status.busy": "2025-06-24T13:02:33.264475Z",
     "iopub.status.idle": "2025-06-24T13:02:35.470571Z",
     "shell.execute_reply": "2025-06-24T13:02:35.470055Z",
     "shell.execute_reply.started": "2025-06-24T13:02:33.264739Z"
    },
    "papermill": {
     "duration": null,
     "end_time": null,
     "exception": null,
     "start_time": null,
     "status": "pending"
    },
    "tags": []
   },
   "outputs": [],
   "source": [
    "ds = load_dataset('doushabao4766/msra_ner_k_V3')"
   ]
  },
  {
   "cell_type": "code",
   "execution_count": null,
   "id": "0bd6a636",
   "metadata": {
    "execution": {
     "iopub.execute_input": "2025-06-24T13:02:37.996033Z",
     "iopub.status.busy": "2025-06-24T13:02:37.995486Z",
     "iopub.status.idle": "2025-06-24T13:02:38.001205Z",
     "shell.execute_reply": "2025-06-24T13:02:38.000332Z",
     "shell.execute_reply.started": "2025-06-24T13:02:37.996011Z"
    },
    "papermill": {
     "duration": null,
     "end_time": null,
     "exception": null,
     "start_time": null,
     "status": "pending"
    },
    "tags": []
   },
   "outputs": [],
   "source": [
    "ds"
   ]
  },
  {
   "cell_type": "code",
   "execution_count": null,
   "id": "c7d3cd84",
   "metadata": {
    "execution": {
     "iopub.execute_input": "2025-06-24T13:02:40.654003Z",
     "iopub.status.busy": "2025-06-24T13:02:40.653373Z",
     "iopub.status.idle": "2025-06-24T13:02:43.422237Z",
     "shell.execute_reply": "2025-06-24T13:02:43.421536Z",
     "shell.execute_reply.started": "2025-06-24T13:02:40.653982Z"
    },
    "papermill": {
     "duration": null,
     "end_time": null,
     "exception": null,
     "start_time": null,
     "status": "pending"
    },
    "tags": []
   },
   "outputs": [],
   "source": [
    "ds['train']['tokens']\n",
    "\n",
    "for item in ds['train']:\n",
    "    print(item['tokens'])\n",
    "    print(item['ner_tags'])\n",
    "    break"
   ]
  },
  {
   "cell_type": "markdown",
   "id": "f0722581",
   "metadata": {
    "papermill": {
     "duration": null,
     "end_time": null,
     "exception": null,
     "start_time": null,
     "status": "pending"
    },
    "tags": []
   },
   "source": [
    "###实体映射字典\n",
    "\n",
    "‘O’:0</br>\n",
    "'B-PER':1</br>\n",
    "'I-PER':2</br>\n",
    "'B-LOC':3</br>\n",
    "'I-LOC':4</br>\n",
    "'B-ORG':5</br>\n",
    "'I-ORG':6</br>"
   ]
  },
  {
   "cell_type": "markdown",
   "id": "49a945de",
   "metadata": {
    "papermill": {
     "duration": null,
     "end_time": null,
     "exception": null,
     "start_time": null,
     "status": "pending"
    },
    "tags": []
   },
   "source": [
    "获取所有tag标签"
   ]
  },
  {
   "cell_type": "code",
   "execution_count": null,
   "id": "774dc2c6",
   "metadata": {
    "execution": {
     "iopub.execute_input": "2025-06-24T13:02:46.840795Z",
     "iopub.status.busy": "2025-06-24T13:02:46.840531Z",
     "iopub.status.idle": "2025-06-24T13:02:52.132927Z",
     "shell.execute_reply": "2025-06-24T13:02:52.132332Z",
     "shell.execute_reply.started": "2025-06-24T13:02:46.840776Z"
    },
    "papermill": {
     "duration": null,
     "end_time": null,
     "exception": null,
     "start_time": null,
     "status": "pending"
    },
    "tags": []
   },
   "outputs": [],
   "source": [
    "tags_id =set()\n",
    "for items in ds['train']:\n",
    "    tags_id.update(items['ner_tags'])\n",
    "\n",
    "tags_id"
   ]
  },
  {
   "cell_type": "code",
   "execution_count": null,
   "id": "0c11eeaa",
   "metadata": {
    "execution": {
     "iopub.execute_input": "2025-06-24T13:03:02.603032Z",
     "iopub.status.busy": "2025-06-24T13:03:02.602426Z",
     "iopub.status.idle": "2025-06-24T13:03:02.607820Z",
     "shell.execute_reply": "2025-06-24T13:03:02.606777Z",
     "shell.execute_reply.started": "2025-06-24T13:03:02.603010Z"
    },
    "papermill": {
     "duration": null,
     "end_time": null,
     "exception": null,
     "start_time": null,
     "status": "pending"
    },
    "tags": []
   },
   "outputs": [],
   "source": [
    "entites=['O']+list({'PER','LOC','ORG'})\n",
    "tags =['O']\n",
    "\n",
    "for entity in entites[1:]:\n",
    "    tags.append('B-'+entity.upper())\n",
    "    tags.append('I-'+entity.upper())\n",
    "\n",
    "entity_index={entity:i for i,entity in enumerate(entites)}"
   ]
  },
  {
   "cell_type": "code",
   "execution_count": null,
   "id": "0c8f4761",
   "metadata": {
    "execution": {
     "iopub.execute_input": "2025-06-24T13:03:06.174730Z",
     "iopub.status.busy": "2025-06-24T13:03:06.174444Z",
     "iopub.status.idle": "2025-06-24T13:03:06.180242Z",
     "shell.execute_reply": "2025-06-24T13:03:06.179226Z",
     "shell.execute_reply.started": "2025-06-24T13:03:06.174711Z"
    },
    "papermill": {
     "duration": null,
     "end_time": null,
     "exception": null,
     "start_time": null,
     "status": "pending"
    },
    "tags": []
   },
   "outputs": [],
   "source": [
    "entity_index"
   ]
  },
  {
   "cell_type": "code",
   "execution_count": null,
   "id": "1f2d736f",
   "metadata": {
    "execution": {
     "iopub.execute_input": "2025-06-24T13:03:08.474643Z",
     "iopub.status.busy": "2025-06-24T13:03:08.474337Z",
     "iopub.status.idle": "2025-06-24T13:03:08.479812Z",
     "shell.execute_reply": "2025-06-24T13:03:08.479037Z",
     "shell.execute_reply.started": "2025-06-24T13:03:08.474623Z"
    },
    "papermill": {
     "duration": null,
     "end_time": null,
     "exception": null,
     "start_time": null,
     "status": "pending"
    },
    "tags": []
   },
   "outputs": [],
   "source": [
    "tags"
   ]
  },
  {
   "cell_type": "code",
   "execution_count": null,
   "id": "586c4807",
   "metadata": {
    "execution": {
     "iopub.execute_input": "2025-06-24T13:03:10.079429Z",
     "iopub.status.busy": "2025-06-24T13:03:10.079110Z",
     "iopub.status.idle": "2025-06-24T13:03:23.775867Z",
     "shell.execute_reply": "2025-06-24T13:03:23.774982Z",
     "shell.execute_reply.started": "2025-06-24T13:03:10.079408Z"
    },
    "papermill": {
     "duration": null,
     "end_time": null,
     "exception": null,
     "start_time": null,
     "status": "pending"
    },
    "tags": []
   },
   "outputs": [],
   "source": [
    "def data_input_proc(item):     \n",
    "    input_data = tokenizer(item['tokens'],#已经分词的文本\n",
    "                            truncation=True,#是否截断超长序列\t\n",
    "                            add_special_tokens=False,#需要原始词表对齐的任务\n",
    "                            max_length=512,#控制输入大小\n",
    "                            is_split_into_words=True,\n",
    "                            return_offsets_mapping=True,\n",
    "                            ) #输入是否已分词\t\n",
    "    labels= [lbl[:512] for lbl in item['ner_tags']]\n",
    "    input_data['labels'] =labels\n",
    "    return input_data\n",
    "\n",
    "ds1 =ds.map(data_input_proc,batched=True)\n",
    "\n"
   ]
  },
  {
   "cell_type": "code",
   "execution_count": null,
   "id": "413613ea",
   "metadata": {
    "execution": {
     "iopub.execute_input": "2025-06-24T13:03:28.957859Z",
     "iopub.status.busy": "2025-06-24T13:03:28.957136Z",
     "iopub.status.idle": "2025-06-24T13:03:28.962509Z",
     "shell.execute_reply": "2025-06-24T13:03:28.961631Z",
     "shell.execute_reply.started": "2025-06-24T13:03:28.957836Z"
    },
    "papermill": {
     "duration": null,
     "end_time": null,
     "exception": null,
     "start_time": null,
     "status": "pending"
    },
    "tags": []
   },
   "outputs": [],
   "source": [
    "ds1.set_format('torch',columns=['input_ids','token_type_ids','attention_mask','labels'])"
   ]
  },
  {
   "cell_type": "code",
   "execution_count": null,
   "id": "909d89b3",
   "metadata": {
    "execution": {
     "iopub.execute_input": "2025-06-24T13:03:31.912494Z",
     "iopub.status.busy": "2025-06-24T13:03:31.911745Z",
     "iopub.status.idle": "2025-06-24T13:03:34.749016Z",
     "shell.execute_reply": "2025-06-24T13:03:34.748397Z",
     "shell.execute_reply.started": "2025-06-24T13:03:31.912457Z"
    },
    "papermill": {
     "duration": null,
     "end_time": null,
     "exception": null,
     "start_time": null,
     "status": "pending"
    },
    "tags": []
   },
   "outputs": [],
   "source": [
    "id2label = {i:tag for i,tag in enumerate(tags)}\n",
    "label2id = {tag:i for i,tag in enumerate(tags)}\n",
    "model=AutoModelForTokenClassification.from_pretrained('bert-base-chinese',\n",
    "                                                      num_labels = len(tags),\n",
    "                                                      id2label = id2label,\n",
    "                                                      label2id = label2id)\n",
    "model\n",
    "\n"
   ]
  },
  {
   "cell_type": "code",
   "execution_count": null,
   "id": "b4f19baf",
   "metadata": {
    "execution": {
     "iopub.execute_input": "2025-06-24T13:03:42.784653Z",
     "iopub.status.busy": "2025-06-24T13:03:42.784364Z",
     "iopub.status.idle": "2025-06-24T13:03:42.818874Z",
     "shell.execute_reply": "2025-06-24T13:03:42.818327Z",
     "shell.execute_reply.started": "2025-06-24T13:03:42.784634Z"
    },
    "papermill": {
     "duration": null,
     "end_time": null,
     "exception": null,
     "start_time": null,
     "status": "pending"
    },
    "tags": []
   },
   "outputs": [],
   "source": [
    "args = TrainingArguments(\n",
    "    output_dir=\"msra_ner_train\",\n",
    "    num_train_epochs=3,\n",
    "    per_device_train_batch_size=16,\n",
    "    per_device_eval_batch_size=16,\n",
    "    report_to=\"tensorboard\",\n",
    "    eval_strategy=\"epoch\"\n",
    ")"
   ]
  },
  {
   "cell_type": "code",
   "execution_count": null,
   "id": "19d6e94a",
   "metadata": {
    "execution": {
     "iopub.execute_input": "2025-06-24T13:03:45.632743Z",
     "iopub.status.busy": "2025-06-24T13:03:45.632489Z",
     "iopub.status.idle": "2025-06-24T13:03:45.638468Z",
     "shell.execute_reply": "2025-06-24T13:03:45.637686Z",
     "shell.execute_reply.started": "2025-06-24T13:03:45.632727Z"
    },
    "papermill": {
     "duration": null,
     "end_time": null,
     "exception": null,
     "start_time": null,
     "status": "pending"
    },
    "tags": []
   },
   "outputs": [],
   "source": [
    "def compute_metrics(result):\n",
    "    #result 是元组-tule(predocts,lables)，\n",
    "\n",
    "    #获取评估对象\n",
    "    seqeval=evaluate.load('seqeval')\n",
    "    predicts,labels= result\n",
    "    predicts=np.argmax(predicts,axis=2)\n",
    "    \n",
    "    #准备评估数据\n",
    "    predicts=[[tags[p] for p,l in zip(ps,ls) if l!=-100]\n",
    "              for ps,ls in zip(predicts,labels)]\n",
    "    labels=[[tags[l] for p,l in zip(ps,ls) if l!=-100]\n",
    "              for ps,ls in zip(predicts,labels)]\n",
    "\n",
    "    results =seqeval.compute(predictions=predicts,references=labels) \n",
    "\n",
    "    return results"
   ]
  },
  {
   "cell_type": "code",
   "execution_count": null,
   "id": "28fae7b7",
   "metadata": {
    "execution": {
     "iopub.execute_input": "2025-06-24T13:03:51.177710Z",
     "iopub.status.busy": "2025-06-24T13:03:51.177414Z",
     "iopub.status.idle": "2025-06-24T13:03:51.182111Z",
     "shell.execute_reply": "2025-06-24T13:03:51.181318Z",
     "shell.execute_reply.started": "2025-06-24T13:03:51.177691Z"
    },
    "papermill": {
     "duration": null,
     "end_time": null,
     "exception": null,
     "start_time": null,
     "status": "pending"
    },
    "tags": []
   },
   "outputs": [],
   "source": [
    "data_collator= DataCollatorForTokenClassification(tokenizer=tokenizer,padding=True)"
   ]
  },
  {
   "cell_type": "code",
   "execution_count": null,
   "id": "46ac2b41",
   "metadata": {
    "execution": {
     "iopub.execute_input": "2025-06-24T13:03:54.770139Z",
     "iopub.status.busy": "2025-06-24T13:03:54.769477Z",
     "iopub.status.idle": "2025-06-24T13:03:55.431670Z",
     "shell.execute_reply": "2025-06-24T13:03:55.430737Z",
     "shell.execute_reply.started": "2025-06-24T13:03:54.770103Z"
    },
    "papermill": {
     "duration": null,
     "end_time": null,
     "exception": null,
     "start_time": null,
     "status": "pending"
    },
    "tags": []
   },
   "outputs": [],
   "source": [
    "trainer= Trainer(\n",
    "    model,\n",
    "    args,\n",
    "    train_dataset=ds1['train'],\n",
    "    eval_dataset=ds1['test'],\n",
    "    data_collator=data_collator,\n",
    "    compute_metrics=compute_metrics\n",
    ")"
   ]
  },
  {
   "cell_type": "code",
   "execution_count": null,
   "id": "4ed09836",
   "metadata": {
    "execution": {
     "iopub.execute_input": "2025-06-24T13:03:57.578661Z",
     "iopub.status.busy": "2025-06-24T13:03:57.578389Z",
     "iopub.status.idle": "2025-06-24T13:40:33.098107Z",
     "shell.execute_reply": "2025-06-24T13:40:33.097380Z",
     "shell.execute_reply.started": "2025-06-24T13:03:57.578643Z"
    },
    "papermill": {
     "duration": null,
     "end_time": null,
     "exception": null,
     "start_time": null,
     "status": "pending"
    },
    "tags": []
   },
   "outputs": [],
   "source": [
    "trainer.train()"
   ]
  },
  {
   "cell_type": "code",
   "execution_count": null,
   "id": "fc5b58ea",
   "metadata": {
    "execution": {
     "iopub.execute_input": "2025-06-24T13:52:08.507828Z",
     "iopub.status.busy": "2025-06-24T13:52:08.507506Z",
     "iopub.status.idle": "2025-06-24T13:52:08.511941Z",
     "shell.execute_reply": "2025-06-24T13:52:08.511158Z",
     "shell.execute_reply.started": "2025-06-24T13:52:08.507806Z"
    },
    "papermill": {
     "duration": null,
     "end_time": null,
     "exception": null,
     "start_time": null,
     "status": "pending"
    },
    "tags": []
   },
   "outputs": [],
   "source": [
    "from transformers import pipeline"
   ]
  },
  {
   "cell_type": "code",
   "execution_count": null,
   "id": "95b4cf7b",
   "metadata": {
    "execution": {
     "iopub.execute_input": "2025-06-24T13:58:58.106103Z",
     "iopub.status.busy": "2025-06-24T13:58:58.105790Z",
     "iopub.status.idle": "2025-06-24T13:58:58.422971Z",
     "shell.execute_reply": "2025-06-24T13:58:58.422318Z",
     "shell.execute_reply.started": "2025-06-24T13:58:58.106086Z"
    },
    "papermill": {
     "duration": null,
     "end_time": null,
     "exception": null,
     "start_time": null,
     "status": "pending"
    },
    "tags": []
   },
   "outputs": [],
   "source": [
    "pipeline = pipeline('token-classification','msra_ner_train/checkpoint-4221')"
   ]
  },
  {
   "cell_type": "code",
   "execution_count": null,
   "id": "4df31312",
   "metadata": {
    "execution": {
     "iopub.execute_input": "2025-06-24T13:59:02.196471Z",
     "iopub.status.busy": "2025-06-24T13:59:02.195700Z",
     "iopub.status.idle": "2025-06-24T13:59:02.227420Z",
     "shell.execute_reply": "2025-06-24T13:59:02.226629Z",
     "shell.execute_reply.started": "2025-06-24T13:59:02.196440Z"
    },
    "papermill": {
     "duration": null,
     "end_time": null,
     "exception": null,
     "start_time": null,
     "status": "pending"
    },
    "tags": []
   },
   "outputs": [],
   "source": [
    "pipeline('双方确定了今后发展中美关系的指导方针')"
   ]
  }
 ],
 "metadata": {
  "kaggle": {
   "accelerator": "nvidiaTeslaT4",
   "dataSources": [],
   "dockerImageVersionId": 31041,
   "isGpuEnabled": true,
   "isInternetEnabled": true,
   "language": "python",
   "sourceType": "notebook"
  },
  "kernelspec": {
   "display_name": "Python 3",
   "language": "python",
   "name": "python3"
  },
  "language_info": {
   "codemirror_mode": {
    "name": "ipython",
    "version": 3
   },
   "file_extension": ".py",
   "mimetype": "text/x-python",
   "name": "python",
   "nbconvert_exporter": "python",
   "pygments_lexer": "ipython3",
   "version": "3.11.11"
  },
  "papermill": {
   "default_parameters": {},
   "duration": 60.326248,
   "end_time": "2025-06-24T14:01:13.448970",
   "environment_variables": {},
   "exception": true,
   "input_path": "__notebook__.ipynb",
   "output_path": "__notebook__.ipynb",
   "parameters": {},
   "start_time": "2025-06-24T14:00:13.122722",
   "version": "2.6.0"
  }
 },
 "nbformat": 4,
 "nbformat_minor": 5
}
