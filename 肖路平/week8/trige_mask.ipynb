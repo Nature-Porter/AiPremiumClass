{
 "cells": [
  {
   "cell_type": "code",
   "execution_count": 4,
   "id": "573d166d",
   "metadata": {},
   "outputs": [
    {
     "data": {
      "text/plain": [
       "tensor([[1., 0., 0., 0., 0., 0., 0., 0., 0., 0.],\n",
       "        [1., 1., 0., 0., 0., 0., 0., 0., 0., 0.],\n",
       "        [1., 1., 1., 0., 0., 0., 0., 0., 0., 0.],\n",
       "        [1., 1., 1., 1., 0., 0., 0., 0., 0., 0.],\n",
       "        [1., 1., 1., 1., 1., 0., 0., 0., 0., 0.],\n",
       "        [1., 1., 1., 1., 1., 1., 0., 0., 0., 0.],\n",
       "        [1., 1., 1., 1., 1., 1., 1., 0., 0., 0.],\n",
       "        [1., 1., 1., 1., 1., 1., 1., 1., 0., 0.],\n",
       "        [1., 1., 1., 1., 1., 1., 1., 1., 1., 0.],\n",
       "        [1., 1., 1., 1., 1., 1., 1., 1., 1., 1.]])"
      ]
     },
     "execution_count": 4,
     "metadata": {},
     "output_type": "execute_result"
    }
   ],
   "source": [
    "import torch\n",
    "\n",
    "# 方阵大小\n",
    "sz = 10\n",
    "\n",
    "# 矩阵\n",
    "mt = torch.ones((sz,sz))\n",
    "# 下三角截取\n",
    "mask = torch.tril(mt)\n",
    "mask"
   ]
  },
  {
   "cell_type": "code",
   "execution_count": 9,
   "id": "081c88b4",
   "metadata": {},
   "outputs": [
    {
     "data": {
      "text/plain": [
       "tensor([[0., -inf, -inf, -inf, -inf, -inf, -inf, -inf, -inf, -inf],\n",
       "        [0., 0., -inf, -inf, -inf, -inf, -inf, -inf, -inf, -inf],\n",
       "        [0., 0., 0., -inf, -inf, -inf, -inf, -inf, -inf, -inf],\n",
       "        [0., 0., 0., 0., -inf, -inf, -inf, -inf, -inf, -inf],\n",
       "        [0., 0., 0., 0., 0., -inf, -inf, -inf, -inf, -inf],\n",
       "        [0., 0., 0., 0., 0., 0., -inf, -inf, -inf, -inf],\n",
       "        [0., 0., 0., 0., 0., 0., 0., -inf, -inf, -inf],\n",
       "        [0., 0., 0., 0., 0., 0., 0., 0., -inf, -inf],\n",
       "        [0., 0., 0., 0., 0., 0., 0., 0., 0., -inf],\n",
       "        [0., 0., 0., 0., 0., 0., 0., 0., 0., 0.]])"
      ]
     },
     "execution_count": 9,
     "metadata": {},
     "output_type": "execute_result"
    }
   ],
   "source": [
    "# 条件填充\n",
    "mask = mask.float().masked_fill(mask == 0, float('-inf'))\n",
    "mask = mask.masked_fill(mask==1, float(0.))\n",
    "mask"
   ]
  },
  {
   "cell_type": "code",
   "execution_count": 12,
   "id": "af7d0a84",
   "metadata": {},
   "outputs": [
    {
     "data": {
      "text/plain": [
       "tensor([[-1.2352,    -inf,    -inf,    -inf,    -inf,    -inf,    -inf,    -inf,\n",
       "            -inf,    -inf],\n",
       "        [-0.8230,  1.5287,    -inf,    -inf,    -inf,    -inf,    -inf,    -inf,\n",
       "            -inf,    -inf],\n",
       "        [-1.0380, -1.5942, -0.7556,    -inf,    -inf,    -inf,    -inf,    -inf,\n",
       "            -inf,    -inf],\n",
       "        [-2.9164, -0.3872,  0.8498,  0.5661,    -inf,    -inf,    -inf,    -inf,\n",
       "            -inf,    -inf],\n",
       "        [-0.8127, -0.0701, -0.6264, -1.5351, -0.6553,    -inf,    -inf,    -inf,\n",
       "            -inf,    -inf],\n",
       "        [-0.3185, -0.8363, -0.5051,  1.2931,  0.3507, -0.7568,    -inf,    -inf,\n",
       "            -inf,    -inf],\n",
       "        [ 0.2295,  2.1319,  0.4828,  0.4164, -0.1160,  2.0234, -0.6578,    -inf,\n",
       "            -inf,    -inf],\n",
       "        [-0.5183,  0.4366,  0.8216, -1.5788,  0.5707,  0.1952, -0.7285, -0.1254,\n",
       "            -inf,    -inf],\n",
       "        [ 0.3350,  1.1377,  0.4579, -0.8852, -0.5893,  1.1170, -0.2665, -0.5934,\n",
       "         -0.1256,    -inf],\n",
       "        [-0.1845, -1.2708,  0.0311, -1.7899,  0.7221, -1.3988,  0.0795,  0.8511,\n",
       "         -0.6273,  0.5156]])"
      ]
     },
     "execution_count": 12,
     "metadata": {},
     "output_type": "execute_result"
    }
   ],
   "source": [
    "mt = torch.randn((10,10))\n",
    "mt = mt + mask\n",
    "mt"
   ]
  },
  {
   "cell_type": "code",
   "execution_count": 14,
   "id": "209a120f",
   "metadata": {},
   "outputs": [
    {
     "data": {
      "text/plain": [
       "tensor([[0.0455, 0.0000, 0.0000, 0.0000, 0.0000, 0.0000, 0.0000, 0.0000, 0.0000,\n",
       "         0.0000],\n",
       "        [0.0687, 0.2279, 0.0000, 0.0000, 0.0000, 0.0000, 0.0000, 0.0000, 0.0000,\n",
       "         0.0000],\n",
       "        [0.0554, 0.0100, 0.0449, 0.0000, 0.0000, 0.0000, 0.0000, 0.0000, 0.0000,\n",
       "         0.0000],\n",
       "        [0.0085, 0.0335, 0.2238, 0.2223, 0.0000, 0.0000, 0.0000, 0.0000, 0.0000,\n",
       "         0.0000],\n",
       "        [0.0694, 0.0461, 0.0511, 0.0272, 0.0720, 0.0000, 0.0000, 0.0000, 0.0000,\n",
       "         0.0000],\n",
       "        [0.1138, 0.0214, 0.0577, 0.4599, 0.1969, 0.0374, 0.0000, 0.0000, 0.0000,\n",
       "         0.0000],\n",
       "        [0.1968, 0.4166, 0.1550, 0.1914, 0.1235, 0.6027, 0.1818, 0.0000, 0.0000,\n",
       "         0.0000],\n",
       "        [0.0932, 0.0765, 0.2175, 0.0260, 0.2453, 0.0968, 0.1694, 0.2336, 0.0000,\n",
       "         0.0000],\n",
       "        [0.2187, 0.1541, 0.1512, 0.0521, 0.0769, 0.2435, 0.2688, 0.1463, 0.6228,\n",
       "         0.0000],\n",
       "        [0.1301, 0.0139, 0.0987, 0.0211, 0.2854, 0.0197, 0.3800, 0.6202, 0.3772,\n",
       "         1.0000]])"
      ]
     },
     "execution_count": 14,
     "metadata": {},
     "output_type": "execute_result"
    }
   ],
   "source": [
    "torch.softmax(mt, 0)"
   ]
  }
 ],
 "metadata": {
  "kernelspec": {
   "display_name": "base",
   "language": "python",
   "name": "python3"
  },
  "language_info": {
   "codemirror_mode": {
    "name": "ipython",
    "version": 3
   },
   "file_extension": ".py",
   "mimetype": "text/x-python",
   "name": "python",
   "nbconvert_exporter": "python",
   "pygments_lexer": "ipython3",
   "version": "3.11.10"
  }
 },
 "nbformat": 4,
 "nbformat_minor": 5
}
