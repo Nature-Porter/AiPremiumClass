{
 "cells": [
  {
   "cell_type": "code",
   "execution_count": 21,
   "id": "57fca017",
   "metadata": {},
   "outputs": [
    {
     "data": {
      "text/plain": [
       "tensor([[1., 0., 0., 0., 0., 0., 0., 0., 0., 0.],\n",
       "        [1., 1., 0., 0., 0., 0., 0., 0., 0., 0.],\n",
       "        [1., 1., 1., 0., 0., 0., 0., 0., 0., 0.],\n",
       "        [1., 1., 1., 1., 0., 0., 0., 0., 0., 0.],\n",
       "        [1., 1., 1., 1., 1., 0., 0., 0., 0., 0.],\n",
       "        [1., 1., 1., 1., 1., 1., 0., 0., 0., 0.],\n",
       "        [1., 1., 1., 1., 1., 1., 1., 0., 0., 0.],\n",
       "        [1., 1., 1., 1., 1., 1., 1., 1., 0., 0.],\n",
       "        [1., 1., 1., 1., 1., 1., 1., 1., 1., 0.],\n",
       "        [1., 1., 1., 1., 1., 1., 1., 1., 1., 1.]])"
      ]
     },
     "execution_count": 21,
     "metadata": {},
     "output_type": "execute_result"
    }
   ],
   "source": [
    "import torch\n",
    "\n",
    "#方阵大小\n",
    "sz =10\n",
    "\n",
    "#矩阵\n",
    "mt = torch.ones((sz,sz))\n",
    " \n",
    "#上三角截取\n",
    "#mask = torch.triu(mt)\n",
    "#下三角截取\n",
    "mask  = torch.tril(mt)\n",
    "mask"
   ]
  },
  {
   "cell_type": "code",
   "execution_count": null,
   "id": "60b65e77",
   "metadata": {},
   "outputs": [
    {
     "data": {
      "text/plain": [
       "tensor([[0., -inf, -inf, -inf, -inf, -inf, -inf, -inf, -inf, -inf],\n",
       "        [0., 0., -inf, -inf, -inf, -inf, -inf, -inf, -inf, -inf],\n",
       "        [0., 0., 0., -inf, -inf, -inf, -inf, -inf, -inf, -inf],\n",
       "        [0., 0., 0., 0., -inf, -inf, -inf, -inf, -inf, -inf],\n",
       "        [0., 0., 0., 0., 0., -inf, -inf, -inf, -inf, -inf],\n",
       "        [0., 0., 0., 0., 0., 0., -inf, -inf, -inf, -inf],\n",
       "        [0., 0., 0., 0., 0., 0., 0., -inf, -inf, -inf],\n",
       "        [0., 0., 0., 0., 0., 0., 0., 0., -inf, -inf],\n",
       "        [0., 0., 0., 0., 0., 0., 0., 0., 0., -inf],\n",
       "        [0., 0., 0., 0., 0., 0., 0., 0., 0., 0.]])"
      ]
     },
     "execution_count": 23,
     "metadata": {},
     "output_type": "execute_result"
    }
   ],
   "source": [
    "# 条件填充\n",
    "#mask==0 # mask==0 为true\n",
    "\n",
    "mask= mask.float().masked_fill(mask==0,float('-inf'))\n",
    "\n",
    "mask = mask.masked_fill(mask==1,float(0.))\n",
    "\n",
    "mask"
   ]
  },
  {
   "cell_type": "code",
   "execution_count": 25,
   "id": "4400771c",
   "metadata": {},
   "outputs": [
    {
     "data": {
      "text/plain": [
       "tensor([[-1.5646,    -inf,    -inf,    -inf,    -inf,    -inf,    -inf,    -inf,\n",
       "            -inf,    -inf],\n",
       "        [-1.3280, -2.3912,    -inf,    -inf,    -inf,    -inf,    -inf,    -inf,\n",
       "            -inf,    -inf],\n",
       "        [-1.2790,  0.1930, -0.5140,    -inf,    -inf,    -inf,    -inf,    -inf,\n",
       "            -inf,    -inf],\n",
       "        [ 2.0614,  0.6137, -1.1760, -0.6760,    -inf,    -inf,    -inf,    -inf,\n",
       "            -inf,    -inf],\n",
       "        [-1.2607, -0.5065, -1.4504, -1.0112, -0.5518,    -inf,    -inf,    -inf,\n",
       "            -inf,    -inf],\n",
       "        [-0.3257, -0.0661,  0.3222, -1.0470, -0.3349, -0.7260,    -inf,    -inf,\n",
       "            -inf,    -inf],\n",
       "        [-0.2791, -0.0447,  1.0750,  0.8918,  1.0523,  0.9371,  0.7163,    -inf,\n",
       "            -inf,    -inf],\n",
       "        [ 0.4877, -0.5328, -1.3558, -0.3007, -0.0115,  0.4959,  0.5465,  0.8923,\n",
       "            -inf,    -inf],\n",
       "        [-0.0179, -0.7133,  1.2481,  0.6165,  0.3036, -0.7097,  0.5920,  1.3556,\n",
       "          1.6989,    -inf],\n",
       "        [ 2.2517,  0.8045,  0.7332, -1.0199,  0.1820,  0.6540, -1.0448,  0.7854,\n",
       "         -0.1416, -0.0252]])"
      ]
     },
     "execution_count": 25,
     "metadata": {},
     "output_type": "execute_result"
    }
   ],
   "source": [
    "mt = torch.randn((10,10))\n",
    "mt =mt +mask\n",
    "mt"
   ]
  },
  {
   "cell_type": "code",
   "execution_count": 26,
   "id": "b70fa1ed",
   "metadata": {},
   "outputs": [
    {
     "data": {
      "text/plain": [
       "tensor([[0.0093, 0.0000, 0.0000, 0.0000, 0.0000, 0.0000, 0.0000, 0.0000, 0.0000,\n",
       "         0.0000],\n",
       "        [0.0118, 0.0102, 0.0000, 0.0000, 0.0000, 0.0000, 0.0000, 0.0000, 0.0000,\n",
       "         0.0000],\n",
       "        [0.0124, 0.1354, 0.0530, 0.0000, 0.0000, 0.0000, 0.0000, 0.0000, 0.0000,\n",
       "         0.0000],\n",
       "        [0.3494, 0.2062, 0.0274, 0.0769, 0.0000, 0.0000, 0.0000, 0.0000, 0.0000,\n",
       "         0.0000],\n",
       "        [0.0126, 0.0673, 0.0208, 0.0550, 0.0748, 0.0000, 0.0000, 0.0000, 0.0000,\n",
       "         0.0000],\n",
       "        [0.0321, 0.1045, 0.1224, 0.0530, 0.0929, 0.0682, 0.0000, 0.0000, 0.0000,\n",
       "         0.0000],\n",
       "        [0.0336, 0.1067, 0.2599, 0.3687, 0.3721, 0.3599, 0.3450, 0.0000, 0.0000,\n",
       "         0.0000],\n",
       "        [0.0724, 0.0655, 0.0229, 0.1119, 0.1284, 0.2315, 0.2911, 0.2867, 0.0000,\n",
       "         0.0000],\n",
       "        [0.0437, 0.0547, 0.3090, 0.2800, 0.1760, 0.0693, 0.3046, 0.4556, 0.8630,\n",
       "         0.0000],\n",
       "        [0.4227, 0.2495, 0.1846, 0.0545, 0.1558, 0.2711, 0.0593, 0.2577, 0.1370,\n",
       "         1.0000]])"
      ]
     },
     "execution_count": 26,
     "metadata": {},
     "output_type": "execute_result"
    }
   ],
   "source": [
    "torch.softmax(mt,0)"
   ]
  }
 ],
 "metadata": {
  "kernelspec": {
   "display_name": "base",
   "language": "python",
   "name": "python3"
  },
  "language_info": {
   "codemirror_mode": {
    "name": "ipython",
    "version": 3
   },
   "file_extension": ".py",
   "mimetype": "text/x-python",
   "name": "python",
   "nbconvert_exporter": "python",
   "pygments_lexer": "ipython3",
   "version": "3.12.3"
  }
 },
 "nbformat": 4,
 "nbformat_minor": 5
}
