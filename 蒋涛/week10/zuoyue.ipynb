{
 "cells": [
  {
   "cell_type": "markdown",
   "metadata": {},
   "source": [
    "### 10期作业\n",
    "\n",
    "1. 根据提供的kaggle JD评论语料进行文本分类训练\n",
    "https://www.kaggle.com/datasets/dosonleung/jd_comment_with_label\n",
    "2. 调整模型训练参数，添加tensorboard跟踪，对比bert冻结和不冻结之间的训练差异。\n",
    "3. 保存模型进行分类预测。\n",
    "\n"
   ]
  },
  {
   "cell_type": "code",
   "execution_count": 1,
   "metadata": {
    "execution": {
     "iopub.execute_input": "2025-05-28T00:51:12.075082Z",
     "iopub.status.busy": "2025-05-28T00:51:12.074824Z",
     "iopub.status.idle": "2025-05-28T00:51:43.209159Z",
     "shell.execute_reply": "2025-05-28T00:51:43.208318Z",
     "shell.execute_reply.started": "2025-05-28T00:51:12.075054Z"
    },
    "trusted": true
   },
   "outputs": [
    {
     "name": "stderr",
     "output_type": "stream",
     "text": [
      "2025-05-28 00:51:29.393176: E external/local_xla/xla/stream_executor/cuda/cuda_fft.cc:477] Unable to register cuFFT factory: Attempting to register factory for plugin cuFFT when one has already been registered\n",
      "WARNING: All log messages before absl::InitializeLog() is called are written to STDERR\n",
      "E0000 00:00:1748393489.590748      35 cuda_dnn.cc:8310] Unable to register cuDNN factory: Attempting to register factory for plugin cuDNN when one has already been registered\n",
      "E0000 00:00:1748393489.653123      35 cuda_blas.cc:1418] Unable to register cuBLAS factory: Attempting to register factory for plugin cuBLAS when one has already been registered\n"
     ]
    }
   ],
   "source": [
    "import torch\n",
    "import torch.nn as nn\n",
    "from torch.optim import Adam\n",
    "from transformers import AutoTokenizer, AutoModelForSequenceClassification\n",
    "from torch.utils.data import DataLoader\n",
    "from torch.utils.tensorboard import SummaryWriter\n",
    "from sklearn.model_selection import train_test_split\n",
    "\n",
    "import pandas as pd\n",
    "from tqdm import tqdm "
   ]
  },
  {
   "cell_type": "code",
   "execution_count": 4,
   "metadata": {
    "execution": {
     "iopub.execute_input": "2025-05-28T00:52:32.041940Z",
     "iopub.status.busy": "2025-05-28T00:52:32.041433Z",
     "iopub.status.idle": "2025-05-28T00:52:32.049261Z",
     "shell.execute_reply": "2025-05-28T00:52:32.048097Z",
     "shell.execute_reply.started": "2025-05-28T00:52:32.041904Z"
    },
    "trusted": true
   },
   "outputs": [],
   "source": [
    "device = 'cuda' if torch.cuda.is_available() else 'cpu'\n",
    "writer = SummaryWriter()"
   ]
  },
  {
   "cell_type": "code",
   "execution_count": 6,
   "metadata": {
    "execution": {
     "iopub.execute_input": "2025-05-28T00:54:59.053840Z",
     "iopub.status.busy": "2025-05-28T00:54:59.053447Z",
     "iopub.status.idle": "2025-05-28T00:55:09.631394Z",
     "shell.execute_reply": "2025-05-28T00:55:09.630579Z",
     "shell.execute_reply.started": "2025-05-28T00:54:59.053815Z"
    },
    "trusted": true
   },
   "outputs": [
    {
     "data": {
      "text/html": [
       "<div>\n",
       "<style scoped>\n",
       "    .dataframe tbody tr th:only-of-type {\n",
       "        vertical-align: middle;\n",
       "    }\n",
       "\n",
       "    .dataframe tbody tr th {\n",
       "        vertical-align: top;\n",
       "    }\n",
       "\n",
       "    .dataframe thead th {\n",
       "        text-align: right;\n",
       "    }\n",
       "</style>\n",
       "<table border=\"1\" class=\"dataframe\">\n",
       "  <thead>\n",
       "    <tr style=\"text-align: right;\">\n",
       "      <th></th>\n",
       "      <th>爬取时间(__time)</th>\n",
       "      <th>爬取链接(__url)</th>\n",
       "      <th>商品ID(product_id)</th>\n",
       "      <th>评价时间(publish_time)</th>\n",
       "      <th>评分（总分5分）(score)</th>\n",
       "      <th>评价内容(content)</th>\n",
       "      <th>评价者(author_name)</th>\n",
       "      <th>评价者会员等级(author_level)</th>\n",
       "      <th>商品sku(product_sku)</th>\n",
       "      <th>评价标签(tags)</th>\n",
       "    </tr>\n",
       "  </thead>\n",
       "  <tbody>\n",
       "    <tr>\n",
       "      <th>0</th>\n",
       "      <td>2019-03-08 00:50:34</td>\n",
       "      <td>https://sclub.jd.com/comment/productPageCommen...</td>\n",
       "      <td>4722324</td>\n",
       "      <td>1550631798</td>\n",
       "      <td>5</td>\n",
       "      <td>此用户未填写评价内容</td>\n",
       "      <td>j***e</td>\n",
       "      <td>注册会员</td>\n",
       "      <td>单机版 小D黑色</td>\n",
       "      <td>[]</td>\n",
       "    </tr>\n",
       "    <tr>\n",
       "      <th>1</th>\n",
       "      <td>2019-03-08 00:50:34</td>\n",
       "      <td>https://sclub.jd.com/comment/productPageCommen...</td>\n",
       "      <td>4722324</td>\n",
       "      <td>1550633151</td>\n",
       "      <td>5</td>\n",
       "      <td>此用户未填写评价内容</td>\n",
       "      <td>c***n</td>\n",
       "      <td>钻石会员</td>\n",
       "      <td>单机版 小D黑色</td>\n",
       "      <td>[]</td>\n",
       "    </tr>\n",
       "    <tr>\n",
       "      <th>2</th>\n",
       "      <td>2019-03-08 00:50:34</td>\n",
       "      <td>https://sclub.jd.com/comment/productPageCommen...</td>\n",
       "      <td>4722324</td>\n",
       "      <td>1550633330</td>\n",
       "      <td>3</td>\n",
       "      <td>此用户未填写评价内容</td>\n",
       "      <td>j***1</td>\n",
       "      <td>银牌会员</td>\n",
       "      <td>单机版 小D黑色</td>\n",
       "      <td>[]</td>\n",
       "    </tr>\n",
       "    <tr>\n",
       "      <th>3</th>\n",
       "      <td>2019-03-08 00:50:34</td>\n",
       "      <td>https://sclub.jd.com/comment/productPageCommen...</td>\n",
       "      <td>4722324</td>\n",
       "      <td>1550633401</td>\n",
       "      <td>5</td>\n",
       "      <td>此用户未填写评价内容</td>\n",
       "      <td>苗***4</td>\n",
       "      <td>钻石会员</td>\n",
       "      <td>单机版 小D黑色</td>\n",
       "      <td>[]</td>\n",
       "    </tr>\n",
       "    <tr>\n",
       "      <th>4</th>\n",
       "      <td>2019-03-08 00:50:33</td>\n",
       "      <td>https://sclub.jd.com/comment/productPageCommen...</td>\n",
       "      <td>4722324</td>\n",
       "      <td>1550633461</td>\n",
       "      <td>5</td>\n",
       "      <td>此用户未填写评价内容</td>\n",
       "      <td>J***3</td>\n",
       "      <td>注册会员</td>\n",
       "      <td>单机版 小D黑色</td>\n",
       "      <td>[]</td>\n",
       "    </tr>\n",
       "  </tbody>\n",
       "</table>\n",
       "</div>"
      ],
      "text/plain": [
       "          爬取时间(__time)                                        爬取链接(__url)  \\\n",
       "0  2019-03-08 00:50:34  https://sclub.jd.com/comment/productPageCommen...   \n",
       "1  2019-03-08 00:50:34  https://sclub.jd.com/comment/productPageCommen...   \n",
       "2  2019-03-08 00:50:34  https://sclub.jd.com/comment/productPageCommen...   \n",
       "3  2019-03-08 00:50:34  https://sclub.jd.com/comment/productPageCommen...   \n",
       "4  2019-03-08 00:50:33  https://sclub.jd.com/comment/productPageCommen...   \n",
       "\n",
       "   商品ID(product_id)  评价时间(publish_time)  评分（总分5分）(score) 评价内容(content)  \\\n",
       "0           4722324          1550631798                5    此用户未填写评价内容   \n",
       "1           4722324          1550633151                5    此用户未填写评价内容   \n",
       "2           4722324          1550633330                3    此用户未填写评价内容   \n",
       "3           4722324          1550633401                5    此用户未填写评价内容   \n",
       "4           4722324          1550633461                5    此用户未填写评价内容   \n",
       "\n",
       "  评价者(author_name) 评价者会员等级(author_level) 商品sku(product_sku) 评价标签(tags)  \n",
       "0            j***e                  注册会员           单机版 小D黑色         []  \n",
       "1            c***n                  钻石会员           单机版 小D黑色         []  \n",
       "2            j***1                  银牌会员           单机版 小D黑色         []  \n",
       "3            苗***4                  钻石会员           单机版 小D黑色         []  \n",
       "4            J***3                  注册会员           单机版 小D黑色         []  "
      ]
     },
     "execution_count": 6,
     "metadata": {},
     "output_type": "execute_result"
    }
   ],
   "source": [
    "df = pd.read_excel('/kaggle/input/jd_comment_with_label/jd_comment_data.xlsx')\n",
    "\n",
    "df.head()"
   ]
  },
  {
   "cell_type": "code",
   "execution_count": 7,
   "metadata": {
    "execution": {
     "iopub.execute_input": "2025-05-28T00:55:28.604906Z",
     "iopub.status.busy": "2025-05-28T00:55:28.603755Z",
     "iopub.status.idle": "2025-05-28T00:55:28.610569Z",
     "shell.execute_reply": "2025-05-28T00:55:28.609793Z",
     "shell.execute_reply.started": "2025-05-28T00:55:28.604872Z"
    },
    "trusted": true
   },
   "outputs": [
    {
     "data": {
      "text/plain": [
       "Index(['爬取时间(__time)', '爬取链接(__url)', '商品ID(product_id)', '评价时间(publish_time)',\n",
       "       '评分（总分5分）(score)', '评价内容(content)', '评价者(author_name)',\n",
       "       '评价者会员等级(author_level)', '商品sku(product_sku)', '评价标签(tags)'],\n",
       "      dtype='object')"
      ]
     },
     "execution_count": 7,
     "metadata": {},
     "output_type": "execute_result"
    }
   ],
   "source": [
    "df.columns"
   ]
  },
  {
   "cell_type": "code",
   "execution_count": 8,
   "metadata": {
    "execution": {
     "iopub.execute_input": "2025-05-28T00:55:40.944913Z",
     "iopub.status.busy": "2025-05-28T00:55:40.944470Z",
     "iopub.status.idle": "2025-05-28T00:55:40.975231Z",
     "shell.execute_reply": "2025-05-28T00:55:40.974573Z",
     "shell.execute_reply.started": "2025-05-28T00:55:40.944883Z"
    },
    "trusted": true
   },
   "outputs": [],
   "source": [
    "filterd= df['评价内容(content)'] != \"此用户未填写评价内容\"\n",
    "data_df = df[filterd][['评价内容(content)','评分（总分5分）(score)']]"
   ]
  },
  {
   "cell_type": "code",
   "execution_count": 9,
   "metadata": {
    "execution": {
     "iopub.execute_input": "2025-05-28T00:55:48.477505Z",
     "iopub.status.busy": "2025-05-28T00:55:48.476848Z",
     "iopub.status.idle": "2025-05-28T00:55:48.485520Z",
     "shell.execute_reply": "2025-05-28T00:55:48.484867Z",
     "shell.execute_reply.started": "2025-05-28T00:55:48.477479Z"
    },
    "trusted": true
   },
   "outputs": [
    {
     "data": {
      "text/html": [
       "<div>\n",
       "<style scoped>\n",
       "    .dataframe tbody tr th:only-of-type {\n",
       "        vertical-align: middle;\n",
       "    }\n",
       "\n",
       "    .dataframe tbody tr th {\n",
       "        vertical-align: top;\n",
       "    }\n",
       "\n",
       "    .dataframe thead th {\n",
       "        text-align: right;\n",
       "    }\n",
       "</style>\n",
       "<table border=\"1\" class=\"dataframe\">\n",
       "  <thead>\n",
       "    <tr style=\"text-align: right;\">\n",
       "      <th></th>\n",
       "      <th>评价内容(content)</th>\n",
       "      <th>评分（总分5分）(score)</th>\n",
       "    </tr>\n",
       "  </thead>\n",
       "  <tbody>\n",
       "    <tr>\n",
       "      <th>15</th>\n",
       "      <td>一般般，一分钱一分货吧</td>\n",
       "      <td>1</td>\n",
       "    </tr>\n",
       "    <tr>\n",
       "      <th>18</th>\n",
       "      <td>商品质量很好，很满意，配送速度快啊，而且配送员态度也非常好。</td>\n",
       "      <td>4</td>\n",
       "    </tr>\n",
       "    <tr>\n",
       "      <th>19</th>\n",
       "      <td>。。。</td>\n",
       "      <td>5</td>\n",
       "    </tr>\n",
       "    <tr>\n",
       "      <th>22</th>\n",
       "      <td>刘慧敏提莫摸摸摸休息泽TCL退咯的一组婆婆破鼓规土局</td>\n",
       "      <td>5</td>\n",
       "    </tr>\n",
       "    <tr>\n",
       "      <th>25</th>\n",
       "      <td>还好还好还好还好红红火火好很好好</td>\n",
       "      <td>5</td>\n",
       "    </tr>\n",
       "  </tbody>\n",
       "</table>\n",
       "</div>"
      ],
      "text/plain": [
       "                     评价内容(content)  评分（总分5分）(score)\n",
       "15                     一般般，一分钱一分货吧                1\n",
       "18  商品质量很好，很满意，配送速度快啊，而且配送员态度也非常好。                4\n",
       "19                             。。。                5\n",
       "22      刘慧敏提莫摸摸摸休息泽TCL退咯的一组婆婆破鼓规土局                5\n",
       "25                还好还好还好还好红红火火好很好好                5"
      ]
     },
     "execution_count": 9,
     "metadata": {},
     "output_type": "execute_result"
    }
   ],
   "source": [
    "data_df.head()"
   ]
  },
  {
   "cell_type": "code",
   "execution_count": 10,
   "metadata": {
    "execution": {
     "iopub.execute_input": "2025-05-28T00:55:57.730860Z",
     "iopub.status.busy": "2025-05-28T00:55:57.730209Z",
     "iopub.status.idle": "2025-05-28T00:55:57.739243Z",
     "shell.execute_reply": "2025-05-28T00:55:57.738473Z",
     "shell.execute_reply.started": "2025-05-28T00:55:57.730834Z"
    },
    "trusted": true
   },
   "outputs": [
    {
     "data": {
      "text/plain": [
       "array([['一般般，一分钱一分货吧', 1],\n",
       "       ['商品质量很好，很满意，配送速度快啊，而且配送员态度也非常好。', 4],\n",
       "       ['。。。', 5],\n",
       "       ...,\n",
       "       ['没有色差，穿上很舒服，到货快。', 5],\n",
       "       ['可以', 5],\n",
       "       ['物有所值 客服贴心东西收到以后马上查看，发现与图片描述一致，超级喜欢，卖家发货 速度很快 ，，服务也很到位，给老板点个赞，下次还会来购买.........',\n",
       "        5]], dtype=object)"
      ]
     },
     "execution_count": 10,
     "metadata": {},
     "output_type": "execute_result"
    }
   ],
   "source": [
    "data = data_df.values\n",
    "data"
   ]
  },
  {
   "cell_type": "code",
   "execution_count": 12,
   "metadata": {
    "execution": {
     "iopub.execute_input": "2025-05-28T00:56:26.059971Z",
     "iopub.status.busy": "2025-05-28T00:56:26.059623Z",
     "iopub.status.idle": "2025-05-28T00:56:26.072728Z",
     "shell.execute_reply": "2025-05-28T00:56:26.071761Z",
     "shell.execute_reply.started": "2025-05-28T00:56:26.059947Z"
    },
    "trusted": true
   },
   "outputs": [
    {
     "name": "stdout",
     "output_type": "stream",
     "text": [
      "(33316, 2)\n",
      "(11106, 2)\n"
     ]
    }
   ],
   "source": [
    "train ,test = train_test_split(data)\n",
    "print(train.shape)\n",
    "print(test.shape)"
   ]
  },
  {
   "cell_type": "code",
   "execution_count": 14,
   "metadata": {
    "execution": {
     "iopub.execute_input": "2025-05-28T00:56:49.785781Z",
     "iopub.status.busy": "2025-05-28T00:56:49.785052Z",
     "iopub.status.idle": "2025-05-28T00:56:50.715369Z",
     "shell.execute_reply": "2025-05-28T00:56:50.714507Z",
     "shell.execute_reply.started": "2025-05-28T00:56:49.785751Z"
    },
    "trusted": true
   },
   "outputs": [
    {
     "data": {
      "application/vnd.jupyter.widget-view+json": {
       "model_id": "613ea53d50fb49b196251f2735114a51",
       "version_major": 2,
       "version_minor": 0
      },
      "text/plain": [
       "tokenizer_config.json:   0%|          | 0.00/19.0 [00:00<?, ?B/s]"
      ]
     },
     "metadata": {},
     "output_type": "display_data"
    },
    {
     "data": {
      "application/vnd.jupyter.widget-view+json": {
       "model_id": "c596c7378dcb46019033923d15d8f7a7",
       "version_major": 2,
       "version_minor": 0
      },
      "text/plain": [
       "config.json:   0%|          | 0.00/647 [00:00<?, ?B/s]"
      ]
     },
     "metadata": {},
     "output_type": "display_data"
    },
    {
     "data": {
      "application/vnd.jupyter.widget-view+json": {
       "model_id": "e57e2cdcccac41c99f2e30b6407d7818",
       "version_major": 2,
       "version_minor": 0
      },
      "text/plain": [
       "vocab.txt:   0%|          | 0.00/110k [00:00<?, ?B/s]"
      ]
     },
     "metadata": {},
     "output_type": "display_data"
    },
    {
     "data": {
      "application/vnd.jupyter.widget-view+json": {
       "model_id": "3721e5c6d138496eba1ebf16c8d2fe03",
       "version_major": 2,
       "version_minor": 0
      },
      "text/plain": [
       "tokenizer.json:   0%|          | 0.00/269k [00:00<?, ?B/s]"
      ]
     },
     "metadata": {},
     "output_type": "display_data"
    },
    {
     "data": {
      "application/vnd.jupyter.widget-view+json": {
       "model_id": "f84041b093814a01bc3e4495d57a9631",
       "version_major": 2,
       "version_minor": 0
      },
      "text/plain": [
       "added_tokens.json:   0%|          | 0.00/2.00 [00:00<?, ?B/s]"
      ]
     },
     "metadata": {},
     "output_type": "display_data"
    },
    {
     "data": {
      "application/vnd.jupyter.widget-view+json": {
       "model_id": "052f7158e6374b57ba6e488d7cfa1314",
       "version_major": 2,
       "version_minor": 0
      },
      "text/plain": [
       "special_tokens_map.json:   0%|          | 0.00/112 [00:00<?, ?B/s]"
      ]
     },
     "metadata": {},
     "output_type": "display_data"
    }
   ],
   "source": [
    "# 分词器\n",
    "tokenzier = AutoTokenizer.from_pretrained('hfl/chinese-bert-wwm')"
   ]
  },
  {
   "cell_type": "code",
   "execution_count": 15,
   "metadata": {
    "execution": {
     "iopub.execute_input": "2025-05-28T00:57:07.514312Z",
     "iopub.status.busy": "2025-05-28T00:57:07.513995Z",
     "iopub.status.idle": "2025-05-28T00:57:07.520620Z",
     "shell.execute_reply": "2025-05-28T00:57:07.519908Z",
     "shell.execute_reply.started": "2025-05-28T00:57:07.514289Z"
    },
    "trusted": true
   },
   "outputs": [],
   "source": [
    "# 自定义DataLoader创建方法\n",
    "\n",
    "def warp_data(batch_data):\n",
    "    comments, lables = [],[]\n",
    "    for bdate in batch_data:\n",
    "        comments.append(bdate[0])\n",
    "        lables.append(int(bdate[1])-1)  # 标签取值[0-4]\n",
    "    \n",
    "    # 转换模型输入数据\n",
    "    input_data = tokenzier(comments, return_tensors='pt', padding=True, truncation=True, max_length=512)\n",
    "    labels_data = torch.tensor(lables)\n",
    "    \n",
    "    return input_data, labels_data\n",
    "\n",
    "train_dl = DataLoader(train, batch_size=20, shuffle=True, collate_fn = warp_data)\n",
    "test_dl = DataLoader(test, batch_size=20, shuffle=False, collate_fn = warp_data)"
   ]
  },
  {
   "cell_type": "code",
   "execution_count": 16,
   "metadata": {
    "execution": {
     "iopub.execute_input": "2025-05-28T00:57:18.451423Z",
     "iopub.status.busy": "2025-05-28T00:57:18.450450Z",
     "iopub.status.idle": "2025-05-28T00:57:18.481146Z",
     "shell.execute_reply": "2025-05-28T00:57:18.480457Z",
     "shell.execute_reply.started": "2025-05-28T00:57:18.451396Z"
    },
    "trusted": true
   },
   "outputs": [
    {
     "name": "stdout",
     "output_type": "stream",
     "text": [
      "({'input_ids': tensor([[ 101, 3621, 2466,  ...,    0,    0,    0],\n",
      "        [ 101,  155, 4772,  ...,    0,    0,    0],\n",
      "        [ 101, 5489, 2523,  ...,    0,    0,    0],\n",
      "        ...,\n",
      "        [ 101, 7478, 2382,  ...,    0,    0,    0],\n",
      "        [ 101, 6820, 1377,  ...,    0,    0,    0],\n",
      "        [ 101,  691, 6205,  ...,    0,    0,    0]]), 'token_type_ids': tensor([[0, 0, 0,  ..., 0, 0, 0],\n",
      "        [0, 0, 0,  ..., 0, 0, 0],\n",
      "        [0, 0, 0,  ..., 0, 0, 0],\n",
      "        ...,\n",
      "        [0, 0, 0,  ..., 0, 0, 0],\n",
      "        [0, 0, 0,  ..., 0, 0, 0],\n",
      "        [0, 0, 0,  ..., 0, 0, 0]]), 'attention_mask': tensor([[1, 1, 1,  ..., 0, 0, 0],\n",
      "        [1, 1, 1,  ..., 0, 0, 0],\n",
      "        [1, 1, 1,  ..., 0, 0, 0],\n",
      "        ...,\n",
      "        [1, 1, 1,  ..., 0, 0, 0],\n",
      "        [1, 1, 1,  ..., 0, 0, 0],\n",
      "        [1, 1, 1,  ..., 0, 0, 0]])}, tensor([4, 4, 4, 4, 4, 4, 4, 4, 4, 4, 4, 4, 4, 4, 3, 4, 4, 4, 4, 4]))\n"
     ]
    }
   ],
   "source": [
    "for item in test_dl:\n",
    "    print(item)\n",
    "    break\n"
   ]
  },
  {
   "cell_type": "code",
   "execution_count": 17,
   "metadata": {
    "execution": {
     "iopub.execute_input": "2025-05-28T00:57:37.245611Z",
     "iopub.status.busy": "2025-05-28T00:57:37.245041Z",
     "iopub.status.idle": "2025-05-28T00:57:43.362850Z",
     "shell.execute_reply": "2025-05-28T00:57:43.361760Z",
     "shell.execute_reply.started": "2025-05-28T00:57:37.245586Z"
    },
    "trusted": true
   },
   "outputs": [
    {
     "data": {
      "application/vnd.jupyter.widget-view+json": {
       "model_id": "9e9b628e84f44633b808f9e85903cf6f",
       "version_major": 2,
       "version_minor": 0
      },
      "text/plain": [
       "pytorch_model.bin:   0%|          | 0.00/412M [00:00<?, ?B/s]"
      ]
     },
     "metadata": {},
     "output_type": "display_data"
    },
    {
     "name": "stderr",
     "output_type": "stream",
     "text": [
      "Some weights of BertForSequenceClassification were not initialized from the model checkpoint at hfl/chinese-bert-wwm and are newly initialized: ['classifier.bias', 'classifier.weight']\n",
      "You should probably TRAIN this model on a down-stream task to be able to use it for predictions and inference.\n",
      "Some weights of BertForSequenceClassification were not initialized from the model checkpoint at hfl/chinese-bert-wwm and are newly initialized: ['classifier.bias', 'classifier.weight']\n",
      "You should probably TRAIN this model on a down-stream task to be able to use it for predictions and inference.\n"
     ]
    }
   ],
   "source": [
    "# model_1 模型微调 Supervised Fine Tuning\n",
    "# model_2 迁移学习 Transfer Learning 冻结bert\n",
    "model_1 = AutoModelForSequenceClassification.from_pretrained('hfl/chinese-bert-wwm', num_labels=5)\n",
    "model_2 = AutoModelForSequenceClassification.from_pretrained('hfl/chinese-bert-wwm', num_labels=5)"
   ]
  },
  {
   "cell_type": "code",
   "execution_count": 18,
   "metadata": {
    "execution": {
     "iopub.execute_input": "2025-05-28T00:57:58.336887Z",
     "iopub.status.busy": "2025-05-28T00:57:58.336013Z",
     "iopub.status.idle": "2025-05-28T00:57:58.731277Z",
     "shell.execute_reply": "2025-05-28T00:57:58.730175Z",
     "shell.execute_reply.started": "2025-05-28T00:57:58.336852Z"
    },
    "trusted": true
   },
   "outputs": [],
   "source": [
    "model_1 = model_1.to(device)\n",
    "model_2 = model_2.to(device)\n",
    "model_2.bert.trainable = False"
   ]
  },
  {
   "cell_type": "code",
   "execution_count": 19,
   "metadata": {
    "execution": {
     "iopub.execute_input": "2025-05-28T00:58:06.975887Z",
     "iopub.status.busy": "2025-05-28T00:58:06.974858Z",
     "iopub.status.idle": "2025-05-28T00:58:06.982674Z",
     "shell.execute_reply": "2025-05-28T00:58:06.981626Z",
     "shell.execute_reply.started": "2025-05-28T00:58:06.975847Z"
    },
    "trusted": true
   },
   "outputs": [],
   "source": [
    "# loss、optim\n",
    "loss_fn1 = nn.CrossEntropyLoss()\n",
    "optim1 = Adam(model_1.parameters(), lr=1e-4)\n",
    "\n",
    "loss_fn2 = nn.CrossEntropyLoss()\n",
    "optim2 = Adam(model_2.parameters(), lr=1e-3)\n"
   ]
  },
  {
   "cell_type": "code",
   "execution_count": 20,
   "metadata": {
    "execution": {
     "iopub.execute_input": "2025-05-28T00:58:21.507805Z",
     "iopub.status.busy": "2025-05-28T00:58:21.507070Z",
     "iopub.status.idle": "2025-05-28T01:17:08.318219Z",
     "shell.execute_reply": "2025-05-28T01:17:08.317292Z",
     "shell.execute_reply.started": "2025-05-28T00:58:21.507776Z"
    },
    "trusted": true
   },
   "outputs": [
    {
     "name": "stderr",
     "output_type": "stream",
     "text": [
      "epoch:0 train_loss:0.5614: 100%|██████████| 1666/1666 [06:16<00:00,  4.43it/s]\n",
      "epoch:1 train_loss:0.0602: 100%|██████████| 1666/1666 [06:16<00:00,  4.43it/s]\n",
      "epoch:2 train_loss:0.0590: 100%|██████████| 1666/1666 [06:13<00:00,  4.46it/s]\n"
     ]
    }
   ],
   "source": [
    "model1_train_loss_cnt = 0\n",
    "\n",
    "for epoch in range(3):\n",
    "    pbar = tqdm(train_dl)\n",
    "    for input_data, labels_data in pbar:\n",
    "        datas = { k:v.to(device) for k,v in input_data.items() }\n",
    "        labels = labels_data.to(device)\n",
    "        \n",
    "        result = model_1(**datas)\n",
    "        loss = loss_fn1(result.logits, labels)\n",
    "        \n",
    "        pbar.set_description(f'epoch:{epoch} train_loss:{loss.item():.4f}')\n",
    "\n",
    "        writer.add_scalar(\"Fine Tuning Train Loss\", loss, model1_train_loss_cnt)\n",
    "        model1_train_loss_cnt += 1\n",
    "        \n",
    "        loss.backward()\n",
    "        optim1.step()\n",
    "        \n",
    "        model_1.zero_grad()\n",
    "\n",
    "\n",
    "torch.save(model_1.state_dict(),'model_1.pt')\n",
    "        "
   ]
  },
  {
   "cell_type": "code",
   "execution_count": 21,
   "metadata": {
    "execution": {
     "iopub.execute_input": "2025-05-28T01:26:31.325636Z",
     "iopub.status.busy": "2025-05-28T01:26:31.324846Z",
     "iopub.status.idle": "2025-05-28T01:45:21.336499Z",
     "shell.execute_reply": "2025-05-28T01:45:21.335749Z",
     "shell.execute_reply.started": "2025-05-28T01:26:31.325603Z"
    },
    "trusted": true
   },
   "outputs": [
    {
     "name": "stderr",
     "output_type": "stream",
     "text": [
      "epoch:0 train_loss:0.3978: 100%|██████████| 1666/1666 [06:16<00:00,  4.43it/s]\n",
      "epoch:1 train_loss:0.5467: 100%|██████████| 1666/1666 [06:15<00:00,  4.43it/s]\n",
      "epoch:2 train_loss:0.7015: 100%|██████████| 1666/1666 [06:17<00:00,  4.42it/s]\n"
     ]
    }
   ],
   "source": [
    "model2_train_loss_cnt = 0\n",
    "\n",
    "for epoch in range(3):\n",
    "    pbar = tqdm(train_dl)\n",
    "    for input_data, labels_data in pbar:\n",
    "        datas = { k:v.to(device) for k,v in input_data.items() }\n",
    "        labels = labels_data.to(device)\n",
    "        \n",
    "        result = model_2(**datas)\n",
    "        loss = loss_fn2(result.logits, labels)\n",
    "        \n",
    "        pbar.set_description(f'epoch:{epoch} train_loss:{loss.item():.4f}')\n",
    "\n",
    "        writer.add_scalar(\"Transfer Learning Train Loss\", loss, model2_train_loss_cnt)\n",
    "        model2_train_loss_cnt += 1\n",
    "        \n",
    "        loss.backward()\n",
    "        optim2.step()\n",
    "        \n",
    "        model_2.zero_grad()\n",
    "\n",
    "\n",
    "torch.save(model_2.state_dict(),'model_2.pt')"
   ]
  },
  {
   "cell_type": "code",
   "execution_count": 22,
   "metadata": {
    "execution": {
     "iopub.execute_input": "2025-05-28T02:00:45.301311Z",
     "iopub.status.busy": "2025-05-28T02:00:45.300802Z",
     "iopub.status.idle": "2025-05-28T02:02:05.216553Z",
     "shell.execute_reply": "2025-05-28T02:02:05.215663Z",
     "shell.execute_reply.started": "2025-05-28T02:00:45.301288Z"
    },
    "trusted": true
   },
   "outputs": [
    {
     "name": "stderr",
     "output_type": "stream",
     "text": [
      "100%|██████████| 556/556 [01:19<00:00,  6.96it/s]\n"
     ]
    }
   ],
   "source": [
    "model_1.eval()\n",
    "model_2.eval()\n",
    "pbar = tqdm(test_dl)\n",
    "\n",
    "\n",
    "correct1, correct2 = 0,0\n",
    "\n",
    "for input_data, labels_data in pbar:\n",
    "    datas = { k:v.to(device) for k,v in input_data.items() }\n",
    "    labels = labels_data.to(device)\n",
    "\n",
    "    with torch.no_grad():\n",
    "        result1 = model_1(**datas)\n",
    "        result2 = model_2(**datas)\n",
    "\n",
    "    predict1 = torch.argmax(result1.logits, dim=-1)\n",
    "    predict2 = torch.argmax(result2.logits, dim=-1)\n",
    "\n",
    "    correct1 += (predict1 == labels).sum()\n",
    "    correct2 += (predict1 == labels).sum()"
   ]
  },
  {
   "cell_type": "code",
   "execution_count": 30,
   "metadata": {
    "execution": {
     "iopub.execute_input": "2025-05-28T02:42:52.228886Z",
     "iopub.status.busy": "2025-05-28T02:42:52.228188Z",
     "iopub.status.idle": "2025-05-28T02:42:52.805839Z",
     "shell.execute_reply": "2025-05-28T02:42:52.805111Z",
     "shell.execute_reply.started": "2025-05-28T02:42:52.228857Z"
    },
    "trusted": true
   },
   "outputs": [
    {
     "data": {
      "text/plain": [
       "<All keys matched successfully>"
      ]
     },
     "execution_count": 30,
     "metadata": {},
     "output_type": "execute_result"
    }
   ],
   "source": [
    "\n",
    "model_1.load_state_dict(torch.load('model_1.pt'))\n",
    "\n",
    "model_2.load_state_dict(torch.load('model_2.pt'))"
   ]
  }
 ],
 "metadata": {
  "kaggle": {
   "accelerator": "gpu",
   "dataSources": [
    {
     "datasetId": 134082,
     "sourceId": 318737,
     "sourceType": "datasetVersion"
    }
   ],
   "dockerImageVersionId": 31041,
   "isGpuEnabled": true,
   "isInternetEnabled": true,
   "language": "python",
   "sourceType": "notebook"
  },
  "kernelspec": {
   "display_name": "Python 3",
   "language": "python",
   "name": "python3"
  },
  "language_info": {
   "codemirror_mode": {
    "name": "ipython",
    "version": 3
   },
   "file_extension": ".py",
   "mimetype": "text/x-python",
   "name": "python",
   "nbconvert_exporter": "python",
   "pygments_lexer": "ipython3",
   "version": "3.11.11"
  }
 },
 "nbformat": 4,
 "nbformat_minor": 4
}
