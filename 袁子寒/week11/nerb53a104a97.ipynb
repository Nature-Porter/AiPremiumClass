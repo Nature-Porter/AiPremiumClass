{
 "cells": [
  {
   "cell_type": "code",
   "execution_count": 7,
   "metadata": {
    "execution": {
     "iopub.execute_input": "2025-05-25T12:22:29.867809Z",
     "iopub.status.busy": "2025-05-25T12:22:29.867569Z",
     "iopub.status.idle": "2025-05-25T12:22:29.872370Z",
     "shell.execute_reply": "2025-05-25T12:22:29.871628Z",
     "shell.execute_reply.started": "2025-05-25T12:22:29.867783Z"
    },
    "trusted": true
   },
   "outputs": [],
   "source": [
    "from transformers import AutoModelForTokenClassification, AutoTokenizer\n",
    "import torch\n",
    "from datasets import load_dataset\n",
    "from transformers import TrainingArguments, Trainer, DataCollatorForTokenClassification\n",
    "import evaluate\n",
    "import seqeval\n",
    "import numpy as np"
   ]
  },
  {
   "cell_type": "code",
   "execution_count": 8,
   "metadata": {
    "execution": {
     "iopub.execute_input": "2025-05-25T12:22:29.873260Z",
     "iopub.status.busy": "2025-05-25T12:22:29.873065Z",
     "iopub.status.idle": "2025-05-25T12:22:31.548372Z",
     "shell.execute_reply": "2025-05-25T12:22:31.547811Z",
     "shell.execute_reply.started": "2025-05-25T12:22:29.873244Z"
    },
    "trusted": true
   },
   "outputs": [
    {
     "data": {
      "application/vnd.jupyter.widget-view+json": {
       "model_id": "ecc400a7af9440e59c8a028f7bfd943e",
       "version_major": 2,
       "version_minor": 0
      },
      "text/plain": [
       "README.md:   0%|          | 0.00/697 [00:00<?, ?B/s]"
      ]
     },
     "metadata": {},
     "output_type": "display_data"
    },
    {
     "data": {
      "application/vnd.jupyter.widget-view+json": {
       "model_id": "c7c61677aaa3476392029601cfb3e403",
       "version_major": 2,
       "version_minor": 0
      },
      "text/plain": [
       "(…)-00000-of-00001-42717a92413393f9.parquet:   0%|          | 0.00/13.9M [00:00<?, ?B/s]"
      ]
     },
     "metadata": {},
     "output_type": "display_data"
    },
    {
     "data": {
      "application/vnd.jupyter.widget-view+json": {
       "model_id": "b086a875fc9f49829806dbbffc3152d0",
       "version_major": 2,
       "version_minor": 0
      },
      "text/plain": [
       "(…)-00000-of-00001-8899cab5fdab45bc.parquet:   0%|          | 0.00/946k [00:00<?, ?B/s]"
      ]
     },
     "metadata": {},
     "output_type": "display_data"
    },
    {
     "data": {
      "application/vnd.jupyter.widget-view+json": {
       "model_id": "8785f95967d1479c8d6e216d5cc6a356",
       "version_major": 2,
       "version_minor": 0
      },
      "text/plain": [
       "Generating train split:   0%|          | 0/45001 [00:00<?, ? examples/s]"
      ]
     },
     "metadata": {},
     "output_type": "display_data"
    },
    {
     "data": {
      "application/vnd.jupyter.widget-view+json": {
       "model_id": "2eeb9253a45c48e49969434aabc3d577",
       "version_major": 2,
       "version_minor": 0
      },
      "text/plain": [
       "Generating test split:   0%|          | 0/3443 [00:00<?, ? examples/s]"
      ]
     },
     "metadata": {},
     "output_type": "display_data"
    },
    {
     "data": {
      "text/plain": [
       "DatasetDict({\n",
       "    train: Dataset({\n",
       "        features: ['id', 'tokens', 'ner_tags', 'knowledge'],\n",
       "        num_rows: 45001\n",
       "    })\n",
       "    test: Dataset({\n",
       "        features: ['id', 'tokens', 'ner_tags', 'knowledge'],\n",
       "        num_rows: 3443\n",
       "    })\n",
       "})"
      ]
     },
     "execution_count": 8,
     "metadata": {},
     "output_type": "execute_result"
    }
   ],
   "source": [
    "ds = load_dataset(\"doushabao4766/msra_ner_k_V3\")\n",
    "ds"
   ]
  },
  {
   "cell_type": "code",
   "execution_count": 9,
   "metadata": {
    "execution": {
     "iopub.execute_input": "2025-05-25T12:22:31.550237Z",
     "iopub.status.busy": "2025-05-25T12:22:31.549900Z",
     "iopub.status.idle": "2025-05-25T12:22:34.576670Z",
     "shell.execute_reply": "2025-05-25T12:22:34.576006Z",
     "shell.execute_reply.started": "2025-05-25T12:22:31.550220Z"
    },
    "trusted": true
   },
   "outputs": [
    {
     "name": "stdout",
     "output_type": "stream",
     "text": [
      "['当', '希', '望', '工', '程', '救', '助', '的', '百', '万', '儿', '童', '成', '长', '起', '来', '，', '科', '教', '兴', '国', '蔚', '然', '成', '风', '时', '，', '今', '天', '有', '收', '藏', '价', '值', '的', '书', '你', '没', '买', '，', '明', '日', '就', '叫', '你', '悔', '不', '当', '初', '！']\n",
      "[0, 0, 0, 0, 0, 0, 0, 0, 0, 0, 0, 0, 0, 0, 0, 0, 0, 0, 0, 0, 0, 0, 0, 0, 0, 0, 0, 0, 0, 0, 0, 0, 0, 0, 0, 0, 0, 0, 0, 0, 0, 0, 0, 0, 0, 0, 0, 0, 0, 0]\n"
     ]
    }
   ],
   "source": [
    "# print(ds['train']['text'][0])\n",
    "print(ds['train']['tokens'][0])\n",
    "print(ds['train']['ner_tags'][0])"
   ]
  },
  {
   "cell_type": "code",
   "execution_count": 10,
   "metadata": {
    "execution": {
     "iopub.execute_input": "2025-05-25T12:22:34.577623Z",
     "iopub.status.busy": "2025-05-25T12:22:34.577391Z",
     "iopub.status.idle": "2025-05-25T12:22:34.582569Z",
     "shell.execute_reply": "2025-05-25T12:22:34.581837Z",
     "shell.execute_reply.started": "2025-05-25T12:22:34.577598Z"
    },
    "trusted": true
   },
   "outputs": [
    {
     "name": "stdout",
     "output_type": "stream",
     "text": [
      "7\n"
     ]
    }
   ],
   "source": [
    "#entity_index\n",
    "entites = ['O','PER','ORG','LOC']\n",
    "tags = ['O']\n",
    "for entity in entites[1:]:\n",
    "    tags.append('B-' + entity.upper())\n",
    "    tags.append('I-' + entity.upper())\n",
    "entity_index = {entity:i for i, entity in enumerate(entites)}\n",
    "entity_index\n",
    "print(len(tags))"
   ]
  },
  {
   "cell_type": "code",
   "execution_count": 11,
   "metadata": {
    "execution": {
     "iopub.execute_input": "2025-05-25T12:22:34.583491Z",
     "iopub.status.busy": "2025-05-25T12:22:34.583214Z",
     "iopub.status.idle": "2025-05-25T12:22:38.227079Z",
     "shell.execute_reply": "2025-05-25T12:22:38.226511Z",
     "shell.execute_reply.started": "2025-05-25T12:22:34.583473Z"
    },
    "trusted": true
   },
   "outputs": [
    {
     "data": {
      "application/vnd.jupyter.widget-view+json": {
       "model_id": "469351e918e64c9a8731564b5081bc2a",
       "version_major": 2,
       "version_minor": 0
      },
      "text/plain": [
       "config.json:   0%|          | 0.00/624 [00:00<?, ?B/s]"
      ]
     },
     "metadata": {},
     "output_type": "display_data"
    },
    {
     "data": {
      "application/vnd.jupyter.widget-view+json": {
       "model_id": "7b18d4099aa34af7af0d8d9cb0f03c1c",
       "version_major": 2,
       "version_minor": 0
      },
      "text/plain": [
       "model.safetensors:   0%|          | 0.00/412M [00:00<?, ?B/s]"
      ]
     },
     "metadata": {},
     "output_type": "display_data"
    },
    {
     "name": "stderr",
     "output_type": "stream",
     "text": [
      "Some weights of BertForTokenClassification were not initialized from the model checkpoint at google-bert/bert-base-chinese and are newly initialized: ['classifier.bias', 'classifier.weight']\n",
      "You should probably TRAIN this model on a down-stream task to be able to use it for predictions and inference.\n"
     ]
    },
    {
     "data": {
      "application/vnd.jupyter.widget-view+json": {
       "model_id": "68ed4bbd333f4fe0bf1b60e3745f8059",
       "version_major": 2,
       "version_minor": 0
      },
      "text/plain": [
       "tokenizer_config.json:   0%|          | 0.00/49.0 [00:00<?, ?B/s]"
      ]
     },
     "metadata": {},
     "output_type": "display_data"
    },
    {
     "data": {
      "application/vnd.jupyter.widget-view+json": {
       "model_id": "48042db83a39431a872abb7c3ccedde6",
       "version_major": 2,
       "version_minor": 0
      },
      "text/plain": [
       "vocab.txt:   0%|          | 0.00/110k [00:00<?, ?B/s]"
      ]
     },
     "metadata": {},
     "output_type": "display_data"
    },
    {
     "data": {
      "application/vnd.jupyter.widget-view+json": {
       "model_id": "187f3b22075d43efa6ee79229f8313c1",
       "version_major": 2,
       "version_minor": 0
      },
      "text/plain": [
       "tokenizer.json:   0%|          | 0.00/269k [00:00<?, ?B/s]"
      ]
     },
     "metadata": {},
     "output_type": "display_data"
    }
   ],
   "source": [
    "id2lbl = {i: tag for i, tag in enumerate(tags)}\n",
    "lbl2id = {lbl: i for i, lbl in enumerate(tags)}\n",
    "model = AutoModelForTokenClassification.from_pretrained('google-bert/bert-base-chinese', num_labels=7, id2label=id2lbl, label2id=lbl2id)\n",
    "tokenizer = AutoTokenizer.from_pretrained('google-bert/bert-base-chinese')\n",
    "model = model.to('cuda')"
   ]
  },
  {
   "cell_type": "code",
   "execution_count": 12,
   "metadata": {
    "execution": {
     "iopub.execute_input": "2025-05-25T12:22:38.228061Z",
     "iopub.status.busy": "2025-05-25T12:22:38.227804Z",
     "iopub.status.idle": "2025-05-25T12:22:38.232529Z",
     "shell.execute_reply": "2025-05-25T12:22:38.231952Z",
     "shell.execute_reply.started": "2025-05-25T12:22:38.228032Z"
    },
    "trusted": true
   },
   "outputs": [],
   "source": [
    "def data_input_process(item):\n",
    "    tokenized = tokenizer(\n",
    "        item[\"tokens\"],\n",
    "        truncation=True,\n",
    "        is_split_into_words=True,\n",
    "    )\n",
    "    word_ids = tokenized.word_ids()\n",
    "    labels = []\n",
    "    for i in word_ids:\n",
    "        if i is None:\n",
    "            labels.append(-100)\n",
    "        else:\n",
    "            labels.append(item['ner_tags'][i])\n",
    "\n",
    "    tokenized['labels'] = labels\n",
    "    return tokenized"
   ]
  },
  {
   "cell_type": "code",
   "execution_count": 13,
   "metadata": {
    "execution": {
     "iopub.execute_input": "2025-05-25T12:22:38.233556Z",
     "iopub.status.busy": "2025-05-25T12:22:38.233251Z",
     "iopub.status.idle": "2025-05-25T12:23:02.697334Z",
     "shell.execute_reply": "2025-05-25T12:23:02.696499Z",
     "shell.execute_reply.started": "2025-05-25T12:22:38.233532Z"
    },
    "trusted": true
   },
   "outputs": [
    {
     "data": {
      "application/vnd.jupyter.widget-view+json": {
       "model_id": "b60c1c77c1c54bc680fab45de8da4611",
       "version_major": 2,
       "version_minor": 0
      },
      "text/plain": [
       "Map:   0%|          | 0/45001 [00:00<?, ? examples/s]"
      ]
     },
     "metadata": {},
     "output_type": "display_data"
    },
    {
     "data": {
      "application/vnd.jupyter.widget-view+json": {
       "model_id": "19e0cea7cbc44c028156ac91e5b0ceb6",
       "version_major": 2,
       "version_minor": 0
      },
      "text/plain": [
       "Map:   0%|          | 0/3443 [00:00<?, ? examples/s]"
      ]
     },
     "metadata": {},
     "output_type": "display_data"
    }
   ],
   "source": [
    "ds1= ds.map(data_input_process)"
   ]
  },
  {
   "cell_type": "code",
   "execution_count": 14,
   "metadata": {
    "execution": {
     "iopub.execute_input": "2025-05-25T12:23:02.698269Z",
     "iopub.status.busy": "2025-05-25T12:23:02.698057Z",
     "iopub.status.idle": "2025-05-25T12:23:02.703085Z",
     "shell.execute_reply": "2025-05-25T12:23:02.702460Z",
     "shell.execute_reply.started": "2025-05-25T12:23:02.698244Z"
    },
    "trusted": true
   },
   "outputs": [
    {
     "data": {
      "text/plain": [
       "DatasetDict({\n",
       "    train: Dataset({\n",
       "        features: ['id', 'tokens', 'ner_tags', 'knowledge', 'input_ids', 'token_type_ids', 'attention_mask', 'labels'],\n",
       "        num_rows: 45001\n",
       "    })\n",
       "    test: Dataset({\n",
       "        features: ['id', 'tokens', 'ner_tags', 'knowledge', 'input_ids', 'token_type_ids', 'attention_mask', 'labels'],\n",
       "        num_rows: 3443\n",
       "    })\n",
       "})"
      ]
     },
     "execution_count": 14,
     "metadata": {},
     "output_type": "execute_result"
    }
   ],
   "source": [
    "ds1"
   ]
  },
  {
   "cell_type": "code",
   "execution_count": 15,
   "metadata": {
    "execution": {
     "iopub.execute_input": "2025-05-25T12:23:02.705240Z",
     "iopub.status.busy": "2025-05-25T12:23:02.705059Z",
     "iopub.status.idle": "2025-05-25T12:23:02.885721Z",
     "shell.execute_reply": "2025-05-25T12:23:02.885116Z",
     "shell.execute_reply.started": "2025-05-25T12:23:02.705227Z"
    },
    "trusted": true
   },
   "outputs": [],
   "source": [
    "ds1.set_format(type='torch', columns=['input_ids', 'token_type_ids', 'attention_mask', 'labels'])"
   ]
  },
  {
   "cell_type": "code",
   "execution_count": 20,
   "metadata": {
    "execution": {
     "iopub.execute_input": "2025-05-25T12:23:25.960796Z",
     "iopub.status.busy": "2025-05-25T12:23:25.960522Z",
     "iopub.status.idle": "2025-05-25T12:23:25.991263Z",
     "shell.execute_reply": "2025-05-25T12:23:25.990759Z",
     "shell.execute_reply.started": "2025-05-25T12:23:25.960778Z"
    },
    "trusted": true
   },
   "outputs": [],
   "source": [
    "args = TrainingArguments(\n",
    "    output_dir = \"ner_train\",\n",
    "    num_train_epochs = 3,\n",
    "    save_safetensors=False, # 设置False保存为pytorch模型，才能用torch.load()加载\n",
    "    per_device_train_batch_size=32,\n",
    "    report_to = 'tensorboard',\n",
    ")"
   ]
  },
  {
   "cell_type": "code",
   "execution_count": 21,
   "metadata": {
    "execution": {
     "iopub.execute_input": "2025-05-25T12:23:31.320072Z",
     "iopub.status.busy": "2025-05-25T12:23:31.319807Z",
     "iopub.status.idle": "2025-05-25T12:23:31.325082Z",
     "shell.execute_reply": "2025-05-25T12:23:31.324350Z",
     "shell.execute_reply.started": "2025-05-25T12:23:31.320053Z"
    },
    "trusted": true
   },
   "outputs": [],
   "source": [
    "# metric\n",
    "def compute_metrics(result):\n",
    "    # result是一个包含预测和标签的元组\n",
    "    # 评估对象\n",
    "    seqeval = evaluate.load('seqeval')\n",
    "    predictions, labels = result\n",
    "    predictions = np.argmax(predictions, axis=2)\n",
    "    # 评估索引\n",
    "    predicts = [[tags[p] for p,l in zip(ps, ls) if l != -100] for ps,ls in zip(predictions, labels)]\n",
    "    labels = [[tags[l] for p,l in zip(ps, ls) if l != -100] for ps,ls in zip(predictions, labels)]\n",
    "    # 计算评估指标\n",
    "    results = seqeval.compute(predictions=predicts, references=labels)\n",
    "    return results"
   ]
  },
  {
   "cell_type": "code",
   "execution_count": 22,
   "metadata": {
    "execution": {
     "iopub.execute_input": "2025-05-25T12:23:33.524068Z",
     "iopub.status.busy": "2025-05-25T12:23:33.523523Z",
     "iopub.status.idle": "2025-05-25T12:23:33.535834Z",
     "shell.execute_reply": "2025-05-25T12:23:33.535234Z",
     "shell.execute_reply.started": "2025-05-25T12:23:33.524047Z"
    },
    "trusted": true
   },
   "outputs": [],
   "source": [
    "data_collator = DataCollatorForTokenClassification(tokenizer=tokenizer, padding=True)\n",
    "trainer = Trainer(\n",
    "    model = model,\n",
    "    args = args,\n",
    "    train_dataset = ds1['train'],\n",
    "    data_collator = data_collator,\n",
    "    compute_metrics = compute_metrics\n",
    ")"
   ]
  },
  {
   "cell_type": "code",
   "execution_count": 23,
   "metadata": {
    "execution": {
     "iopub.execute_input": "2025-05-25T12:23:34.464799Z",
     "iopub.status.busy": "2025-05-25T12:23:34.464385Z",
     "iopub.status.idle": "2025-05-25T13:01:26.396581Z",
     "shell.execute_reply": "2025-05-25T13:01:26.395950Z",
     "shell.execute_reply.started": "2025-05-25T12:23:34.464782Z"
    },
    "trusted": true
   },
   "outputs": [
    {
     "name": "stderr",
     "output_type": "stream",
     "text": [
      "/usr/local/lib/python3.11/dist-packages/torch/nn/parallel/_functions.py:70: UserWarning: Was asked to gather along dimension 0, but all input tensors were scalars; will instead unsqueeze and return a vector.\n",
      "  warnings.warn(\n"
     ]
    },
    {
     "data": {
      "text/html": [
       "\n",
       "    <div>\n",
       "      \n",
       "      <progress value='2112' max='2112' style='width:300px; height:20px; vertical-align: middle;'></progress>\n",
       "      [2112/2112 37:50, Epoch 3/3]\n",
       "    </div>\n",
       "    <table border=\"1\" class=\"dataframe\">\n",
       "  <thead>\n",
       " <tr style=\"text-align: left;\">\n",
       "      <th>Step</th>\n",
       "      <th>Training Loss</th>\n",
       "    </tr>\n",
       "  </thead>\n",
       "  <tbody>\n",
       "    <tr>\n",
       "      <td>500</td>\n",
       "      <td>0.040500</td>\n",
       "    </tr>\n",
       "    <tr>\n",
       "      <td>1000</td>\n",
       "      <td>0.016100</td>\n",
       "    </tr>\n",
       "    <tr>\n",
       "      <td>1500</td>\n",
       "      <td>0.009700</td>\n",
       "    </tr>\n",
       "    <tr>\n",
       "      <td>2000</td>\n",
       "      <td>0.005300</td>\n",
       "    </tr>\n",
       "  </tbody>\n",
       "</table><p>"
      ],
      "text/plain": [
       "<IPython.core.display.HTML object>"
      ]
     },
     "metadata": {},
     "output_type": "display_data"
    },
    {
     "name": "stderr",
     "output_type": "stream",
     "text": [
      "/usr/local/lib/python3.11/dist-packages/torch/nn/parallel/_functions.py:70: UserWarning: Was asked to gather along dimension 0, but all input tensors were scalars; will instead unsqueeze and return a vector.\n",
      "  warnings.warn(\n",
      "/usr/local/lib/python3.11/dist-packages/torch/nn/parallel/_functions.py:70: UserWarning: Was asked to gather along dimension 0, but all input tensors were scalars; will instead unsqueeze and return a vector.\n",
      "  warnings.warn(\n",
      "/usr/local/lib/python3.11/dist-packages/torch/nn/parallel/_functions.py:70: UserWarning: Was asked to gather along dimension 0, but all input tensors were scalars; will instead unsqueeze and return a vector.\n",
      "  warnings.warn(\n",
      "/usr/local/lib/python3.11/dist-packages/torch/nn/parallel/_functions.py:70: UserWarning: Was asked to gather along dimension 0, but all input tensors were scalars; will instead unsqueeze and return a vector.\n",
      "  warnings.warn(\n"
     ]
    },
    {
     "data": {
      "text/plain": [
       "TrainOutput(global_step=2112, training_loss=0.017159820223848026, metrics={'train_runtime': 2271.2109, 'train_samples_per_second': 59.441, 'train_steps_per_second': 0.93, 'total_flos': 1.1941498425154188e+16, 'train_loss': 0.017159820223848026, 'epoch': 3.0})"
      ]
     },
     "execution_count": 23,
     "metadata": {},
     "output_type": "execute_result"
    }
   ],
   "source": [
    "trainer.train()"
   ]
  },
  {
   "cell_type": "code",
   "execution_count": 38,
   "metadata": {
    "execution": {
     "iopub.execute_input": "2025-05-25T13:08:36.714703Z",
     "iopub.status.busy": "2025-05-25T13:08:36.714429Z",
     "iopub.status.idle": "2025-05-25T13:08:37.191565Z",
     "shell.execute_reply": "2025-05-25T13:08:37.190731Z",
     "shell.execute_reply.started": "2025-05-25T13:08:36.714685Z"
    },
    "trusted": true
   },
   "outputs": [
    {
     "data": {
      "text/plain": [
       "[0, 0, 0, 0, 0, 0, 0, 0, 0, 0, 5, 5, 0, 0, 0, 0, 0, 0, 0, 0, 0]"
      ]
     },
     "execution_count": 38,
     "metadata": {},
     "output_type": "execute_result"
    }
   ],
   "source": [
    "model.eval()\n",
    "model.to('cpu')\n",
    "sentence = \"双方确定了今后发展中美关系的指导方针。\"\n",
    "tokens = list(sentence)  # 一句话一个字一个字地切开\n",
    "encoding = tokenizer(tokens, return_tensors=\"pt\", is_split_into_words=True)\n",
    "with torch.no_grad():\n",
    "    outputs = model(**encoding)\n",
    "logits = outputs.logits\n",
    "predictions = torch.argmax(logits, dim=-1).squeeze().tolist()\n",
    "predictions"
   ]
  },
  {
   "cell_type": "code",
   "execution_count": 41,
   "metadata": {
    "execution": {
     "iopub.execute_input": "2025-05-25T13:09:35.651037Z",
     "iopub.status.busy": "2025-05-25T13:09:35.650769Z",
     "iopub.status.idle": "2025-05-25T13:09:35.656095Z",
     "shell.execute_reply": "2025-05-25T13:09:35.655343Z",
     "shell.execute_reply.started": "2025-05-25T13:09:35.651019Z"
    },
    "trusted": true
   },
   "outputs": [
    {
     "name": "stdout",
     "output_type": "stream",
     "text": [
      "[{'entity': 'LOC', 'content': '中'}, {'entity': 'LOC', 'content': '美'}]\n"
     ]
    }
   ],
   "source": [
    "word_ids = encoding.word_ids()\n",
    "entities = []\n",
    "for idx, word_idx in enumerate(word_ids):\n",
    "    if word_idx is None:\n",
    "        continue\n",
    "    label_id = predictions[idx]\n",
    "    label = id2lbl[label_id]\n",
    "    if label.startswith(\"B-\"):\n",
    "        entity_type = label[2:]\n",
    "        entity_char = tokens[word_idx]\n",
    "        entities.append({\"entity\": entity_type, \"content\": entity_char})\n",
    "print(entities)"
   ]
  }
 ],
 "metadata": {
  "kernelspec": {
   "display_name": "Python 3",
   "language": "python",
   "name": "python3"
  },
  "language_info": {
   "codemirror_mode": {
    "name": "ipython",
    "version": 3
   },
   "file_extension": ".py",
   "mimetype": "text/x-python",
   "name": "python",
   "nbconvert_exporter": "python",
   "pygments_lexer": "ipython3",
   "version": "3.11.11"
  }
 },
 "nbformat": 4,
 "nbformat_minor": 4
}
