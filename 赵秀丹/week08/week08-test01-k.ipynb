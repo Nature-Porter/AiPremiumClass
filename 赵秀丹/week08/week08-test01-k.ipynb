{
 "cells": [
  {
   "cell_type": "code",
   "execution_count": 1,
   "id": "4ce44832",
   "metadata": {
    "_cell_guid": "b1076dfc-b9ad-4769-8c92-a6c4dae69d19",
    "_uuid": "8f2839f25d086af736a60e9eeb907d3b93b6e0e5",
    "execution": {
     "iopub.execute_input": "2025-05-07T11:29:58.531747Z",
     "iopub.status.busy": "2025-05-07T11:29:58.531516Z",
     "iopub.status.idle": "2025-05-07T11:29:59.960648Z",
     "shell.execute_reply": "2025-05-07T11:29:59.959792Z"
    },
    "papermill": {
     "duration": 1.435304,
     "end_time": "2025-05-07T11:29:59.962376",
     "exception": false,
     "start_time": "2025-05-07T11:29:58.527072",
     "status": "completed"
    },
    "tags": []
   },
   "outputs": [
    {
     "name": "stdout",
     "output_type": "stream",
     "text": [
      "/kaggle/input/chinese-couplets/couplet/vocabs\n",
      "/kaggle/input/chinese-couplets/couplet/test/out.txt\n",
      "/kaggle/input/chinese-couplets/couplet/test/in.txt\n",
      "/kaggle/input/chinese-couplets/couplet/test/.in.txt.swp\n",
      "/kaggle/input/chinese-couplets/couplet/test/.out.txt.swp\n",
      "/kaggle/input/chinese-couplets/couplet/train/out.txt\n",
      "/kaggle/input/chinese-couplets/couplet/train/in.txt\n"
     ]
    }
   ],
   "source": [
    "# This Python 3 environment comes with many helpful analytics libraries installed\n",
    "# It is defined by the kaggle/python Docker image: https://github.com/kaggle/docker-python\n",
    "# For example, here's several helpful packages to load\n",
    "\n",
    "import numpy as np # linear algebra\n",
    "import pandas as pd # data processing, CSV file I/O (e.g. pd.read_csv)\n",
    "\n",
    "# Input data files are available in the read-only \"../input/\" directory\n",
    "# For example, running this (by clicking run or pressing Shift+Enter) will list all files under the input directory\n",
    "\n",
    "import os\n",
    "for dirname, _, filenames in os.walk('/kaggle/input'):\n",
    "    for filename in filenames:\n",
    "        print(os.path.join(dirname, filename))\n",
    "\n",
    "# You can write up to 20GB to the current directory (/kaggle/working/) that gets preserved as output when you create a version using \"Save & Run All\" \n",
    "# You can also write temporary files to /kaggle/temp/, but they won't be saved outside of the current session"
   ]
  },
  {
   "cell_type": "markdown",
   "id": "e51b9fb2",
   "metadata": {
    "papermill": {
     "duration": 0.002807,
     "end_time": "2025-05-07T11:29:59.970926",
     "exception": false,
     "start_time": "2025-05-07T11:29:59.968119",
     "status": "completed"
    },
    "tags": []
   },
   "source": [
    "##//作业1：使用中文对联数据集训练带有attention的seq2seq模型，利用tensorboard跟踪。\n",
    "https://www.kaggle.com/datasets/jiaminggogogo/chinese-couplets* "
   ]
  },
  {
   "cell_type": "code",
   "execution_count": 2,
   "id": "c5d5412f",
   "metadata": {
    "execution": {
     "iopub.execute_input": "2025-05-07T11:29:59.977531Z",
     "iopub.status.busy": "2025-05-07T11:29:59.977256Z",
     "iopub.status.idle": "2025-05-07T11:30:03.507303Z",
     "shell.execute_reply": "2025-05-07T11:30:03.506580Z"
    },
    "papermill": {
     "duration": 3.534953,
     "end_time": "2025-05-07T11:30:03.508689",
     "exception": false,
     "start_time": "2025-05-07T11:29:59.973736",
     "status": "completed"
    },
    "tags": []
   },
   "outputs": [],
   "source": [
    "import pickle\n",
    "import torch\n",
    "import json\n",
    "from torch.utils.data import DataLoader\n",
    "from process_seq2seq import get_proc\n",
    "from seq2seqattencat import Seq2Seq\n",
    "import torch.optim as optim\n",
    "import torch.nn as nn\n",
    "from tqdm import tqdm\n",
    "\n"
   ]
  },
  {
   "cell_type": "code",
   "execution_count": 3,
   "id": "7992b153",
   "metadata": {
    "execution": {
     "iopub.execute_input": "2025-05-07T11:30:03.515899Z",
     "iopub.status.busy": "2025-05-07T11:30:03.515567Z",
     "iopub.status.idle": "2025-05-07T11:30:03.519198Z",
     "shell.execute_reply": "2025-05-07T11:30:03.518535Z"
    },
    "papermill": {
     "duration": 0.008465,
     "end_time": "2025-05-07T11:30:03.520304",
     "exception": false,
     "start_time": "2025-05-07T11:30:03.511839",
     "status": "completed"
    },
    "tags": []
   },
   "outputs": [],
   "source": [
    "device = torch.device('cuda')\n"
   ]
  },
  {
   "cell_type": "code",
   "execution_count": 4,
   "id": "1e802a42",
   "metadata": {
    "execution": {
     "iopub.execute_input": "2025-05-07T11:30:03.526592Z",
     "iopub.status.busy": "2025-05-07T11:30:03.526381Z",
     "iopub.status.idle": "2025-05-07T11:30:03.529391Z",
     "shell.execute_reply": "2025-05-07T11:30:03.528898Z"
    },
    "papermill": {
     "duration": 0.007292,
     "end_time": "2025-05-07T11:30:03.530434",
     "exception": false,
     "start_time": "2025-05-07T11:30:03.523142",
     "status": "completed"
    },
    "tags": []
   },
   "outputs": [],
   "source": [
    "file_in='/kaggle/input/chinese-couplets/couplet/train/in.txt'\n",
    "file_out='/kaggle/input/chinese-couplets/couplet/train/out.txt'"
   ]
  },
  {
   "cell_type": "code",
   "execution_count": 5,
   "id": "d660c327",
   "metadata": {
    "execution": {
     "iopub.execute_input": "2025-05-07T11:30:03.536606Z",
     "iopub.status.busy": "2025-05-07T11:30:03.536398Z",
     "iopub.status.idle": "2025-05-07T11:30:09.099585Z",
     "shell.execute_reply": "2025-05-07T11:30:09.098750Z"
    },
    "papermill": {
     "duration": 5.568016,
     "end_time": "2025-05-07T11:30:09.101150",
     "exception": false,
     "start_time": "2025-05-07T11:30:03.533134",
     "status": "completed"
    },
    "tags": []
   },
   "outputs": [],
   "source": [
    "###读取数据\n",
    "try:\n",
    "    enc_data = []\n",
    "    dec_data = []\n",
    "\n",
    "    with open(file_in, 'r', encoding='utf-8') as f1, open(file_out, 'r', encoding='utf-8') as f2:\n",
    "\n",
    "        for line1, line2 in zip(f1, f2):\n",
    "            enc = line1.split(\" \")\n",
    "            dec = line2.split(\" \")\n",
    "            \n",
    "            # 分词\n",
    "            enc_tks = [element for element in enc if element != \"\\n\"]\n",
    "            dec_tks = ['BOS'] + list([element for element in dec if element != \"\\n\"]) + ['EOS']\n",
    "            # 保存\n",
    "            enc_data.append(enc_tks)\n",
    "            dec_data.append(dec_tks)\n",
    "\n",
    "except FileNotFoundError:\n",
    "    print(\"文件未找到，请检查文件路径。\")\n",
    "except Exception as e:\n",
    "    print(f\"读取文件时出现错误: {e}\")"
   ]
  },
  {
   "cell_type": "code",
   "execution_count": 6,
   "id": "8a3d4b14",
   "metadata": {
    "execution": {
     "iopub.execute_input": "2025-05-07T11:30:09.107979Z",
     "iopub.status.busy": "2025-05-07T11:30:09.107709Z",
     "iopub.status.idle": "2025-05-07T11:30:09.113260Z",
     "shell.execute_reply": "2025-05-07T11:30:09.112582Z"
    },
    "papermill": {
     "duration": 0.010086,
     "end_time": "2025-05-07T11:30:09.114445",
     "exception": false,
     "start_time": "2025-05-07T11:30:09.104359",
     "status": "completed"
    },
    "tags": []
   },
   "outputs": [
    {
     "data": {
      "text/plain": [
       "[['晚', '风', '摇', '树', '树', '还', '挺'],\n",
       " ['愿', '景', '天', '成', '无', '墨', '迹'],\n",
       " ['丹', '枫', '江', '冷', '人', '初', '去'],\n",
       " ['忽',\n",
       "  '忽',\n",
       "  '几',\n",
       "  '晨',\n",
       "  '昏',\n",
       "  '，',\n",
       "  '离',\n",
       "  '别',\n",
       "  '间',\n",
       "  '之',\n",
       "  '，',\n",
       "  '疾',\n",
       "  '病',\n",
       "  '间',\n",
       "  '之',\n",
       "  '，',\n",
       "  '不',\n",
       "  '及',\n",
       "  '终',\n",
       "  '年',\n",
       "  '同',\n",
       "  '静',\n",
       "  '好'],\n",
       " ['闲', '来', '野', '钓', '人', '稀', '处']]"
      ]
     },
     "execution_count": 6,
     "metadata": {},
     "output_type": "execute_result"
    }
   ],
   "source": [
    "enc_data[:5]"
   ]
  },
  {
   "cell_type": "code",
   "execution_count": 7,
   "id": "29810814",
   "metadata": {
    "execution": {
     "iopub.execute_input": "2025-05-07T11:30:09.121335Z",
     "iopub.status.busy": "2025-05-07T11:30:09.121101Z",
     "iopub.status.idle": "2025-05-07T11:30:09.126010Z",
     "shell.execute_reply": "2025-05-07T11:30:09.125366Z"
    },
    "papermill": {
     "duration": 0.009484,
     "end_time": "2025-05-07T11:30:09.127074",
     "exception": false,
     "start_time": "2025-05-07T11:30:09.117590",
     "status": "completed"
    },
    "tags": []
   },
   "outputs": [
    {
     "data": {
      "text/plain": [
       "[['BOS', '晨', '露', '润', '花', '花', '更', '红', 'EOS'],\n",
       " ['BOS', '万', '方', '乐', '奏', '有', '于', '阗', 'EOS'],\n",
       " ['BOS', '绿', '柳', '堤', '新', '燕', '复', '来', 'EOS'],\n",
       " ['BOS',\n",
       "  '茕',\n",
       "  '茕',\n",
       "  '小',\n",
       "  '儿',\n",
       "  '女',\n",
       "  '，',\n",
       "  '孱',\n",
       "  '羸',\n",
       "  '若',\n",
       "  '此',\n",
       "  '，',\n",
       "  '娇',\n",
       "  '憨',\n",
       "  '若',\n",
       "  '此',\n",
       "  '，',\n",
       "  '更',\n",
       "  '烦',\n",
       "  '二',\n",
       "  '老',\n",
       "  '费',\n",
       "  '精',\n",
       "  '神',\n",
       "  'EOS'],\n",
       " ['BOS', '兴', '起', '高', '歌', '酒', '醉', '中', 'EOS']]"
      ]
     },
     "execution_count": 7,
     "metadata": {},
     "output_type": "execute_result"
    }
   ],
   "source": [
    "dec_data[:5]"
   ]
  },
  {
   "cell_type": "code",
   "execution_count": 8,
   "id": "a927c7da",
   "metadata": {
    "execution": {
     "iopub.execute_input": "2025-05-07T11:30:09.133851Z",
     "iopub.status.busy": "2025-05-07T11:30:09.133618Z",
     "iopub.status.idle": "2025-05-07T11:30:10.403578Z",
     "shell.execute_reply": "2025-05-07T11:30:10.402677Z"
    },
    "papermill": {
     "duration": 1.274928,
     "end_time": "2025-05-07T11:30:10.405121",
     "exception": false,
     "start_time": "2025-05-07T11:30:09.130193",
     "status": "completed"
    },
    "tags": []
   },
   "outputs": [],
   "source": [
    "from process_seq2seq import Vocabulary\n",
    "\n",
    "enc_vocab = Vocabulary.from_documents(enc_data)\n",
    "dec_vocab = Vocabulary.from_documents(dec_data)"
   ]
  },
  {
   "cell_type": "code",
   "execution_count": 9,
   "id": "249b773e",
   "metadata": {
    "execution": {
     "iopub.execute_input": "2025-05-07T11:30:10.412137Z",
     "iopub.status.busy": "2025-05-07T11:30:10.411901Z",
     "iopub.status.idle": "2025-05-07T11:30:10.419879Z",
     "shell.execute_reply": "2025-05-07T11:30:10.419367Z"
    },
    "papermill": {
     "duration": 0.0126,
     "end_time": "2025-05-07T11:30:10.420930",
     "exception": false,
     "start_time": "2025-05-07T11:30:10.408330",
     "status": "completed"
    },
    "tags": []
   },
   "outputs": [],
   "source": [
    "##保存词典\n",
    "import pickle\n",
    "with open('vocab.bin','wb') as f:\n",
    "    pickle.dump((enc_vocab.vocab, dec_vocab.vocab),f)\n"
   ]
  },
  {
   "cell_type": "code",
   "execution_count": 10,
   "id": "5a7ff8df",
   "metadata": {
    "execution": {
     "iopub.execute_input": "2025-05-07T11:30:10.427495Z",
     "iopub.status.busy": "2025-05-07T11:30:10.427289Z",
     "iopub.status.idle": "2025-05-07T11:30:10.431352Z",
     "shell.execute_reply": "2025-05-07T11:30:10.430814Z"
    },
    "papermill": {
     "duration": 0.008478,
     "end_time": "2025-05-07T11:30:10.432317",
     "exception": false,
     "start_time": "2025-05-07T11:30:10.423839",
     "status": "completed"
    },
    "tags": []
   },
   "outputs": [
    {
     "data": {
      "text/plain": [
       "7247"
      ]
     },
     "execution_count": 10,
     "metadata": {},
     "output_type": "execute_result"
    }
   ],
   "source": [
    "dec_vocab.vocab['BOS']"
   ]
  },
  {
   "cell_type": "code",
   "execution_count": 11,
   "id": "921ef13e",
   "metadata": {
    "execution": {
     "iopub.execute_input": "2025-05-07T11:30:10.438767Z",
     "iopub.status.busy": "2025-05-07T11:30:10.438580Z",
     "iopub.status.idle": "2025-05-07T11:30:10.442333Z",
     "shell.execute_reply": "2025-05-07T11:30:10.441819Z"
    },
    "papermill": {
     "duration": 0.008086,
     "end_time": "2025-05-07T11:30:10.443329",
     "exception": false,
     "start_time": "2025-05-07T11:30:10.435243",
     "status": "completed"
    },
    "tags": []
   },
   "outputs": [
    {
     "data": {
      "text/plain": [
       "840"
      ]
     },
     "execution_count": 11,
     "metadata": {},
     "output_type": "execute_result"
    }
   ],
   "source": [
    "dec_vocab.vocab['EOS']"
   ]
  },
  {
   "cell_type": "code",
   "execution_count": 12,
   "id": "bccb21b2",
   "metadata": {
    "execution": {
     "iopub.execute_input": "2025-05-07T11:30:10.450129Z",
     "iopub.status.busy": "2025-05-07T11:30:10.449939Z",
     "iopub.status.idle": "2025-05-07T11:30:11.715221Z",
     "shell.execute_reply": "2025-05-07T11:30:11.714381Z"
    },
    "papermill": {
     "duration": 1.269863,
     "end_time": "2025-05-07T11:30:11.716347",
     "exception": false,
     "start_time": "2025-05-07T11:30:10.446484",
     "status": "completed"
    },
    "tags": []
   },
   "outputs": [],
   "source": [
    "from torch.utils.data import DataLoader\n",
    "from process_seq2seq import get_proc\n",
    "\n",
    "ds = list(zip(enc_data,dec_data))\n",
    "dl = DataLoader(ds, batch_size=256, shuffle=True, collate_fn=get_proc(enc_vocab.vocab, dec_vocab.vocab))\n"
   ]
  },
  {
   "cell_type": "code",
   "execution_count": 13,
   "id": "69e5abe6",
   "metadata": {
    "execution": {
     "iopub.execute_input": "2025-05-07T11:30:11.723591Z",
     "iopub.status.busy": "2025-05-07T11:30:11.723375Z",
     "iopub.status.idle": "2025-05-07T11:30:11.727411Z",
     "shell.execute_reply": "2025-05-07T11:30:11.726901Z"
    },
    "papermill": {
     "duration": 0.008662,
     "end_time": "2025-05-07T11:30:11.728412",
     "exception": false,
     "start_time": "2025-05-07T11:30:11.719750",
     "status": "completed"
    },
    "tags": []
   },
   "outputs": [
    {
     "data": {
      "text/plain": [
       "770491"
      ]
     },
     "execution_count": 13,
     "metadata": {},
     "output_type": "execute_result"
    }
   ],
   "source": [
    "len(enc_data)"
   ]
  },
  {
   "cell_type": "code",
   "execution_count": 14,
   "id": "9532130d",
   "metadata": {
    "execution": {
     "iopub.execute_input": "2025-05-07T11:30:11.735029Z",
     "iopub.status.busy": "2025-05-07T11:30:11.734849Z",
     "iopub.status.idle": "2025-05-07T11:30:11.738906Z",
     "shell.execute_reply": "2025-05-07T11:30:11.738363Z"
    },
    "papermill": {
     "duration": 0.008368,
     "end_time": "2025-05-07T11:30:11.739818",
     "exception": false,
     "start_time": "2025-05-07T11:30:11.731450",
     "status": "completed"
    },
    "tags": []
   },
   "outputs": [
    {
     "data": {
      "text/plain": [
       "['晚', '风', '摇', '树', '树', '还', '挺']"
      ]
     },
     "execution_count": 14,
     "metadata": {},
     "output_type": "execute_result"
    }
   ],
   "source": [
    "enc_data[0]"
   ]
  },
  {
   "cell_type": "code",
   "execution_count": 15,
   "id": "d4bffb60",
   "metadata": {
    "execution": {
     "iopub.execute_input": "2025-05-07T11:30:11.746663Z",
     "iopub.status.busy": "2025-05-07T11:30:11.746493Z",
     "iopub.status.idle": "2025-05-07T11:30:24.726716Z",
     "shell.execute_reply": "2025-05-07T11:30:24.726148Z"
    },
    "papermill": {
     "duration": 12.985199,
     "end_time": "2025-05-07T11:30:24.728143",
     "exception": false,
     "start_time": "2025-05-07T11:30:11.742944",
     "status": "completed"
    },
    "tags": []
   },
   "outputs": [
    {
     "name": "stderr",
     "output_type": "stream",
     "text": [
      "2025-05-07 11:30:13.618704: E external/local_xla/xla/stream_executor/cuda/cuda_fft.cc:477] Unable to register cuFFT factory: Attempting to register factory for plugin cuFFT when one has already been registered\n",
      "WARNING: All log messages before absl::InitializeLog() is called are written to STDERR\n",
      "E0000 00:00:1746617413.799092      19 cuda_dnn.cc:8310] Unable to register cuDNN factory: Attempting to register factory for plugin cuDNN when one has already been registered\n",
      "E0000 00:00:1746617413.854896      19 cuda_blas.cc:1418] Unable to register cuBLAS factory: Attempting to register factory for plugin cuBLAS when one has already been registered\n"
     ]
    }
   ],
   "source": [
    "from torch.utils.tensorboard import SummaryWriter\n",
    "writer=SummaryWriter()"
   ]
  },
  {
   "cell_type": "code",
   "execution_count": 16,
   "id": "44efd975",
   "metadata": {
    "execution": {
     "iopub.execute_input": "2025-05-07T11:30:24.736261Z",
     "iopub.status.busy": "2025-05-07T11:30:24.735840Z",
     "iopub.status.idle": "2025-05-07T12:12:37.337366Z",
     "shell.execute_reply": "2025-05-07T12:12:37.336466Z"
    },
    "papermill": {
     "duration": 2532.606748,
     "end_time": "2025-05-07T12:12:37.338517",
     "exception": false,
     "start_time": "2025-05-07T11:30:24.731769",
     "status": "completed"
    },
    "tags": []
   },
   "outputs": [
    {
     "name": "stderr",
     "output_type": "stream",
     "text": [
      "/usr/local/lib/python3.11/dist-packages/torch/nn/modules/rnn.py:123: UserWarning: dropout option adds dropout after all but last recurrent layer, so non-zero dropout expects num_layers greater than 1, but got dropout=0.5 and num_layers=1\n",
      "  warnings.warn(\n",
      "Epoch 1, Loss: 1.6298: 100%|██████████| 3010/3010 [02:07<00:00, 23.66it/s]\n",
      "Epoch 2, Loss: 1.3977: 100%|██████████| 3010/3010 [02:06<00:00, 23.79it/s]\n",
      "Epoch 3, Loss: 1.3385: 100%|██████████| 3010/3010 [02:07<00:00, 23.70it/s]\n",
      "Epoch 4, Loss: 1.4155: 100%|██████████| 3010/3010 [02:06<00:00, 23.88it/s]\n",
      "Epoch 5, Loss: 1.2780: 100%|██████████| 3010/3010 [02:06<00:00, 23.88it/s]\n",
      "Epoch 6, Loss: 1.1741: 100%|██████████| 3010/3010 [02:05<00:00, 24.00it/s]\n",
      "Epoch 7, Loss: 1.2607: 100%|██████████| 3010/3010 [02:06<00:00, 23.80it/s]\n",
      "Epoch 8, Loss: 1.4577: 100%|██████████| 3010/3010 [02:05<00:00, 23.93it/s]\n",
      "Epoch 9, Loss: 1.4263: 100%|██████████| 3010/3010 [02:05<00:00, 23.94it/s]\n",
      "Epoch 10, Loss: 1.2998: 100%|██████████| 3010/3010 [02:06<00:00, 23.85it/s]\n",
      "Epoch 11, Loss: 1.2805: 100%|██████████| 3010/3010 [02:06<00:00, 23.72it/s]\n",
      "Epoch 12, Loss: 1.1481: 100%|██████████| 3010/3010 [02:05<00:00, 23.90it/s]\n",
      "Epoch 13, Loss: 1.2781: 100%|██████████| 3010/3010 [02:06<00:00, 23.79it/s]\n",
      "Epoch 14, Loss: 1.2884: 100%|██████████| 3010/3010 [02:06<00:00, 23.85it/s]\n",
      "Epoch 15, Loss: 1.3461: 100%|██████████| 3010/3010 [02:07<00:00, 23.67it/s]\n",
      "Epoch 16, Loss: 1.3200: 100%|██████████| 3010/3010 [02:06<00:00, 23.76it/s]\n",
      "Epoch 17, Loss: 1.1631: 100%|██████████| 3010/3010 [02:06<00:00, 23.81it/s]\n",
      "Epoch 18, Loss: 1.1654: 100%|██████████| 3010/3010 [02:07<00:00, 23.69it/s]\n",
      "Epoch 19, Loss: 1.1713: 100%|██████████| 3010/3010 [02:06<00:00, 23.80it/s]\n",
      "Epoch 20, Loss: 1.3863: 100%|██████████| 3010/3010 [02:06<00:00, 23.84it/s]\n"
     ]
    }
   ],
   "source": [
    "from seq2seqattencat import Seq2Seq\n",
    "\n",
    "# 构建训练模型\n",
    "# 模型构建\n",
    "model = Seq2Seq(\n",
    "    enc_emb_size=len(enc_vocab.vocab),\n",
    "    dec_emb_size=len(dec_vocab.vocab),\n",
    "    emb_dim=100,\n",
    "    hidden_size=120,\n",
    "    dropout=0.5,\n",
    ")\n",
    "model.to(device)\n",
    "\n",
    "# 优化器、损失\n",
    "optimizer = optim.Adam(model.parameters(), lr=1e-3)\n",
    "criterion = nn.CrossEntropyLoss()\n",
    "train_loss_cnt=0\n",
    "# 训练\n",
    "for epoch in range(20):\n",
    "    model.train()\n",
    "    tpbar = tqdm(dl)\n",
    "    for enc_input, dec_input, targets in tpbar:\n",
    "        enc_input = enc_input.long()\n",
    "        dec_input = dec_input.long()\n",
    "        targets = targets.long()\n",
    "        enc_input = enc_input.to(device)\n",
    "        dec_input = dec_input.to(device)\n",
    "        targets = targets.to(device)\n",
    "\n",
    "        # 前向传播 \n",
    "        logits, _ = model(enc_input, dec_input)\n",
    "\n",
    "        # 计算损失\n",
    "        # CrossEntropyLoss需要将logits和targets展平\n",
    "        # logits: [batch_size, seq_len, vocab_size]\n",
    "        # targets: [batch_size, seq_len]\n",
    "        # 展平为 [batch_size * seq_len, vocab_size] 和 [batch_size * seq_len]\n",
    "        loss = criterion(logits.view(-1, logits.size(-1)), targets.view(-1))\n",
    "        writer.add_scalar('train_loss',loss.item(),train_loss_cnt)\n",
    "        train_loss_cnt+=1\n",
    "\n",
    "        # 反向传播\n",
    "        optimizer.zero_grad()\n",
    "        loss.backward()\n",
    "        optimizer.step()\n",
    "\n",
    "        tpbar.set_description(f'Epoch {epoch+1}, Loss: {loss.item():.4f}')\n",
    "\n",
    "torch.save(model.state_dict(), 'seq2seq_state.bin')"
   ]
  },
  {
   "cell_type": "code",
   "execution_count": null,
   "id": "b76d6024",
   "metadata": {
    "papermill": {
     "duration": 3.309753,
     "end_time": "2025-05-07T12:12:44.145139",
     "exception": false,
     "start_time": "2025-05-07T12:12:40.835386",
     "status": "completed"
    },
    "tags": []
   },
   "outputs": [],
   "source": [
    "  "
   ]
  }
 ],
 "metadata": {
  "kaggle": {
   "accelerator": "gpu",
   "dataSources": [
    {
     "datasetId": 1661983,
     "sourceId": 2726695,
     "sourceType": "datasetVersion"
    },
    {
     "sourceId": 238267573,
     "sourceType": "kernelVersion"
    },
    {
     "sourceId": 238268268,
     "sourceType": "kernelVersion"
    }
   ],
   "dockerImageVersionId": 31011,
   "isGpuEnabled": true,
   "isInternetEnabled": true,
   "language": "python",
   "sourceType": "notebook"
  },
  "kernelspec": {
   "display_name": "Python 3",
   "language": "python",
   "name": "python3"
  },
  "language_info": {
   "codemirror_mode": {
    "name": "ipython",
    "version": 3
   },
   "file_extension": ".py",
   "mimetype": "text/x-python",
   "name": "python",
   "nbconvert_exporter": "python",
   "pygments_lexer": "ipython3",
   "version": "3.11.11"
  },
  "papermill": {
   "default_parameters": {},
   "duration": 2576.781712,
   "end_time": "2025-05-07T12:12:51.254391",
   "environment_variables": {},
   "exception": null,
   "input_path": "__notebook__.ipynb",
   "output_path": "__notebook__.ipynb",
   "parameters": {},
   "start_time": "2025-05-07T11:29:54.472679",
   "version": "2.6.0"
  }
 },
 "nbformat": 4,
 "nbformat_minor": 5
}
