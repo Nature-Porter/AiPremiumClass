{
 "cells": [
  {
   "cell_type": "code",
   "execution_count": 1,
   "id": "51d2bbe0",
   "metadata": {
    "_cell_guid": "fa22bdfe-1d4c-4df6-94f4-cedc631a40de",
    "_uuid": "83fa2ece-e8e3-4493-8d11-57860925b246",
    "execution": {
     "iopub.execute_input": "2025-05-07T13:36:30.866182Z",
     "iopub.status.busy": "2025-05-07T13:36:30.865631Z",
     "iopub.status.idle": "2025-05-07T13:36:32.296822Z",
     "shell.execute_reply": "2025-05-07T13:36:32.296031Z"
    },
    "papermill": {
     "duration": 1.436401,
     "end_time": "2025-05-07T13:36:32.297976",
     "exception": false,
     "start_time": "2025-05-07T13:36:30.861575",
     "status": "completed"
    },
    "tags": []
   },
   "outputs": [
    {
     "name": "stdout",
     "output_type": "stream",
     "text": [
      "/kaggle/input/chinese-couplets/couplet/vocabs\n",
      "/kaggle/input/chinese-couplets/couplet/test/out.txt\n",
      "/kaggle/input/chinese-couplets/couplet/test/in.txt\n",
      "/kaggle/input/chinese-couplets/couplet/test/.in.txt.swp\n",
      "/kaggle/input/chinese-couplets/couplet/test/.out.txt.swp\n",
      "/kaggle/input/chinese-couplets/couplet/train/out.txt\n",
      "/kaggle/input/chinese-couplets/couplet/train/in.txt\n"
     ]
    }
   ],
   "source": [
    "# This Python 3 environment comes with many helpful analytics libraries installed\n",
    "# It is defined by the kaggle/python Docker image: https://github.com/kaggle/docker-python\n",
    "# For example, here's several helpful packages to load\n",
    "\n",
    "import numpy as np # linear algebra\n",
    "import pandas as pd # data processing, CSV file I/O (e.g. pd.read_csv)\n",
    "\n",
    "# Input data files are available in the read-only \"../input/\" directory\n",
    "# For example, running this (by clicking run or pressing Shift+Enter) will list all files under the input directory\n",
    "\n",
    "import os\n",
    "for dirname, _, filenames in os.walk('/kaggle/input'):\n",
    "    for filename in filenames:\n",
    "        print(os.path.join(dirname, filename))\n",
    "\n",
    "# You can write up to 20GB to the current directory (/kaggle/working/) that gets preserved as output when you create a version using \"Save & Run All\" \n",
    "# You can also write temporary files to /kaggle/temp/, but they won't be saved outside of the current session"
   ]
  },
  {
   "cell_type": "markdown",
   "id": "02037239",
   "metadata": {
    "papermill": {
     "duration": 0.0027,
     "end_time": "2025-05-07T13:36:32.303751",
     "exception": false,
     "start_time": "2025-05-07T13:36:32.301051",
     "status": "completed"
    },
    "tags": []
   },
   "source": [
    "##2. 尝试encoder hidden state不同的返回形式（concat和add）"
   ]
  },
  {
   "cell_type": "code",
   "execution_count": 2,
   "id": "6fa1f3a7",
   "metadata": {
    "execution": {
     "iopub.execute_input": "2025-05-07T13:36:32.309609Z",
     "iopub.status.busy": "2025-05-07T13:36:32.309290Z",
     "iopub.status.idle": "2025-05-07T13:36:36.141965Z",
     "shell.execute_reply": "2025-05-07T13:36:36.141086Z"
    },
    "papermill": {
     "duration": 3.837176,
     "end_time": "2025-05-07T13:36:36.143544",
     "exception": false,
     "start_time": "2025-05-07T13:36:32.306368",
     "status": "completed"
    },
    "tags": []
   },
   "outputs": [],
   "source": [
    "import pickle\n",
    "import torch\n",
    "import json\n",
    "from torch.utils.data import DataLoader\n",
    "from process_seq2seq import get_proc\n",
    "from seq2seq_atten_add_model import Seq2Seq\n",
    "import torch.optim as optim\n",
    "import torch.nn as nn\n",
    "from tqdm import tqdm"
   ]
  },
  {
   "cell_type": "code",
   "execution_count": 3,
   "id": "4715b553",
   "metadata": {
    "execution": {
     "iopub.execute_input": "2025-05-07T13:36:36.151032Z",
     "iopub.status.busy": "2025-05-07T13:36:36.150113Z",
     "iopub.status.idle": "2025-05-07T13:36:36.153757Z",
     "shell.execute_reply": "2025-05-07T13:36:36.153218Z"
    },
    "papermill": {
     "duration": 0.008096,
     "end_time": "2025-05-07T13:36:36.154877",
     "exception": false,
     "start_time": "2025-05-07T13:36:36.146781",
     "status": "completed"
    },
    "tags": []
   },
   "outputs": [],
   "source": [
    "device = torch.device('cuda')\n"
   ]
  },
  {
   "cell_type": "code",
   "execution_count": 4,
   "id": "af3bbcf8",
   "metadata": {
    "execution": {
     "iopub.execute_input": "2025-05-07T13:36:36.160939Z",
     "iopub.status.busy": "2025-05-07T13:36:36.160689Z",
     "iopub.status.idle": "2025-05-07T13:36:36.164293Z",
     "shell.execute_reply": "2025-05-07T13:36:36.163555Z"
    },
    "papermill": {
     "duration": 0.007947,
     "end_time": "2025-05-07T13:36:36.165505",
     "exception": false,
     "start_time": "2025-05-07T13:36:36.157558",
     "status": "completed"
    },
    "tags": []
   },
   "outputs": [],
   "source": [
    "file_in='/kaggle/input/chinese-couplets/couplet/train/in.txt'\n",
    "file_out='/kaggle/input/chinese-couplets/couplet/train/out.txt'"
   ]
  },
  {
   "cell_type": "code",
   "execution_count": 5,
   "id": "63429d6d",
   "metadata": {
    "execution": {
     "iopub.execute_input": "2025-05-07T13:36:36.173279Z",
     "iopub.status.busy": "2025-05-07T13:36:36.172570Z",
     "iopub.status.idle": "2025-05-07T13:36:41.793061Z",
     "shell.execute_reply": "2025-05-07T13:36:41.792273Z"
    },
    "papermill": {
     "duration": 5.62651,
     "end_time": "2025-05-07T13:36:41.794571",
     "exception": false,
     "start_time": "2025-05-07T13:36:36.168061",
     "status": "completed"
    },
    "tags": []
   },
   "outputs": [],
   "source": [
    "###读取数据\n",
    "try:\n",
    "    enc_data = []\n",
    "    dec_data = []\n",
    "\n",
    "    with open(file_in, 'r', encoding='utf-8') as f1, open(file_out, 'r', encoding='utf-8') as f2:\n",
    "        for line1, line2 in zip(f1, f2):\n",
    "            enc = line1.split(\" \")\n",
    "            dec = line2.split(\" \")\n",
    "            \n",
    "            # 分词\n",
    "            enc_tks = [element for element in enc if element != \"\\n\"]\n",
    "            dec_tks = ['BOS'] + list([element for element in dec if element != \"\\n\"]) + ['EOS']\n",
    "            # 保存\n",
    "            enc_data.append(enc_tks)\n",
    "            dec_data.append(dec_tks)\n",
    "            \n",
    "except FileNotFoundError:\n",
    "    print(\"文件未找到，请检查文件路径。\")\n",
    "except Exception as e:\n",
    "    print(f\"读取文件时出现错误: {e}\")"
   ]
  },
  {
   "cell_type": "code",
   "execution_count": 6,
   "id": "0d352e04",
   "metadata": {
    "execution": {
     "iopub.execute_input": "2025-05-07T13:36:41.801051Z",
     "iopub.status.busy": "2025-05-07T13:36:41.800454Z",
     "iopub.status.idle": "2025-05-07T13:36:41.806100Z",
     "shell.execute_reply": "2025-05-07T13:36:41.805564Z"
    },
    "papermill": {
     "duration": 0.009835,
     "end_time": "2025-05-07T13:36:41.807221",
     "exception": false,
     "start_time": "2025-05-07T13:36:41.797386",
     "status": "completed"
    },
    "tags": []
   },
   "outputs": [
    {
     "data": {
      "text/plain": [
       "[['晚', '风', '摇', '树', '树', '还', '挺'],\n",
       " ['愿', '景', '天', '成', '无', '墨', '迹'],\n",
       " ['丹', '枫', '江', '冷', '人', '初', '去'],\n",
       " ['忽',\n",
       "  '忽',\n",
       "  '几',\n",
       "  '晨',\n",
       "  '昏',\n",
       "  '，',\n",
       "  '离',\n",
       "  '别',\n",
       "  '间',\n",
       "  '之',\n",
       "  '，',\n",
       "  '疾',\n",
       "  '病',\n",
       "  '间',\n",
       "  '之',\n",
       "  '，',\n",
       "  '不',\n",
       "  '及',\n",
       "  '终',\n",
       "  '年',\n",
       "  '同',\n",
       "  '静',\n",
       "  '好'],\n",
       " ['闲', '来', '野', '钓', '人', '稀', '处']]"
      ]
     },
     "execution_count": 6,
     "metadata": {},
     "output_type": "execute_result"
    }
   ],
   "source": [
    "enc_data[:5]"
   ]
  },
  {
   "cell_type": "code",
   "execution_count": 7,
   "id": "7f2c7a73",
   "metadata": {
    "execution": {
     "iopub.execute_input": "2025-05-07T13:36:41.812851Z",
     "iopub.status.busy": "2025-05-07T13:36:41.812663Z",
     "iopub.status.idle": "2025-05-07T13:36:41.817448Z",
     "shell.execute_reply": "2025-05-07T13:36:41.816920Z"
    },
    "papermill": {
     "duration": 0.008819,
     "end_time": "2025-05-07T13:36:41.818544",
     "exception": false,
     "start_time": "2025-05-07T13:36:41.809725",
     "status": "completed"
    },
    "tags": []
   },
   "outputs": [
    {
     "data": {
      "text/plain": [
       "[['BOS', '晨', '露', '润', '花', '花', '更', '红', 'EOS'],\n",
       " ['BOS', '万', '方', '乐', '奏', '有', '于', '阗', 'EOS'],\n",
       " ['BOS', '绿', '柳', '堤', '新', '燕', '复', '来', 'EOS'],\n",
       " ['BOS',\n",
       "  '茕',\n",
       "  '茕',\n",
       "  '小',\n",
       "  '儿',\n",
       "  '女',\n",
       "  '，',\n",
       "  '孱',\n",
       "  '羸',\n",
       "  '若',\n",
       "  '此',\n",
       "  '，',\n",
       "  '娇',\n",
       "  '憨',\n",
       "  '若',\n",
       "  '此',\n",
       "  '，',\n",
       "  '更',\n",
       "  '烦',\n",
       "  '二',\n",
       "  '老',\n",
       "  '费',\n",
       "  '精',\n",
       "  '神',\n",
       "  'EOS'],\n",
       " ['BOS', '兴', '起', '高', '歌', '酒', '醉', '中', 'EOS']]"
      ]
     },
     "execution_count": 7,
     "metadata": {},
     "output_type": "execute_result"
    }
   ],
   "source": [
    "dec_data[:5]"
   ]
  },
  {
   "cell_type": "code",
   "execution_count": 8,
   "id": "0832d00a",
   "metadata": {
    "execution": {
     "iopub.execute_input": "2025-05-07T13:36:41.824363Z",
     "iopub.status.busy": "2025-05-07T13:36:41.824178Z",
     "iopub.status.idle": "2025-05-07T13:36:43.082832Z",
     "shell.execute_reply": "2025-05-07T13:36:43.082007Z"
    },
    "papermill": {
     "duration": 1.263353,
     "end_time": "2025-05-07T13:36:43.084544",
     "exception": false,
     "start_time": "2025-05-07T13:36:41.821191",
     "status": "completed"
    },
    "tags": []
   },
   "outputs": [],
   "source": [
    "from process_seq2seq import Vocabulary\n",
    "\n",
    "enc_vocab = Vocabulary.from_documents(enc_data)\n",
    "dec_vocab = Vocabulary.from_documents(dec_data)"
   ]
  },
  {
   "cell_type": "code",
   "execution_count": 9,
   "id": "38355781",
   "metadata": {
    "execution": {
     "iopub.execute_input": "2025-05-07T13:36:43.091875Z",
     "iopub.status.busy": "2025-05-07T13:36:43.091545Z",
     "iopub.status.idle": "2025-05-07T13:36:43.102718Z",
     "shell.execute_reply": "2025-05-07T13:36:43.101884Z"
    },
    "papermill": {
     "duration": 0.016369,
     "end_time": "2025-05-07T13:36:43.104338",
     "exception": false,
     "start_time": "2025-05-07T13:36:43.087969",
     "status": "completed"
    },
    "tags": []
   },
   "outputs": [],
   "source": [
    "##保存词典\n",
    "import pickle\n",
    "with open('vocab_add.bin','wb') as f:\n",
    "    pickle.dump((enc_vocab.vocab, dec_vocab.vocab),f)\n"
   ]
  },
  {
   "cell_type": "code",
   "execution_count": 10,
   "id": "97085521",
   "metadata": {
    "execution": {
     "iopub.execute_input": "2025-05-07T13:36:43.110591Z",
     "iopub.status.busy": "2025-05-07T13:36:43.110187Z",
     "iopub.status.idle": "2025-05-07T13:36:44.355651Z",
     "shell.execute_reply": "2025-05-07T13:36:44.354874Z"
    },
    "papermill": {
     "duration": 1.249933,
     "end_time": "2025-05-07T13:36:44.357041",
     "exception": false,
     "start_time": "2025-05-07T13:36:43.107108",
     "status": "completed"
    },
    "tags": []
   },
   "outputs": [],
   "source": [
    "from torch.utils.data import DataLoader\n",
    "from process_seq2seq import get_proc\n",
    "\n",
    "ds = list(zip(enc_data,dec_data))\n",
    "dl = DataLoader(ds, batch_size=256, shuffle=True, collate_fn=get_proc(enc_vocab.vocab, dec_vocab.vocab))"
   ]
  },
  {
   "cell_type": "code",
   "execution_count": 11,
   "id": "706daf4b",
   "metadata": {
    "execution": {
     "iopub.execute_input": "2025-05-07T13:36:44.363842Z",
     "iopub.status.busy": "2025-05-07T13:36:44.363391Z",
     "iopub.status.idle": "2025-05-07T13:36:44.367720Z",
     "shell.execute_reply": "2025-05-07T13:36:44.367054Z"
    },
    "papermill": {
     "duration": 0.008796,
     "end_time": "2025-05-07T13:36:44.368840",
     "exception": false,
     "start_time": "2025-05-07T13:36:44.360044",
     "status": "completed"
    },
    "tags": []
   },
   "outputs": [
    {
     "data": {
      "text/plain": [
       "770491"
      ]
     },
     "execution_count": 11,
     "metadata": {},
     "output_type": "execute_result"
    }
   ],
   "source": [
    "len(enc_data)"
   ]
  },
  {
   "cell_type": "code",
   "execution_count": 12,
   "id": "4a04680d",
   "metadata": {
    "execution": {
     "iopub.execute_input": "2025-05-07T13:36:44.375106Z",
     "iopub.status.busy": "2025-05-07T13:36:44.374557Z",
     "iopub.status.idle": "2025-05-07T13:36:57.027008Z",
     "shell.execute_reply": "2025-05-07T13:36:57.026444Z"
    },
    "papermill": {
     "duration": 12.656817,
     "end_time": "2025-05-07T13:36:57.028294",
     "exception": false,
     "start_time": "2025-05-07T13:36:44.371477",
     "status": "completed"
    },
    "tags": []
   },
   "outputs": [
    {
     "name": "stderr",
     "output_type": "stream",
     "text": [
      "2025-05-07 13:36:46.117798: E external/local_xla/xla/stream_executor/cuda/cuda_fft.cc:477] Unable to register cuFFT factory: Attempting to register factory for plugin cuFFT when one has already been registered\n",
      "WARNING: All log messages before absl::InitializeLog() is called are written to STDERR\n",
      "E0000 00:00:1746625006.292510      19 cuda_dnn.cc:8310] Unable to register cuDNN factory: Attempting to register factory for plugin cuDNN when one has already been registered\n",
      "E0000 00:00:1746625006.343106      19 cuda_blas.cc:1418] Unable to register cuBLAS factory: Attempting to register factory for plugin cuBLAS when one has already been registered\n"
     ]
    }
   ],
   "source": [
    "from torch.utils.tensorboard import SummaryWriter\n",
    "writer=SummaryWriter()"
   ]
  },
  {
   "cell_type": "code",
   "execution_count": 13,
   "id": "64281d77",
   "metadata": {
    "execution": {
     "iopub.execute_input": "2025-05-07T13:36:57.035319Z",
     "iopub.status.busy": "2025-05-07T13:36:57.034598Z",
     "iopub.status.idle": "2025-05-07T14:10:18.572941Z",
     "shell.execute_reply": "2025-05-07T14:10:18.572326Z"
    },
    "papermill": {
     "duration": 2001.543002,
     "end_time": "2025-05-07T14:10:18.574276",
     "exception": false,
     "start_time": "2025-05-07T13:36:57.031274",
     "status": "completed"
    },
    "tags": []
   },
   "outputs": [
    {
     "name": "stderr",
     "output_type": "stream",
     "text": [
      "/usr/local/lib/python3.11/dist-packages/torch/nn/modules/rnn.py:123: UserWarning: dropout option adds dropout after all but last recurrent layer, so non-zero dropout expects num_layers greater than 1, but got dropout=0.5 and num_layers=1\n",
      "  warnings.warn(\n",
      "Epoch 1, Loss: 1.9534: 100%|██████████| 3010/3010 [01:40<00:00, 30.04it/s]\n",
      "Epoch 2, Loss: 1.9669: 100%|██████████| 3010/3010 [01:39<00:00, 30.19it/s]\n",
      "Epoch 3, Loss: 1.5839: 100%|██████████| 3010/3010 [01:41<00:00, 29.62it/s]\n",
      "Epoch 4, Loss: 1.7700: 100%|██████████| 3010/3010 [01:40<00:00, 30.09it/s]\n",
      "Epoch 5, Loss: 1.5372: 100%|██████████| 3010/3010 [01:38<00:00, 30.48it/s]\n",
      "Epoch 6, Loss: 1.4442: 100%|██████████| 3010/3010 [01:39<00:00, 30.30it/s]\n",
      "Epoch 7, Loss: 1.5186: 100%|██████████| 3010/3010 [01:40<00:00, 30.03it/s]\n",
      "Epoch 8, Loss: 1.6299: 100%|██████████| 3010/3010 [01:39<00:00, 30.20it/s]\n",
      "Epoch 9, Loss: 1.4252: 100%|██████████| 3010/3010 [01:38<00:00, 30.41it/s]\n",
      "Epoch 10, Loss: 1.4784: 100%|██████████| 3010/3010 [01:39<00:00, 30.32it/s]\n",
      "Epoch 11, Loss: 1.5205: 100%|██████████| 3010/3010 [01:40<00:00, 29.99it/s]\n",
      "Epoch 12, Loss: 1.4373: 100%|██████████| 3010/3010 [01:39<00:00, 30.35it/s]\n",
      "Epoch 13, Loss: 1.2672: 100%|██████████| 3010/3010 [01:39<00:00, 30.35it/s]\n",
      "Epoch 14, Loss: 1.4755: 100%|██████████| 3010/3010 [01:39<00:00, 30.24it/s]\n",
      "Epoch 15, Loss: 1.3927: 100%|██████████| 3010/3010 [01:40<00:00, 30.04it/s]\n",
      "Epoch 16, Loss: 1.4325: 100%|██████████| 3010/3010 [01:40<00:00, 30.03it/s]\n",
      "Epoch 17, Loss: 1.5059: 100%|██████████| 3010/3010 [01:40<00:00, 29.85it/s]\n",
      "Epoch 18, Loss: 1.5818: 100%|██████████| 3010/3010 [01:39<00:00, 30.15it/s]\n",
      "Epoch 19, Loss: 1.3943: 100%|██████████| 3010/3010 [01:40<00:00, 29.95it/s]\n",
      "Epoch 20, Loss: 1.3353: 100%|██████████| 3010/3010 [01:39<00:00, 30.26it/s]\n"
     ]
    }
   ],
   "source": [
    "\n",
    "# 构建训练模型\n",
    "# 模型构建\n",
    "model = Seq2Seq(\n",
    "    enc_emb_size=len(enc_vocab.vocab),\n",
    "    dec_emb_size=len(dec_vocab.vocab),\n",
    "    emb_dim=100,\n",
    "    hidden_size=120,\n",
    "    dropout=0.5,\n",
    ")\n",
    "model.to(device)\n",
    "\n",
    "# 优化器、损失\n",
    "optimizer = optim.Adam(model.parameters(), lr=1e-3)\n",
    "criterion = nn.CrossEntropyLoss()\n",
    "train_loss_cnt=0\n",
    "# 训练\n",
    "for epoch in range(20):\n",
    "    model.train()\n",
    "    tpbar = tqdm(dl)\n",
    "    for enc_input, dec_input, targets in tpbar:\n",
    "        enc_input = enc_input.long()\n",
    "        dec_input = dec_input.long()\n",
    "        targets = targets.long()\n",
    "        enc_input = enc_input.to(device)\n",
    "        dec_input = dec_input.to(device)\n",
    "        targets = targets.to(device)\n",
    "\n",
    "        # 前向传播 \n",
    "        logits, _ = model(enc_input, dec_input)\n",
    "\n",
    "        # 计算损失\n",
    "        # CrossEntropyLoss需要将logits和targets展平\n",
    "        # logits: [batch_size, seq_len, vocab_size]\n",
    "        # targets: [batch_size, seq_len]\n",
    "        # 展平为 [batch_size * seq_len, vocab_size] 和 [batch_size * seq_len]\n",
    "        loss = criterion(logits.view(-1, logits.size(-1)), targets.view(-1))\n",
    "        writer.add_scalar('train_loss_add',loss.item(),train_loss_cnt)\n",
    "        train_loss_cnt+=1\n",
    "\n",
    "        # 反向传播\n",
    "        optimizer.zero_grad()\n",
    "        loss.backward()\n",
    "        optimizer.step()\n",
    "\n",
    "        tpbar.set_description(f'Epoch {epoch+1}, Loss: {loss.item():.4f}')\n",
    "\n",
    "torch.save(model.state_dict(), 'seq2seq_state_add.bin')"
   ]
  }
 ],
 "metadata": {
  "kaggle": {
   "accelerator": "gpu",
   "dataSources": [
    {
     "datasetId": 1661983,
     "sourceId": 2726695,
     "sourceType": "datasetVersion"
    },
    {
     "sourceId": 238268268,
     "sourceType": "kernelVersion"
    },
    {
     "sourceId": 238303733,
     "sourceType": "kernelVersion"
    }
   ],
   "dockerImageVersionId": 31011,
   "isGpuEnabled": true,
   "isInternetEnabled": true,
   "language": "python",
   "sourceType": "notebook"
  },
  "kernelspec": {
   "display_name": "Python 3",
   "language": "python",
   "name": "python3"
  },
  "language_info": {
   "codemirror_mode": {
    "name": "ipython",
    "version": 3
   },
   "file_extension": ".py",
   "mimetype": "text/x-python",
   "name": "python",
   "nbconvert_exporter": "python",
   "pygments_lexer": "ipython3",
   "version": "3.11.11"
  },
  "papermill": {
   "default_parameters": {},
   "duration": 2038.007337,
   "end_time": "2025-05-07T14:10:24.708544",
   "environment_variables": {},
   "exception": null,
   "input_path": "__notebook__.ipynb",
   "output_path": "__notebook__.ipynb",
   "parameters": {},
   "start_time": "2025-05-07T13:36:26.701207",
   "version": "2.6.0"
  }
 },
 "nbformat": 4,
 "nbformat_minor": 5
}
