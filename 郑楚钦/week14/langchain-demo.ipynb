{
 "cells": [
  {
   "cell_type": "code",
   "execution_count": 1,
   "id": "ab48f84a",
   "metadata": {
    "_cell_guid": "b1076dfc-b9ad-4769-8c92-a6c4dae69d19",
    "_uuid": "8f2839f25d086af736a60e9eeb907d3b93b6e0e5",
    "execution": {
     "iopub.execute_input": "2025-06-22T16:00:25.043760Z",
     "iopub.status.busy": "2025-06-22T16:00:25.043214Z",
     "iopub.status.idle": "2025-06-22T16:00:38.331353Z",
     "shell.execute_reply": "2025-06-22T16:00:38.329842Z"
    },
    "papermill": {
     "duration": 13.296627,
     "end_time": "2025-06-22T16:00:38.333495",
     "exception": false,
     "start_time": "2025-06-22T16:00:25.036868",
     "status": "completed"
    },
    "tags": []
   },
   "outputs": [
    {
     "name": "stdout",
     "output_type": "stream",
     "text": [
      "Collecting langchain_openai\r\n",
      "  Downloading langchain_openai-0.3.24-py3-none-any.whl.metadata (2.3 kB)\r\n",
      "Collecting langserve\r\n",
      "  Downloading langserve-0.3.1-py3-none-any.whl.metadata (40 kB)\r\n",
      "\u001b[2K     \u001b[90m━━━━━━━━━━━━━━━━━━━━━━━━━━━━━━━━━━━━━━━━\u001b[0m \u001b[32m40.3/40.3 kB\u001b[0m \u001b[31m1.2 MB/s\u001b[0m eta \u001b[36m0:00:00\u001b[0m\r\n",
      "\u001b[?25hCollecting fastapi\r\n",
      "  Downloading fastapi-0.115.13-py3-none-any.whl.metadata (27 kB)\r\n",
      "Collecting uvicorn\r\n",
      "  Downloading uvicorn-0.34.3-py3-none-any.whl.metadata (6.5 kB)\r\n",
      "Collecting sse_starlette\r\n",
      "  Downloading sse_starlette-2.3.6-py3-none-any.whl.metadata (10 kB)\r\n",
      "Collecting langchain-core<1.0.0,>=0.3.65 (from langchain_openai)\r\n",
      "  Downloading langchain_core-0.3.66-py3-none-any.whl.metadata (5.8 kB)\r\n",
      "Collecting openai<2.0.0,>=1.86.0 (from langchain_openai)\r\n",
      "  Downloading openai-1.90.0-py3-none-any.whl.metadata (26 kB)\r\n",
      "Requirement already satisfied: tiktoken<1,>=0.7 in /usr/local/lib/python3.11/dist-packages (from langchain_openai) (0.9.0)\r\n",
      "Requirement already satisfied: httpx<1.0,>=0.23.0 in /usr/local/lib/python3.11/dist-packages (from langserve) (0.28.1)\r\n",
      "Requirement already satisfied: orjson<4,>=2 in /usr/local/lib/python3.11/dist-packages (from langserve) (3.10.16)\r\n",
      "Requirement already satisfied: pydantic<3.0,>=2.7 in /usr/local/lib/python3.11/dist-packages (from langserve) (2.11.4)\r\n",
      "Collecting starlette<0.47.0,>=0.40.0 (from fastapi)\r\n",
      "  Downloading starlette-0.46.2-py3-none-any.whl.metadata (6.2 kB)\r\n",
      "Requirement already satisfied: typing-extensions>=4.8.0 in /usr/local/lib/python3.11/dist-packages (from fastapi) (4.13.2)\r\n",
      "Requirement already satisfied: click>=7.0 in /usr/local/lib/python3.11/dist-packages (from uvicorn) (8.1.8)\r\n",
      "Requirement already satisfied: h11>=0.8 in /usr/local/lib/python3.11/dist-packages (from uvicorn) (0.14.0)\r\n",
      "Requirement already satisfied: anyio>=4.7.0 in /usr/local/lib/python3.11/dist-packages (from sse_starlette) (4.9.0)\r\n",
      "Requirement already satisfied: idna>=2.8 in /usr/local/lib/python3.11/dist-packages (from anyio>=4.7.0->sse_starlette) (3.10)\r\n",
      "Requirement already satisfied: sniffio>=1.1 in /usr/local/lib/python3.11/dist-packages (from anyio>=4.7.0->sse_starlette) (1.3.1)\r\n",
      "Requirement already satisfied: certifi in /usr/local/lib/python3.11/dist-packages (from httpx<1.0,>=0.23.0->langserve) (2025.4.26)\r\n",
      "Requirement already satisfied: httpcore==1.* in /usr/local/lib/python3.11/dist-packages (from httpx<1.0,>=0.23.0->langserve) (1.0.7)\r\n",
      "Collecting langsmith>=0.3.45 (from langchain-core<1.0.0,>=0.3.65->langchain_openai)\r\n",
      "  Downloading langsmith-0.4.1-py3-none-any.whl.metadata (15 kB)\r\n",
      "Requirement already satisfied: tenacity!=8.4.0,<10.0.0,>=8.1.0 in /usr/local/lib/python3.11/dist-packages (from langchain-core<1.0.0,>=0.3.65->langchain_openai) (9.1.2)\r\n",
      "Requirement already satisfied: jsonpatch<2.0,>=1.33 in /usr/local/lib/python3.11/dist-packages (from langchain-core<1.0.0,>=0.3.65->langchain_openai) (1.33)\r\n",
      "Requirement already satisfied: PyYAML>=5.3 in /usr/local/lib/python3.11/dist-packages (from langchain-core<1.0.0,>=0.3.65->langchain_openai) (6.0.2)\r\n",
      "Collecting packaging<25,>=23.2 (from langchain-core<1.0.0,>=0.3.65->langchain_openai)\r\n",
      "  Downloading packaging-24.2-py3-none-any.whl.metadata (3.2 kB)\r\n",
      "Requirement already satisfied: distro<2,>=1.7.0 in /usr/local/lib/python3.11/dist-packages (from openai<2.0.0,>=1.86.0->langchain_openai) (1.9.0)\r\n",
      "Requirement already satisfied: jiter<1,>=0.4.0 in /usr/local/lib/python3.11/dist-packages (from openai<2.0.0,>=1.86.0->langchain_openai) (0.9.0)\r\n",
      "Requirement already satisfied: tqdm>4 in /usr/local/lib/python3.11/dist-packages (from openai<2.0.0,>=1.86.0->langchain_openai) (4.67.1)\r\n",
      "Requirement already satisfied: annotated-types>=0.6.0 in /usr/local/lib/python3.11/dist-packages (from pydantic<3.0,>=2.7->langserve) (0.7.0)\r\n",
      "Requirement already satisfied: pydantic-core==2.33.2 in /usr/local/lib/python3.11/dist-packages (from pydantic<3.0,>=2.7->langserve) (2.33.2)\r\n",
      "Requirement already satisfied: typing-inspection>=0.4.0 in /usr/local/lib/python3.11/dist-packages (from pydantic<3.0,>=2.7->langserve) (0.4.0)\r\n",
      "Requirement already satisfied: regex>=2022.1.18 in /usr/local/lib/python3.11/dist-packages (from tiktoken<1,>=0.7->langchain_openai) (2024.11.6)\r\n",
      "Requirement already satisfied: requests>=2.26.0 in /usr/local/lib/python3.11/dist-packages (from tiktoken<1,>=0.7->langchain_openai) (2.32.3)\r\n",
      "Requirement already satisfied: jsonpointer>=1.9 in /usr/local/lib/python3.11/dist-packages (from jsonpatch<2.0,>=1.33->langchain-core<1.0.0,>=0.3.65->langchain_openai) (3.0.0)\r\n",
      "Requirement already satisfied: requests-toolbelt<2.0.0,>=1.0.0 in /usr/local/lib/python3.11/dist-packages (from langsmith>=0.3.45->langchain-core<1.0.0,>=0.3.65->langchain_openai) (1.0.0)\r\n",
      "Requirement already satisfied: zstandard<0.24.0,>=0.23.0 in /usr/local/lib/python3.11/dist-packages (from langsmith>=0.3.45->langchain-core<1.0.0,>=0.3.65->langchain_openai) (0.23.0)\r\n",
      "Requirement already satisfied: charset-normalizer<4,>=2 in /usr/local/lib/python3.11/dist-packages (from requests>=2.26.0->tiktoken<1,>=0.7->langchain_openai) (3.4.2)\r\n",
      "Requirement already satisfied: urllib3<3,>=1.21.1 in /usr/local/lib/python3.11/dist-packages (from requests>=2.26.0->tiktoken<1,>=0.7->langchain_openai) (2.4.0)\r\n",
      "Downloading langchain_openai-0.3.24-py3-none-any.whl (68 kB)\r\n",
      "\u001b[2K   \u001b[90m━━━━━━━━━━━━━━━━━━━━━━━━━━━━━━━━━━━━━━━━\u001b[0m \u001b[32m69.0/69.0 kB\u001b[0m \u001b[31m2.5 MB/s\u001b[0m eta \u001b[36m0:00:00\u001b[0m\r\n",
      "\u001b[?25hDownloading langserve-0.3.1-py3-none-any.whl (1.2 MB)\r\n",
      "\u001b[2K   \u001b[90m━━━━━━━━━━━━━━━━━━━━━━━━━━━━━━━━━━━━━━━━\u001b[0m \u001b[32m1.2/1.2 MB\u001b[0m \u001b[31m18.8 MB/s\u001b[0m eta \u001b[36m0:00:00\u001b[0m\r\n",
      "\u001b[?25hDownloading fastapi-0.115.13-py3-none-any.whl (95 kB)\r\n",
      "\u001b[2K   \u001b[90m━━━━━━━━━━━━━━━━━━━━━━━━━━━━━━━━━━━━━━━━\u001b[0m \u001b[32m95.3/95.3 kB\u001b[0m \u001b[31m4.2 MB/s\u001b[0m eta \u001b[36m0:00:00\u001b[0m\r\n",
      "\u001b[?25hDownloading uvicorn-0.34.3-py3-none-any.whl (62 kB)\r\n",
      "\u001b[2K   \u001b[90m━━━━━━━━━━━━━━━━━━━━━━━━━━━━━━━━━━━━━━━━\u001b[0m \u001b[32m62.4/62.4 kB\u001b[0m \u001b[31m2.5 MB/s\u001b[0m eta \u001b[36m0:00:00\u001b[0m\r\n",
      "\u001b[?25hDownloading sse_starlette-2.3.6-py3-none-any.whl (10 kB)\r\n",
      "Downloading langchain_core-0.3.66-py3-none-any.whl (438 kB)\r\n",
      "\u001b[2K   \u001b[90m━━━━━━━━━━━━━━━━━━━━━━━━━━━━━━━━━━━━━━━━\u001b[0m \u001b[32m438.9/438.9 kB\u001b[0m \u001b[31m15.0 MB/s\u001b[0m eta \u001b[36m0:00:00\u001b[0m\r\n",
      "\u001b[?25hDownloading openai-1.90.0-py3-none-any.whl (734 kB)\r\n",
      "\u001b[2K   \u001b[90m━━━━━━━━━━━━━━━━━━━━━━━━━━━━━━━━━━━━━━━━\u001b[0m \u001b[32m734.6/734.6 kB\u001b[0m \u001b[31m26.4 MB/s\u001b[0m eta \u001b[36m0:00:00\u001b[0m\r\n",
      "\u001b[?25hDownloading starlette-0.46.2-py3-none-any.whl (72 kB)\r\n",
      "\u001b[2K   \u001b[90m━━━━━━━━━━━━━━━━━━━━━━━━━━━━━━━━━━━━━━━━\u001b[0m \u001b[32m72.0/72.0 kB\u001b[0m \u001b[31m3.1 MB/s\u001b[0m eta \u001b[36m0:00:00\u001b[0m\r\n",
      "\u001b[?25hDownloading langsmith-0.4.1-py3-none-any.whl (364 kB)\r\n",
      "\u001b[2K   \u001b[90m━━━━━━━━━━━━━━━━━━━━━━━━━━━━━━━━━━━━━━━━\u001b[0m \u001b[32m364.6/364.6 kB\u001b[0m \u001b[31m14.8 MB/s\u001b[0m eta \u001b[36m0:00:00\u001b[0m\r\n",
      "\u001b[?25hDownloading packaging-24.2-py3-none-any.whl (65 kB)\r\n",
      "\u001b[2K   \u001b[90m━━━━━━━━━━━━━━━━━━━━━━━━━━━━━━━━━━━━━━━━\u001b[0m \u001b[32m65.5/65.5 kB\u001b[0m \u001b[31m2.4 MB/s\u001b[0m eta \u001b[36m0:00:00\u001b[0m\r\n",
      "\u001b[?25hInstalling collected packages: uvicorn, packaging, starlette, sse_starlette, openai, langsmith, fastapi, langchain-core, langserve, langchain_openai\r\n",
      "  Attempting uninstall: packaging\r\n",
      "    Found existing installation: packaging 25.0\r\n",
      "    Uninstalling packaging-25.0:\r\n",
      "      Successfully uninstalled packaging-25.0\r\n",
      "  Attempting uninstall: openai\r\n",
      "    Found existing installation: openai 1.70.0\r\n",
      "    Uninstalling openai-1.70.0:\r\n",
      "      Successfully uninstalled openai-1.70.0\r\n",
      "  Attempting uninstall: langsmith\r\n",
      "    Found existing installation: langsmith 0.3.23\r\n",
      "    Uninstalling langsmith-0.3.23:\r\n",
      "      Successfully uninstalled langsmith-0.3.23\r\n",
      "  Attempting uninstall: langchain-core\r\n",
      "    Found existing installation: langchain-core 0.3.50\r\n",
      "    Uninstalling langchain-core-0.3.50:\r\n",
      "      Successfully uninstalled langchain-core-0.3.50\r\n",
      "\u001b[31mERROR: pip's dependency resolver does not currently take into account all the packages that are installed. This behaviour is the source of the following dependency conflicts.\r\n",
      "datasets 3.6.0 requires fsspec[http]<=2025.3.0,>=2023.1.0, but you have fsspec 2025.3.2 which is incompatible.\r\n",
      "cesium 0.12.4 requires numpy<3.0,>=2.0, but you have numpy 1.26.4 which is incompatible.\r\n",
      "bigframes 1.42.0 requires rich<14,>=12.4.4, but you have rich 14.0.0 which is incompatible.\r\n",
      "langchain 0.3.22 requires langsmith<0.4,>=0.1.17, but you have langsmith 0.4.1 which is incompatible.\r\n",
      "plotnine 0.14.5 requires matplotlib>=3.8.0, but you have matplotlib 3.7.2 which is incompatible.\r\n",
      "pandas-gbq 0.28.0 requires google-api-core<3.0.0dev,>=2.10.2, but you have google-api-core 1.34.1 which is incompatible.\r\n",
      "mlxtend 0.23.4 requires scikit-learn>=1.3.1, but you have scikit-learn 1.2.2 which is incompatible.\u001b[0m\u001b[31m\r\n",
      "\u001b[0mSuccessfully installed fastapi-0.115.13 langchain-core-0.3.66 langchain_openai-0.3.24 langserve-0.3.1 langsmith-0.4.1 openai-1.90.0 packaging-24.2 sse_starlette-2.3.6 starlette-0.46.2 uvicorn-0.34.3\r\n"
     ]
    }
   ],
   "source": [
    "!pip install langchain_openai langserve fastapi uvicorn sse_starlette"
   ]
  },
  {
   "cell_type": "code",
   "execution_count": 2,
   "id": "ecb43d56",
   "metadata": {
    "execution": {
     "iopub.execute_input": "2025-06-22T16:00:38.346521Z",
     "iopub.status.busy": "2025-06-22T16:00:38.346222Z",
     "iopub.status.idle": "2025-06-22T16:00:43.744679Z",
     "shell.execute_reply": "2025-06-22T16:00:43.743212Z"
    },
    "papermill": {
     "duration": 5.407673,
     "end_time": "2025-06-22T16:00:43.747221",
     "exception": false,
     "start_time": "2025-06-22T16:00:38.339548",
     "status": "completed"
    },
    "tags": []
   },
   "outputs": [
    {
     "name": "stdout",
     "output_type": "stream",
     "text": [
      "content='雷猴！有咩问题想问就讲啦，我会尽力帮你解答嘎！😄🐒' additional_kwargs={'refusal': None} response_metadata={'token_usage': {'completion_tokens': 26, 'prompt_tokens': 14, 'total_tokens': 40, 'completion_tokens_details': None, 'prompt_tokens_details': None}, 'model_name': 'glm-4-plus', 'system_fingerprint': None, 'id': '202506230000429ddb456ab9d24bab', 'service_tier': None, 'finish_reason': 'stop', 'logprobs': None} id='run--f2a0eafb-0daa-4cc4-857e-e100434928f1-0' usage_metadata={'input_tokens': 14, 'output_tokens': 26, 'total_tokens': 40, 'input_token_details': {}, 'output_token_details': {}}\n"
     ]
    }
   ],
   "source": [
    "from langchain_openai import ChatOpenAI\n",
    "\n",
    "api_key = '0ea786d9905743a4ac9a4cf7b9e74719.TDE1JQlvq9xVHdxf'\n",
    "base_url = 'https://open.bigmodel.cn/api/paas/v4'\n",
    "\n",
    "model = ChatOpenAI(\n",
    "        api_key=api_key,\n",
    "        base_url=base_url,\n",
    "        model='glm-4-plus',\n",
    "        temperature=0.9\n",
    "        )\n",
    "response = model.invoke(\"雷猴，我想问你一个问题。\")\n",
    "print(response)"
   ]
  },
  {
   "cell_type": "code",
   "execution_count": 3,
   "id": "8160a95e",
   "metadata": {
    "execution": {
     "iopub.execute_input": "2025-06-22T16:00:43.762738Z",
     "iopub.status.busy": "2025-06-22T16:00:43.762371Z",
     "iopub.status.idle": "2025-06-22T16:00:45.603800Z",
     "shell.execute_reply": "2025-06-22T16:00:45.602613Z"
    },
    "papermill": {
     "duration": 1.850668,
     "end_time": "2025-06-22T16:00:45.605569",
     "exception": false,
     "start_time": "2025-06-22T16:00:43.754901",
     "status": "completed"
    },
    "tags": []
   },
   "outputs": [
    {
     "name": "stdout",
     "output_type": "stream",
     "text": [
      "content='你好！虽然我的基础模型主要在中英双语的语料上训练，但我也能理解和使用一些简单的粤语词汇和表达。如果你想测试我的粤语水平或者有粤语相关的问题，欢迎提问！😄' additional_kwargs={'refusal': None} response_metadata={'token_usage': {'completion_tokens': 45, 'prompt_tokens': 20, 'total_tokens': 65, 'completion_tokens_details': None, 'prompt_tokens_details': None}, 'model_name': 'glm-4-plus', 'system_fingerprint': None, 'id': '20250623000043ad0410c99f0d473f', 'service_tier': None, 'finish_reason': 'stop', 'logprobs': None} id='run--fc31d1f9-c9a1-4e6c-bf37-3aedda4e9133-0' usage_metadata={'input_tokens': 20, 'output_tokens': 45, 'total_tokens': 65, 'input_token_details': {}, 'output_token_details': {}}\n"
     ]
    }
   ],
   "source": [
    "from langchain_core.messages import SystemMessage,HumanMessage\n",
    "\n",
    "response = model.invoke([\n",
    "    SystemMessage(\"你好，我是粤语老师。\"),\n",
    "    HumanMessage(\"雷猴，你会说粤语吗\"),\n",
    "])\n",
    "print(response)"
   ]
  },
  {
   "cell_type": "code",
   "execution_count": 4,
   "id": "f8471259",
   "metadata": {
    "execution": {
     "iopub.execute_input": "2025-06-22T16:00:45.618391Z",
     "iopub.status.busy": "2025-06-22T16:00:45.618094Z",
     "iopub.status.idle": "2025-06-22T16:00:46.277967Z",
     "shell.execute_reply": "2025-06-22T16:00:46.276844Z"
    },
    "papermill": {
     "duration": 0.668051,
     "end_time": "2025-06-22T16:00:46.279550",
     "exception": false,
     "start_time": "2025-06-22T16:00:45.611499",
     "status": "completed"
    },
    "tags": []
   },
   "outputs": [
    {
     "name": "stdout",
     "output_type": "stream",
     "text": [
      "messages=[SystemMessage(content='你是粤语老师。请将下面的内容翻译成粤语', additional_kwargs={}, response_metadata={}), HumanMessage(content='你好，早上好', additional_kwargs={}, response_metadata={})]\n",
      "\n",
      "content='你好，早晨好犀利' additional_kwargs={'refusal': None} response_metadata={'token_usage': {'completion_tokens': 7, 'prompt_tokens': 23, 'total_tokens': 30, 'completion_tokens_details': None, 'prompt_tokens_details': None}, 'model_name': 'glm-4-plus', 'system_fingerprint': None, 'id': '20250623000045797a4d7bc4c34e9c', 'service_tier': None, 'finish_reason': 'stop', 'logprobs': None} id='run--f1f4c2d6-8e19-48d4-bf7e-eec1226d363b-0' usage_metadata={'input_tokens': 23, 'output_tokens': 7, 'total_tokens': 30, 'input_token_details': {}, 'output_token_details': {}}\n"
     ]
    }
   ],
   "source": [
    "from langchain_core.prompts import ChatPromptTemplate\n",
    "\n",
    "tpl = ChatPromptTemplate.from_messages([\n",
    "    ('system', \"你是{language}老师。请将下面的内容翻译成{language}\"),\n",
    "    ('user', \"{text}\"),\n",
    "])\n",
    "print(tpl.invoke({\n",
    "    \"language\": \"粤语\",\n",
    "    \"text\": \"你好，早上好\"\n",
    "}))\n",
    "print()\n",
    "chain = tpl | model\n",
    "response = chain.invoke({\n",
    "    \"language\": \"粤语\",\n",
    "    \"text\": \"你好，早上好厉害\"\n",
    "})\n",
    "print(response)"
   ]
  },
  {
   "cell_type": "code",
   "execution_count": 5,
   "id": "478b0edf",
   "metadata": {
    "execution": {
     "iopub.execute_input": "2025-06-22T16:00:46.292365Z",
     "iopub.status.busy": "2025-06-22T16:00:46.292027Z",
     "iopub.status.idle": "2025-06-22T16:00:50.330064Z",
     "shell.execute_reply": "2025-06-22T16:00:50.328809Z"
    },
    "papermill": {
     "duration": 4.046622,
     "end_time": "2025-06-22T16:00:50.332004",
     "exception": false,
     "start_time": "2025-06-22T16:00:46.285382",
     "status": "completed"
    },
    "tags": []
   },
   "outputs": [
    {
     "name": "stdout",
     "output_type": "stream",
     "text": [
      "粤语翻译为：\"今早真犀利。\" \n",
      "\n",
      "这里的\"犀利\"在粤语中表示\"厉害\"的意思。如果希望表达更地道的粤语，还可以根据上下文调整用词。例如，如果是形容某人做事很厉害，也可以说\"今早真叻\"（\"叻\"读作léh，意为聪明、能干）。如果是形容天气很厉害（比如很热或很冷），则可以说\"今早真劲\"（\"劲\"读作ging，意为强烈）。\n"
     ]
    }
   ],
   "source": [
    "from langchain_core.output_parsers import StrOutputParser\n",
    "\n",
    "parser = StrOutputParser()\n",
    "chain = tpl | model | parser\n",
    "response = chain.invoke({\n",
    "    \"language\": \"粤语\",\n",
    "    \"text\": \"呢早上好厉害\"\n",
    "})\n",
    "print(response)"
   ]
  },
  {
   "cell_type": "code",
   "execution_count": 6,
   "id": "191672eb",
   "metadata": {
    "execution": {
     "iopub.execute_input": "2025-06-22T16:00:50.345307Z",
     "iopub.status.busy": "2025-06-22T16:00:50.344972Z",
     "iopub.status.idle": "2025-06-22T16:00:50.758237Z",
     "shell.execute_reply": "2025-06-22T16:00:50.757032Z"
    },
    "papermill": {
     "duration": 0.422102,
     "end_time": "2025-06-22T16:00:50.760134",
     "exception": false,
     "start_time": "2025-06-22T16:00:50.338032",
     "status": "completed"
    },
    "tags": []
   },
   "outputs": [],
   "source": [
    "from fastapi import FastAPI\n",
    "import uvicorn\n",
    "from langserve import add_routes\n",
    "\n",
    "app = FastAPI()\n",
    "add_routes(app, chain, path='/chat')\n",
    "# uvicorn.run(app, host=\"0.0.0.0\", port=8008)"
   ]
  },
  {
   "cell_type": "code",
   "execution_count": 7,
   "id": "e7bff130",
   "metadata": {
    "execution": {
     "iopub.execute_input": "2025-06-22T16:00:50.774630Z",
     "iopub.status.busy": "2025-06-22T16:00:50.774282Z",
     "iopub.status.idle": "2025-06-22T16:00:53.286992Z",
     "shell.execute_reply": "2025-06-22T16:00:53.285876Z"
    },
    "papermill": {
     "duration": 2.521635,
     "end_time": "2025-06-22T16:00:53.288484",
     "exception": false,
     "start_time": "2025-06-22T16:00:50.766849",
     "status": "completed"
    },
    "tags": []
   },
   "outputs": [
    {
     "name": "stdout",
     "output_type": "stream",
     "text": [
      "你好 ！ 作为 你的 摩 斯 电 码 老师 ， 我可以 帮助你 学习和 理解 摩 斯 电 码 的基础 知识 ， 包括 如何 发送 和 接收 摩 斯 电 码 信号 ， 以及 它的 历史 和应用 。 如果你 有任何 关于 摩 斯 电 码 的问题 ， 或者 想要 开始 学习 ， 请 随时 告诉我 ， 我们可以 一起 开始 这段 有趣的 旅程 ！ 你 想要 从 哪里 开始 呢 ？  "
     ]
    }
   ],
   "source": [
    "from langchain_core.prompts import MessagesPlaceholder\n",
    "from langchain_core.messages import trim_messages\n",
    "from langchain_core.chat_history import BaseChatMessageHistory, InMemoryChatMessageHistory\n",
    "from langchain_core.runnables.history import RunnableWithMessageHistory\n",
    "\n",
    "tpl = ChatPromptTemplate.from_messages([\n",
    "    ('system', \"你是{language}老师。\"),\n",
    "    MessagesPlaceholder(variable_name='messages')\n",
    "])\n",
    "def count_token(messages):\n",
    "    return len(messages)\n",
    "trimer = trim_messages(max_tokens=30, strategy='last',token_counter=count_token, include_system=True, allow_partial=False, start_on='human')\n",
    "chain = tpl | trimer | model | parser\n",
    "\n",
    "session_store = {}\n",
    "def get_session_history(session_id):\n",
    "    if session_id not in session_store:\n",
    "        session_store[session_id] = InMemoryChatMessageHistory()\n",
    "    return session_store[session_id]\n",
    "runnable = RunnableWithMessageHistory(chain, get_session_history, input_messages_key='messages')\n",
    "\n",
    "def request(session_id, message, language='摩斯电码'):\n",
    "    config = {\n",
    "        'configurable': {\n",
    "            'session_id': session_id\n",
    "        }\n",
    "    }\n",
    "    for line in runnable.stream({\n",
    "        \"language\": language,\n",
    "        \"messages\": [ HumanMessage(message) ]\n",
    "    }, config=config):\n",
    "        print(line, end=' ')\n",
    "\n",
    "request('123', \"你好\")"
   ]
  },
  {
   "cell_type": "code",
   "execution_count": 8,
   "id": "75f772e6",
   "metadata": {
    "execution": {
     "iopub.execute_input": "2025-06-22T16:00:53.304301Z",
     "iopub.status.busy": "2025-06-22T16:00:53.303980Z",
     "iopub.status.idle": "2025-06-22T16:00:57.185542Z",
     "shell.execute_reply": "2025-06-22T16:00:57.184298Z"
    },
    "papermill": {
     "duration": 3.892239,
     "end_time": "2025-06-22T16:00:57.187085",
     "exception": false,
     "start_time": "2025-06-22T16:00:53.294846",
     "status": "completed"
    },
    "tags": []
   },
   "outputs": [
    {
     "name": "stdout",
     "output_type": "stream",
     "text": [
      "雷 猴 ， Tim my ！ 很高兴 认识 你 ！ 😄 在 广东 话 里 ，“ 雷 猴 ” 是 “ 你好 ” 的意思 ， 很有 地方 特色 呢 ！\n",
      "\n",
      "那么 ， Tim my ， 你对 摩 斯 电 码 有什么 特别 感兴趣 的地方 吗 ？ 是 想要 学习 基本的 摩 斯 电 码 表 ， 还是 想 了解 一些 实际 应用 ， 或者是 想 练习 发送 和 接收 摩 斯 电 码 ？ 告诉我 你的 兴趣 点 ， 我们可以 针对性地 学习 哦 ！ 🔍📡 "
     ]
    }
   ],
   "source": [
    "request('123', \"雷猴，我叫Timmy\")"
   ]
  },
  {
   "cell_type": "code",
   "execution_count": 9,
   "id": "18ce245b",
   "metadata": {
    "execution": {
     "iopub.execute_input": "2025-06-22T16:00:57.202711Z",
     "iopub.status.busy": "2025-06-22T16:00:57.202366Z",
     "iopub.status.idle": "2025-06-22T16:01:01.130041Z",
     "shell.execute_reply": "2025-06-22T16:01:01.128939Z"
    },
    "papermill": {
     "duration": 3.93736,
     "end_time": "2025-06-22T16:01:01.131629",
     "exception": false,
     "start_time": "2025-06-22T16:00:57.194269",
     "status": "completed"
    },
    "tags": []
   },
   "outputs": [
    {
     "name": "stdout",
     "output_type": "stream",
     "text": [
      "当然 可以 ！ 摩 斯 电 码 是一种 通过 点和 划 （ 或 短 音 和 长 音 ） 来 表示 字母 和 数字 的 编码 系统 。 下面 是你的 名字 “ Tim my ” 在 摩 斯 电 码 中的 表示 ：\n",
      "\n",
      "-  T :  -\n",
      "-  I :  ..\n",
      "-  M :  --\n",
      "-  M :  --\n",
      "-  Y :  -. --\n",
      "\n",
      "所以 ，“ Tim my ” 在 摩 斯 电 码 中 是 ： ` -  ..  --  --  -. -- `\n",
      "\n",
      "你可以 尝试 用 这个 编码 来 练习 发送 和 接收 摩 斯 电 码 信号 。 如果有 任何 问题 ， 或者 想要 进一步 学习 ， 随时 告诉我 ！ 📝🔔 "
     ]
    }
   ],
   "source": [
    "request('123', \"翻译一下我的名字\")"
   ]
  },
  {
   "cell_type": "code",
   "execution_count": 10,
   "id": "7de5524f",
   "metadata": {
    "execution": {
     "iopub.execute_input": "2025-06-22T16:01:01.149197Z",
     "iopub.status.busy": "2025-06-22T16:01:01.148879Z",
     "iopub.status.idle": "2025-06-22T16:01:03.859785Z",
     "shell.execute_reply": "2025-06-22T16:01:03.858480Z"
    },
    "papermill": {
     "duration": 2.721322,
     "end_time": "2025-06-22T16:01:03.861531",
     "exception": false,
     "start_time": "2025-06-22T16:01:01.140209",
     "status": "completed"
    },
    "tags": []
   },
   "outputs": [
    {
     "name": "stdout",
     "output_type": "stream",
     "text": [
      "作为 一个人 工 智能 助手 ， 我没有 一个 具体的 名字 ， 但 你可以 叫我 “ AI ” 或者 “ 助手 ”。 如果你 想要 将 “ AI ” 翻译 成 摩 斯 电 码 ， 以下是 它的 表示 ：\n",
      "\n",
      "-  A :  . -\n",
      "-  I :  ..\n",
      "\n",
      "所以 ，“ AI ” 在 摩 斯 电 码 中 是 ： `. -  .. `\n",
      "\n",
      "如果你 有 其他 问题 或 需要 进一步 的帮助 ， 随时 告诉我 ！ 🤖🔍 "
     ]
    }
   ],
   "source": [
    "request('123', \"你的名字呢\")"
   ]
  },
  {
   "cell_type": "code",
   "execution_count": 11,
   "id": "4a074a56",
   "metadata": {
    "execution": {
     "iopub.execute_input": "2025-06-22T16:01:03.879621Z",
     "iopub.status.busy": "2025-06-22T16:01:03.879244Z",
     "iopub.status.idle": "2025-06-22T16:01:05.228658Z",
     "shell.execute_reply": "2025-06-22T16:01:05.227298Z"
    },
    "papermill": {
     "duration": 1.360381,
     "end_time": "2025-06-22T16:01:05.230499",
     "exception": false,
     "start_time": "2025-06-22T16:01:03.870118",
     "status": "completed"
    },
    "tags": []
   },
   "outputs": [
    {
     "name": "stdout",
     "output_type": "stream",
     "text": [
      "当然 可以 ！ 请 告诉我 你 想要 翻译 成 摩 斯 电 码 的 句子 ， 我会 逐 句 为你 翻译 。 📝🔔 "
     ]
    }
   ],
   "source": [
    "request('123', \"我说一句，你翻译一句\")"
   ]
  },
  {
   "cell_type": "code",
   "execution_count": 12,
   "id": "13937030",
   "metadata": {
    "execution": {
     "iopub.execute_input": "2025-06-22T16:01:05.251969Z",
     "iopub.status.busy": "2025-06-22T16:01:05.251601Z",
     "iopub.status.idle": "2025-06-22T16:01:11.480639Z",
     "shell.execute_reply": "2025-06-22T16:01:11.479345Z"
    },
    "papermill": {
     "duration": 6.242659,
     "end_time": "2025-06-22T16:01:11.482547",
     "exception": false,
     "start_time": "2025-06-22T16:01:05.239888",
     "status": "completed"
    },
    "tags": []
   },
   "outputs": [
    {
     "name": "stdout",
     "output_type": "stream",
     "text": [
      "这句话 翻译 成 摩 斯 电 码 如下 ：\n",
      "\n",
      "-  现 :  . - ..\n",
      "-  在 :  -- ..\n",
      "-  ， :  -- .. --\n",
      "-  你 :  -. --\n",
      "-  的 :  - ..\n",
      "-  身 :  ... -\n",
      "-  体 :  - ..\n",
      "-  像 :  .. - .\n",
      "-  被 :  - ...\n",
      "-  骰 :  - ..\n",
      "-  子 :  -- ..\n",
      "-  请 :  -- .- .\n",
      "-  去 :  -- ..\n",
      "-  研 :  . - .\n",
      "-  磨 :  -- .\n",
      "\n",
      "所以 ， 整 句 的 摩 斯 电 码 是 ：\n",
      "\n",
      "`. -.  -- ..  -- .. --  -. --  - ..  ... -  - ..  .. -.  - ...  - ..  -- ..  -- .- .  -- ..  . -.  -- .` \n",
      "\n",
      "如果有 其他 句子 需要 翻译 ， 或者 有 其他 问题 ， 随时 告诉我 ！ 🔍📡 "
     ]
    }
   ],
   "source": [
    "request('123', \"现在，你的身体像被骰子请去研磨\")"
   ]
  },
  {
   "cell_type": "code",
   "execution_count": 13,
   "id": "bf3df5b1",
   "metadata": {
    "execution": {
     "iopub.execute_input": "2025-06-22T16:01:11.505003Z",
     "iopub.status.busy": "2025-06-22T16:01:11.504639Z",
     "iopub.status.idle": "2025-06-22T16:01:17.346659Z",
     "shell.execute_reply": "2025-06-22T16:01:17.345365Z"
    },
    "papermill": {
     "duration": 5.855276,
     "end_time": "2025-06-22T16:01:17.348532",
     "exception": false,
     "start_time": "2025-06-22T16:01:11.493256",
     "status": "completed"
    },
    "tags": []
   },
   "outputs": [
    {
     "name": "stdout",
     "output_type": "stream",
     "text": [
      "这句话 翻译 成 摩 斯 电 码 如下 ：\n",
      "\n",
      "-  你 :  -. --\n",
      "-  站 :  -- .\n",
      "-  在 :  -- ..\n",
      "-  平 :  . -- .\n",
      "-  静 :  . - ..\n",
      "-  的 :  - ..\n",
      "-  湖 :  .... \n",
      "-  面 :  -- .\n",
      "-  上 :  . ---\n",
      "-  不 :  - ...\n",
      "-  断 :  - ..\n",
      "-  摇 :  - .-- .\n",
      "-  晃 :  .. - .\n",
      "-  方 :  .. - .\n",
      "-  向 :  ... -\n",
      "-  盘 :  . -- .\n",
      "\n",
      "所以 ， 整 句 的 摩 斯 电 码 是 ：\n",
      "\n",
      "` -. --  -- .  -- ..  . -- .  . - ..  - ..  ....  -- .  . ---  - ...  - ..  - .-- .  .. -.  .. -.  ... -  . -- .` \n",
      "\n",
      "如果有 其他 句子 需要 翻译 ， 或者 有 其他 问题 ， 随时 告诉我 ！ 🔍📡 "
     ]
    }
   ],
   "source": [
    "request('123', \"你站在平静的湖面上不断摇晃方向盘\")"
   ]
  },
  {
   "cell_type": "code",
   "execution_count": 14,
   "id": "79dc216c",
   "metadata": {
    "execution": {
     "iopub.execute_input": "2025-06-22T16:01:17.383020Z",
     "iopub.status.busy": "2025-06-22T16:01:17.381587Z",
     "iopub.status.idle": "2025-06-22T16:01:32.159723Z",
     "shell.execute_reply": "2025-06-22T16:01:32.158568Z"
    },
    "papermill": {
     "duration": 14.798371,
     "end_time": "2025-06-22T16:01:32.161541",
     "exception": false,
     "start_time": "2025-06-22T16:01:17.363170",
     "status": "completed"
    },
    "tags": []
   },
   "outputs": [
    {
     "name": "stdout",
     "output_type": "stream",
     "text": [
      "当然 可以 ！ 首先 ， 我会 把 之前 翻译 的两 句话 的 摩 斯 电 码 串 起来 ， 然后再 进行 一次 翻译 。\n",
      "\n",
      "之前的 两 句话 是 ：\n",
      "1 .  \" 现在 ， 你的 身体 像 被 骰 子 请 去 研磨 \"\n",
      "2 .  \" 你 站在 平静 的 湖 面上 不断 摇晃 方向盘 \"\n",
      "\n",
      "它们的 摩 斯 电 码 分别是 ：\n",
      "1 .  ` .- .  -- ..  -- .. --  - .--  - ..  ... -  - ..  .. -.  - ...  - ..  -- ..  -- .- .  -- ..  . -.  -- . `\n",
      "2 .  ` -. --  -- .  -- ..  . -- .  . - ..  - ..  ....  -- .  . ---  - ...  - ..  - .-- .  .. -.  .. -.  ... -  . -- .` \n",
      "\n",
      "将 它们 串 起来 就是 ：\n",
      "\n",
      "` .- .  -- ..  -- .. --  - .--  - ..  ... -  - ..  .. -.  - ...  - ..  -- ..  -- .- .  -- ..  . -.  -- .  -. --  -- .  -- ..  . -- .  . - ..  - ..  ....  -- .  . ---  - ...  - ..  - .-- .  .. -.  .. -.  ... -  . -- .` \n",
      "\n",
      "现在 ， 我将 这个 长 串 的 摩 斯 电 码 再 翻译 成 文字 ：\n",
      "\n",
      "-  现 :  . - ..\n",
      "-  在 :  -- ..\n",
      "-  ， :  -- .. --\n",
      "-  你 :  -. --\n",
      "-  的 :  - ..\n",
      "-  身 :  ... -\n",
      "-  体 :  - ..\n",
      "-  像 :  .. - .\n",
      "-  被 :  - ...\n",
      "-  骰 :  - ..\n",
      "-  子 :  -- ..\n",
      "-  请 :  -- .- .\n",
      "-  去 :  -- ..\n",
      "-  研 :  . - .\n",
      "-  磨 :  -- .\n",
      "-  你 :  -. --\n",
      "-  站 :  -- .\n",
      "-  在 :  -- ..\n",
      "-  平 :  . -- .\n",
      "-  静 :  . - ..\n",
      "-  的 :  - ..\n",
      "-  湖 :  .... \n",
      "-  面 :  -- .\n",
      "-  上 :  . ---\n",
      "-  不 :  - ...\n",
      "-  断 :  - ..\n",
      "-  摇 :  - .-- .\n",
      "-  晃 :  .. - .\n",
      "-  方 :  .. - .\n",
      "-  向 :  ... -\n",
      "-  盘 :  . -- .\n",
      "\n",
      "翻译 结果 仍然是 ：\n",
      "\n",
      "\" 现在 ， 你的 身体 像 被 骰 子 请 去 研磨  你 站在 平静 的 湖 面上 不断 摇晃 方向盘 \"\n",
      "\n",
      "这样 我们就 完成 了一次 摩 斯 电 码 的 串 接 和 再 翻译 。 如果你 有 更多 问题 或 需要 进一步 的帮助 ， 随时 告诉我 ！ 🔍📡 "
     ]
    }
   ],
   "source": [
    "request('123', '好了，接下来请把你翻译的话串起来再翻译一次')"
   ]
  }
 ],
 "metadata": {
  "kaggle": {
   "accelerator": "none",
   "dataSources": [],
   "dockerImageVersionId": 31040,
   "isGpuEnabled": false,
   "isInternetEnabled": true,
   "language": "python",
   "sourceType": "notebook"
  },
  "kernelspec": {
   "display_name": "Python 3",
   "language": "python",
   "name": "python3"
  },
  "language_info": {
   "codemirror_mode": {
    "name": "ipython",
    "version": 3
   },
   "file_extension": ".py",
   "mimetype": "text/x-python",
   "name": "python",
   "nbconvert_exporter": "python",
   "pygments_lexer": "ipython3",
   "version": "3.11.11"
  },
  "papermill": {
   "default_parameters": {},
   "duration": 74.234387,
   "end_time": "2025-06-22T16:01:33.201603",
   "environment_variables": {},
   "exception": null,
   "input_path": "__notebook__.ipynb",
   "output_path": "__notebook__.ipynb",
   "parameters": {},
   "start_time": "2025-06-22T16:00:18.967216",
   "version": "2.6.0"
  }
 },
 "nbformat": 4,
 "nbformat_minor": 5
}
