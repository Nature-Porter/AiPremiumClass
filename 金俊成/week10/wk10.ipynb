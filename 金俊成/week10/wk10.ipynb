{
 "cells": [
  {
   "cell_type": "code",
   "execution_count": null,
   "metadata": {},
   "outputs": [],
   "source": [
    "import pandas as pd\n",
    "# 数据处理\n",
    "excel_data = pd.read_excel('./data/jd_comment_data.xlsx')\n",
    "\n",
    "\n"
   ]
  },
  {
   "cell_type": "code",
   "execution_count": null,
   "metadata": {},
   "outputs": [],
   "source": [
    "import re\n",
    "\n",
    "# 保留指定列并重命名（直接创建新DataFrame）\n",
    "df = excel_data[['评分（总分5分）(score)', '评价内容(content)']].copy()  # 显式创建副本\n",
    "df.columns = ['label', 'text']\n",
    "\n",
    "# 处理缺失值（避免inplace操作）\n",
    "df = df.dropna(subset=['text', 'label'])\n",
    "\n",
    "# 过滤无效数据（链式操作，避免中间视图）\n",
    "df = df[\n",
    "    (df['text'] != '此用户未填写评价内容') & \n",
    "    (df['text'].apply(lambda x: len(re.findall(r'[\\u4e00-\\u9fa5]', x)) >= 1))\n",
    "]\n",
    "\n",
    "# 处理异常值\n",
    "df = df[(df['label']>=1) & (df['label']<=5)]\n",
    "\n",
    "# 转换为二分类\n",
    "df ['label'] = df['label'].apply(lambda x : 1 if x >=4 else 0)\n",
    "# 统计信息\n",
    "print(\"类别分布：\\n\", df['label'].value_counts())"
   ]
  },
  {
   "cell_type": "code",
   "execution_count": null,
   "metadata": {},
   "outputs": [],
   "source": [
    "# 2. 创建Dataset对象\n",
    "from datasets import Dataset, load_dataset\n",
    "# 转换为huggingface dataset格式\n",
    "dataset = Dataset.from_pandas(df[['text','label']])\n",
    "# 拆分数据集\n",
    "train_test = dataset.train_test_split(test_size=0.2,shuffle=True)\n",
    "# 保存数据集\n",
    "train_test['train'].save_to_disk('my_dataset_train')\n",
    "train_test['test'].save_to_disk('my_dataset_test')\n"
   ]
  },
  {
   "cell_type": "code",
   "execution_count": null,
   "metadata": {},
   "outputs": [],
   "source": [
    "# 加载分词器\n",
    "from transformers import AutoTokenizer,AutoModelForSequenceClassification\n",
    "from datasets import load_from_disk\n",
    "\n",
    "MODEL_NAME = 'bert-base-chinese'\n",
    "tokenizer = AutoTokenizer.from_pretrained(MODEL_NAME)\n",
    "\n",
    "# 加载训练集\n",
    "loaded_train_dataset = load_from_disk('my_dataset_train')\n",
    "\n",
    "# 加载测试集\n",
    "loaded_test_dataset = load_from_disk('my_dataset_test')\n",
    "\n",
    "# 数据预处理\n",
    "def preprocess_data(tokenizer,max_length=128):\n",
    "    def tokenize_function(examples):\n",
    "        return tokenizer(examples[\"text\"],padding=\"max_length\",truncation=True,max_length=max_length,return_special_tokens_mask=True)\n",
    "    return tokenize_function\n",
    "\n",
    "tokenizer_train = loaded_train_dataset.map(\n",
    "    preprocess_data(tokenizer),\n",
    "    batched=True,\n",
    "    batch_size=128\n",
    ")\n",
    "tokenizer_test = loaded_test_dataset.map(\n",
    "    preprocess_data(tokenizer),\n",
    "    batched=True,\n",
    "    batch_size=128\n",
    ")"
   ]
  },
  {
   "cell_type": "code",
   "execution_count": null,
   "metadata": {},
   "outputs": [],
   "source": [
    "print(tokenizer_train[0])"
   ]
  },
  {
   "cell_type": "code",
   "execution_count": null,
   "metadata": {},
   "outputs": [],
   "source": [
    "# 模型配置\n",
    "model = AutoModelForSequenceClassification.from_pretrained(MODEL_NAME,num_labels = 2)"
   ]
  },
  {
   "cell_type": "code",
   "execution_count": null,
   "metadata": {},
   "outputs": [],
   "source": [
    "from transformers import TrainingArguments, Trainer\n",
    "import evaluate\n",
    "import numpy as np\n",
    "from torch.utils.tensorboard import SummaryWriter  # 可选：显式导入SummaryWriter（非必需）\n",
    "\n",
    "# 1. 定义训练参数（已包含 TensorBoard 配置）\n",
    "training_args = TrainingArguments(\n",
    "    output_dir='./result',\n",
    "    overwrite_output_dir=True,\n",
    "    eval_strategy='epoch',          # 每个 epoch 评估一次\n",
    "    learning_rate=2e-5,\n",
    "    per_device_train_batch_size=128,\n",
    "    num_train_epochs=20,\n",
    "    weight_decay=0.01,\n",
    "    logging_dir='./logs',           # 日志目录（用于 TensorBoard）\n",
    "    logging_steps=10,               # 每 10 步记录一次日志\n",
    "    save_strategy='epoch',          # 每个 epoch 保存一次模型\n",
    "    load_best_model_at_end=True,    # 训练结束后加载最佳模型\n",
    "    report_to='tensorboard',        # 启用 TensorBoard 日志记录\n",
    "    run_name='bert_training'        # 为 TensorBoard 添加运行名称（可选）\n",
    ")\n",
    "\n",
    "# 2. 定义评估指标\n",
    "metric = evaluate.load('accuracy')\n",
    "\n",
    "def compute_metrics(eval_pred):\n",
    "    logits, labels = eval_pred\n",
    "    predictions = np.argmax(logits, axis=-1)\n",
    "    return metric.compute(predictions=predictions, references=labels)\n",
    "\n",
    "# 3. 创建 Trainer\n",
    "trainer = Trainer(\n",
    "    model=model,\n",
    "    args=training_args,\n",
    "    train_dataset=tokenizer_train,\n",
    "    eval_dataset=tokenizer_test,\n",
    "    compute_metrics=compute_metrics  # 会自动记录到 TensorBoard\n",
    ")\n",
    "\n",
    "# 4. 开始训练\n",
    "trainer.train()\n",
    "\n",
    "# 5. 保存模型\n",
    "trainer.save_model(\"./best_model\")\n",
    "tokenizer.save_pretrained(\"./best_model\")"
   ]
  },
  {
   "cell_type": "code",
   "execution_count": null,
   "metadata": {},
   "outputs": [],
   "source": [
    "from transformers import pipeline, AutoTokenizer\n",
    "\n",
    "# 加载本地模型和分词器\n",
    "model_path = \"./best_model\"\n",
    "\n",
    "# 显式加载 tokenizer（这才是关键）\n",
    "tokenizer = AutoTokenizer.from_pretrained(model_path)\n",
    "\n",
    "# 创建文本分类管道\n",
    "classifier = pipeline(\n",
    "    \"text-classification\",\n",
    "    model=model_path,\n",
    "    tokenizer=tokenizer,\n",
    "    device=0 if torch.cuda.is_available() else -1  # 自动选择设备\n",
    ")\n",
    "\n",
    "# 示例预测\n",
    "test_text = [\"真的垃圾\", \"好\"]\n",
    "results = classifier(test_text)\n",
    "print(results)"
   ]
  }
 ],
 "metadata": {
  "kernelspec": {
   "display_name": ".venv",
   "language": "python",
   "name": "python3"
  },
  "language_info": {
   "codemirror_mode": {
    "name": "ipython",
    "version": 3
   },
   "file_extension": ".py",
   "mimetype": "text/x-python",
   "name": "python",
   "nbconvert_exporter": "python",
   "pygments_lexer": "ipython3",
   "version": "3.12.10"
  }
 },
 "nbformat": 4,
 "nbformat_minor": 2
}
