{
 "cells": [
  {
   "cell_type": "code",
   "execution_count": 2,
   "id": "99b29112",
   "metadata": {
    "ExecuteTime": {
     "end_time": "2025-05-30T05:44:39.188517Z",
     "start_time": "2025-05-30T05:44:06.882759Z"
    }
   },
   "outputs": [
    {
     "name": "stderr",
     "output_type": "stream",
     "text": [
      "Generating train split: 100%|██████████| 45001/45001 [00:00<00:00, 810521.98 examples/s]\n",
      "Generating test split: 100%|██████████| 3443/3443 [00:00<00:00, 1025347.11 examples/s]\n",
      "Filter: 100%|██████████| 45001/45001 [00:01<00:00, 36180.58 examples/s]\n",
      "Filter: 100%|██████████| 3443/3443 [00:00<00:00, 34644.46 examples/s]\n"
     ]
    }
   ],
   "source": [
    "# 准备数据集\n",
    "from datasets import load_dataset\n",
    "\n",
    "ds = load_dataset(\"doushabao4766/msra_ner_k_V3\")\n",
    "# 数据清洗,，处理空数据\n",
    "def filter_data(example):\n",
    "    return len(example['tokens']) > 0 and len(example['ner_tags']) > 0\n",
    "for split in ds.keys():\n",
    "    ds[split] = ds[split].filter(filter_data)\n"
   ]
  },
  {
   "cell_type": "code",
   "execution_count": 4,
   "id": "75fb06d8",
   "metadata": {},
   "outputs": [],
   "source": [
    "# 保存数据集\n",
    "import pickle\n",
    "with open('./ds.bin','wb') as f:\n",
    "    pickle.dump(ds,f)"
   ]
  },
  {
   "cell_type": "code",
   "execution_count": 12,
   "id": "1ff01a94",
   "metadata": {
    "ExecuteTime": {
     "end_time": "2025-05-30T06:25:20.940454Z",
     "start_time": "2025-05-30T06:25:20.933215Z"
    }
   },
   "outputs": [
    {
     "name": "stdout",
     "output_type": "stream",
     "text": [
      "['当', '希', '望', '工', '程', '救', '助', '的', '百', '万', '儿', '童', '成', '长', '起', '来', '，', '科', '教', '兴', '国', '蔚', '然', '成', '风', '时', '，', '今', '天', '有', '收', '藏', '价', '值', '的', '书', '你', '没', '买', '，', '明', '日', '就', '叫', '你', '悔', '不', '当', '初', '！']\n",
      "[0, 0, 0, 0, 0, 0, 0, 0, 0, 0, 0, 0, 0, 0, 0, 0, 0, 0, 0, 0, 0, 0, 0, 0, 0, 0, 0, 0, 0, 0, 0, 0, 0, 0, 0, 0, 0, 0, 0, 0, 0, 0, 0, 0, 0, 0, 0, 0, 0, 0]\n",
      "\n",
      "['藏', '书', '本', '来', '就', '是', '所', '有', '传', '统', '收', '藏', '门', '类', '中', '的', '第', '一', '大', '户', '，', '只', '是', '我', '们', '结', '束', '温', '饱', '的', '时', '间', '太', '短', '而', '已', '。']\n",
      "[0, 0, 0, 0, 0, 0, 0, 0, 0, 0, 0, 0, 0, 0, 0, 0, 0, 0, 0, 0, 0, 0, 0, 0, 0, 0, 0, 0, 0, 0, 0, 0, 0, 0, 0, 0, 0]\n",
      "收藏：收藏是一种对于物品的搜集、储存、分类与维护的癖好。收藏家的收集对象通常是有价值的古董，但也可能是其他的小东西。集邮、火柴盒贴画与明信片是较为主流的收集项目。\n"
     ]
    },
    {
     "data": {
      "text/plain": [
       "DatasetDict({\n",
       "    train: Dataset({\n",
       "        features: ['id', 'tokens', 'ner_tags', 'knowledge'],\n",
       "        num_rows: 45000\n",
       "    })\n",
       "    test: Dataset({\n",
       "        features: ['id', 'tokens', 'ner_tags', 'knowledge'],\n",
       "        num_rows: 3442\n",
       "    })\n",
       "})"
      ]
     },
     "execution_count": 12,
     "metadata": {},
     "output_type": "execute_result"
    }
   ],
   "source": [
    "# 加载数据集\n",
    "import pickle\n",
    "with open('./ds.bin','rb') as f:\n",
    "    ds = pickle.load(f)\n",
    "# 数据集\n",
    "j = 0\n",
    "for i in ds['train']:\n",
    "    print(i['tokens'])\n",
    "    print(i['ner_tags'])\n",
    "    print(i['knowledge'])\n",
    "    j += 1\n",
    "    if j > 1:\n",
    "        break\n",
    "ds\n"
   ]
  },
  {
   "cell_type": "code",
   "execution_count": 13,
   "id": "74e643e0ad55bbd4",
   "metadata": {
    "ExecuteTime": {
     "end_time": "2025-05-30T06:25:25.881493Z",
     "start_time": "2025-05-30T06:25:25.876351Z"
    }
   },
   "outputs": [
    {
     "name": "stdout",
     "output_type": "stream",
     "text": [
      "{'O': 0, 'I-ORG': 1, 'B-ORG': 2, 'I-PER': 3, 'B-LOC': 4, 'B-PER': 5, 'I-LOC': 6}\n"
     ]
    }
   ],
   "source": [
    "# 实体映射数据集词典准备\n",
    "entities = ['O'] + list({'B-PER', 'I-PER', 'B-ORG', 'I-ORG', 'B-LOC',\n",
    "           'I-LOC'})\n",
    "entities_index = {entity:i for i,entity in enumerate(entities)}\n",
    "print(entities_index)"
   ]
  },
  {
   "cell_type": "code",
   "execution_count": 14,
   "id": "1f7d034f",
   "metadata": {
    "ExecuteTime": {
     "end_time": "2025-05-30T06:25:33.400044Z",
     "start_time": "2025-05-30T06:25:33.354292Z"
    }
   },
   "outputs": [
    {
     "name": "stderr",
     "output_type": "stream",
     "text": [
      "Some weights of BertForTokenClassification were not initialized from the model checkpoint at google-bert/bert-base-chinese and are newly initialized: ['classifier.bias', 'classifier.weight']\n",
      "You should probably TRAIN this model on a down-stream task to be able to use it for predictions and inference.\n"
     ]
    }
   ],
   "source": [
    "# 模型准备\n",
    "from transformers import AutoModelForTokenClassification,AutoTokenizer\n",
    "\n",
    "model = AutoModelForTokenClassification.from_pretrained('google-bert/bert-base-chinese', num_labels=7)\n",
    "tokenizer = AutoTokenizer.from_pretrained('google-bert/bert-base-chinese')"
   ]
  },
  {
   "cell_type": "code",
   "execution_count": 16,
   "id": "5bef92342252022e",
   "metadata": {},
   "outputs": [
    {
     "name": "stderr",
     "output_type": "stream",
     "text": [
      "Map: 100%|██████████| 45000/45000 [00:09<00:00, 4518.85 examples/s]\n"
     ]
    }
   ],
   "source": [
    "# tokenizer处理\n",
    "def text2token(example):\n",
    "    result = tokenizer(example['tokens'],padding=True,add_special_tokens=False,truncation=True,max_length=512,is_split_into_words=True)\n",
    "    word2ids = result.word_ids()\n",
    "    adjust_labels = []\n",
    "    i,prev_id = -1,-1\n",
    "    for wid in word2ids:\n",
    "        if wid != prev_id:\n",
    "            i += 1\n",
    "            prev_id = wid\n",
    "        adjust_labels.append(example['ner_tags'][i])\n",
    "    result['labels'] = adjust_labels\n",
    "    return result\n",
    "ds_token = ds.map(text2token)\n"
   ]
  },
  {
   "cell_type": "code",
   "execution_count": 17,
   "id": "00bb0195",
   "metadata": {},
   "outputs": [
    {
     "data": {
      "text/plain": [
       "DatasetDict({\n",
       "    train: Dataset({\n",
       "        features: ['id', 'tokens', 'ner_tags', 'knowledge', 'input_ids', 'token_type_ids', 'attention_mask', 'labels'],\n",
       "        num_rows: 45000\n",
       "    })\n",
       "    test: Dataset({\n",
       "        features: ['id', 'tokens', 'ner_tags', 'knowledge', 'input_ids', 'token_type_ids', 'attention_mask', 'labels'],\n",
       "        num_rows: 3442\n",
       "    })\n",
       "})"
      ]
     },
     "execution_count": 17,
     "metadata": {},
     "output_type": "execute_result"
    }
   ],
   "source": [
    "ds_token"
   ]
  },
  {
   "cell_type": "code",
   "execution_count": 18,
   "id": "809a3417",
   "metadata": {},
   "outputs": [
    {
     "name": "stdout",
     "output_type": "stream",
     "text": [
      "dict_keys(['id', 'tokens', 'ner_tags', 'knowledge', 'input_ids', 'token_type_ids', 'attention_mask', 'labels'])\n",
      "['当', '希', '望', '工', '程', '救', '助', '的', '百', '万', '儿', '童', '成', '长', '起', '来', '，', '科', '教', '兴', '国', '蔚', '然', '成', '风', '时', '，', '今', '天', '有', '收', '藏', '价', '值', '的', '书', '你', '没', '买', '，', '明', '日', '就', '叫', '你', '悔', '不', '当', '初', '！']\n",
      "[0, 0, 0, 0, 0, 0, 0, 0, 0, 0, 0, 0, 0, 0, 0, 0, 0, 0, 0, 0, 0, 0, 0, 0, 0, 0, 0, 0, 0, 0, 0, 0, 0, 0, 0, 0, 0, 0, 0, 0, 0, 0, 0, 0, 0, 0, 0, 0, 0, 0]\n",
      "[0, 0, 0, 0, 0, 0, 0, 0, 0, 0, 0, 0, 0, 0, 0, 0, 0, 0, 0, 0, 0, 0, 0, 0, 0, 0, 0, 0, 0, 0, 0, 0, 0, 0, 0, 0, 0, 0, 0, 0, 0, 0, 0, 0, 0, 0, 0, 0, 0, 0]\n"
     ]
    }
   ],
   "source": [
    "print(ds_token[\"train\"][0].keys())\n",
    "print(ds_token[\"train\"][0][\"tokens\"])    \n",
    "print(ds_token[\"train\"][0][\"ner_tags\"])\n",
    "print(ds_token['train'][0]['labels'])"
   ]
  },
  {
   "cell_type": "markdown",
   "id": "34545541",
   "metadata": {},
   "source": [
    "## 模型训练"
   ]
  },
  {
   "cell_type": "code",
   "execution_count": 19,
   "id": "ba54fbf6",
   "metadata": {},
   "outputs": [],
   "source": [
    "from transformers import TrainingArguments, Trainer\n",
    "# TrainingArguments\n",
    "training_args = TrainingArguments(\n",
    "    output_dir='ner_train',\n",
    "    num_train_epochs=3,\n",
    "    save_safetensors=False,\n",
    "    per_device_eval_batch_size=32,\n",
    "    per_device_train_batch_size=32,\n",
    "    report_to='tensorboard',\n",
    "    eval_strategy='epoch'\n",
    ")"
   ]
  },
  {
   "cell_type": "code",
   "execution_count": 20,
   "id": "c3fd2741",
   "metadata": {},
   "outputs": [],
   "source": [
    "id2lbl = {v:k for k,v in entities_index.items()}\n",
    "lbl2id = entities_index"
   ]
  },
  {
   "cell_type": "code",
   "execution_count": 21,
   "id": "0356273c",
   "metadata": {},
   "outputs": [
    {
     "name": "stderr",
     "output_type": "stream",
     "text": [
      "Some weights of BertForTokenClassification were not initialized from the model checkpoint at google-bert/bert-base-chinese and are newly initialized: ['classifier.bias', 'classifier.weight']\n",
      "You should probably TRAIN this model on a down-stream task to be able to use it for predictions and inference.\n"
     ]
    },
    {
     "data": {
      "text/plain": [
       "BertForTokenClassification(\n",
       "  (bert): BertModel(\n",
       "    (embeddings): BertEmbeddings(\n",
       "      (word_embeddings): Embedding(21128, 768, padding_idx=0)\n",
       "      (position_embeddings): Embedding(512, 768)\n",
       "      (token_type_embeddings): Embedding(2, 768)\n",
       "      (LayerNorm): LayerNorm((768,), eps=1e-12, elementwise_affine=True)\n",
       "      (dropout): Dropout(p=0.1, inplace=False)\n",
       "    )\n",
       "    (encoder): BertEncoder(\n",
       "      (layer): ModuleList(\n",
       "        (0-11): 12 x BertLayer(\n",
       "          (attention): BertAttention(\n",
       "            (self): BertSdpaSelfAttention(\n",
       "              (query): Linear(in_features=768, out_features=768, bias=True)\n",
       "              (key): Linear(in_features=768, out_features=768, bias=True)\n",
       "              (value): Linear(in_features=768, out_features=768, bias=True)\n",
       "              (dropout): Dropout(p=0.1, inplace=False)\n",
       "            )\n",
       "            (output): BertSelfOutput(\n",
       "              (dense): Linear(in_features=768, out_features=768, bias=True)\n",
       "              (LayerNorm): LayerNorm((768,), eps=1e-12, elementwise_affine=True)\n",
       "              (dropout): Dropout(p=0.1, inplace=False)\n",
       "            )\n",
       "          )\n",
       "          (intermediate): BertIntermediate(\n",
       "            (dense): Linear(in_features=768, out_features=3072, bias=True)\n",
       "            (intermediate_act_fn): GELUActivation()\n",
       "          )\n",
       "          (output): BertOutput(\n",
       "            (dense): Linear(in_features=3072, out_features=768, bias=True)\n",
       "            (LayerNorm): LayerNorm((768,), eps=1e-12, elementwise_affine=True)\n",
       "            (dropout): Dropout(p=0.1, inplace=False)\n",
       "          )\n",
       "        )\n",
       "      )\n",
       "    )\n",
       "  )\n",
       "  (dropout): Dropout(p=0.1, inplace=False)\n",
       "  (classifier): Linear(in_features=768, out_features=7, bias=True)\n",
       ")"
      ]
     },
     "execution_count": 21,
     "metadata": {},
     "output_type": "execute_result"
    }
   ],
   "source": [
    "# 初始化模型\n",
    "model = AutoModelForTokenClassification.from_pretrained(\n",
    "    'google-bert/bert-base-chinese',\n",
    "    num_labels=7,\n",
    "    id2label = id2lbl,\n",
    "    label2id = lbl2id\n",
    ")\n",
    "model"
   ]
  },
  {
   "cell_type": "code",
   "execution_count": 22,
   "id": "45e5c015",
   "metadata": {},
   "outputs": [],
   "source": [
    "import evaluate\n",
    "import numpy as np\n",
    "# Trainer\n",
    "def compute_metric(result):\n",
    "    seqeavl = evaluate.load('seqeval')\n",
    "    predicts,labels = result\n",
    "    predicts = np.argmax(predicts,axis=2)\n",
    "\n",
    "    # 准备评估数据\n",
    "    predicts = [[entities[p] for p,l in zip(ps,ls) if l!=-100]\n",
    "                for ps,ls in zip(predicts,labels)]\n",
    "    labels = [[entities[l] for p,l in zip(ps,ls) if l!=-100]\n",
    "                for ps,ls in zip(predicts,labels)]\n",
    "    results = seqeavl.compute(predictions=predicts,references=labels)\n",
    "    return results"
   ]
  },
  {
   "cell_type": "code",
   "execution_count": 24,
   "id": "b5f85a36",
   "metadata": {},
   "outputs": [],
   "source": [
    "# 解决长度不一致的问题，将长度不一致的标签列表用-100进行填充\n",
    "from transformers import DataCollatorForTokenClassification \n",
    "data_collator = DataCollatorForTokenClassification(tokenizer=tokenizer,padding=True)\n",
    "trainer = Trainer(\n",
    "    model=model,\n",
    "    args=training_args,\n",
    "    train_dataset=ds_token['train'],\n",
    "    eval_dataset=ds_token['test'],\n",
    "    data_collator=data_collator,\n",
    "    compute_metrics=compute_metric\n",
    ")"
   ]
  },
  {
   "cell_type": "code",
   "execution_count": null,
   "id": "1f53596d",
   "metadata": {},
   "outputs": [],
   "source": [
    "# 开始训练\n",
    "trainer.train()"
   ]
  },
  {
   "cell_type": "code",
   "execution_count": null,
   "id": "544d5d33",
   "metadata": {},
   "outputs": [],
   "source": [
    "# 模型推理\n",
    "result = trainer.predict(ds_token['test'])"
   ]
  },
  {
   "cell_type": "code",
   "execution_count": null,
   "id": "eb3edf87",
   "metadata": {},
   "outputs": [],
   "source": [
    "print(ds_token['test'][10]['tokens'])\n",
    "print(ds_token['test'][10]['ner_tags'])\n",
    "print(result.label_ids[10])"
   ]
  },
  {
   "cell_type": "code",
   "execution_count": null,
   "id": "35f298d6",
   "metadata": {},
   "outputs": [],
   "source": [
    "[entities[p] for p,l in zip(result.label_ids[10],ds_token['test'][10]['ner_tags'])]"
   ]
  },
  {
   "cell_type": "code",
   "execution_count": null,
   "id": "e8645fc3",
   "metadata": {},
   "outputs": [],
   "source": [
    "[entities[l] for p,l in zip(result.label_ids[10],ds_token['test'][10]['ner_tags'])]"
   ]
  }
 ],
 "metadata": {
  "kernelspec": {
   "display_name": ".venv",
   "language": "python",
   "name": "python3"
  },
  "language_info": {
   "codemirror_mode": {
    "name": "ipython",
    "version": 3
   },
   "file_extension": ".py",
   "mimetype": "text/x-python",
   "name": "python",
   "nbconvert_exporter": "python",
   "pygments_lexer": "ipython3",
   "version": "3.12.10"
  }
 },
 "nbformat": 4,
 "nbformat_minor": 5
}
