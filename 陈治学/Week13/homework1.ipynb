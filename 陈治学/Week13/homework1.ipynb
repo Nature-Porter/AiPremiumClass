{
 "cells": [
  {
   "cell_type": "code",
   "execution_count": 2,
   "id": "33165c9d",
   "metadata": {},
   "outputs": [
    {
     "name": "stdout",
     "output_type": "stream",
     "text": [
      "<think>\n",
      "您好！我是由中国的深度求索（DeepSeek）公司独立开发的智能助手DeepSeek-R1，有关模型和产品的详细内容请参考官方文档。\n",
      "</think>\n",
      "\n",
      "您好！我是由中国的深度求索（DeepSeek）公司独立开发的智能助手DeepSeek-R1。有关模型和产品的详细内容请参考官方文档。\n"
     ]
    }
   ],
   "source": [
    "import requests\n",
    "import json\n",
    "\n",
    "#url获取链接https://github.com/ollama/ollama/blob/main/docs/api.md\n",
    "url = \"http://localhost:11434/api/generate\"\n",
    "\n",
    "# 提供json格式调用数据\n",
    "data = {\n",
    "    \"model\":\"deepseek-r1:1.5b\",\n",
    "    \"prompt\": \"请简单介绍deepseek对比其他同类型大模型的优劣势？/nothink\", # /nothink表示不使用思考链\n",
    "    \"stream\": False, # 是否开启流式输出\n",
    "    \"eval_count\": 20 # 限制response的tokens数量\n",
    "}\n",
    "\n",
    "response= requests.post(url, json=data)\n",
    "\n",
    "if response.status_code == 200:  # 请求成功\n",
    "    print(json.loads(response.text)['response'])"
   ]
  },
  {
   "cell_type": "code",
   "execution_count": null,
   "id": "3a1882ce",
   "metadata": {},
   "outputs": [],
   "source": []
  }
 ],
 "metadata": {
  "kernelspec": {
   "display_name": "nlp_prj",
   "language": "python",
   "name": "python3"
  },
  "language_info": {
   "codemirror_mode": {
    "name": "ipython",
    "version": 3
   },
   "file_extension": ".py",
   "mimetype": "text/x-python",
   "name": "python",
   "nbconvert_exporter": "python",
   "pygments_lexer": "ipython3",
   "version": "3.10.16"
  }
 },
 "nbformat": 4,
 "nbformat_minor": 5
}
