{
 "cells": [
  {
   "cell_type": "code",
   "execution_count": 4,
   "id": "436ddfb3",
   "metadata": {},
   "outputs": [
    {
     "name": "stdout",
     "output_type": "stream",
     "text": [
      "LLM（大语言模型）在自然语言处理领域已经展现出了广泛的应用潜力，其应用场景涵盖了众多行业和领域。以下是一些典型的LLM应用场景：\n",
      "\n",
      "1. **智能客服与聊天机器人**：LLM可以用于构建更加智能的客户服务系统，通过理解和生成自然语言来与用户进行交互，提供个性化的服务和支持。\n",
      "\n",
      "2. **内容创作与编辑**：在内容创作领域，LLM能够辅助生成文章、剧本、诗歌等文本内容，或者对现有内容进行编辑、润色和摘要。\n",
      "\n",
      "3. **机器翻译**：LLM在机器翻译方面表现出色，能够将一种语言的文本准确、流畅地翻译成另一种语言，有助于打破语言障碍，促进国际交流。\n",
      "\n",
      "4. **教育辅导与智能问答**：在教育领域，LLM可以作为智能辅导系统，为学生提供个性化的学习建议和解答疑问；同时也可以用于构建智能问答系统，为用户提供快速、准确的答案。\n",
      "\n",
      "5. **情感分析与舆情监控**：通过分析大量的文本数据，LLM能够识别和提取出其中的情感倾向，用于情感分析、舆情监控、市场调研等场景。\n",
      "\n",
      "6. **智能写作助手**：LLM可以作为写作助手，帮助用户完成写作任务，如生成文章大纲、提供写作灵感、检查语法错误等。\n",
      "\n",
      "7. **语音识别与合成**：结合语音识别技术，LLM能够将用户的语音输入转化为文本，再通过语音合成技术将文本转化为语音输出，实现更加自然、流畅的人机交互。\n",
      "\n",
      "8. **代码生成与辅助编程**：LLM在编程领域也有广泛的应用，能够根据用户的描述生成代码片段，或者对现有代码进行优化和改进，提高编程效率。\n",
      "\n",
      "9. **智能搜索与推荐**：通过理解用户的搜索意图和推荐需求，LLM能够提供更加精准的搜索结果和个性化推荐服务。\n",
      "\n",
      "10. **法律文书生成与审查**：在法律领域，LLM可以用于生成法律文书、审查合同条款等，提高工作效率和准确性。\n",
      "\n",
      "这些应用场景只是LLM应用潜力的冰山一角，随着技术的不断发展和完善，LLM将在更多领域发挥重要作用，为人们的生活和工作带来便利和变革。\n"
     ]
    }
   ],
   "source": [
    "import os\n",
    "from openai import OpenAI\n",
    "from dotenv import find_dotenv, load_dotenv\n",
    "\n",
    "# load_dotenv(find_dotenv())\n",
    "client = OpenAI(\n",
    "    api_key = '2fa2ede907374a60aa5a6ccf8662b472.ViQQynukrkVsx1XZ',\n",
    "    base_url= 'https://open.bigmodel.cn/api/paas/v4'\n",
    ")\n",
    "\n",
    "response = client.chat.completions.create(\n",
    "    model = \"glm-4-flash-250414\",\n",
    "    messages=[\n",
    "        {\"role\":\"user\",\"content\":\"请介绍LLM大语言模型的应用场景\"}\n",
    "    ]\n",
    ")\n",
    "print(response.choices[0].message.content)"
   ]
  },
  {
   "cell_type": "code",
   "execution_count": 5,
   "id": "8cd7b4ae",
   "metadata": {},
   "outputs": [
    {
     "name": "stdout",
     "output_type": "stream",
     "text": [
      "大语言模型（LLM）在多个领域和场景中都有广泛的应用，以下是一些主要的应用场景：\n",
      "\n",
      "1. **自然语言处理**：LLM在自然语言处理领域有显著的应用，如机器翻译、文本摘要、问答系统、情感分析等。通过训练大规模的语言模型，这些任务的处理效果得到了显著提升。\n",
      "\n",
      "2. **搜索引擎**：搜索引擎可以利用LLM来理解用户的查询意图，提供更准确和相关的搜索结果。此外，LLM还可以\n"
     ]
    }
   ],
   "source": [
    "response = client.chat.completions.create(\n",
    "    model = \"glm-4-flash-250414\",\n",
    "    messages=[\n",
    "        {\"role\":\"user\",\"content\":\"请介绍LLM大语言模型的应用场景\"}\n",
    "    ],\n",
    "    temperature = 0.9,\n",
    "    max_tokens= 100\n",
    ")\n",
    "print(response.choices[0].message.content)"
   ]
  },
  {
   "cell_type": "code",
   "execution_count": null,
   "id": "5f0b46dd",
   "metadata": {},
   "outputs": [],
   "source": []
  }
 ],
 "metadata": {
  "kernelspec": {
   "display_name": "nlp_prj",
   "language": "python",
   "name": "python3"
  },
  "language_info": {
   "codemirror_mode": {
    "name": "ipython",
    "version": 3
   },
   "file_extension": ".py",
   "mimetype": "text/x-python",
   "name": "python",
   "nbconvert_exporter": "python",
   "pygments_lexer": "ipython3",
   "version": "3.10.16"
  }
 },
 "nbformat": 4,
 "nbformat_minor": 5
}
