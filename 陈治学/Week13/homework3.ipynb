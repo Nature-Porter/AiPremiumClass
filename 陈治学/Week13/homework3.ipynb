{
 "cells": [
  {
   "cell_type": "code",
   "execution_count": 1,
   "id": "127529e7",
   "metadata": {},
   "outputs": [],
   "source": [
    "import os\n",
    "from openai import OpenAI\n",
    "from dotenv import find_dotenv, load_dotenv\n",
    "\n",
    "\n",
    "client = OpenAI(\n",
    "    api_key = '2fa2ede907374a60aa5a6ccf8662b472.ViQQynukrkVsx1XZ',\n",
    "    base_url= 'https://open.bigmodel.cn/api/paas/v4'\n",
    ")"
   ]
  },
  {
   "cell_type": "code",
   "execution_count": 4,
   "id": "8fd239a2",
   "metadata": {},
   "outputs": [
    {
     "name": "stdout",
     "output_type": "stream",
     "text": [
      "好的，作为图书馆管理员，我将根据您提供的信息进行处理和输出。\n",
      "\n",
      "**输入处理:**\n",
      "\n",
      "1.  **读者:** 张三\n",
      "2.  **归还书籍:** 《解忧杂货铺》\n",
      "3.  **新借阅书籍:** 《恶意》\n",
      "4.  **时间:** 2025年6月1日\n",
      "\n",
      "**处理逻辑:**\n",
      "\n",
      "1.  **更新借阅记录:**\n",
      "    *   查询张三的当前借阅书籍：根据初始记录，张三当前借阅有《解忧杂货铺》、《嫌疑人X的献身》、《白夜行》。\n",
      "    *   执行归还操作：归还《解忧杂货铺》。\n",
      "    *   执行新借阅操作：借阅《恶意》。\n",
      "    *   **更新后的借阅列表:** 《嫌疑人X的献身》、《白夜行》、《恶意》。\n",
      "2.  **推荐书籍:**\n",
      "    *   根据新借阅的《恶意》，推荐3本同类型/风格的书籍。\n",
      "    *   《恶意》是东野圭吾的推理小说，结合了社会派推理和心理刻画。\n",
      "    *   推荐书籍：《白夜行》、《嫌疑人X的献身》、《恶意》（东野圭吾的另一部经典作品，同样以细腻的心理描写和深刻的社会背景著称）。\n",
      "\n",
      "**输出:**\n",
      "\n",
      "```\n",
      "读者姓名    : 张三\n",
      "当前借阅书籍（包含新借阅的图书）: 《嫌疑人X的献身》、《白夜行》、《恶意》\n",
      "推荐的相关书籍（3本同类型/风格的书，以及书籍简介）:\n",
      "1.  书名: 《白夜行》\n",
      "    简介: 东野圭吾的代表作之一，一部跨越近二十年、深入探讨人性黑暗与救赎的杰作。故事围绕一桩陈年旧案展开，描绘了两个主人公在黑暗中相互守护又相互伤害的复杂关系，展现了极致的绝望与温情。\n",
      "2.  书名: 《嫌疑人X的献身》\n",
      "    简介: 东野圭吾的另一部现象级作品，也是其“逻辑推理小说”的巅峰之作。讲述数学天才石神哲哉为了保护暗恋的邻居花冈靖子，精心策划了一场完美的犯罪，并最终选择“献身”于爱情与正义的故事。情节跌宕起伏，结局震撼人心。\n",
      "3.  书名: 《恶意》（东野圭吾）\n",
      "    简介: 东野圭吾作品中的社会派推理代表作。通过一桩看似意外的凶案，深入挖掘了人性的复杂与幽暗。以独特的叙事结构，双线展开故事，引导读者层层深入，最终揭示隐藏在平静表面下的巨大“恶意”，发人深省。\n",
      "```\n"
     ]
    }
   ],
   "source": [
    "response = client.chat.completions.create(\n",
    "    model = \"glm-4-flash-250414\",\n",
    "    messages=[\n",
    "        {\"role\":\"user\",\n",
    "         \"content\":\"你是一个图书馆管理员，你的任务是输出图书借阅及归还，并且能够根据读者的借阅记录推荐图书。\\\n",
    "                    你有读者张三、李四的借阅及归还记录，如下：\\\n",
    "                    张三 《解忧杂货铺》《嫌疑人X的献身》《白夜行》借阅时间：2025年2月1日\\\n",
    "                    李四 《社会心理学》 《乌合之众》 《自卑与超越》 借阅时间：2025年5月31日\\\n",
    "\\\n",
    "                    你接收的输入如下：\\\n",
    "                    读者：张三\\\n",
    "                    归还书籍：《解忧杂货铺》\\\n",
    "                    新借阅书籍：《恶意》\\\n",
    "                    时间：2025年6月1日\\\n",
    "\\\n",
    "                    你输出的内容如下：\\\n",
    "                    读者姓名\\\n",
    "                    当前借阅书籍（包含新借阅的图书）\\\n",
    "                    推荐的相关书籍（3本同类型/风格的书，以及书籍简介） \"}\n",
    "    ]\n",
    ")\n",
    "print(response.choices[0].message.content)"
   ]
  },
  {
   "cell_type": "code",
   "execution_count": null,
   "id": "2c91f145",
   "metadata": {},
   "outputs": [],
   "source": []
  }
 ],
 "metadata": {
  "kernelspec": {
   "display_name": "nlp_prj",
   "language": "python",
   "name": "python3"
  },
  "language_info": {
   "codemirror_mode": {
    "name": "ipython",
    "version": 3
   },
   "file_extension": ".py",
   "mimetype": "text/x-python",
   "name": "python",
   "nbconvert_exporter": "python",
   "pygments_lexer": "ipython3",
   "version": "3.10.16"
  }
 },
 "nbformat": 4,
 "nbformat_minor": 5
}
