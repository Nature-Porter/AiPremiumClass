{
 "cells": [
  {
   "cell_type": "code",
   "execution_count": null,
   "id": "a0541f38",
   "metadata": {},
   "outputs": [
    {
     "name": "stdout",
     "output_type": "stream",
     "text": [
      "=== 图书咨询系统 ===\n",
      "输入'exit'退出\n",
      "\n"
     ]
    },
    {
     "name": "stderr",
     "output_type": "stream",
     "text": [
      "C:\\Users\\czx\\AppData\\Local\\Temp\\ipykernel_10488\\2183129001.py:26: LangChainDeprecationWarning: The class `HuggingFaceEmbeddings` was deprecated in LangChain 0.2.2 and will be removed in 1.0. An updated version of the class exists in the :class:`~langchain-huggingface package and should be used instead. To use it run `pip install -U :class:`~langchain-huggingface` and import as `from :class:`~langchain_huggingface import HuggingFaceEmbeddings``.\n",
      "  embeddings = HuggingFaceEmbeddings(model_name=\"shibing624/text2vec-base-chinese\")\n",
      "e:\\miniconda\\envs\\nlp_prj\\lib\\site-packages\\tqdm\\auto.py:21: TqdmWarning: IProgress not found. Please update jupyter and ipywidgets. See https://ipywidgets.readthedocs.io/en/stable/user_install.html\n",
      "  from .autonotebook import tqdm as notebook_tqdm\n"
     ]
    },
    {
     "name": "stdout",
     "output_type": "stream",
     "text": [
      "WARNING:tensorflow:From e:\\miniconda\\envs\\nlp_prj\\lib\\site-packages\\tf_keras\\src\\losses.py:2976: The name tf.losses.sparse_softmax_cross_entropy is deprecated. Please use tf.compat.v1.losses.sparse_softmax_cross_entropy instead.\n",
      "\n"
     ]
    },
    {
     "name": "stderr",
     "output_type": "stream",
     "text": [
      "e:\\miniconda\\envs\\nlp_prj\\lib\\site-packages\\huggingface_hub\\file_download.py:140: UserWarning: `huggingface_hub` cache-system uses symlinks by default to efficiently store duplicated files but your machine does not support them in C:\\Users\\czx\\.cache\\huggingface\\hub\\models--shibing624--text2vec-base-chinese. Caching files will still work but in a degraded version that might require more space on your disk. This warning can be disabled by setting the `HF_HUB_DISABLE_SYMLINKS_WARNING` environment variable. For more details, see https://huggingface.co/docs/huggingface_hub/how-to-cache#limitations.\n",
      "To support symlinks on Windows, you either need to activate Developer Mode or to run Python as an administrator. In order to activate developer mode, see this article: https://docs.microsoft.com/en-us/windows/apps/get-started/enable-your-device-for-development\n",
      "  warnings.warn(message)\n"
     ]
    },
    {
     "name": "stdout",
     "output_type": "stream",
     "text": [
      "\n",
      "推荐图书:\n",
      "《活着》是余华的经典小说，以福贵的一生为线索，展现了中国近代历史的变迁，属于现实题材。这本书深刻描绘了个体在历史洪流中的命运沉浮，是一本值得推荐的书。\n",
      "\n",
      "推荐理由:\n",
      "- 活着：余华经典小说，通过福贵的一生展现中国近代历史变迁\n",
      "- 人类简史：尤瓦尔·赫拉利的人类历史科普著作，从认知革命到科技革命\n",
      "- 时间简史：霍金关于宇宙本质的科普经典，解释黑洞、大爆炸等概念\n",
      "\n",
      "推荐图书:\n",
      "有，比如余华的经典小说《活着》，它通过主人公福贵的一生展现了中国近代历史的变迁，同时也描绘了人生的苦难与坚韧，是一部非常感人的作品。\n",
      "\n",
      "推荐理由:\n",
      "- 活着：余华经典小说，通过福贵的一生展现中国近代历史变迁\n",
      "- 人类简史：尤瓦尔·赫拉利的人类历史科普著作，从认知革命到科技革命\n",
      "- 三体：刘慈欣的科幻巨著，讲述地球文明与三体文明的宇宙战争\n"
     ]
    }
   ],
   "source": [
    "from langchain.chains import RetrievalQA\n",
    "from langchain_community.vectorstores import FAISS\n",
    "from langchain_community.embeddings import HuggingFaceEmbeddings\n",
    "from langchain_community.llms import Tongyi\n",
    "import pandas as pd\n",
    "import dashscope\n",
    "\n",
    "dashscope.api_key = \"\"\n",
    "\n",
    "books = [\n",
    "    {\"title\": \"三体\", \"description\": \"刘慈欣的科幻巨著，讲述地球文明与三体文明的宇宙战争\"},\n",
    "    {\"title\": \"活着\", \"description\": \"余华经典小说，通过福贵的一生展现中国近代历史变迁\"},\n",
    "    {\"title\": \"人类简史\", \"description\": \"尤瓦尔·赫拉利的人类历史科普著作，从认知革命到科技革命\"},\n",
    "    {\"title\": \"时间简史\", \"description\": \"霍金关于宇宙本质的科普经典，解释黑洞、大爆炸等概念\"},\n",
    "    {\"title\": \"小王子\", \"description\": \"圣埃克苏佩里的哲理童话，探讨成长、友谊与爱的真谛\"}\n",
    "]\n",
    "\n",
    "def create_book_database(book_list):\n",
    "    texts = [f\"{book['title']}：{book['description']}\" for book in book_list]\n",
    "    \n",
    "    embeddings = HuggingFaceEmbeddings(model_name=\"shibing624/text2vec-base-chinese\")\n",
    "    \n",
    "    return FAISS.from_texts(texts, embeddings)\n",
    "\n",
    "def create_book_advisor():\n",
    "    book_db = create_book_database(books)\n",
    "    \n",
    "    retriever = book_db.as_retriever(search_kwargs={\"k\": 3})\n",
    "    \n",
    "    llm = Tongyi(dashscope_api_key=dashscope.api_key\n",
    "                 ,model_name=\"qwen-turbo\"\n",
    "                 ,temperature=0.7)\n",
    "    \n",
    "    return RetrievalQA.from_chain_type(\n",
    "        llm=llm,\n",
    "        chain_type=\"stuff\",\n",
    "        retriever=retriever,\n",
    "        return_source_documents=True\n",
    "    )\n",
    "\n",
    "def main():\n",
    "    print(\"=== 图书咨询系统 ===\")\n",
    "    print(\"输入'exit'退出\\n\")\n",
    "    \n",
    "    book_advisor = create_book_advisor()\n",
    "    \n",
    "    while True:\n",
    "        query = input(\"读者: \")\n",
    "        if query.lower() == \"exit\":\n",
    "            break\n",
    "        \n",
    "        result = book_advisor.invoke({\"query\": query})\n",
    "        \n",
    "        print(\"\\n推荐图书:\")\n",
    "        print(result[\"result\"])\n",
    "        \n",
    "        print(\"\\n推荐理由:\")\n",
    "        for doc in result[\"source_documents\"]:\n",
    "            print(f\"- {doc.page_content}\")\n",
    "\n",
    "if __name__ == \"__main__\":\n",
    "    main()\n"
   ]
  },
  {
   "cell_type": "code",
   "execution_count": null,
   "id": "01e7a010",
   "metadata": {},
   "outputs": [],
   "source": []
  }
 ],
 "metadata": {
  "kernelspec": {
   "display_name": "nlp_prj",
   "language": "python",
   "name": "python3"
  },
  "language_info": {
   "codemirror_mode": {
    "name": "ipython",
    "version": 3
   },
   "file_extension": ".py",
   "mimetype": "text/x-python",
   "name": "python",
   "nbconvert_exporter": "python",
   "pygments_lexer": "ipython3",
   "version": "3.10.16"
  }
 },
 "nbformat": 4,
 "nbformat_minor": 5
}
