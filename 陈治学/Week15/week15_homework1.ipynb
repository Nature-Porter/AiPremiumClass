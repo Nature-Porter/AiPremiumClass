{
 "cells": [
  {
   "cell_type": "markdown",
   "id": "f3f25d2e",
   "metadata": {},
   "source": [
    "# homework1"
   ]
  },
  {
   "cell_type": "code",
   "execution_count": 3,
   "id": "be1891fc",
   "metadata": {},
   "outputs": [],
   "source": [
    "import os\n",
    "from langchain_community.document_loaders import PDFMinerLoader\n",
    "from langchain_text_splitters import RecursiveCharacterTextSplitter\n",
    "from langchain_community.embeddings import DashScopeEmbeddings\n",
    "from langchain_community.vectorstores import FAISS\n",
    "from langchain.chains import RetrievalQA\n",
    "from langchain_community.chat_models import ChatTongyi\n",
    "import requests"
   ]
  },
  {
   "cell_type": "code",
   "execution_count": null,
   "id": "121975f5",
   "metadata": {},
   "outputs": [],
   "source": [
    "os.environ[\"DASHSCOPE_API_KEY\"] = \"\" \n",
    "\n",
    "# 下载PDF文件\n",
    "pdf_url = \" https://storage.googleapis.com/deepmind-media/Era-of-Experience%20/The%20Era%20of%20Experience%20Paper.pdf\"\n",
    "local_path = \"era_of_experience.pdf\"\n",
    "with open(local_path, \"wb\") as f:\n",
    "    f.write(requests.get(pdf_url).content)\n",
    "\n",
    "docs = PDFMinerLoader(local_path).load()\n",
    "\n",
    "text_splitter = RecursiveCharacterTextSplitter(chunk_size=1000, chunk_overlap=200)\n",
    "chunks = text_splitter.split_documents(docs)\n",
    "\n",
    "embeddings = DashScopeEmbeddings(\n",
    "    model=\"text-embedding-v1\",  \n",
    "    dashscope_api_key=os.environ[\"DASHSCOPE_API_KEY\"]\n",
    ")\n",
    "vectorstore = FAISS.from_documents(documents=chunks, embedding=embeddings)\n",
    "\n",
    "qa_chain = RetrievalQA.from_chain_type(\n",
    "    llm=ChatTongyi(\n",
    "        model_name=\"qwen-turbo\",  \n",
    "        dashscope_api_key=os.environ[\"DASHSCOPE_API_KEY\"]\n",
    "    ),\n",
    "    retriever=vectorstore.as_retriever(),\n",
    "    chain_type=\"stuff\"\n",
    ")"
   ]
  },
  {
   "cell_type": "code",
   "execution_count": 5,
   "id": "80226644",
   "metadata": {},
   "outputs": [
    {
     "name": "stdout",
     "output_type": "stream",
     "text": [
      "这篇论文的主要观点是，人工智能（AI）通过从与世界的互动中学习（即“经验”），可以实现突破性的进展，并可能发展成真正超越人类水平的智能代理。然而，这种基于经验的学习方法也带来了新的安全风险和挑战，需要进一步研究以确保安全过渡到这一新时代。同时，论文强调了使用“基于环境的奖励”来指导AI学习的重要性，而不是仅依赖人类的主观判断。\n"
     ]
    }
   ],
   "source": [
    "# 示例查询\n",
    "query = \"这篇论文的主要观点是什么？\"\n",
    "result = qa_chain.invoke({\"query\": query})\n",
    "print(result[\"result\"])"
   ]
  }
 ],
 "metadata": {
  "kernelspec": {
   "display_name": "rag_env",
   "language": "python",
   "name": "python3"
  },
  "language_info": {
   "codemirror_mode": {
    "name": "ipython",
    "version": 3
   },
   "file_extension": ".py",
   "mimetype": "text/x-python",
   "name": "python",
   "nbconvert_exporter": "python",
   "pygments_lexer": "ipython3",
   "version": "3.12.10"
  }
 },
 "nbformat": 4,
 "nbformat_minor": 5
}
